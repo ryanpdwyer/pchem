{
 "cells": [
  {
   "cell_type": "code",
   "execution_count": 2,
   "id": "d430958c",
   "metadata": {},
   "outputs": [],
   "source": [
    "import numpy as np\n",
    "import pchem as pc\n",
    "import sympy as sm\n",
    "import matplotlib.pyplot as plt\n",
    "sm.init_printing()"
   ]
  },
  {
   "cell_type": "markdown",
   "id": "6fdbd436",
   "metadata": {},
   "source": [
    "# 7\n",
    "\n",
    "a) Reaction coordinate diagram:\n",
    "![Endothermic rxn](https://cdn.kastatic.org/ka-perseus-images/fad604021c159260b16946b55b2b3ae106c7f05f.svg)\n",
    "Source: https://www.khanacademy.org/test-prep/mcat/chemical-processes/thermochemistry/a/endothermic-vs-exothermic-reactions\n",
    "\n",
    "b) Endothermic, heat pulled in from the surroundings during the process\n",
    "\n",
    "c) For both, use $\\text{products} - \\text{reactants}$, just like in gen chem:"
   ]
  },
  {
   "cell_type": "code",
   "execution_count": 3,
   "id": "68af48b2",
   "metadata": {},
   "outputs": [
    {
     "name": "stdout",
     "output_type": "stream",
     "text": [
      "deltaH1=25700.0 J\n",
      "deltaS1=108.70000000000002 J/K\n"
     ]
    }
   ],
   "source": [
    "deltaH1 = 25.7e3\n",
    "deltaS1 = 259.8 - 151.1\n",
    "print(f\"{deltaH1=} J\") # Converted to J\n",
    "print(f\"{deltaS1=} J/K\")"
   ]
  },
  {
   "cell_type": "markdown",
   "id": "9f3cb28c",
   "metadata": {},
   "source": [
    "d) See the calculations and explanations for each step below. \n",
    "\n",
    "1. Since one mol reacts, it's what we calculated above: $\\Delta H_1 = 1 \\, \\text{mol} \\times \\Delta _\\text{r} H^\n",
    "\\circ$ and similarly for entropy.\n",
    "2. For ideal solutions, the enthalpy $H$ is independent of concentration, so $\\Delta H_2 = 0$. For $\\Delta S$, this is a change in concentration, so we can configurational entropy. It's important to note that both NH<sub>4</sub><sup>+</sup> and NO<sub>3</sub><sup>-</sup> are in solution, so you have two total moles of aqueous species in solution to account for using the equation\n",
    "\n",
    "$$\n",
    "\\Delta S = -n R \\ln ( {\\frac{[\\text{X}]_\\text{f}}{[\\text{X}]_\\text{i}}} )\n",
    "$$\n",
    "\n",
    "3. For this step, we are changing temperature at constant pressure. We can do this temperature change reversibly if we keep $T$ = $T_\\text{surr}$ throughout and do no non-mechanical work. In that case, we have $\\partial q_\\text{rev} = C_P d T$ and therefore \n",
    "\n",
    "$$\n",
    "\\begin{align}\n",
    "dS& = \\frac{\\partial q}{T} = \\frac{C_P d T}{T}\\\\\n",
    "\\Delta S&  \\approx C_P \\ln(\\frac{T_\\text{f}}{T_\\text{i}} ) \n",
    "\\end{align}\n",
    "$$\n",
    "\n",
    "Similarly, since we are at constant pressure, no non-mechanical work, we have \n",
    "\n",
    "$$\n",
    "\\Delta H = q \\approx C_P \\Delta T\n",
    "$$\n"
   ]
  },
  {
   "cell_type": "code",
   "execution_count": 4,
   "id": "331d8c33",
   "metadata": {},
   "outputs": [
    {
     "name": "stdout",
     "output_type": "stream",
     "text": [
      "deltaS2=-20.350161652444164 J/K\n",
      "C_P=493.4147 J/K\n",
      "deltaS3=-52.3267227529602 J/K\n",
      "deltaH3=-14802.440999999999 J\n"
     ]
    }
   ],
   "source": [
    "Tsurr = 310\n",
    "T_i = 298.15\n",
    "T_f = 268.15\n",
    "R_J = 8.3145\n",
    "\n",
    "# Step 2\n",
    "Cf = 3.4\n",
    "deltaS2 = -2* R_J * np.log(Cf/1)\n",
    "print(f\"{deltaS2=} J/K\")\n",
    "# Step 3\n",
    "cP = 2.9\n",
    "m = 5*18.02 + 1 * 80.043\n",
    "C_P = cP*m # Total heat capacity of the solution...\n",
    "print(f\"{C_P=} J/K\")\n",
    "deltaS3 = C_P * np.log(T_f/T_i)\n",
    "deltaH3 = C_P*(T_f-T_i)\n",
    "\n",
    "print(f\"{deltaS3=} J/K\")\n",
    "print(f\"{deltaH3=} J\")"
   ]
  },
  {
   "cell_type": "markdown",
   "id": "15a618b8",
   "metadata": {},
   "source": [
    "Adding everything up: ii) and iii)"
   ]
  },
  {
   "cell_type": "code",
   "execution_count": 5,
   "id": "53d5d623",
   "metadata": {},
   "outputs": [
    {
     "name": "stdout",
     "output_type": "stream",
     "text": [
      "deltaH=10897.559000000001 J\n",
      "deltaS=36.023115594595644 J/K\n"
     ]
    }
   ],
   "source": [
    "deltaH = deltaH1 + deltaH3\n",
    "deltaS = deltaS1 + deltaS2 + deltaS3\n",
    "print(f\"{deltaH=} J\")\n",
    "print(f\"{deltaS=} J/K\")\n"
   ]
  },
  {
   "cell_type": "code",
   "execution_count": 6,
   "id": "9d9392b7",
   "metadata": {},
   "outputs": [
    {
     "name": "stdout",
     "output_type": "stream",
     "text": [
      "deltaS_surr=-35.15341612903226 J/K\n",
      "deltaS_universe=0.8696994655633858 J/K\n"
     ]
    }
   ],
   "source": [
    "deltaS_surr = -deltaH/Tsurr\n",
    "deltaS_universe = deltaS + deltaS_surr\n",
    "print(f\"{deltaS_surr=} J/K\")\n",
    "print(f\"{deltaS_universe=} J/K\")"
   ]
  },
  {
   "cell_type": "markdown",
   "id": "80e8dbe9",
   "metadata": {},
   "source": [
    "vi) Why does it make sense? This process is irreversible, so $\\Delta S_\\text{universe} > 0$ - we definitely don't have $T = T_\\text{surr}$ throughout the process, and dissolving the ammonium nitrate in solution is a chemical reaction that is not at equilibrium. "
   ]
  },
  {
   "attachments": {
    "image-2.png": {
     "image/png": "[encoded data removed]"
    },
    "image.png": {
     "image/png": "[encoded data removed]"
    }
   },
   "cell_type": "markdown",
   "id": "2844bb41",
   "metadata": {},
   "source": [
    "# 8 Entropy of air \n",
    "\n",
    "\n",
    "Adjust each gas to account for the partial pressure:\n",
    "\n",
    "$$\n",
    "\\bar{S}_X = \\bar{S}_X^\\circ - R \\ln{(P / 1 \\text{bar})}\n",
    "$$\n",
    "\n",
    "Then use the fact that entropy is extrinsic, so \n",
    "\n",
    "$$\n",
    "S = n_\\mathrm{O_2} \\bar{S}_\\mathrm{O_2} + n_\\mathrm{N_2} \\bar{S}_\\mathrm{N_2}\n",
    "$$\n",
    "\n",
    "$P$ is proportial to $n$, so the partial pressure of N<sub>2</sub> is 0.79 bar and the partial pressure of O<sub>2</sub> is 0.21 bar.\n",
    "\n",
    "![image.png](attachment:image.png)\n",
    "\n",
    "![image-2.png](attachment:image-2.png)"
   ]
  },
  {
   "cell_type": "code",
   "execution_count": 7,
   "id": "0f2085d3",
   "metadata": {},
   "outputs": [
    {
     "name": "stdout",
     "output_type": "stream",
     "text": [
      "Stotal=198.72929273784692 J/K\n"
     ]
    }
   ],
   "source": [
    "nN2 = 0.79\n",
    "nO2 = 0.21\n",
    "Ptotal = 1\n",
    "PN2 = nN2 * Ptotal\n",
    "PO2 = nO2 * Ptotal\n",
    "S0N2 = 191.6\n",
    "S0O2 = 205.2\n",
    "R = 8.3145\n",
    "S_O2 = S0O2 - R*np.log(PO2)\n",
    "S_N2 = S0N2 - R*np.log(PN2)\n",
    "\n",
    "Stotal = nN2 *S_N2 + nO2 * S_O2\n",
    "print(f\"{Stotal=} J/K\")"
   ]
  }
 ],
 "metadata": {
  "kernelspec": {
   "display_name": "Python 3 (ipykernel)",
   "language": "python",
   "name": "python3"
  },
  "language_info": {
   "codemirror_mode": {
    "name": "ipython",
    "version": 3
   },
   "file_extension": ".py",
   "mimetype": "text/x-python",
   "name": "python",
   "nbconvert_exporter": "python",
   "pygments_lexer": "ipython3",
   "version": "3.9.9"
  }
 },
 "nbformat": 4,
 "nbformat_minor": 5
}
