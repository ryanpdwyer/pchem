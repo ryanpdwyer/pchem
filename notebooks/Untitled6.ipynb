{
 "cells": [
  {
   "cell_type": "code",
   "execution_count": 4,
   "id": "e26fd711",
   "metadata": {},
   "outputs": [],
   "source": [
    "import lxml"
   ]
  },
  {
   "cell_type": "code",
   "execution_count": 7,
   "id": "caf589c2",
   "metadata": {},
   "outputs": [],
   "source": [
    "from lxml import etree\n",
    "from lxml import objectify\n",
    "\n",
    "from bs4 import BeautifulSoup"
   ]
  },
  {
   "cell_type": "code",
   "execution_count": null,
   "id": "64b639cc",
   "metadata": {},
   "outputs": [],
   "source": [
    "xml = objectify.parse(\"/System/Volumes/Data)"
   ]
  },
  {
   "cell_type": "code",
   "execution_count": null,
   "id": "90c105b5",
   "metadata": {},
   "outputs": [],
   "source": [
    "xml.findall('exp_param_tag[name=\"sweep_rate\"]')"
   ]
  },
  {
   "cell_type": "code",
   "execution_count": 29,
   "id": "bcbed289",
   "metadata": {},
   "outputs": [],
   "source": [
    "with open(\"/Users/dwyerry/Dropbox/__mu/pchem1-2020/21-lab-data/Electrochemistry/Archive [2021-SEP-09 1337 #1].paax\") as fh:\n",
    "    soup = BeautifulSoup(fh)"
   ]
  },
  {
   "cell_type": "code",
   "execution_count": 48,
   "id": "8d7d305d",
   "metadata": {},
   "outputs": [],
   "source": [
    "expts = soup.find_all(name=\"dab_node\", attrs=dict(type=\"trace\"))"
   ]
  },
  {
   "cell_type": "code",
   "execution_count": 72,
   "id": "6f8cef1b",
   "metadata": {},
   "outputs": [
    {
     "name": "stdout",
     "output_type": "stream",
     "text": [
      "56\n",
      "<exp_param_tag name=\"sweep_rate\"></exp_param_tag>\n",
      "[<f64 hex=\"0X1.999999999999AP-3\">0.20000000000000001</f64>]\n",
      "68\n",
      "<exp_param_tag name=\"sweep_rate\"></exp_param_tag>\n",
      "[<f64 hex=\"0X1.999999999999AP-3\">0.20000000000000001</f64>]\n",
      "80\n",
      "<exp_param_tag name=\"sweep_rate\"></exp_param_tag>\n",
      "[<f64 hex=\"0X1.999999999999AP-3\">0.20000000000000001</f64>]\n",
      "124\n",
      "<exp_param_tag name=\"sweep_rate\"></exp_param_tag>\n",
      "[<f64 hex=\"0X1.999999999999AP-3\">0.20000000000000001</f64>]\n",
      "215\n",
      "<exp_param_tag name=\"sweep_rate\"></exp_param_tag>\n",
      "[<f64 hex=\"0X1.999999999999AP-3\">0.20000000000000001</f64>]\n",
      "236\n",
      "<exp_param_tag name=\"sweep_rate\"></exp_param_tag>\n",
      "[<f64 hex=\"0X1.999999999999AP-3\">0.20000000000000001</f64>]\n"
     ]
    }
   ],
   "source": [
    "for expt in expts:\n",
    "    sweep_rates = expt.find_all(\"exp_param_tag\", attrs=dict(name=\"sweep_rate\"))\n",
    "    if sweep_rates:\n",
    "        print(expt.find(\"experiment\").text)\n",
    "        print(sweep_rates[0])\n",
    "        sweep_rate = sweep_rates[0]\n",
    "        print(sweep_rate.fetchParents(\"map_pair\")[0].find_all('f64'))"
   ]
  },
  {
   "cell_type": "code",
   "execution_count": 77,
   "id": "a3407992",
   "metadata": {},
   "outputs": [],
   "source": [
    "import urllib.parse"
   ]
  },
  {
   "cell_type": "code",
   "execution_count": 91,
   "id": "5765736c",
   "metadata": {},
   "outputs": [],
   "source": [
    "studies = [(urllib.parse.unquote(x.find(\"name\").text), x.attrs['index'], x) for x in soup.find_all(name=\"dab_node\", type=\"study\")]"
   ]
  },
  {
   "cell_type": "code",
   "execution_count": 95,
   "id": "ad7c469c",
   "metadata": {},
   "outputs": [
    {
     "data": {
      "text/plain": [
       "<dab_node index=\"2\" parent=\"1\" type=\"study\"><name encoding=\"mixed\" length=\"36\">BE%20Experiment[%205b]2021%2dSEP%2d09%201440[%2023]23%5d</name><created>2021-09-09T18:50:42Z</created><modified>2021-09-09T18:52:02Z</modified><gui><sorting>unspecified</sorting></gui></dab_node>"
      ]
     },
     "execution_count": 95,
     "metadata": {},
     "output_type": "execute_result"
    }
   ],
   "source": [
    "s1"
   ]
  },
  {
   "cell_type": "code",
   "execution_count": 102,
   "id": "08007a00",
   "metadata": {},
   "outputs": [
    {
     "data": {
      "text/plain": [
       "'258'"
      ]
     },
     "execution_count": 102,
     "metadata": {},
     "output_type": "execute_result"
    }
   ],
   "source": [
    "study[1]"
   ]
  },
  {
   "cell_type": "code",
   "execution_count": 108,
   "id": "c58698df",
   "metadata": {},
   "outputs": [
    {
     "name": "stdout",
     "output_type": "stream",
     "text": [
      "BE Experiment[ 5b]2021-SEP-09 1440[ 23]23]   2\n",
      "BE Experiment[ 5b]2021-SEP-09 1434[ 23]22]   16\n",
      "BE Experiment[ 5b]2021-SEP-09 1431[ 23]21]   30\n",
      "CV Experiment[ 5b]2021-SEP-09 1430[ 23]20]   47\n",
      "CV Experiment[ 5b]2021-SEP-09 1429[ 23]19]   59\n",
      "CV Experiment[ 5b]2021-SEP-09 1428[ 23]18]   71\n",
      "OCP Experiment[ 5b]2021-SEP-09 1428[ 23]17]   83\n",
      "OCP Experiment[ 5b]2021-SEP-09 1426[ 23]16]   92\n",
      "BE Experiment[ 5b]2021-SEP-09 1421[ 23]15]   101\n",
      "CV Experiment[ 5b]2021-SEP-09 1419[ 23]14]   115\n",
      "OCP Experiment[ 5b]2021-SEP-09 1418[ 23]13]   127\n",
      "OCP Experiment[ 5b]2021-SEP-09 1416[ 23]12]   136\n",
      "BE Experiment[ 5b]2021-SEP-09 1407[ 23]11]   145\n",
      "OCP Experiment[ 5b]2021-SEP-09 1406[ 23]10]   159\n",
      "BE Experiment[ 5b]2021-SEP-09 1359[ 23]9]   168\n",
      "OCP Experiment[ 5b]2021-SEP-09 1358[ 23]8]   182\n",
      "BE Experiment[ 5b]2021-SEP-09 1348[ 23]7]   191\n",
      "CV Experiment[ 5b]2021-SEP-09 1346[ 23]6]   206\n",
      "OCP Experiment[ 5b]2021-SEP-09 1345[ 23]5]   218\n",
      "CV Experiment[ 5b]2021-SEP-09 1343[ 23]4]   227\n",
      "OCP Experiment[ 5b]2021-SEP-09 1341[ 23]3]   239\n",
      "OCP Experiment[ 5b]2021-SEP-09 1339[ 23]2]   248\n",
      "OCP Experiment[ 5b]2021-SEP-09 1337[ 23]1]   258\n"
     ]
    }
   ],
   "source": [
    "for study in studies:\n",
    "    x = study[-1]\n",
    "    print(study[0] + \"   \" + study[1])\n",
    "    plots = x.find_all(name=\"dab_node\", attrs=dict(parent=str(study[1]), type=\"plot\"))\n",
    "    for plot in plots:\n",
    "        traces = soup.find_all(name=\"dab_node\", attrs=dict(parent=plot.attrs['index'], type=\"trace\"))\n",
    "        for trace in traces:\n",
    "            print(trace)"
   ]
  },
  {
   "cell_type": "code",
   "execution_count": 86,
   "id": "92e908b4",
   "metadata": {},
   "outputs": [],
   "source": [
    "x = soup.find(name=\"dab_node\", type=\"study\")"
   ]
  },
  {
   "cell_type": "code",
   "execution_count": 88,
   "id": "cbdffcc3",
   "metadata": {},
   "outputs": [
    {
     "data": {
      "text/plain": [
       "{'type': 'study', 'index': '2', 'parent': '1'}"
      ]
     },
     "execution_count": 88,
     "metadata": {},
     "output_type": "execute_result"
    }
   ],
   "source": [
    "x.attrs"
   ]
  },
  {
   "cell_type": "code",
   "execution_count": null,
   "id": "36eb2d9e",
   "metadata": {},
   "outputs": [],
   "source": [
    "[x.getchildren(  x in el1.getchildren()]"
   ]
  },
  {
   "cell_type": "code",
   "execution_count": null,
   "id": "c0ddbf34",
   "metadata": {},
   "outputs": [],
   "source": []
  }
 ],
 "metadata": {
  "kernelspec": {
   "display_name": "Python 3 (ipykernel)",
   "language": "python",
   "name": "python3"
  },
  "language_info": {
   "codemirror_mode": {
    "name": "ipython",
    "version": 3
   },
   "file_extension": ".py",
   "mimetype": "text/x-python",
   "name": "python",
   "nbconvert_exporter": "python",
   "pygments_lexer": "ipython3",
   "version": "3.9.7"
  }
 },
 "nbformat": 4,
 "nbformat_minor": 5
}
