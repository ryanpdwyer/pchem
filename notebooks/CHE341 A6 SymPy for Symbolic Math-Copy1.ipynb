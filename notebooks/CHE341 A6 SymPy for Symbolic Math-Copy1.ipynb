{
 "cells": [
  {
   "cell_type": "markdown",
   "metadata": {},
   "source": [
    "# CHE 341 A6: Sympy for Symbolic Math\n",
    "\n",
    "This notebook introduces SymPy, the Python package for symbolic mathematics. This is another potentially useful tool for automating and/or checking your algebra, calculus, and other mathematics. First, let's import everything and set up a nice solve function:"
   ]
  },
  {
   "cell_type": "code",
   "execution_count": 1,
   "metadata": {},
   "outputs": [],
   "source": [
    "import sympy as sm\n",
    "sm.init_printing() # Makes the math look pretty!\n",
    "import numpy as np\n",
    "from copy import copy\n",
    "import matplotlib.pyplot as plt\n",
    "from sympy.abc import *\n",
    "\n",
    "def solve(equation, variable, subs=None, unwrap=True):\n",
    "    \"\"\"Solve equation for the given variable; if given, a dictionary of subs\n",
    "    (substitutions) can be given. This is useful if you want to solve numerically\n",
    "    rather than symbolically. \n",
    "    \n",
    "    Parameters:\n",
    "    equation : the sympy equation to solve\n",
    "    variable : the sympy variable to solve for\n",
    "    subs : the dictionary of substitutions\n",
    "    unwrap : if there is only one solution, return it directly rather than returning a list.\n",
    "    \n",
    "    Returns:\n",
    "    The solution (if one solution and unwrap=True), or a list of all possible solutions.\n",
    "    \n",
    "    Examples: \n",
    "    >>> solve(a*x**2 + b*x + c, x)\n",
    "        [(-b + sqrt(-4*a*c + b**2))/(2*a), -(b + sqrt(-4*a*c + b**2))/(2*a)]\n",
    "        \n",
    "    \"\"\"\n",
    "    if subs is not None:\n",
    "        subs = copy(subs)\n",
    "        subs.pop(variable.name, None)\n",
    "        out = sm.solve(equation.subs(subs), variable)\n",
    "    else:\n",
    "        out = sm.solve(equation, variable)\n",
    "    if unwrap and len(out) == 1:\n",
    "        out = out[0]\n",
    "    return out"
   ]
  },
  {
   "cell_type": "markdown",
   "metadata": {},
   "source": [
    "All capital and lowercase single letter variables (`a, b, c, A, B, C`) and Greek letters (`alpha, beta, gamma`) are defined as Sympy variables by default because of the line `from sympy.abc import *`.\n",
    "\n",
    "## Symbolic Math: Solving Equations\n",
    "\n",
    "For example, below we solve the quadratic equation for $x$:"
   ]
  },
  {
   "cell_type": "code",
   "execution_count": 3,
   "metadata": {},
   "outputs": [
    {
     "data": {
      "image/png": "[encoded data removed]",
      "text/latex": [
       "$\\displaystyle \\left[ \\frac{- b + \\sqrt{- 4 a c + b^{2}}}{2 a}, \\  - \\frac{b + \\sqrt{- 4 a c + b^{2}}}{2 a}\\right]$"
      ],
      "text/plain": [
       "⎡        _____________   ⎛       _____________⎞ ⎤\n",
       "⎢       ╱           2    ⎜      ╱           2 ⎟ ⎥\n",
       "⎢-b + ╲╱  -4⋅a⋅c + b    -⎝b + ╲╱  -4⋅a⋅c + b  ⎠ ⎥\n",
       "⎢─────────────────────, ────────────────────────⎥\n",
       "⎣         2⋅a                     2⋅a           ⎦"
      ]
     },
     "execution_count": 3,
     "metadata": {},
     "output_type": "execute_result"
    }
   ],
   "source": [
    "solns = solve(a*x**2 + b*x+c, x) # Just like your calculator, the expression is assumed equal to zero\n",
    "solns"
   ]
  },
  {
   "cell_type": "markdown",
   "metadata": {},
   "source": [
    "Here's an example where we solve for a numerical value, substituting in different values into the ideal gas law:"
   ]
  },
  {
   "cell_type": "code",
   "execution_count": 4,
   "metadata": {},
   "outputs": [
    {
     "data": {
      "image/png": "[encoded data removed]",
      "text/latex": [
       "$\\displaystyle 22.40238$"
      ],
      "text/plain": [
       "22.4023800000000"
      ]
     },
     "execution_count": 4,
     "metadata": {},
     "output_type": "execute_result"
    }
   ],
   "source": [
    "# This is like your calculator solver, but using Python - you can easily solve more complicated equations\n",
    "# subs is a dictionary of substitutions - variables and their values...\n",
    "subs=dict(\n",
    "P = 1.0, # atm\n",
    "R = 0.08206, # L atm/mol-K\n",
    "T = 273, # K\n",
    "n = 1, # mol\n",
    "V=22.4 # L\n",
    ")\n",
    "gas_law = P*V-n*R*T # Set equal to zero in order to solve\n",
    "solve(gas_law, V, subs) # volume (in L) of 1 mol of an ideal gas at 273 K, 1 atm (\"STP\")"
   ]
  },
  {
   "cell_type": "markdown",
   "metadata": {},
   "source": [
    "**1. Try it.** What is the pressure of 1 mol of an ideal gas confined to a volume of 1 L at 30 °C? (change the numbers above and write your answer and/or copy the cell..."
   ]
  },
  {
   "cell_type": "code",
   "execution_count": 8,
   "metadata": {},
   "outputs": [],
   "source": [
    "dGeqn = G - (H-T*(S-R*sm.log(Q)))"
   ]
  },
  {
   "cell_type": "markdown",
   "metadata": {},
   "source": [
    "We can also solve symbolically:"
   ]
  },
  {
   "cell_type": "code",
   "execution_count": 7,
   "metadata": {},
   "outputs": [
    {
     "data": {
      "image/png": "[encoded data removed]",
      "text/latex": [
       "$\\displaystyle 432.143955615537$"
      ],
      "text/plain": [
       "432.143955615537"
      ]
     },
     "execution_count": 7,
     "metadata": {},
     "output_type": "execute_result"
    }
   ],
   "source": [
    "subs=dict(\n",
    "G =0,\n",
    "H = 62.42*1e3, # atm\n",
    "S = 260.69-116.14, # L atm/mol-K\n",
    "T = 273, # K\n",
    "R = 8.3145,\n",
    "Q = 1.013, # mol\n",
    ")\n",
    "\n",
    "solve(dGeqn, T, subs)"
   ]
  },
  {
   "cell_type": "code",
   "execution_count": 9,
   "metadata": {},
   "outputs": [
    {
     "data": {
      "image/png": "[encoded data removed]",
      "text/latex": [
       "$\\displaystyle 331.571362238003$"
      ],
      "text/plain": [
       "331.571362238003"
      ]
     },
     "execution_count": 9,
     "metadata": {},
     "output_type": "execute_result"
    }
   ],
   "source": [
    "subs=dict(\n",
    "G =0,\n",
    "H = 30.9*1e3, # atm\n",
    "S = 245.5-152.2, # L atm/mol-K\n",
    "T = 273, # K\n",
    "R = 8.3145,\n",
    "Q = 1.013, # mol\n",
    ")\n",
    "\n",
    "solve(dGeqn, T, subs)"
   ]
  },
  {
   "cell_type": "code",
   "execution_count": 10,
   "metadata": {},
   "outputs": [
    {
     "data": {
      "image/png": "[encoded data removed]",
      "text/latex": [
       "$\\displaystyle 961.748633879781$"
      ],
      "text/plain": [
       "961.748633879781"
      ]
     },
     "execution_count": 10,
     "metadata": {},
     "output_type": "execute_result"
    }
   ],
   "source": [
    "subs=dict(\n",
    "G =0,\n",
    "H = 17.6*1e3, # atm\n",
    "S = 41.1-22.8, # L atm/mol-K\n",
    "T = 273, # K\n",
    "R = 8.3145,\n",
    "Q = 1, # mol\n",
    ")\n",
    "\n",
    "solve(dGeqn, T, subs)"
   ]
  },
  {
   "cell_type": "markdown",
   "metadata": {},
   "source": [
    "Which says that $V = n R T / P$ for an ideal gas."
   ]
  },
  {
   "cell_type": "markdown",
   "metadata": {},
   "source": [
    "## Integrals\n",
    "\n",
    "To integrate, use the function `sm.integrate`. For example,\n",
    "\n",
    "$$\\int x^2 \\, d x = x^3/3 + C$$\n",
    "\n",
    "where $C$ is the constant of integration. In SymPy, we put the integrand first, then the variable we are integrating with respect to second."
   ]
  },
  {
   "cell_type": "code",
   "execution_count": 5,
   "metadata": {},
   "outputs": [
    {
     "data": {
      "image/png": "[encoded data removed]",
      "text/latex": [
       "$\\displaystyle \\frac{x^{3}}{3}$"
      ],
      "text/plain": [
       " 3\n",
       "x \n",
       "──\n",
       "3 "
      ]
     },
     "execution_count": 5,
     "metadata": {},
     "output_type": "execute_result"
    }
   ],
   "source": [
    "sm.integrate(x**2, x)"
   ]
  },
  {
   "cell_type": "markdown",
   "metadata": {},
   "source": [
    "Sympy doesn't include the constant of integration. You can also do definite integrals, like\n",
    "\n",
    "$$\\int_0^2 x^2 \\, d x = \\left . \\frac{x^3}{3} \\right |_{0}^{2} = \\frac{2^3}{3} - \\frac{0^3}{3} = \\frac{8}{3}$$\n"
   ]
  },
  {
   "cell_type": "markdown",
   "metadata": {},
   "source": [
    "We do this by adding additional items to the second argument:"
   ]
  },
  {
   "cell_type": "code",
   "execution_count": 6,
   "metadata": {},
   "outputs": [
    {
     "data": {
      "image/png": "[encoded data removed]",
      "text/latex": [
       "$\\displaystyle \\frac{8}{3}$"
      ],
      "text/plain": [
       "8/3"
      ]
     },
     "execution_count": 6,
     "metadata": {},
     "output_type": "execute_result"
    }
   ],
   "source": [
    "#sm.integrate(integrand, (variable, lower_bound, upper_bound))\n",
    "sm.integrate(x**2, (x, 0, 2))"
   ]
  },
  {
   "cell_type": "markdown",
   "metadata": {},
   "source": [
    "**1. Try it:** Do the definite integral $$\\int_{V_i}^{V_f} \\frac{n R T}{V} \\, dV .$$"
   ]
  },
  {
   "cell_type": "code",
   "execution_count": 7,
   "metadata": {},
   "outputs": [],
   "source": [
    "# This defines the symbols V_i and V_f for the initial and final volumes \n",
    "V_i, V_f = sm.symbols('V_i V_f', positive=True) \n",
    "\n",
    "# Do the integral here (replace None with the integral)\n",
    "integral_1 = None\n",
    "integral_1 # Print the answer..."
   ]
  },
  {
   "cell_type": "markdown",
   "metadata": {},
   "source": [
    "To make an answer simpler, try the `sm.simplify` function:"
   ]
  },
  {
   "cell_type": "code",
   "execution_count": 8,
   "metadata": {},
   "outputs": [],
   "source": [
    "# Uncomment the line below once you do your integral\n",
    "# sm.simplify(integral_1)"
   ]
  },
  {
   "cell_type": "markdown",
   "metadata": {},
   "source": [
    "### Derivatives\n",
    "\n",
    "Derivatives. The two key rules to remember are\n",
    "\n",
    "$$\\frac{d}{dx} \\, x^n = n x^{n-1} $$\n",
    "\n",
    "and\n",
    "\n",
    "$$\\frac{d}{dx} \\, \\ln{x} = \\frac{1}{x}.$$\n",
    "\n",
    "\n",
    "Use the function `sm.diff` to take derivatives. For example, we can undo the integral we did above, taking $$ \\frac{d}{dx} \\frac{x^3}{3} = x^2 $$"
   ]
  },
  {
   "cell_type": "code",
   "execution_count": 9,
   "metadata": {},
   "outputs": [
    {
     "data": {
      "image/png": "[encoded data removed]",
      "text/latex": [
       "$\\displaystyle x^{2}$"
      ],
      "text/plain": [
       " 2\n",
       "x "
      ]
     },
     "execution_count": 9,
     "metadata": {},
     "output_type": "execute_result"
    }
   ],
   "source": [
    "#sm.diff(expression_to_differentiate, variable)\n",
    "sm.diff(x**3/3, x)"
   ]
  },
  {
   "cell_type": "markdown",
   "metadata": {},
   "source": [
    "**3. Try it: Take the derivative $\\frac{d}{dx} 18\\pi + 3x - 4x^2 + 3\\ln{x}$ using Python.** Check your answer by applying the rules above.\n",
    "\n",
    "Remember to use `sm.ln` for $\\ln$, `sm.pi` for $\\pi$, and so on. Remember that you need to include `*` to mean multiplication, `**` for exponents.\n",
    "\n",
    "Note: `sm.ln` will appear as $\\log$ - the math convention where log means natural logarithm."
   ]
  },
  {
   "cell_type": "code",
   "execution_count": 12,
   "metadata": {},
   "outputs": [
    {
     "data": {
      "image/png": "[encoded data removed]",
      "text/latex": [
       "$\\displaystyle 1.8074222668004$"
      ],
      "text/plain": [
       "1.807422266800401"
      ]
     },
     "execution_count": 12,
     "metadata": {},
     "output_type": "execute_result"
    }
   ],
   "source": [
    "18.02/0.997 * 1/1000 * 100"
   ]
  },
  {
   "cell_type": "markdown",
   "metadata": {},
   "source": [
    "**4. Try it:**  The compressibility of a substance is\n",
    "$$\\newcommand{\\pdc}[3]{\\left( \\frac{\\partial #1}{\\partial #2}\n",
    " \\right)_{#3}}$$\n",
    "\n",
    "$$        \\beta_T = -\\frac{1}{V} \\pdc{V}{P}{T} $$\n",
    "        Evaluate the compressibility of an ideal gas by calculating\n",
    "$$\\beta_T = -\\frac{1}{V} \\left (\\frac{d}{dP} \\, \\frac{n R T}{P} \\right )$$\n",
    "\n",
    "You can do the derivative part in parentheses, then multiply by $1/V$."
   ]
  },
  {
   "cell_type": "code",
   "execution_count": 13,
   "metadata": {},
   "outputs": [
    {
     "data": {
      "image/png": "[encoded data removed]",
      "text/latex": [
       "$\\displaystyle 17.26$"
      ],
      "text/plain": [
       "17.25999999999999"
      ]
     },
     "execution_count": 13,
     "metadata": {},
     "output_type": "execute_result"
    }
   ],
   "source": [
    "-252.14+-167.1 - (-436.5)"
   ]
  },
  {
   "cell_type": "code",
   "execution_count": 14,
   "metadata": {},
   "outputs": [
    {
     "data": {
      "image/png": "[encoded data removed]",
      "text/latex": [
       "$\\displaystyle 75.2$"
      ],
      "text/plain": [
       "75.20000000000002"
      ]
     },
     "execution_count": 14,
     "metadata": {},
     "output_type": "execute_result"
    }
   ],
   "source": [
    "101.2+56.6 - 82.6"
   ]
  },
  {
   "cell_type": "code",
   "execution_count": 15,
   "metadata": {},
   "outputs": [
    {
     "data": {
      "image/png": "[encoded data removed]",
      "text/latex": [
       "$\\displaystyle 0.331437051694286$"
      ],
      "text/plain": [
       "0.33143705169428644"
      ]
     },
     "execution_count": 15,
     "metadata": {},
     "output_type": "execute_result"
    }
   ],
   "source": [
    "0.134/0.4043"
   ]
  },
  {
   "cell_type": "code",
   "execution_count": 17,
   "metadata": {},
   "outputs": [
    {
     "data": {
      "image/png": "[encoded data removed]",
      "text/latex": [
       "$\\displaystyle -10628.5195488745$"
      ],
      "text/plain": [
       "-10628.5195488745"
      ]
     },
     "execution_count": 17,
     "metadata": {},
     "output_type": "execute_result"
    }
   ],
   "source": [
    "subs=dict(\n",
    "G =0,\n",
    "H = 17.26*1e3, # atm\n",
    "S = 75.2, # L atm/mol-K\n",
    "T = 298, # K\n",
    "R = 8.3145,\n",
    "Q = 0.331**2, # mol\n",
    ")\n",
    "\n",
    "solve(dGeqn, G, subs)"
   ]
  },
  {
   "cell_type": "code",
   "execution_count": 20,
   "metadata": {},
   "outputs": [
    {
     "data": {
      "image/png": "[encoded data removed]",
      "text/latex": [
       "$\\displaystyle -4.74360100671244$"
      ],
      "text/plain": [
       "-4.743601006712445"
      ]
     },
     "execution_count": 20,
     "metadata": {},
     "output_type": "execute_result"
    }
   ],
   "source": [
    "-10628.5195488745 / 298 * 0.133"
   ]
  },
  {
   "cell_type": "code",
   "execution_count": null,
   "metadata": {},
   "outputs": [],
   "source": []
  }
 ],
 "metadata": {
  "kernelspec": {
   "display_name": "Python 3 (ipykernel)",
   "language": "python",
   "name": "python3"
  },
  "language_info": {
   "codemirror_mode": {
    "name": "ipython",
    "version": 3
   },
   "file_extension": ".py",
   "mimetype": "text/x-python",
   "name": "python",
   "nbconvert_exporter": "python",
   "pygments_lexer": "ipython3",
   "version": "3.9.7"
  }
 },
 "nbformat": 4,
 "nbformat_minor": 4
}
