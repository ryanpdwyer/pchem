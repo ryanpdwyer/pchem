{
 "cells": [
  {
   "cell_type": "code",
   "execution_count": 3,
   "id": "218e498d",
   "metadata": {},
   "outputs": [],
   "source": [
    "import sympy as sm\n",
    "import pchem as pc\n",
    "import CoolProp.CoolProp as cp"
   ]
  },
  {
   "cell_type": "code",
   "execution_count": 29,
   "id": "15654e0f",
   "metadata": {},
   "outputs": [],
   "source": [
    "H2 = lambda T: cp.PropsSI('Umolar', 'P', 0.001, 'T', T, 'H2')\n",
    "O2 = lambda T: cp.PropsSI('Umolar', 'P', 0.001, 'T', T, 'O2')\n",
    "H2O = lambda T: cp.PropsSI('Umolar', 'P', 0.001, 'T', T, 'H2O')\n",
    "\n"
   ]
  },
  {
   "cell_type": "code",
   "execution_count": 30,
   "id": "83bd8183",
   "metadata": {},
   "outputs": [],
   "source": [
    "Hreactants = 2*H2(55) + O2(55)"
   ]
  },
  {
   "cell_type": "code",
   "execution_count": 31,
   "id": "b3456c35",
   "metadata": {},
   "outputs": [],
   "source": [
    "Hreactants300 =  2*H2(300) + O2(300)"
   ]
  },
  {
   "cell_type": "code",
   "execution_count": 32,
   "id": "7027900c",
   "metadata": {},
   "outputs": [
    {
     "data": {
      "text/plain": [
       "16.728561751673208"
      ]
     },
     "execution_count": 32,
     "metadata": {},
     "output_type": "execute_result"
    }
   ],
   "source": [
    "(Hreactants300 - Hreactants)/1000 * 300/245"
   ]
  },
  {
   "cell_type": "code",
   "execution_count": 33,
   "id": "a55127c2",
   "metadata": {},
   "outputs": [
    {
     "data": {
      "text/plain": [
       "14.891836000000009"
      ]
     },
     "execution_count": 33,
     "metadata": {},
     "output_type": "execute_result"
    }
   ],
   "source": [
    "-1*((0.021282 - 0.024118)*2625.5) * 2"
   ]
  },
  {
   "cell_type": "code",
   "execution_count": null,
   "id": "30c526b3",
   "metadata": {},
   "outputs": [],
   "source": []
  }
 ],
 "metadata": {
  "kernelspec": {
   "display_name": "Python 3 (ipykernel)",
   "language": "python",
   "name": "python3"
  },
  "language_info": {
   "codemirror_mode": {
    "name": "ipython",
    "version": 3
   },
   "file_extension": ".py",
   "mimetype": "text/x-python",
   "name": "python",
   "nbconvert_exporter": "python",
   "pygments_lexer": "ipython3",
   "version": "3.9.15"
  }
 },
 "nbformat": 4,
 "nbformat_minor": 5
}
