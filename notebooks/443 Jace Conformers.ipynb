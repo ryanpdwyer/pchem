{
 "cells": [
  {
   "cell_type": "code",
   "execution_count": 201,
   "id": "a68c0438",
   "metadata": {},
   "outputs": [],
   "source": [
    "import datamol as dm\n",
    "import pandas as pd\n",
    "from rdkit import Chem\n",
    "import plotly.express as px\n",
    "import numpy as np\n",
    "from openbabel import pybel\n",
    "import openbabel as obabel\n",
    "\n",
    "\n",
    "def conformer_energies(conformers):\n",
    "    all_props = [conf.GetPropsAsDict() for conf in conformers.GetConformers()]\n",
    "    return pd.DataFrame(all_props)\n",
    "\n",
    "def write_conformers(filename, conformers):\n",
    "    \"\"\"Writes all conformers to an sdf file with name filename.\"\"\"\n",
    "    c0 = conformers.GetConformer(0)\n",
    "    m0 = c0.GetOwningMol()\n",
    "    all_props = [conf.GetPropsAsDict() for conf in conformers.GetConformers()]\n",
    "    energy_keys = [x for x in all_props[0].keys() if 'delta' not in x]\n",
    "    energy_key = energy_keys[0]\n",
    "    with Chem.SDWriter(filename+\".sdf\") as w:\n",
    "        for i in range(m0.GetNumConformers()):\n",
    "            m0.SetProp('ID', f'conf_{i}')\n",
    "            m0.SetProp('E_kcal', f\"{all_props[i][energy_key]:.3f}\")\n",
    "            w.write(m0, confId=i)\n",
    "    \n",
    "    print(f\"Wrote {m0.GetNumConformers()} conformers to {filename}.sdf\")\n",
    "\n",
    "def write_conformers_to_files(confs, prefix, route, title, suffix='gjf'):\n",
    "    header = \"!Put Keywords Here, check Charge and Multiplicity.\\n#\\n\\n\"\n",
    "    for i, conf in enumerate(confs):\n",
    "        molblock = dm.to_molblock(conf.GetOwningMol())\n",
    "        openbabel_file = pybel.readstring('mol', molblock)\n",
    "        out = openbabel_file.write('gjf', opt=dict(b=True)).replace(header, route+\"\\n\\n\"+title)\n",
    "        fname=f\"{prefix}-{i:04}.{suffix}\"\n",
    "        open(fname, 'w').write(out)\n",
    "    \n",
    "    print(f\"Wrote {len(confs)} files.\")\n",
    "        \n",
    "        "
   ]
  },
  {
   "cell_type": "code",
   "execution_count": 202,
   "id": "30fb5139",
   "metadata": {},
   "outputs": [],
   "source": [
    "mol_string = open('/Users/dwyer/Dropbox/__mu/che443/cc-23/reactant-analogue.mol', 'r').read()"
   ]
  },
  {
   "cell_type": "code",
   "execution_count": 203,
   "id": "f7c9bbb7",
   "metadata": {},
   "outputs": [],
   "source": [
    "mol = dm.read_molblock(mol_string, remove_hs=False)"
   ]
  },
  {
   "cell_type": "code",
   "execution_count": 204,
   "id": "331b9a56",
   "metadata": {},
   "outputs": [
    {
     "data": {
      "application/vnd.jupyter.widget-view+json": {
       "model_id": "8678d838fd3c4c74a5aa8a7e88d0229b",
       "version_major": 2,
       "version_minor": 0
      },
      "text/plain": [
       "NGLWidget()"
      ]
     },
     "metadata": {},
     "output_type": "display_data"
    }
   ],
   "source": [
    "dm.viz.conformers(mol, remove_hs=False)"
   ]
  },
  {
   "cell_type": "code",
   "execution_count": 205,
   "id": "a0644813",
   "metadata": {},
   "outputs": [],
   "source": [
    "mol_conformers = dm.conformers.generate(mol, forcefield=\"MMFF94s\",\n",
    "                                        minimize_energy=True,\n",
    "                                        align_conformers=True,\n",
    "                                        add_hs=False,\n",
    "                                        energy_iterations=2000, num_threads=8,\n",
    "                                        verbose=True\n",
    "                                       ) "
   ]
  },
  {
   "cell_type": "code",
   "execution_count": null,
   "id": "56cfd784",
   "metadata": {},
   "outputs": [],
   "source": []
  },
  {
   "cell_type": "code",
   "execution_count": 206,
   "id": "6dea84df",
   "metadata": {},
   "outputs": [
    {
     "data": {
      "text/html": [
       "<div>\n",
       "<style scoped>\n",
       "    .dataframe tbody tr th:only-of-type {\n",
       "        vertical-align: middle;\n",
       "    }\n",
       "\n",
       "    .dataframe tbody tr th {\n",
       "        vertical-align: top;\n",
       "    }\n",
       "\n",
       "    .dataframe thead th {\n",
       "        text-align: right;\n",
       "    }\n",
       "</style>\n",
       "<table border=\"1\" class=\"dataframe\">\n",
       "  <thead>\n",
       "    <tr style=\"text-align: right;\">\n",
       "      <th></th>\n",
       "      <th>rdkit_MMFF94s_energy</th>\n",
       "      <th>rdkit_MMFF94s_delta_energy</th>\n",
       "    </tr>\n",
       "  </thead>\n",
       "  <tbody>\n",
       "    <tr>\n",
       "      <th>0</th>\n",
       "      <td>163.097923</td>\n",
       "      <td>0.000000e+00</td>\n",
       "    </tr>\n",
       "    <tr>\n",
       "      <th>1</th>\n",
       "      <td>163.097924</td>\n",
       "      <td>6.382805e-07</td>\n",
       "    </tr>\n",
       "    <tr>\n",
       "      <th>2</th>\n",
       "      <td>163.097930</td>\n",
       "      <td>6.928177e-06</td>\n",
       "    </tr>\n",
       "    <tr>\n",
       "      <th>3</th>\n",
       "      <td>163.097931</td>\n",
       "      <td>7.395131e-06</td>\n",
       "    </tr>\n",
       "    <tr>\n",
       "      <th>4</th>\n",
       "      <td>163.904786</td>\n",
       "      <td>8.068625e-01</td>\n",
       "    </tr>\n",
       "    <tr>\n",
       "      <th>5</th>\n",
       "      <td>163.904786</td>\n",
       "      <td>8.068630e-01</td>\n",
       "    </tr>\n",
       "    <tr>\n",
       "      <th>6</th>\n",
       "      <td>164.114245</td>\n",
       "      <td>1.016322e+00</td>\n",
       "    </tr>\n",
       "    <tr>\n",
       "      <th>7</th>\n",
       "      <td>164.126648</td>\n",
       "      <td>1.028725e+00</td>\n",
       "    </tr>\n",
       "    <tr>\n",
       "      <th>8</th>\n",
       "      <td>164.126648</td>\n",
       "      <td>1.028725e+00</td>\n",
       "    </tr>\n",
       "    <tr>\n",
       "      <th>9</th>\n",
       "      <td>164.126648</td>\n",
       "      <td>1.028725e+00</td>\n",
       "    </tr>\n",
       "    <tr>\n",
       "      <th>10</th>\n",
       "      <td>164.126649</td>\n",
       "      <td>1.028726e+00</td>\n",
       "    </tr>\n",
       "    <tr>\n",
       "      <th>11</th>\n",
       "      <td>164.126649</td>\n",
       "      <td>1.028726e+00</td>\n",
       "    </tr>\n",
       "    <tr>\n",
       "      <th>12</th>\n",
       "      <td>164.126650</td>\n",
       "      <td>1.028726e+00</td>\n",
       "    </tr>\n",
       "    <tr>\n",
       "      <th>13</th>\n",
       "      <td>164.126652</td>\n",
       "      <td>1.028729e+00</td>\n",
       "    </tr>\n",
       "    <tr>\n",
       "      <th>14</th>\n",
       "      <td>164.446336</td>\n",
       "      <td>1.348413e+00</td>\n",
       "    </tr>\n",
       "    <tr>\n",
       "      <th>15</th>\n",
       "      <td>164.446337</td>\n",
       "      <td>1.348414e+00</td>\n",
       "    </tr>\n",
       "    <tr>\n",
       "      <th>16</th>\n",
       "      <td>164.834718</td>\n",
       "      <td>1.736794e+00</td>\n",
       "    </tr>\n",
       "    <tr>\n",
       "      <th>17</th>\n",
       "      <td>165.760339</td>\n",
       "      <td>2.662416e+00</td>\n",
       "    </tr>\n",
       "    <tr>\n",
       "      <th>18</th>\n",
       "      <td>165.760339</td>\n",
       "      <td>2.662416e+00</td>\n",
       "    </tr>\n",
       "    <tr>\n",
       "      <th>19</th>\n",
       "      <td>165.760339</td>\n",
       "      <td>2.662416e+00</td>\n",
       "    </tr>\n",
       "  </tbody>\n",
       "</table>\n",
       "</div>"
      ],
      "text/plain": [
       "    rdkit_MMFF94s_energy  rdkit_MMFF94s_delta_energy\n",
       "0             163.097923                0.000000e+00\n",
       "1             163.097924                6.382805e-07\n",
       "2             163.097930                6.928177e-06\n",
       "3             163.097931                7.395131e-06\n",
       "4             163.904786                8.068625e-01\n",
       "5             163.904786                8.068630e-01\n",
       "6             164.114245                1.016322e+00\n",
       "7             164.126648                1.028725e+00\n",
       "8             164.126648                1.028725e+00\n",
       "9             164.126648                1.028725e+00\n",
       "10            164.126649                1.028726e+00\n",
       "11            164.126649                1.028726e+00\n",
       "12            164.126650                1.028726e+00\n",
       "13            164.126652                1.028729e+00\n",
       "14            164.446336                1.348413e+00\n",
       "15            164.446337                1.348414e+00\n",
       "16            164.834718                1.736794e+00\n",
       "17            165.760339                2.662416e+00\n",
       "18            165.760339                2.662416e+00\n",
       "19            165.760339                2.662416e+00"
      ]
     },
     "execution_count": 206,
     "metadata": {},
     "output_type": "execute_result"
    }
   ],
   "source": [
    "df = conformer_energies(mol_conformers)\n",
    "df.head(20) # Just print the first few rows"
   ]
  },
  {
   "cell_type": "code",
   "execution_count": 207,
   "id": "3314350e",
   "metadata": {},
   "outputs": [
    {
     "data": {
      "text/plain": [
       "200"
      ]
     },
     "execution_count": 207,
     "metadata": {},
     "output_type": "execute_result"
    }
   ],
   "source": [
    "len(df)"
   ]
  },
  {
   "cell_type": "code",
   "execution_count": 208,
   "id": "41fd0a86",
   "metadata": {},
   "outputs": [],
   "source": [
    "out = dm.conformers.cluster(mol_conformers, rms_cutoff=1, centroids=False)"
   ]
  },
  {
   "cell_type": "code",
   "execution_count": 209,
   "id": "52008b4e",
   "metadata": {},
   "outputs": [],
   "source": [
    "first_confs = [x.GetConformer(0) for x in out]"
   ]
  },
  {
   "cell_type": "code",
   "execution_count": 210,
   "id": "d52ec892",
   "metadata": {},
   "outputs": [
    {
     "data": {
      "text/plain": [
       "{'rdkit_MMFF94s_energy': 165.79508111760967,\n",
       " 'rdkit_MMFF94s_delta_energy': 2.6971579575201474}"
      ]
     },
     "execution_count": 210,
     "metadata": {},
     "output_type": "execute_result"
    }
   ],
   "source": [
    "first_confs[0].GetPropsAsDict()"
   ]
  },
  {
   "cell_type": "code",
   "execution_count": 211,
   "id": "541cb549",
   "metadata": {},
   "outputs": [],
   "source": [
    "df_clust = pd.DataFrame([x.GetPropsAsDict() for x in first_confs])"
   ]
  },
  {
   "cell_type": "code",
   "execution_count": 212,
   "id": "b18b5c91",
   "metadata": {},
   "outputs": [],
   "source": [
    "df_clust = df_clust.sort_values('rdkit_MMFF94s_energy')"
   ]
  },
  {
   "cell_type": "code",
   "execution_count": 213,
   "id": "606938fd",
   "metadata": {},
   "outputs": [],
   "source": [
    "df_clust['w'] = np.exp(-df_clust['rdkit_MMFF94s_delta_energy'].values/2.5)\n",
    "df_clust['p'] = df_clust['w']/df_clust['w'].sum()\n",
    "df_important = df_clust[(df_clust['p']>0.01)]\n",
    "important_conformer_indices = df_important.index"
   ]
  },
  {
   "cell_type": "code",
   "execution_count": 214,
   "id": "e9edcc70",
   "metadata": {},
   "outputs": [],
   "source": [
    "good_confs = [x for i, x in enumerate(first_confs) if i in important_conformer_indices]\n"
   ]
  },
  {
   "cell_type": "code",
   "execution_count": 215,
   "id": "6fec2ecb",
   "metadata": {},
   "outputs": [
    {
     "name": "stdout",
     "output_type": "stream",
     "text": [
      "Wrote 25 files.\n"
     ]
    }
   ],
   "source": [
    "write_conformers_to_files(good_confs, 'test-sugar', '#n PM6 Opt Freq', \"test sugar\")"
   ]
  }
 ],
 "metadata": {
  "kernelspec": {
   "display_name": "Python 3",
   "language": "python",
   "name": "python3"
  },
  "language_info": {
   "codemirror_mode": {
    "name": "ipython",
    "version": 3
   },
   "file_extension": ".py",
   "mimetype": "text/x-python",
   "name": "python",
   "nbconvert_exporter": "python",
   "pygments_lexer": "ipython3",
   "version": "3.9.6"
  },
  "vscode": {
   "interpreter": {
    "hash": "31f2aee4e71d21fbe5cf8b01ff0e069b9275f58929596ceb00d14d90e3e16cd6"
   }
  }
 },
 "nbformat": 4,
 "nbformat_minor": 5
}
