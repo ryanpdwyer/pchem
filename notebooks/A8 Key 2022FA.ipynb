{
 "cells": [
  {
   "cell_type": "code",
   "execution_count": 2,
   "id": "d430958c",
   "metadata": {},
   "outputs": [],
   "source": [
    "import numpy as np\n",
    "import pchem as pc\n",
    "import sympy as sm\n",
    "sm.init_printing()"
   ]
  },
  {
   "cell_type": "code",
   "execution_count": 3,
   "id": "68af48b2",
   "metadata": {},
   "outputs": [],
   "source": [
    "deltaH1 = 25.7e3\n",
    "deltaS1 = 259.8 - 151.1"
   ]
  },
  {
   "cell_type": "code",
   "execution_count": 4,
   "id": "01008d9d",
   "metadata": {},
   "outputs": [
    {
     "data": {
      "image/png": "[encoded data removed]",
      "text/latex": [
       "$\\displaystyle 108.7$"
      ],
      "text/plain": [
       "108.70000000000002"
      ]
     },
     "execution_count": 4,
     "metadata": {},
     "output_type": "execute_result"
    }
   ],
   "source": [
    "deltaS1"
   ]
  },
  {
   "cell_type": "code",
   "execution_count": 57,
   "id": "331d8c33",
   "metadata": {},
   "outputs": [],
   "source": [
    "Tsurr = 310\n",
    "T_i = 298.15\n",
    "T_f = 268.15\n",
    "R_J = 8.3145\n",
    "Cf = 3.4\n",
    "deltaS2 = -2* R_J * np.log(Cf/1)\n",
    "cP = 2.9\n",
    "m = 5*18.02 + 1 * 80.043\n",
    "C_P = cP*m\n",
    "deltaS3 = C_P * np.log(T_f/T_i)\n",
    "deltaH3 = C_P*(T_f-T_i)"
   ]
  },
  {
   "cell_type": "code",
   "execution_count": 46,
   "id": "f796d977",
   "metadata": {},
   "outputs": [
    {
     "data": {
      "image/png": "[encoded data removed]",
      "text/latex": [
       "$\\displaystyle -43.2110986285181$"
      ],
      "text/plain": [
       "-43.21109862851807"
      ]
     },
     "execution_count": 46,
     "metadata": {},
     "output_type": "execute_result"
    }
   ],
   "source": [
    "deltaS3"
   ]
  },
  {
   "cell_type": "code",
   "execution_count": 47,
   "id": "53d5d623",
   "metadata": {},
   "outputs": [],
   "source": [
    "deltaH = deltaH1 + deltaH3"
   ]
  },
  {
   "cell_type": "code",
   "execution_count": 48,
   "id": "47f6e80b",
   "metadata": {},
   "outputs": [
    {
     "data": {
      "image/png": "[encoded data removed]",
      "text/latex": [
       "$\\displaystyle 108.7$"
      ],
      "text/plain": [
       "108.70000000000002"
      ]
     },
     "execution_count": 48,
     "metadata": {},
     "output_type": "execute_result"
    }
   ],
   "source": [
    "deltaS1"
   ]
  },
  {
   "cell_type": "code",
   "execution_count": 49,
   "id": "c2411eca",
   "metadata": {},
   "outputs": [
    {
     "data": {
      "image/png": "[encoded data removed]",
      "text/latex": [
       "$\\displaystyle -43.2110986285181$"
      ],
      "text/plain": [
       "-43.21109862851807"
      ]
     },
     "execution_count": 49,
     "metadata": {},
     "output_type": "execute_result"
    }
   ],
   "source": [
    "deltaS3"
   ]
  },
  {
   "cell_type": "code",
   "execution_count": 50,
   "id": "d945f761",
   "metadata": {},
   "outputs": [],
   "source": [
    "deltaS_surr = -deltaH/Tsurr"
   ]
  },
  {
   "cell_type": "code",
   "execution_count": 51,
   "id": "db646c8a",
   "metadata": {},
   "outputs": [
    {
     "data": {
      "image/png": "[encoded data removed]",
      "text/latex": [
       "$\\displaystyle -43.1117177419355$"
      ],
      "text/plain": [
       "-43.111717741935486"
      ]
     },
     "execution_count": 51,
     "metadata": {},
     "output_type": "execute_result"
    }
   ],
   "source": [
    "deltaS_surr"
   ]
  },
  {
   "cell_type": "code",
   "execution_count": 52,
   "id": "ad5e78b3",
   "metadata": {},
   "outputs": [
    {
     "data": {
      "image/png": "[encoded data removed]",
      "text/latex": [
       "$\\displaystyle 45.1387397190378$"
      ],
      "text/plain": [
       "45.13873971903777"
      ]
     },
     "execution_count": 52,
     "metadata": {},
     "output_type": "execute_result"
    }
   ],
   "source": [
    "deltaS2 + deltaS1 + deltaS3"
   ]
  },
  {
   "cell_type": "code",
   "execution_count": 53,
   "id": "d5de5183",
   "metadata": {},
   "outputs": [],
   "source": [
    "deltaS = deltaS1 + deltaS2 + deltaS3"
   ]
  },
  {
   "cell_type": "code",
   "execution_count": 54,
   "id": "a99dfc3a",
   "metadata": {},
   "outputs": [],
   "source": [
    "deltaS_surr = -deltaH/(273+37)"
   ]
  },
  {
   "cell_type": "code",
   "execution_count": 55,
   "id": "88b7c180",
   "metadata": {},
   "outputs": [
    {
     "data": {
      "image/png": "[encoded data removed]",
      "text/latex": [
       "$\\displaystyle -43.1117177419355$"
      ],
      "text/plain": [
       "-43.111717741935486"
      ]
     },
     "execution_count": 55,
     "metadata": {},
     "output_type": "execute_result"
    }
   ],
   "source": [
    "deltaS_surr"
   ]
  },
  {
   "cell_type": "code",
   "execution_count": 56,
   "id": "ba2a8acc",
   "metadata": {},
   "outputs": [
    {
     "data": {
      "image/png": "[encoded data removed]",
      "text/latex": [
       "$\\displaystyle 45.1387397190378$"
      ],
      "text/plain": [
       "45.13873971903777"
      ]
     },
     "execution_count": 56,
     "metadata": {},
     "output_type": "execute_result"
    }
   ],
   "source": [
    "deltaS1 + deltaS2 + deltaS3"
   ]
  },
  {
   "cell_type": "code",
   "execution_count": 61,
   "id": "8f637f0c",
   "metadata": {},
   "outputs": [],
   "source": [
    "# System = soln...\n",
    "# Surroundings = knee (some heat flows there!)"
   ]
  },
  {
   "cell_type": "markdown",
   "id": "2844bb41",
   "metadata": {},
   "source": [
    "# Constant pressure\n",
    "\n",
    "$\\Delta H = q$"
   ]
  },
  {
   "cell_type": "code",
   "execution_count": 119,
   "id": "e99bf2ea",
   "metadata": {},
   "outputs": [
    {
     "ename": "AttributeError",
     "evalue": "module 'numpy' has no attribute 'factorial'",
     "output_type": "error",
     "traceback": [
      "\u001b[0;31m---------------------------------------------------------------------------\u001b[0m",
      "\u001b[0;31mAttributeError\u001b[0m                            Traceback (most recent call last)",
      "\u001b[0;32m/var/folders/zn/x8ct2v5d1z714b45ycxv1hhc0000gn/T/ipykernel_67418/592246539.py\u001b[0m in \u001b[0;36m<module>\u001b[0;34m\u001b[0m\n\u001b[0;32m----> 1\u001b[0;31m \u001b[0mnp\u001b[0m\u001b[0;34m.\u001b[0m\u001b[0mfactorial\u001b[0m\u001b[0;34m(\u001b[0m\u001b[0;36m52\u001b[0m\u001b[0;34m)\u001b[0m\u001b[0;34m\u001b[0m\u001b[0;34m\u001b[0m\u001b[0m\n\u001b[0m",
      "\u001b[0;32m~/miniconda3/lib/python3.9/site-packages/numpy/__init__.py\u001b[0m in \u001b[0;36m__getattr__\u001b[0;34m(attr)\u001b[0m\n\u001b[1;32m    311\u001b[0m                 \u001b[0;32mreturn\u001b[0m \u001b[0mTester\u001b[0m\u001b[0;34m\u001b[0m\u001b[0;34m\u001b[0m\u001b[0m\n\u001b[1;32m    312\u001b[0m \u001b[0;34m\u001b[0m\u001b[0m\n\u001b[0;32m--> 313\u001b[0;31m             raise AttributeError(\"module {!r} has no attribute \"\n\u001b[0m\u001b[1;32m    314\u001b[0m                                  \"{!r}\".format(__name__, attr))\n\u001b[1;32m    315\u001b[0m \u001b[0;34m\u001b[0m\u001b[0m\n",
      "\u001b[0;31mAttributeError\u001b[0m: module 'numpy' has no attribute 'factorial'"
     ]
    }
   ],
   "source": [
    "np.factorial(52)"
   ]
  },
  {
   "cell_type": "code",
   "execution_count": 126,
   "id": "33f7ec84",
   "metadata": {},
   "outputs": [
    {
     "data": {
      "image/png": "[encoded data removed]",
      "text/latex": [
       "$\\displaystyle 33.1442856005148$"
      ],
      "text/plain": [
       "33.144285600514834"
      ]
     },
     "execution_count": 126,
     "metadata": {},
     "output_type": "execute_result"
    }
   ],
   "source": [
    "np.log(np.math.factorial(52)/(2*np.math.factorial(26)**2) )"
   ]
  },
  {
   "cell_type": "code",
   "execution_count": 127,
   "id": "514e6530",
   "metadata": {},
   "outputs": [
    {
     "data": {
      "image/png": "[encoded data removed]",
      "text/latex": [
       "$\\displaystyle 36.0436533891172$"
      ],
      "text/plain": [
       "36.04365338911715"
      ]
     },
     "execution_count": 127,
     "metadata": {},
     "output_type": "execute_result"
    }
   ],
   "source": [
    "np.log(2**52)"
   ]
  },
  {
   "cell_type": "code",
   "execution_count": null,
   "id": "2243d07a",
   "metadata": {},
   "outputs": [],
   "source": []
  }
 ],
 "metadata": {
  "kernelspec": {
   "display_name": "Python 3 (ipykernel)",
   "language": "python",
   "name": "python3"
  },
  "language_info": {
   "codemirror_mode": {
    "name": "ipython",
    "version": 3
   },
   "file_extension": ".py",
   "mimetype": "text/x-python",
   "name": "python",
   "nbconvert_exporter": "python",
   "pygments_lexer": "ipython3",
   "version": "3.10.2"
  }
 },
 "nbformat": 4,
 "nbformat_minor": 5
}
