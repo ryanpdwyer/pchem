{
 "cells": [
  {
   "cell_type": "code",
   "execution_count": 1,
   "id": "ffcd0aad",
   "metadata": {},
   "outputs": [],
   "source": [
    "import numpy as np"
   ]
  },
  {
   "cell_type": "code",
   "execution_count": 6,
   "id": "c78b7af9",
   "metadata": {},
   "outputs": [
    {
     "name": "stdout",
     "output_type": "stream",
     "text": [
      "DeltaH=20.260000000000048 kJ/mol DeltaS=86.00999999999999 J/mol-K\n"
     ]
    }
   ],
   "source": [
    "DeltaH = (-252.14 + - 121.4 - (-393.8))\n",
    "DeltaS = (101.2 + 80.71 - 95.9)\n",
    "\n",
    "print(f\"{DeltaH=} kJ/mol {DeltaS=} J/mol-K\")"
   ]
  },
  {
   "cell_type": "code",
   "execution_count": 7,
   "id": "8c9b17bd",
   "metadata": {},
   "outputs": [
    {
     "data": {
      "text/plain": [
       "1.7024923950858009"
      ]
     },
     "execution_count": 7,
     "metadata": {},
     "output_type": "execute_result"
    }
   ],
   "source": [
    "DeltaH*10/(119.002)"
   ]
  },
  {
   "cell_type": "code",
   "execution_count": 8,
   "id": "e044a479",
   "metadata": {},
   "outputs": [
    {
     "data": {
      "text/plain": [
       "7.227609620006386"
      ]
     },
     "execution_count": 8,
     "metadata": {},
     "output_type": "execute_result"
    }
   ],
   "source": [
    "DeltaS*10/(119.002)"
   ]
  },
  {
   "cell_type": "code",
   "execution_count": 15,
   "id": "dacc6553",
   "metadata": {},
   "outputs": [],
   "source": [
    "n = 10/(119.002)"
   ]
  },
  {
   "cell_type": "code",
   "execution_count": 11,
   "id": "04d73dca",
   "metadata": {},
   "outputs": [
    {
     "data": {
      "text/plain": [
       "0.20782598037909591"
      ]
     },
     "execution_count": 11,
     "metadata": {},
     "output_type": "execute_result"
    }
   ],
   "source": [
    "c = (10/(119.002)) / (410/1.014/1000)\n",
    "c"
   ]
  },
  {
   "cell_type": "code",
   "execution_count": 16,
   "id": "cd90df14",
   "metadata": {},
   "outputs": [
    {
     "data": {
      "text/plain": [
       "2.1953462964127914"
      ]
     },
     "execution_count": 16,
     "metadata": {},
     "output_type": "execute_result"
    }
   ],
   "source": [
    "(-8.3145*np.log(c**2))*n"
   ]
  },
  {
   "cell_type": "code",
   "execution_count": 17,
   "id": "e9064c3a",
   "metadata": {},
   "outputs": [],
   "source": [
    "import sympy as sm\n",
    "from sympy.abc import *"
   ]
  },
  {
   "cell_type": "code",
   "execution_count": 19,
   "id": "8e5a0fe4",
   "metadata": {},
   "outputs": [
    {
     "data": {
      "text/latex": [
       "$\\displaystyle 21.1530018542027$"
      ],
      "text/plain": [
       "21.1530018542027"
      ]
     },
     "execution_count": 19,
     "metadata": {},
     "output_type": "execute_result"
    }
   ],
   "source": [
    "sm.integrate(2.111e-6*T**2 + 1.284e-9*T**3, (T, 0, 298))"
   ]
  },
  {
   "cell_type": "code",
   "execution_count": 20,
   "id": "89493d19",
   "metadata": {},
   "outputs": [
    {
     "data": {
      "text/latex": [
       "$\\displaystyle 254.068705270828$"
      ],
      "text/plain": [
       "254.068705270828"
      ]
     },
     "execution_count": 20,
     "metadata": {},
     "output_type": "execute_result"
    }
   ],
   "source": [
    "sm.integrate(2.111e-6*T**2 + 1.284e-9*T**3, (T, 0, 298))*12.011"
   ]
  },
  {
   "cell_type": "code",
   "execution_count": null,
   "id": "7e7828f6",
   "metadata": {},
   "outputs": [],
   "source": []
  }
 ],
 "metadata": {
  "kernelspec": {
   "display_name": "Python 3 (ipykernel)",
   "language": "python",
   "name": "python3"
  },
  "language_info": {
   "codemirror_mode": {
    "name": "ipython",
    "version": 3
   },
   "file_extension": ".py",
   "mimetype": "text/x-python",
   "name": "python",
   "nbconvert_exporter": "python",
   "pygments_lexer": "ipython3",
   "version": "3.9.9"
  }
 },
 "nbformat": 4,
 "nbformat_minor": 5
}
