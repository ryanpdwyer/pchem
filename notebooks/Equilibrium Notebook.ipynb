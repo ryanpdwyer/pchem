{
 "cells": [
  {
   "cell_type": "code",
   "execution_count": 8,
   "id": "3a45ae21",
   "metadata": {},
   "outputs": [],
   "source": [
    "import numpy as np\n",
    "import pchem as pc\n",
    "from scipy import optimize\n",
    "import pandas as pd\n",
    "import plotly.express as px\n",
    "import matplotlib.pyplot as plt\n",
    "import sympy as sm\n",
    "from sympy.abc import *"
   ]
  },
  {
   "cell_type": "markdown",
   "id": "867f3801",
   "metadata": {},
   "source": [
    "### Equilibrium solver\n"
   ]
  },
  {
   "cell_type": "code",
   "execution_count": 9,
   "id": "6e3566f1",
   "metadata": {},
   "outputs": [
    {
     "data": {
      "text/latex": [
       "$\\displaystyle 0.0022556658928099$"
      ],
      "text/plain": [
       "0.00225566589280990"
      ]
     },
     "execution_count": 9,
     "metadata": {},
     "output_type": "execute_result"
    }
   ],
   "source": [
    "R = 8.3145\n",
    "pc.solve(H-T*S+R*T*sm.log(Q), Q, dict(H=30e3,S=50,T=298))"
   ]
  },
  {
   "cell_type": "code",
   "execution_count": 23,
   "id": "d73d1f86",
   "metadata": {},
   "outputs": [
    {
     "data": {
      "text/latex": [
       "$\\displaystyle 118.913489739937$"
      ],
      "text/plain": [
       "118.913489739937"
      ]
     },
     "execution_count": 23,
     "metadata": {},
     "output_type": "execute_result"
    }
   ],
   "source": [
    "pc.solve(H-T*S+R*T*sm.log(Q), S, dict(H=43988,T=298, S=50, Q=3.1699/100))"
   ]
  },
  {
   "cell_type": "code",
   "execution_count": 27,
   "id": "e3c60dec",
   "metadata": {},
   "outputs": [
    {
     "data": {
      "text/latex": [
       "$\\displaystyle 370.215548211231$"
      ],
      "text/plain": [
       "370.215548211231"
      ]
     },
     "execution_count": 27,
     "metadata": {},
     "output_type": "execute_result"
    }
   ],
   "source": [
    "pc.solve(H-T*S+R*T*sm.log(Q), T, dict(H=43988,T=298, S=118.9, Q=1.01))"
   ]
  },
  {
   "cell_type": "markdown",
   "id": "07597e27",
   "metadata": {},
   "source": [
    "# Equilibrium solver"
   ]
  },
  {
   "cell_type": "code",
   "execution_count": 6,
   "id": "bbd1f2fe",
   "metadata": {},
   "outputs": [],
   "source": [
    "# Inputs\n",
    "DeltaH = 175e3 # in J/mol\n",
    "DeltaS = 150\n",
    "Delta_Cp = 52\n",
    "T0 = 950\n",
    "R = 8.3145\n",
    "\n",
    "\n",
    "def DeltaG_0(T, DeltaH, DeltaS, Delta_Cp=0, T0=298):\n",
    "    DH_T = DeltaH + (T-T0)*Delta_Cp\n",
    "    DS_T = DeltaS + Delta_Cp*np.log(T/T0)\n",
    "    return DH_T - T*DS_T\n",
    "\n",
    "def lnK(T, DeltaH, DeltaS, Delta_Cp=0, T0=298):\n",
    "    return -DeltaG_0(T, DeltaH, DeltaS, Delta_Cp, T0)/(R*T)"
   ]
  },
  {
   "cell_type": "code",
   "execution_count": 4,
   "id": "5268fbae",
   "metadata": {},
   "outputs": [],
   "source": [
    "df = pd.read_excel(\"~/Dropbox/__mu/pchem1-2020/e3-equilibrium/CaCo3-CaO-CO2-eq.xlsx\")\n",
    "df\n",
    "T = df['T_K'].values\n",
    "P_bar = df['P_Pa']/1e5\n",
    "lnK_expt = np.log(P_bar)"
   ]
  },
  {
   "cell_type": "code",
   "execution_count": 5,
   "id": "91610656",
   "metadata": {},
   "outputs": [
    {
     "data": {
      "text/plain": [
       "[<matplotlib.lines.Line2D at 0x172865d30>]"
      ]
     },
     "execution_count": 5,
     "metadata": {},
     "output_type": "execute_result"
    },
    {
     "data": {
      "image/png": "[encoded data removed]",
      "text/plain": [
       "<Figure size 432x288 with 1 Axes>"
      ]
     },
     "metadata": {
      "needs_background": "light"
     },
     "output_type": "display_data"
    }
   ],
   "source": [
    "lnK_T = lnK(T, DeltaH, DeltaS, Delta_Cp,T0)\n",
    "\n",
    "plt.plot(1/T, lnK_T)\n",
    "plt.plot(1/T, lnK_expt, '.')"
   ]
  },
  {
   "cell_type": "code",
   "execution_count": null,
   "id": "1d3969d2",
   "metadata": {},
   "outputs": [],
   "source": []
  }
 ],
 "metadata": {
  "kernelspec": {
   "display_name": "Python 3 (ipykernel)",
   "language": "python",
   "name": "python3"
  },
  "language_info": {
   "codemirror_mode": {
    "name": "ipython",
    "version": 3
   },
   "file_extension": ".py",
   "mimetype": "text/x-python",
   "name": "python",
   "nbconvert_exporter": "python",
   "pygments_lexer": "ipython3",
   "version": "3.9.7"
  }
 },
 "nbformat": 4,
 "nbformat_minor": 5
}
