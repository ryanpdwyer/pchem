{
 "cells": [
  {
   "cell_type": "code",
   "execution_count": 35,
   "id": "f2115562",
   "metadata": {},
   "outputs": [],
   "source": [
    "import numpy as np\n",
    "import pandas as pd\n",
    "# import statsmodels.api as sm\n",
    "from munch import Munch\n",
    "from scipy import stats\n",
    "\n",
    "\n",
    "\n",
    "# Two-sided inverse Students t-distribution\n",
    "# p - probability, df - degrees of freedom\n",
    "from scipy.stats import t\n",
    "tinv = lambda p, df: abs(t.ppf(p/2, df))\n",
    "\n",
    "\n",
    "import plotly.express as px\n",
    "import matplotlib.pyplot as plt"
   ]
  },
  {
   "cell_type": "markdown",
   "id": "aea9777a",
   "metadata": {},
   "source": [
    "## Standard van't Hoff equilibrium analysis\n",
    "\n",
    "From class, the key equation we use to analyze chemical equilibria is\n",
    "\n",
    "$$\n",
    "\\Delta_\\text{r}G = \\Delta_\\text{r}H^\\circ - T(\\Delta_\\text{r}S^\\circ + R \\ln{Q})\n",
    "$$\n",
    "\n",
    "At equilibrium, we have $\\Delta_\\text{r}G =0$ and $Q = K$. Over a small temperature range, we have\n",
    "\n",
    "\n",
    "$$\n",
    "\\ln{K(T)}  \\approx -\\frac{\\Delta_\\text{r}H^{\\circ}}{R} \\frac{1}{T} + \\frac{\\Delta_\\text{r}S^\\circ}{R} \n",
    "$$"
   ]
  },
  {
   "cell_type": "markdown",
   "id": "ea8805a6",
   "metadata": {},
   "source": [
    "Example: Using absorbance $A = \\varepsilon \\ell c$, we can say the $\\text{slope} = \\varepsilon \\ell$, so molar absorptivity $\\varepsilon = \\frac{\\text{slope}}{\\ell}$. We need to divide both the slope and its uncertainty by $\\ell = 2.5$ cm in this example."
   ]
  },
  {
   "cell_type": "markdown",
   "id": "f6f09526",
   "metadata": {},
   "source": [
    "Here's an example of a standard analysis for absorbance data..."
   ]
  },
  {
   "cell_type": "code",
   "execution_count": 47,
   "id": "a90c5ee4",
   "metadata": {},
   "outputs": [],
   "source": [
    "## Key function: stats.linregress\n",
    "## Example for determining molar absorbtivity and uncertainties with a 2.5 cm path length cuvette\n",
    "\n",
    "# Example input data\n",
    "concentrations = np.array([0.1, 0.2, 0.3, 0.4, 0.5])\n",
    "Absorbances = np.array([0.23, 0.45, 0.68, 0.94, 1.15])\n",
    "\n",
    "def absorbance_analysis(concs, As, path_length=1):\n",
    "    \n",
    "\n",
    "    # Linear regression\n",
    "    results = stats.linregress(concs, As)\n",
    "\n",
    "    # T-value to convert from standard error to confidence interval (0.05 means 1 - 0.05 = 95% interval)\n",
    "    ts = tinv(0.05, len(concentrations) - 2) # Degrees of freedom\n",
    "\n",
    "    slope_uncertainty = results.stderr * ts\n",
    "    intercept_uncert = results.intercept_stderr * ts\n",
    "\n",
    "\n",
    "    molar_abs = results.slope / path_length\n",
    "    molar_abs_err =  slope_uncertainty / path_length\n",
    "    \n",
    "    \n",
    "    predict = lambda x: x * results.slope + results.intercept\n",
    "    predicted_A = predict(concs)\n",
    "    \n",
    "    resid = As - predicted_A\n",
    "    \n",
    "    df = pd.DataFrame({'conc_M': concs, \"A\": As, 'pred_A': predicted_A, 'resid': resid})\n",
    "    \n",
    "    \n",
    "    return Munch(molar_abs=molar_abs, molar_abs_err=molar_abs_err,\n",
    "                  df=df, predict=predict, results=results, intercept_uncert = intercept_uncert)\n",
    "\n",
    "\n",
    "def plot_absorbance(results):\n",
    "    fig, ax = plt.subplots()\n",
    "    \n",
    "    ax.plot(results.df.conc_M, results.df.A, '.')\n",
    "    ax.plot(results.df.conc_M, results.df.pred_A)\n",
    "    \n",
    "    ax.set_xlabel(\"Concentration (M)\")\n",
    "    ax.set_ylabel(\"Absorbance $A$\")\n",
    "    \n",
    "    return fig, ax"
   ]
  },
  {
   "cell_type": "code",
   "execution_count": 48,
   "id": "1e4f726a",
   "metadata": {},
   "outputs": [
    {
     "name": "stdout",
     "output_type": "stream",
     "text": [
      "molar absorptivity (1/cm-M) = 0.932 ± 0.052 (95% uncertainty)\n",
      "Intercept: -0.009 ± 0.044\n"
     ]
    }
   ],
   "source": [
    "m = absorbance_analysis(concentrations, Absorbances, path_length=2.5)\n",
    "\n",
    "# Print results...\n",
    "print(f\"molar absorptivity (1/cm-M) = {m.molar_abs:.3f} ± {m.molar_abs_err:.3f} (95% uncertainty)\")\n",
    "print(f\"Intercept: {m.results.intercept:.3f} ± {m.intercept_uncert:.3f}\")"
   ]
  },
  {
   "cell_type": "code",
   "execution_count": 49,
   "id": "b290f83f",
   "metadata": {},
   "outputs": [
    {
     "data": {
      "text/plain": [
       "(<Figure size 432x288 with 1 Axes>,\n",
       " <AxesSubplot:xlabel='Concentration (M)', ylabel='Absorbance $A$'>)"
      ]
     },
     "execution_count": 49,
     "metadata": {},
     "output_type": "execute_result"
    },
    {
     "data": {
      "image/png": "[encoded data removed]",
      "text/plain": [
       "<Figure size 432x288 with 1 Axes>"
      ]
     },
     "metadata": {
      "needs_background": "light"
     },
     "output_type": "display_data"
    }
   ],
   "source": [
    "plot_absorbance(m)"
   ]
  },
  {
   "cell_type": "markdown",
   "id": "5abd6301",
   "metadata": {},
   "source": [
    "# Now I can multiply both the"
   ]
  },
  {
   "cell_type": "code",
   "execution_count": 50,
   "id": "555eb0e3",
   "metadata": {},
   "outputs": [
    {
     "ename": "SyntaxError",
     "evalue": "invalid syntax (2615170450.py, line 21)",
     "output_type": "error",
     "traceback": [
      "\u001b[0;36m  File \u001b[0;32m\"/var/folders/zn/x8ct2v5d1z714b45ycxv1hhc0000gn/T/ipykernel_12818/2615170450.py\"\u001b[0;36m, line \u001b[0;32m21\u001b[0m\n\u001b[0;31m    def plot_eq_result(result)\u001b[0m\n\u001b[0m                              ^\u001b[0m\n\u001b[0;31mSyntaxError\u001b[0m\u001b[0;31m:\u001b[0m invalid syntax\n"
     ]
    }
   ],
   "source": [
    "def equilibrium_analysis(temps, Ks):\n",
    "    \"\"\"Takes an array of temperatures temps and equilibrium constants Ks,\n",
    "    returning the estimated enthalpy and entropy of reaction.\"\"\"\n",
    "    temps = np.array(temps) # Convert to an array\n",
    "    Ks = np.array(Ks) # Convert to an array\n",
    "    # Define the x, y values (1/T, ln(K))\n",
    "    \n",
    "    \n",
    "    # Perform regression\n",
    "\n",
    "    ts = tinv(0.05, len(temps) - 2) # Degrees of freedom\n",
    "    \n",
    "\n",
    "    \n",
    "    \n",
    "    # Calculate delta_H, delta_S, and the average temperature T_avg from the data\n",
    "    # Return a nice munch of all the results...\n",
    "    \n",
    "\n",
    "\n",
    "def plot_eq_result(result):\n",
    "    pass\n",
    "    "
   ]
  },
  {
   "cell_type": "code",
   "execution_count": null,
   "id": "a5f637c7",
   "metadata": {},
   "outputs": [],
   "source": [
    "# "
   ]
  }
 ],
 "metadata": {
  "kernelspec": {
   "display_name": "Python 3 (ipykernel)",
   "language": "python",
   "name": "python3"
  },
  "language_info": {
   "codemirror_mode": {
    "name": "ipython",
    "version": 3
   },
   "file_extension": ".py",
   "mimetype": "text/x-python",
   "name": "python",
   "nbconvert_exporter": "python",
   "pygments_lexer": "ipython3",
   "version": "3.9.5"
  }
 },
 "nbformat": 4,
 "nbformat_minor": 5
}
