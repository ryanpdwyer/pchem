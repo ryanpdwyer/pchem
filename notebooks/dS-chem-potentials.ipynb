{
 "cells": [
  {
   "cell_type": "code",
   "execution_count": 1,
   "id": "5a50466a",
   "metadata": {},
   "outputs": [],
   "source": [
    "%load_ext autoreload\n",
    "%autoreload 2\n",
    "import numpy as np\n",
    "import scipy.optimize as opt\n",
    "import matplotlib.pyplot as plt\n",
    "from scipy import linalg"
   ]
  },
  {
   "cell_type": "code",
   "execution_count": 2,
   "id": "c19b648d",
   "metadata": {},
   "outputs": [],
   "source": [
    "from scipy import optimize"
   ]
  },
  {
   "cell_type": "code",
   "execution_count": 5,
   "id": "c74e1b24",
   "metadata": {},
   "outputs": [
    {
     "ename": "ModuleNotFoundError",
     "evalue": "No module named 'pchem.calorimetry'",
     "output_type": "error",
     "traceback": [
      "\u001b[0;31m---------------------------------------------------------------------------\u001b[0m",
      "\u001b[0;31mModuleNotFoundError\u001b[0m                       Traceback (most recent call last)",
      "Input \u001b[0;32mIn [5]\u001b[0m, in \u001b[0;36m<module>\u001b[0;34m\u001b[0m\n\u001b[0;32m----> 1\u001b[0m \u001b[38;5;28;01mimport\u001b[39;00m \u001b[38;5;21;01mpchem\u001b[39;00m\u001b[38;5;21;01m.\u001b[39;00m\u001b[38;5;21;01mcalorimetry\u001b[39;00m \u001b[38;5;28;01mas\u001b[39;00m \u001b[38;5;21;01mcal\u001b[39;00m\n",
      "\u001b[0;31mModuleNotFoundError\u001b[0m: No module named 'pchem.calorimetry'"
     ]
    }
   ],
   "source": [
    "import pchem.calorimetry as cal"
   ]
  },
  {
   "cell_type": "code",
   "execution_count": 4,
   "id": "35f8fc84",
   "metadata": {},
   "outputs": [
    {
     "ename": "NameError",
     "evalue": "name 'cal' is not defined",
     "output_type": "error",
     "traceback": [
      "\u001b[0;31m---------------------------------------------------------------------------\u001b[0m",
      "\u001b[0;31mNameError\u001b[0m                                 Traceback (most recent call last)",
      "Input \u001b[0;32mIn [4]\u001b[0m, in \u001b[0;36m<module>\u001b[0;34m\u001b[0m\n\u001b[0;32m----> 1\u001b[0m H2O \u001b[38;5;241m=\u001b[39m \u001b[43mcal\u001b[49m\u001b[38;5;241m.\u001b[39mSubstance2(\u001b[38;5;124m\"\u001b[39m\u001b[38;5;124mH2O(l)\u001b[39m\u001b[38;5;124m\"\u001b[39m, state\u001b[38;5;241m=\u001b[39m\u001b[38;5;124m'\u001b[39m\u001b[38;5;124ml\u001b[39m\u001b[38;5;124m'\u001b[39m, H0\u001b[38;5;241m=\u001b[39m\u001b[38;5;241m-\u001b[39m\u001b[38;5;241m285.826e3\u001b[39m, S0\u001b[38;5;241m=\u001b[39m\u001b[38;5;241m69.96\u001b[39m,\n\u001b[1;32m      2\u001b[0m                         cP\u001b[38;5;241m=\u001b[39m\u001b[38;5;241m4.18\u001b[39m\u001b[38;5;241m*\u001b[39m\u001b[38;5;241m18.02\u001b[39m, molarMass\u001b[38;5;241m=\u001b[39m\u001b[38;5;241m18.02\u001b[39m, density\u001b[38;5;241m=\u001b[39m\u001b[38;5;241m1.0\u001b[39m,\n\u001b[1;32m      3\u001b[0m                         atoms\u001b[38;5;241m=\u001b[39m\u001b[38;5;28mdict\u001b[39m(H\u001b[38;5;241m=\u001b[39m\u001b[38;5;241m2\u001b[39m,O\u001b[38;5;241m=\u001b[39m\u001b[38;5;241m1\u001b[39m, c\u001b[38;5;241m=\u001b[39m\u001b[38;5;241m0\u001b[39m))\n\u001b[1;32m      4\u001b[0m Hplus \u001b[38;5;241m=\u001b[39m cal\u001b[38;5;241m.\u001b[39mSubstance2(\u001b[38;5;124m\"\u001b[39m\u001b[38;5;124mH+(aq)\u001b[39m\u001b[38;5;124m\"\u001b[39m, state\u001b[38;5;241m=\u001b[39m\u001b[38;5;124m\"\u001b[39m\u001b[38;5;124maq\u001b[39m\u001b[38;5;124m\"\u001b[39m, H0\u001b[38;5;241m=\u001b[39m\u001b[38;5;241m0\u001b[39m, S0\u001b[38;5;241m=\u001b[39m\u001b[38;5;241m0\u001b[39m, cP\u001b[38;5;241m=\u001b[39m\u001b[38;5;241m0\u001b[39m,\n\u001b[1;32m      5\u001b[0m                        molarMass\u001b[38;5;241m=\u001b[39m\u001b[38;5;241m1.01\u001b[39m, density\u001b[38;5;241m=\u001b[39m\u001b[38;5;241m0\u001b[39m,\n\u001b[1;32m      6\u001b[0m                       atoms\u001b[38;5;241m=\u001b[39m\u001b[38;5;28mdict\u001b[39m(H\u001b[38;5;241m=\u001b[39m\u001b[38;5;241m1\u001b[39m,c\u001b[38;5;241m=\u001b[39m\u001b[38;5;241m1\u001b[39m))\n\u001b[1;32m      7\u001b[0m OH \u001b[38;5;241m=\u001b[39m cal\u001b[38;5;241m.\u001b[39mSubstance2(\u001b[38;5;124m\"\u001b[39m\u001b[38;5;124mOH-(aq)\u001b[39m\u001b[38;5;124m\"\u001b[39m, state\u001b[38;5;241m=\u001b[39m\u001b[38;5;124m\"\u001b[39m\u001b[38;5;124maq\u001b[39m\u001b[38;5;124m\"\u001b[39m, H0\u001b[38;5;241m=\u001b[39m\u001b[38;5;241m-\u001b[39m\u001b[38;5;241m230.02e3\u001b[39m, S0\u001b[38;5;241m=\u001b[39m\u001b[38;5;241m-\u001b[39m\u001b[38;5;241m10.9\u001b[39m, molarMass\u001b[38;5;241m=\u001b[39m\u001b[38;5;241m17.01\u001b[39m,\n\u001b[1;32m      8\u001b[0m                    cP\u001b[38;5;241m=\u001b[39m\u001b[38;5;241m-\u001b[39m\u001b[38;5;241m148.5\u001b[39m, density\u001b[38;5;241m=\u001b[39m\u001b[38;5;241m0\u001b[39m, atoms\u001b[38;5;241m=\u001b[39m\u001b[38;5;28mdict\u001b[39m(H\u001b[38;5;241m=\u001b[39m\u001b[38;5;241m1\u001b[39m,O\u001b[38;5;241m=\u001b[39m\u001b[38;5;241m1\u001b[39m,c\u001b[38;5;241m=\u001b[39m\u001b[38;5;241m-\u001b[39m\u001b[38;5;241m1\u001b[39m))\n",
      "\u001b[0;31mNameError\u001b[0m: name 'cal' is not defined"
     ]
    }
   ],
   "source": [
    "H2O = cal.Substance2(\"H2O(l)\", state='l', H0=-285.826e3, S0=69.96,\n",
    "                        cP=4.18*18.02, molarMass=18.02, density=1.0,\n",
    "                        atoms=dict(H=2,O=1, c=0))\n",
    "Hplus = cal.Substance2(\"H+(aq)\", state=\"aq\", H0=0, S0=0, cP=0,\n",
    "                       molarMass=1.01, density=0,\n",
    "                      atoms=dict(H=1,c=1))\n",
    "OH = cal.Substance2(\"OH-(aq)\", state=\"aq\", H0=-230.02e3, S0=-10.9, molarMass=17.01,\n",
    "                   cP=-148.5, density=0, atoms=dict(H=1,O=1,c=-1))\n",
    "\n",
    "HF = cal.Substance2('HF(aq)', state=\"aq\", H0=-324.93e3, S0=-13.8, molarMass=18.998+1.01,cP=0,\n",
    "                    density=0, atoms=dict(H=1,F=1))\n",
    "F = cal.Substance2('F-(aq)', state=\"aq\", H0=-335.35e3, S0=-13.8, molarMass=18.998,cP=-106.7,\n",
    "                   density=0, atoms=dict(F=1,c=-1))\n",
    "\n",
    "\n",
    "dH_ice = -6.01e3\n",
    "T_ice  = 273.15\n",
    "\n",
    "ice = cal.phaseChange(dH_ice, T_ice, H2O, cP=2.108*H2O.molarMass,\n",
    "                    name=\"ice\", state='s', density=0.91, atoms=dict(H=2,O=1))\n",
    "\n",
    "\n",
    "chemicals = {0: H2O, \n",
    "#              1:Hplus, 2: OH, \n",
    "             3: ice, \n",
    "#              4: HF, 5:F\n",
    "            }\n",
    "\n",
    "rxns = [{0: -1, 1: 1, 2: 1}]\n",
    "\n",
    "s0 = cal.State3(T=268.15, chemicals=chemicals, rxns=[], V=None)\n",
    "\n",
    "n0 = 1000/18.02\n",
    "\n",
    "s0.set_state({0: 0.0,  3: n0})\n",
    "x0 = s0.x"
   ]
  },
  {
   "cell_type": "code",
   "execution_count": 408,
   "id": "cf841643",
   "metadata": {},
   "outputs": [
    {
     "data": {
      "text/plain": [
       "['H2O(l)', 'ice']"
      ]
     },
     "execution_count": 408,
     "metadata": {},
     "output_type": "execute_result"
    }
   ],
   "source": [
    "[x.name for x in s0.chem_vals]"
   ]
  },
  {
   "cell_type": "code",
   "execution_count": 445,
   "id": "22740b77",
   "metadata": {},
   "outputs": [],
   "source": [
    "def scale(x, v):\n",
    "    return v*np.where(\n",
    "        (x>0.0) | (v<=0), 1.0, 0.0)\n",
    "        \n",
    "\n",
    "def scale_d(x, v):\n",
    "        return v*np.where( (x==0), 1, 0)\n",
    "\n",
    "def f2(x0, s, dH):\n",
    "    mu = s.mu(x0)\n",
    "    Gbar = s.get_prop_conc('Gbar', x=x0[:-1], T=x0[-1])\n",
    "    resid = Gbar - s.A.T@mu # Chemical potential substance - chemical potential atom\n",
    "    d_moles = s.A @ x0[:-1] - s.n_moles\n",
    "    H0 = s.get_prop_conc('Hbar') @ s.x\n",
    "    H1 = s.get_prop_conc('Hbar', x=x0[:-1], T=x0[-1])\n",
    "    \n",
    "    Sbar = s.get_prop_conc('Sbar', x=x0[:-1], T=x0[-1])\n",
    "    \n",
    "    cP_total = s.get_prop('cP') @ x0[:-1]\n",
    "    \n",
    "    V = s.volume(x0[:-1])\n",
    "\n",
    "\n",
    "    \n",
    "    T = x0[-1]\n",
    "    R = 8.3145\n",
    "    \n",
    "    jac = np.diag(R*T/x0[:s.N_aq] *scale(V*np.ones(s.N_aq), resid[:s.N_aq]) + \n",
    "            scale_d(x0[:s.N_aq], resid[:s.N_aq])) # Diagonal on top...\n",
    "    \n",
    "    J = np.zeros(shape=(s.N_chem+s.N_atoms+1, s.N_chem+1))\n",
    "    \n",
    "    J[:s.N_aq, :s.N_aq] = jac\n",
    "    \n",
    "    for i in range(s.N_aq, s.N_chem):\n",
    "        J[i, i] = scale_d(x0[i], resid[i])\n",
    "        \n",
    "    \n",
    "    J[:s.N_chem, -1] = -Sbar\n",
    "    \n",
    "    J[s.N_chem:-1, :-1] = -s.A\n",
    "    \n",
    "    J[-1, :-1] = H1\n",
    "    J[-1, -1] = cP_total\n",
    "    \n",
    "    return np.r_[scale(x0[:-1], resid), d_moles, (H1@x0[:-1] - H0) - dH]\n"
   ]
  },
  {
   "cell_type": "code",
   "execution_count": 453,
   "id": "49352f95",
   "metadata": {},
   "outputs": [],
   "source": [
    "def Jac(x0, s, dH):\n",
    "    mu = s.mu(x0)\n",
    "    Gbar = s.get_prop_conc('Gbar', x=x0[:-1], T=x0[-1])\n",
    "    resid = Gbar - s.A.T@mu # Chemical potential substance - chemical potential atom\n",
    "    d_moles = s.A @ x0[:-1] - s.n_moles\n",
    "    H0 = s.get_prop_conc('Hbar') @ s.x\n",
    "    H1 = s.get_prop_conc('Hbar', x=x0[:-1], T=x0[-1])\n",
    "    \n",
    "    Sbar = s.get_prop_conc('Sbar', x=x0[:-1], T=x0[-1])\n",
    "    \n",
    "    cP_total = s.get_prop('cP') @ x0[:-1]\n",
    "    \n",
    "    V = s.volume(x0[:-1])\n",
    "\n",
    "\n",
    "    \n",
    "    T = x0[-1]\n",
    "    R = 8.3145\n",
    "    \n",
    "    jac = np.diag(R*T/x0[:s.N_aq] *scale(V*np.ones(s.N_aq), resid[:s.N_aq]) + \n",
    "            scale_d(x0[:s.N_aq], resid[:s.N_aq])) # Diagonal on top...\n",
    "    \n",
    "    J = np.zeros(shape=(s.N_chem+s.N_atoms+1, s.N_chem+1))\n",
    "    \n",
    "    J[:s.N_aq, :s.N_aq] = jac\n",
    "    \n",
    "    for i in range(s.N_aq, s.N_chem):\n",
    "        J[i, i] = scale_d(x0[i], resid[i])\n",
    "        \n",
    "    \n",
    "    J[:s.N_chem, -1] = -Sbar\n",
    "    \n",
    "    J[s.N_chem:-1, :-1] = -s.A\n",
    "    \n",
    "    J[-1, :-1] = H1\n",
    "    J[-1, -1] = cP_total\n",
    "    \n",
    "    return J"
   ]
  },
  {
   "cell_type": "code",
   "execution_count": 454,
   "id": "8befc32e",
   "metadata": {},
   "outputs": [
    {
     "name": "stdout",
     "output_type": "stream",
     "text": [
      "268.15\n"
     ]
    }
   ],
   "source": [
    "df = f2(np.array([0, n0, 268.15]), s0, 100.0)"
   ]
  },
  {
   "cell_type": "code",
   "execution_count": 455,
   "id": "22023e4c",
   "metadata": {},
   "outputs": [
    {
     "name": "stdout",
     "output_type": "stream",
     "text": [
      "268.15\n",
      "268.15\n",
      "268.15\n",
      "268.15\n",
      "268.15\n",
      "268.15000001904707\n",
      "268.1627288311394\n",
      "268.15388657708655\n",
      "268.1506408871565\n"
     ]
    },
    {
     "name": "stderr",
     "output_type": "stream",
     "text": [
      "/Users/dwyerry/miniconda3/lib/python3.9/site-packages/statsmodels/regression/linear_model.py:745: RuntimeWarning: invalid value encountered in sqrt\n",
      "  return np.sqrt(self.weights)[:, None] * x\n",
      "/Users/dwyerry/miniconda3/lib/python3.9/site-packages/statsmodels/regression/linear_model.py:743: RuntimeWarning: invalid value encountered in sqrt\n",
      "  return x * np.sqrt(self.weights)\n"
     ]
    },
    {
     "data": {
      "text/plain": [
       "(array([  0.        ,  55.49389567, 268.15      ]), 2)"
      ]
     },
     "execution_count": 455,
     "metadata": {},
     "output_type": "execute_result"
    }
   ],
   "source": [
    "# optimize.leastsq(f2, np.array([0, n0, 268.15]), args=(s0,100.0), Dfun=Jac)"
   ]
  },
  {
   "cell_type": "code",
   "execution_count": 432,
   "id": "99b3962c",
   "metadata": {},
   "outputs": [
    {
     "data": {
      "text/plain": [
       "(array([ 1.37739845e-08, -3.40254708e-04,  1.90470769e-08]),\n",
       " 5.788201612665907e-07,\n",
       " 3,\n",
       " array([4.11558425e+05, 1.02389014e+02, 3.07106885e+01]))"
      ]
     },
     "execution_count": 432,
     "metadata": {},
     "output_type": "execute_result"
    }
   ],
   "source": [
    "linalg.lstsq(Jac, -df)"
   ]
  },
  {
   "cell_type": "code",
   "execution_count": 416,
   "id": "7a5a05b3",
   "metadata": {},
   "outputs": [
    {
     "name": "stdout",
     "output_type": "stream",
     "text": [
      "268.15\n"
     ]
    },
    {
     "data": {
      "text/plain": [
       "(array([ 0.00000000e+00, -5.82076609e-11,  0.00000000e+00,  0.00000000e+00,\n",
       "         0.00000000e+00, -1.00000000e+02]),\n",
       " array([[ 1.08293640e+02,  0.00000000e+00, -6.19719179e+01],\n",
       "        [ 0.00000000e+00, -0.00000000e+00, -4.06591483e+01],\n",
       "        [-2.00000000e+00, -2.00000000e+00,  0.00000000e+00],\n",
       "        [-1.00000000e+00, -1.00000000e+00,  0.00000000e+00],\n",
       "        [-0.00000000e+00, -0.00000000e+00,  0.00000000e+00],\n",
       "        [-2.88085708e+05, -2.93909021e+05,  2.10800000e+03]]))"
      ]
     },
     "execution_count": 416,
     "metadata": {},
     "output_type": "execute_result"
    }
   ],
   "source": [
    "f2(s0, np.r_[np.array([0, n0]), s0.T], 100.0)"
   ]
  },
  {
   "cell_type": "code",
   "execution_count": 403,
   "id": "a76e455f",
   "metadata": {},
   "outputs": [
    {
     "ename": "ValueError",
     "evalue": "matmul: Input operand 1 has a mismatch in its core dimension 0, with gufunc signature (n?,k),(k,m?)->(n?,m?) (size 3 is different from 4)",
     "output_type": "error",
     "traceback": [
      "\u001b[0;31m---------------------------------------------------------------------------\u001b[0m",
      "\u001b[0;31mValueError\u001b[0m                                Traceback (most recent call last)",
      "\u001b[0;32m/var/folders/zn/x8ct2v5d1z714b45ycxv1hhc0000gn/T/ipykernel_92740/4233693077.py\u001b[0m in \u001b[0;36m<module>\u001b[0;34m\u001b[0m\n\u001b[0;32m----> 1\u001b[0;31m \u001b[0my_eq\u001b[0m \u001b[0;34m=\u001b[0m \u001b[0ms0\u001b[0m\u001b[0;34m.\u001b[0m\u001b[0mA\u001b[0m\u001b[0;34m.\u001b[0m\u001b[0mT\u001b[0m \u001b[0;34m@\u001b[0m \u001b[0mmu\u001b[0m \u001b[0;31m# Chemical potential...\u001b[0m\u001b[0;34m\u001b[0m\u001b[0;34m\u001b[0m\u001b[0m\n\u001b[0m",
      "\u001b[0;31mValueError\u001b[0m: matmul: Input operand 1 has a mismatch in its core dimension 0, with gufunc signature (n?,k),(k,m?)->(n?,m?) (size 3 is different from 4)"
     ]
    }
   ],
   "source": [
    "y_eq = s0.A.T @ mu # Chemical potential..."
   ]
  },
  {
   "cell_type": "code",
   "execution_count": 209,
   "id": "0401dfdb",
   "metadata": {},
   "outputs": [],
   "source": [
    "y = s0.get_prop_conc('Gbar')"
   ]
  },
  {
   "cell_type": "code",
   "execution_count": 210,
   "id": "9800a799",
   "metadata": {},
   "outputs": [
    {
     "data": {
      "text/plain": [
       "array([ 1.08293640e+02, -5.82076609e-11])"
      ]
     },
     "execution_count": 210,
     "metadata": {},
     "output_type": "execute_result"
    }
   ],
   "source": [
    "y - y_eq"
   ]
  },
  {
   "cell_type": "code",
   "execution_count": 211,
   "id": "5f7f3214",
   "metadata": {},
   "outputs": [
    {
     "name": "stdout",
     "output_type": "stream",
     "text": [
      "268.15\n"
     ]
    },
    {
     "ename": "AttributeError",
     "evalue": "'numpy.ndarray' object has no attribute 'params'",
     "output_type": "error",
     "traceback": [
      "\u001b[0;31m---------------------------------------------------------------------------\u001b[0m",
      "\u001b[0;31mAttributeError\u001b[0m                            Traceback (most recent call last)",
      "\u001b[0;32m/var/folders/zn/x8ct2v5d1z714b45ycxv1hhc0000gn/T/ipykernel_92740/486145023.py\u001b[0m in \u001b[0;36m<module>\u001b[0;34m\u001b[0m\n\u001b[1;32m      1\u001b[0m \u001b[0mout\u001b[0m \u001b[0;34m=\u001b[0m \u001b[0ms0\u001b[0m\u001b[0;34m.\u001b[0m\u001b[0mmu\u001b[0m\u001b[0;34m(\u001b[0m\u001b[0;34m)\u001b[0m\u001b[0;34m\u001b[0m\u001b[0;34m\u001b[0m\u001b[0m\n\u001b[0;32m----> 2\u001b[0;31m \u001b[0mmu0\u001b[0m \u001b[0;34m=\u001b[0m \u001b[0mout\u001b[0m\u001b[0;34m.\u001b[0m\u001b[0mparams\u001b[0m\u001b[0;34m\u001b[0m\u001b[0;34m\u001b[0m\u001b[0m\n\u001b[0m\u001b[1;32m      3\u001b[0m \u001b[0mmu0\u001b[0m\u001b[0;34m\u001b[0m\u001b[0;34m\u001b[0m\u001b[0m\n",
      "\u001b[0;31mAttributeError\u001b[0m: 'numpy.ndarray' object has no attribute 'params'"
     ]
    }
   ],
   "source": [
    "out = s0.mu()\n",
    "mu0 = out.params\n",
    "mu0"
   ]
  },
  {
   "cell_type": "code",
   "execution_count": 195,
   "id": "14a2ce52",
   "metadata": {},
   "outputs": [
    {
     "ename": "AttributeError",
     "evalue": "'numpy.ndarray' object has no attribute 'params'",
     "output_type": "error",
     "traceback": [
      "\u001b[0;31m---------------------------------------------------------------------------\u001b[0m",
      "\u001b[0;31mAttributeError\u001b[0m                            Traceback (most recent call last)",
      "\u001b[0;32m/var/folders/zn/x8ct2v5d1z714b45ycxv1hhc0000gn/T/ipykernel_92740/3381675064.py\u001b[0m in \u001b[0;36m<module>\u001b[0;34m\u001b[0m\n\u001b[0;32m----> 1\u001b[0;31m \u001b[0mout\u001b[0m\u001b[0;34m.\u001b[0m\u001b[0mparams\u001b[0m\u001b[0;34m\u001b[0m\u001b[0;34m\u001b[0m\u001b[0m\n\u001b[0m",
      "\u001b[0;31mAttributeError\u001b[0m: 'numpy.ndarray' object has no attribute 'params'"
     ]
    }
   ],
   "source": []
  },
  {
   "cell_type": "code",
   "execution_count": 196,
   "id": "6d9dd93c",
   "metadata": {},
   "outputs": [
    {
     "data": {
      "text/plain": [
       "('H', 'O', 'c')"
      ]
     },
     "execution_count": 196,
     "metadata": {},
     "output_type": "execute_result"
    }
   ],
   "source": [
    "s0.all_atoms"
   ]
  },
  {
   "cell_type": "code",
   "execution_count": 197,
   "id": "ea4bdd07",
   "metadata": {},
   "outputs": [
    {
     "data": {
      "text/plain": [
       "['H2O(l)', 'ice']"
      ]
     },
     "execution_count": 197,
     "metadata": {},
     "output_type": "execute_result"
    }
   ],
   "source": [
    "[x.name for x in s0.chem_vals]"
   ]
  },
  {
   "cell_type": "code",
   "execution_count": null,
   "id": "5cc742d0",
   "metadata": {},
   "outputs": [],
   "source": []
  },
  {
   "cell_type": "code",
   "execution_count": 200,
   "id": "e76d4791",
   "metadata": {},
   "outputs": [
    {
     "data": {
      "text/plain": [
       "[<matplotlib.lines.Line2D at 0x13caead90>]"
      ]
     },
     "execution_count": 200,
     "metadata": {},
     "output_type": "execute_result"
    },
    {
     "data": {
      "image/png": "[encoded data removed]",
      "text/plain": [
       "<Figure size 432x288 with 1 Axes>"
      ]
     },
     "metadata": {
      "needs_background": "light"
     },
     "output_type": "display_data"
    }
   ],
   "source": [
    "plt.plot(y, '.')\n",
    "plt.plot(s0.A.T@mu, '.')"
   ]
  },
  {
   "cell_type": "code",
   "execution_count": 199,
   "id": "28c23a51",
   "metadata": {},
   "outputs": [],
   "source": [
    "AtA = (s0.A @ s0.A.T)"
   ]
  },
  {
   "cell_type": "code",
   "execution_count": 179,
   "id": "1454d509",
   "metadata": {},
   "outputs": [],
   "source": [
    "import statsmodels.api as sm"
   ]
  },
  {
   "cell_type": "code",
   "execution_count": null,
   "id": "1c7b57f6",
   "metadata": {},
   "outputs": [],
   "source": []
  },
  {
   "cell_type": "code",
   "execution_count": 111,
   "id": "12c251d6",
   "metadata": {},
   "outputs": [],
   "source": [
    "out = sm.WLS(y, s0.A.T, weights=x0+1e-3).fit().params"
   ]
  },
  {
   "cell_type": "code",
   "execution_count": 112,
   "id": "b10187f2",
   "metadata": {},
   "outputs": [
    {
     "data": {
      "text/plain": [
       "array([-304811.76947343, -304811.76947343])"
      ]
     },
     "execution_count": 112,
     "metadata": {},
     "output_type": "execute_result"
    }
   ],
   "source": [
    "s0.A.T@out"
   ]
  },
  {
   "cell_type": "code",
   "execution_count": 137,
   "id": "0c52b95d",
   "metadata": {},
   "outputs": [
    {
     "data": {
      "text/plain": [
       "array([-120369.06729753,  -60184.53364877,       0.        ])"
      ]
     },
     "execution_count": 137,
     "metadata": {},
     "output_type": "execute_result"
    }
   ],
   "source": [
    "mu"
   ]
  },
  {
   "cell_type": "code",
   "execution_count": 136,
   "id": "1c9f87bb",
   "metadata": {},
   "outputs": [
    {
     "data": {
      "text/plain": [
       "array([-120369.06729753,  -60184.53364877,       0.        ])"
      ]
     },
     "execution_count": 136,
     "metadata": {},
     "output_type": "execute_result"
    }
   ],
   "source": [
    "out"
   ]
  },
  {
   "cell_type": "code",
   "execution_count": 113,
   "id": "ad844105",
   "metadata": {},
   "outputs": [
    {
     "data": {
      "text/plain": [
       "[<matplotlib.lines.Line2D at 0x13cf06d30>]"
      ]
     },
     "execution_count": 113,
     "metadata": {},
     "output_type": "execute_result"
    },
    {
     "data": {
      "image/png": "[encoded data removed]",
      "text/plain": [
       "<Figure size 432x288 with 1 Axes>"
      ]
     },
     "metadata": {
      "needs_background": "light"
     },
     "output_type": "display_data"
    }
   ],
   "source": [
    "plt.plot(y, 'o')\n",
    "plt.plot(s0.A.T@out, '.')"
   ]
  },
  {
   "cell_type": "code",
   "execution_count": 144,
   "id": "91aca685",
   "metadata": {},
   "outputs": [],
   "source": [
    "v1 = s0.A.T@out"
   ]
  },
  {
   "cell_type": "code",
   "execution_count": 145,
   "id": "7ab0fd9a",
   "metadata": {},
   "outputs": [
    {
     "data": {
      "text/plain": [
       "array([-300922.66824383, -300922.66824383])"
      ]
     },
     "execution_count": 145,
     "metadata": {},
     "output_type": "execute_result"
    }
   ],
   "source": [
    "v1"
   ]
  },
  {
   "cell_type": "code",
   "execution_count": 146,
   "id": "9f48f16b",
   "metadata": {},
   "outputs": [
    {
     "data": {
      "text/plain": [
       "array([-304703.47778434, -304811.77142481])"
      ]
     },
     "execution_count": 146,
     "metadata": {},
     "output_type": "execute_result"
    }
   ],
   "source": [
    "y"
   ]
  },
  {
   "cell_type": "code",
   "execution_count": 57,
   "id": "97776b6b",
   "metadata": {},
   "outputs": [
    {
     "data": {
      "text/plain": [
       "array([-300922.66760443, -300922.66760443])"
      ]
     },
     "execution_count": 57,
     "metadata": {},
     "output_type": "execute_result"
    }
   ],
   "source": [
    "s0.A.T @ mu0"
   ]
  },
  {
   "cell_type": "code",
   "execution_count": 172,
   "id": "2ee93b0f",
   "metadata": {},
   "outputs": [
    {
     "name": "stdout",
     "output_type": "stream",
     "text": [
      "(3, 5)\n",
      "[ 0.00100418  0.00100418  0.19869654 -0.19970072]\n",
      "267.80463640959897\n",
      "(3, 5)\n"
     ]
    },
    {
     "name": "stderr",
     "output_type": "stream",
     "text": [
      "/Users/dwyerry/programming/pchem/pchem/calorimetry.py:513: RuntimeWarning: divide by zero encountered in double_scalars\n",
      "  concs.append(mol/V)\n"
     ]
    },
    {
     "name": "stdout",
     "output_type": "stream",
     "text": [
      "[ 1.1210687e-02  1.1210687e-02  9.5323358e-13 -1.1210687e-02]\n",
      "268.258739052737\n",
      "(3, 5)\n",
      "[ 1.58691965e-02  1.58691965e-02  1.43067341e-16 -1.58691965e-02]\n",
      "268.34506194728243\n",
      "(3, 5)\n",
      "[ 1.58691965e-02  1.58691965e-02  5.77595778e-16 -1.58691965e-02]\n",
      "268.5825870556159\n",
      "(3, 5)\n",
      "[ 6.55224661e-03  6.55224661e-03  2.20383163e-08 -6.55226864e-03]\n",
      "269.1220509540285\n",
      "(3, 5)\n",
      "[ 8.29907232e-03  8.29907232e-03  5.22023740e-16 -8.29907232e-03]\n",
      "269.3028913572438\n",
      "(3, 5)\n",
      "[ 2.68481189e-19  1.62205753e-18  1.27985061e-14 -1.42108547e-14]\n",
      "269.8084868724161\n",
      "(3, 5)\n",
      "[ 2.39216740e-19  1.44525326e-18  1.14034689e-14 -1.42108547e-14]\n",
      "269.8084868724162\n",
      "(3, 5)\n",
      "[ 2.39216740e-19  1.44525326e-18  1.14034689e-14 -1.42108547e-14]\n",
      "269.8084868724162\n",
      "(3, 5)\n",
      "[ 2.39216740e-19  1.44525326e-18  1.14034689e-14 -1.42108547e-14]\n",
      "269.8084868724162\n"
     ]
    }
   ],
   "source": [
    "for i in range(10):\n",
    "    out = s0._solve_no_rxns(500.0)\n",
    "    s0.x = out[1]\n",
    "    s0.T = out[2]\n",
    "    print(out[1]-x0)\n",
    "    print(out[2])"
   ]
  },
  {
   "cell_type": "code",
   "execution_count": 173,
   "id": "b7f67bde",
   "metadata": {},
   "outputs": [
    {
     "ename": "SyntaxError",
     "evalue": "invalid syntax (1051061727.py, line 1)",
     "output_type": "error",
     "traceback": [
      "\u001b[0;36m  File \u001b[0;32m\"/var/folders/zn/x8ct2v5d1z714b45ycxv1hhc0000gn/T/ipykernel_82563/1051061727.py\"\u001b[0;36m, line \u001b[0;32m1\u001b[0m\n\u001b[0;31m    Positive directional derivative for linesearch\u001b[0m\n\u001b[0m             ^\u001b[0m\n\u001b[0;31mSyntaxError\u001b[0m\u001b[0;31m:\u001b[0m invalid syntax\n"
     ]
    }
   ],
   "source": [
    "Positive directional derivative for linesearch"
   ]
  },
  {
   "cell_type": "code",
   "execution_count": 174,
   "id": "465bcfc2",
   "metadata": {},
   "outputs": [
    {
     "data": {
      "text/plain": [
       "(     fun: -2269.3321979572224\n",
       "      jac: array([-56.17097547, -45.14875597, -62.43635373, -40.89336621,\n",
       "         -7.81294919])\n",
       "  message: 'Positive directional derivative for linesearch'\n",
       "     nfev: 1\n",
       "      nit: 5\n",
       "     njev: 1\n",
       "   status: 8\n",
       "  success: False\n",
       "        x: array([2.39216740e-19, 1.44525326e-18, 1.14034689e-14, 5.54938957e+01,\n",
       "        0.00000000e+00]),\n",
       " array([2.39216740e-19, 1.44525326e-18, 1.14034689e-14, 5.54938957e+01]),\n",
       " 269.8084868724162)"
      ]
     },
     "execution_count": 174,
     "metadata": {},
     "output_type": "execute_result"
    }
   ],
   "source": [
    "out"
   ]
  },
  {
   "cell_type": "code",
   "execution_count": 175,
   "id": "b2fbda8a",
   "metadata": {},
   "outputs": [],
   "source": [
    "dH = 100.9\n",
    "self = s0\n",
    "A = self.A\n",
    "b = self.x # Current state...\n",
    "Ag = np.c_[A, np.zeros(self.N_atoms)] # Add zeros for temp?\n",
    "T0 = self.T\n",
    "\n",
    "Hbar0 = self.get_prop_conc('Hbar', x=b, T=T0)\n",
    "\n",
    "cP = self.get_prop('cP')\n",
    "\n",
    "def HconstaintFunc(x):\n",
    "    T = T0 + x[-1]\n",
    "    Hbar = self.get_prop_conc('Hbar', x=x[:-1], T=T)\n",
    "    \n",
    "    return np.dot(Hbar, x[:-1]) - Hbar0\n",
    "\n",
    "def HconstaintFunc_jac(x):\n",
    "    T = T0 + x[-1]\n",
    "    Hbar = self.get_prop_conc('Hbar', x=x[:-1], T=T)\n",
    "    return np.r_[Hbar, cP@x[:-1]].reshape(1, -1)\n",
    "\n",
    "Hconstraint = optimize.NonlinearConstraint(HconstaintFunc, lb=np.array([dH]), ub=np.array([dH]), jac=HconstaintFunc_jac)\n",
    "bounds = optimize.LinearConstraint(Ag, lb=self.n_moles, ub=self.n_moles) # Reaction constraint..."
   ]
  },
  {
   "cell_type": "code",
   "execution_count": 176,
   "id": "6c92f5bc",
   "metadata": {},
   "outputs": [
    {
     "data": {
      "text/plain": [
       "array([-16306660.44685386, -16080849.1615533 , -16018699.66205564,\n",
       "       -16012814.42560155])"
      ]
     },
     "execution_count": 176,
     "metadata": {},
     "output_type": "execute_result"
    }
   ],
   "source": [
    "HconstaintFunc(np.r_[s0.x, 0.0])"
   ]
  },
  {
   "cell_type": "code",
   "execution_count": 177,
   "id": "094543ea",
   "metadata": {},
   "outputs": [
    {
     "ename": "TypeError",
     "evalue": "'Symbol' object is not subscriptable",
     "output_type": "error",
     "traceback": [
      "\u001b[0;31m---------------------------------------------------------------------------\u001b[0m",
      "\u001b[0;31mTypeError\u001b[0m                                 Traceback (most recent call last)",
      "\u001b[0;32m/var/folders/zn/x8ct2v5d1z714b45ycxv1hhc0000gn/T/ipykernel_82563/1776078559.py\u001b[0m in \u001b[0;36m<module>\u001b[0;34m\u001b[0m\n\u001b[0;32m----> 1\u001b[0;31m \u001b[0mnp\u001b[0m\u001b[0;34m.\u001b[0m\u001b[0mdot\u001b[0m\u001b[0;34m(\u001b[0m\u001b[0mHbar0\u001b[0m\u001b[0;34m,\u001b[0m \u001b[0mx\u001b[0m\u001b[0;34m[\u001b[0m\u001b[0;34m:\u001b[0m\u001b[0;34m-\u001b[0m\u001b[0;36m1\u001b[0m\u001b[0;34m]\u001b[0m\u001b[0;34m)\u001b[0m\u001b[0;34m\u001b[0m\u001b[0;34m\u001b[0m\u001b[0m\n\u001b[0m",
      "\u001b[0;31mTypeError\u001b[0m: 'Symbol' object is not subscriptable"
     ]
    }
   ],
   "source": [
    "np.dot(Hbar0, x[:-1])"
   ]
  },
  {
   "cell_type": "code",
   "execution_count": 178,
   "id": "9b9ff585",
   "metadata": {},
   "outputs": [
    {
     "data": {
      "text/plain": [
       "array([ 1.10987791e+02,  5.54938957e+01, -1.20603652e-18])"
      ]
     },
     "execution_count": 178,
     "metadata": {},
     "output_type": "execute_result"
    }
   ],
   "source": [
    "s0.A @ s0.x"
   ]
  },
  {
   "cell_type": "markdown",
   "id": "26118d08",
   "metadata": {},
   "source": [
    "The other approach was,\n",
    "\n",
    "$$ \\max S $$\n",
    "\n",
    "subject to the constraints,\n",
    "\n",
    "$$ H_\\text{total} = h \\cdot n $$\n",
    "\n",
    "where $n$ is the vector of moles of each substance, and\n",
    "\n",
    "$$ b = A n$$\n",
    "\n",
    "Do I need the Lagrangian multipliers here? Probably not?\n"
   ]
  },
  {
   "cell_type": "code",
   "execution_count": 179,
   "id": "7782c98f",
   "metadata": {},
   "outputs": [
    {
     "data": {
      "text/plain": [
       "array([2.39216740e-19, 1.44525326e-18, 1.14034689e-14, 5.54938957e+01])"
      ]
     },
     "execution_count": 179,
     "metadata": {},
     "output_type": "execute_result"
    }
   ],
   "source": [
    "s0.fH()"
   ]
  },
  {
   "cell_type": "code",
   "execution_count": 180,
   "id": "aacae4bd",
   "metadata": {},
   "outputs": [
    {
     "data": {
      "text/plain": [
       "(array([ 5.17249482e+13,  4.22456093e+29, -8.60117924e+02, -8.04623976e+02,\n",
       "        -3.15909301e-16, -1.57954650e-16, -2.36658272e-30]),\n",
       " [51.993770740127474,\n",
       "  104.39834425955777,\n",
       "  104.39834582369414,\n",
       "  1.0,\n",
       "  1.0,\n",
       "  1.0,\n",
       "  1.0,\n",
       "  1.0,\n",
       "  1.0,\n",
       "  1.0,\n",
       "  1.0,\n",
       "  1.0,\n",
       "  1.0,\n",
       "  1.0,\n",
       "  1.0,\n",
       "  1.0,\n",
       "  1.0,\n",
       "  1.0,\n",
       "  1.0,\n",
       "  1.0,\n",
       "  1.0,\n",
       "  1.0,\n",
       "  1.0,\n",
       "  1.0,\n",
       "  1.0,\n",
       "  1.0,\n",
       "  1.0,\n",
       "  1.0,\n",
       "  1.0274235757415902,\n",
       "  1.0,\n",
       "  1.0,\n",
       "  1.0,\n",
       "  1.0,\n",
       "  1.0720411540826085,\n",
       "  1.052671327905923,\n",
       "  1.0,\n",
       "  1.0,\n",
       "  1.100196885277871,\n",
       "  1.0,\n",
       "  1.048458315428924,\n",
       "  1.0984944257361562,\n",
       "  1.0984042469036712,\n",
       "  1.0,\n",
       "  1.043818725762657,\n",
       "  1.0,\n",
       "  1.0,\n",
       "  1.0620263962905252,\n",
       "  1.1236625497097403,\n",
       "  1.1437093673245808,\n",
       "  1.0,\n",
       "  1.171150643498578,\n",
       "  1.0081108805499728,\n",
       "  1.000000000000007,\n",
       "  1.0,\n",
       "  1.0,\n",
       "  1.0,\n",
       "  1.1108208395064096,\n",
       "  3.2603837595358556,\n",
       "  1.3922030966905545,\n",
       "  1.5461355464415805,\n",
       "  852.7121094880165,\n",
       "  1.0,\n",
       "  1.0,\n",
       "  1.0,\n",
       "  1.0,\n",
       "  1.0,\n",
       "  1.0,\n",
       "  1.0,\n",
       "  1.0,\n",
       "  1.0,\n",
       "  1.0,\n",
       "  1.0,\n",
       "  1.0,\n",
       "  1.0,\n",
       "  0.9999999999999858,\n",
       "  1.0,\n",
       "  1.0,\n",
       "  1.0,\n",
       "  1.0,\n",
       "  1.0,\n",
       "  1.0,\n",
       "  1.0,\n",
       "  1.0,\n",
       "  1.0,\n",
       "  1.0,\n",
       "  1.0,\n",
       "  1.0,\n",
       "  1.0,\n",
       "  1.0,\n",
       "  1.0,\n",
       "  1.0,\n",
       "  1.0,\n",
       "  1.0,\n",
       "  1.0,\n",
       "  1.0,\n",
       "  1.0,\n",
       "  1.0,\n",
       "  1.0,\n",
       "  1.0,\n",
       "  1.0])"
      ]
     },
     "execution_count": 180,
     "metadata": {},
     "output_type": "execute_result"
    }
   ],
   "source": [
    "s0._solve_iterative()"
   ]
  },
  {
   "cell_type": "code",
   "execution_count": 16,
   "id": "e50748f2",
   "metadata": {},
   "outputs": [
    {
     "ename": "ValueError",
     "evalue": "matmul: Input operand 1 has a mismatch in its core dimension 0, with gufunc signature (n?,k),(k,m?)->(n?,m?) (size 2 is different from 3)",
     "output_type": "error",
     "traceback": [
      "\u001b[0;31m---------------------------------------------------------------------------\u001b[0m",
      "\u001b[0;31mValueError\u001b[0m                                Traceback (most recent call last)",
      "\u001b[0;32m/var/folders/zn/x8ct2v5d1z714b45ycxv1hhc0000gn/T/ipykernel_82563/3745650918.py\u001b[0m in \u001b[0;36m<module>\u001b[0;34m\u001b[0m\n\u001b[0;32m----> 1\u001b[0;31m \u001b[0ms0\u001b[0m\u001b[0;34m.\u001b[0m\u001b[0mfi\u001b[0m\u001b[0;34m(\u001b[0m\u001b[0mnp\u001b[0m\u001b[0;34m.\u001b[0m\u001b[0marray\u001b[0m\u001b[0;34m(\u001b[0m\u001b[0;34m[\u001b[0m\u001b[0;36m1.0\u001b[0m\u001b[0;34m,\u001b[0m \u001b[0;36m0.01\u001b[0m\u001b[0;34m,\u001b[0m \u001b[0;36m0.01\u001b[0m\u001b[0;34m,\u001b[0m \u001b[0;36m0\u001b[0m\u001b[0;34m,\u001b[0m\u001b[0;36m0\u001b[0m\u001b[0;34m,\u001b[0m\u001b[0;36m0\u001b[0m\u001b[0;34m]\u001b[0m\u001b[0;34m)\u001b[0m\u001b[0;34m)\u001b[0m\u001b[0;34m\u001b[0m\u001b[0;34m\u001b[0m\u001b[0m\n\u001b[0m",
      "\u001b[0;32m~/programming/pchem/pchem/calorimetry.py\u001b[0m in \u001b[0;36mfi\u001b[0;34m(self, x)\u001b[0m\n\u001b[1;32m    322\u001b[0m         \u001b[0mneg_G_o_RT\u001b[0m \u001b[0;34m=\u001b[0m \u001b[0;34m-\u001b[0m\u001b[0mself\u001b[0m\u001b[0;34m.\u001b[0m\u001b[0mget_prop_conc\u001b[0m\u001b[0;34m(\u001b[0m\u001b[0;34m'Gbar'\u001b[0m\u001b[0;34m,\u001b[0m \u001b[0mx\u001b[0m\u001b[0;34m=\u001b[0m\u001b[0mn_moles\u001b[0m\u001b[0;34m,\u001b[0m\u001b[0mT\u001b[0m\u001b[0;34m=\u001b[0m\u001b[0mT\u001b[0m\u001b[0;34m)\u001b[0m\u001b[0;34m/\u001b[0m\u001b[0mRT\u001b[0m\u001b[0;34m\u001b[0m\u001b[0;34m\u001b[0m\u001b[0m\n\u001b[1;32m    323\u001b[0m         \u001b[0my\u001b[0m\u001b[0;34m[\u001b[0m\u001b[0;34m:\u001b[0m\u001b[0mself\u001b[0m\u001b[0;34m.\u001b[0m\u001b[0mN_chem\u001b[0m\u001b[0;34m]\u001b[0m \u001b[0;34m=\u001b[0m \u001b[0mneg_G_o_RT\u001b[0m \u001b[0;31m# Output variables here...\u001b[0m\u001b[0;34m\u001b[0m\u001b[0;34m\u001b[0m\u001b[0m\n\u001b[0;32m--> 324\u001b[0;31m         \u001b[0my\u001b[0m\u001b[0;34m[\u001b[0m\u001b[0mself\u001b[0m\u001b[0;34m.\u001b[0m\u001b[0mN_chem\u001b[0m\u001b[0;34m:\u001b[0m\u001b[0;34m]\u001b[0m \u001b[0;34m=\u001b[0m \u001b[0mself\u001b[0m\u001b[0;34m.\u001b[0m\u001b[0mf\u001b[0m\u001b[0;34m(\u001b[0m\u001b[0mx\u001b[0m\u001b[0;34m)\u001b[0m\u001b[0;34m[\u001b[0m\u001b[0mself\u001b[0m\u001b[0;34m.\u001b[0m\u001b[0mN_chem\u001b[0m\u001b[0;34m:\u001b[0m\u001b[0;34m]\u001b[0m\u001b[0;34m\u001b[0m\u001b[0;34m\u001b[0m\u001b[0m\n\u001b[0m\u001b[1;32m    325\u001b[0m         \u001b[0mout\u001b[0m \u001b[0;34m=\u001b[0m \u001b[0mlinalg\u001b[0m\u001b[0;34m.\u001b[0m\u001b[0mlstsq\u001b[0m\u001b[0;34m(\u001b[0m\u001b[0mA\u001b[0m\u001b[0;34m,\u001b[0m \u001b[0my\u001b[0m\u001b[0;34m)\u001b[0m\u001b[0;34m\u001b[0m\u001b[0;34m\u001b[0m\u001b[0m\n\u001b[1;32m    326\u001b[0m         \u001b[0mdx\u001b[0m \u001b[0;34m=\u001b[0m \u001b[0mout\u001b[0m\u001b[0;34m[\u001b[0m\u001b[0;36m0\u001b[0m\u001b[0;34m]\u001b[0m\u001b[0;34m\u001b[0m\u001b[0;34m\u001b[0m\u001b[0m\n",
      "\u001b[0;32m~/programming/pchem/pchem/calorimetry.py\u001b[0m in \u001b[0;36mf\u001b[0;34m(self, x)\u001b[0m\n\u001b[1;32m    298\u001b[0m         \u001b[0mGbar\u001b[0m \u001b[0;34m=\u001b[0m \u001b[0mself\u001b[0m\u001b[0;34m.\u001b[0m\u001b[0mget_prop_conc\u001b[0m\u001b[0;34m(\u001b[0m\u001b[0;34m'Gbar'\u001b[0m\u001b[0;34m,\u001b[0m \u001b[0mx_conc\u001b[0m\u001b[0;34m)\u001b[0m \u001b[0;34m/\u001b[0m \u001b[0mRT\u001b[0m\u001b[0;34m\u001b[0m\u001b[0;34m\u001b[0m\u001b[0m\n\u001b[1;32m    299\u001b[0m         \u001b[0mmus\u001b[0m \u001b[0;34m=\u001b[0m \u001b[0mx\u001b[0m\u001b[0;34m[\u001b[0m\u001b[0mself\u001b[0m\u001b[0;34m.\u001b[0m\u001b[0mN_chem\u001b[0m\u001b[0;34m:\u001b[0m\u001b[0;34m]\u001b[0m\u001b[0;34m\u001b[0m\u001b[0;34m\u001b[0m\u001b[0m\n\u001b[0;32m--> 300\u001b[0;31m         \u001b[0my\u001b[0m\u001b[0;34m[\u001b[0m\u001b[0;34m:\u001b[0m\u001b[0mself\u001b[0m\u001b[0;34m.\u001b[0m\u001b[0mN_chem\u001b[0m\u001b[0;34m]\u001b[0m \u001b[0;34m=\u001b[0m \u001b[0mGbar\u001b[0m \u001b[0;34m+\u001b[0m \u001b[0mA\u001b[0m\u001b[0;34m.\u001b[0m\u001b[0mT\u001b[0m \u001b[0;34m@\u001b[0m \u001b[0mmus\u001b[0m \u001b[0;31m# Needed a transpose here... going from chemical potential of atoms to species\u001b[0m\u001b[0;34m\u001b[0m\u001b[0;34m\u001b[0m\u001b[0m\n\u001b[0m\u001b[1;32m    301\u001b[0m         \u001b[0;31m# If solid or liquid species, multiply by moles to eliminate\u001b[0m\u001b[0;34m\u001b[0m\u001b[0;34m\u001b[0m\u001b[0m\n\u001b[1;32m    302\u001b[0m         \u001b[0;31m# any species that are not in the system.\u001b[0m\u001b[0;34m\u001b[0m\u001b[0;34m\u001b[0m\u001b[0m\n",
      "\u001b[0;31mValueError\u001b[0m: matmul: Input operand 1 has a mismatch in its core dimension 0, with gufunc signature (n?,k),(k,m?)->(n?,m?) (size 2 is different from 3)"
     ]
    }
   ],
   "source": [
    "s0.fi(np.array([1.0, 0.01, 0.01, 0,0,0]))"
   ]
  },
  {
   "cell_type": "code",
   "execution_count": 17,
   "id": "1a5101c6",
   "metadata": {},
   "outputs": [
    {
     "data": {
      "text/plain": [
       "<bound method State3.fi of State3(T=269.8084868724162, chemicals={0: Substance2(name='H2O(l)', H0=-285826.0, S0=69.96, cP=75.3236, molarMass=18.02, state='l', density=1.0, atoms={'H': 2, 'O': 1, 'c': 0}, T0=298.15, conc0=1), 1: Substance2(name='H+(aq)', H0=0, S0=0, cP=0, molarMass=1.01, state='aq', density=0, atoms={'H': 1, 'c': 1}, T0=298.15, conc0=1), 2: Substance2(name='OH-(aq)', H0=-230020.0, S0=-10.9, cP=-148.5, molarMass=17.01, state='aq', density=0, atoms={'H': 1, 'O': 1, 'c': -1}, T0=298.15, conc0=1), 3: Substance2(name='ice', H0=-293719.09, S0=41.36092628008828, cP=37.98616, molarMass=18.02, state='s', density=0.91, atoms={'H': 2, 'O': 1}, T0=273.15, conc0=1)}, rxns=[], V=None, x=array([2.39216740e-19, 1.44525326e-18, 1.14034689e-14, 5.54938957e+01]), x_keys=array([1, 2, 0, 3]))>"
      ]
     },
     "execution_count": 17,
     "metadata": {},
     "output_type": "execute_result"
    }
   ],
   "source": [
    "s0.fi"
   ]
  },
  {
   "cell_type": "code",
   "execution_count": 18,
   "id": "c72b0865",
   "metadata": {},
   "outputs": [],
   "source": [
    "def f2(x):\n",
    "    RT = 8.3145*298.15\n",
    "    V=1\n",
    "    return np.array([np.log(x[0]/V)-x[2]*2, np.log(x[1]/V)+5000/RT-x[2], 2-x[0]*2-x[1]])"
   ]
  },
  {
   "cell_type": "code",
   "execution_count": 19,
   "id": "586d1697",
   "metadata": {},
   "outputs": [
    {
     "data": {
      "text/plain": [
       "array([-1.00503359e-02, -1.89505480e+00,  1.73472348e-17])"
      ]
     },
     "execution_count": 19,
     "metadata": {},
     "output_type": "execute_result"
    }
   ],
   "source": [
    "xf2 = np.array([0.99, 0.02, 0])\n",
    "f2(xf2)"
   ]
  },
  {
   "cell_type": "code",
   "execution_count": 20,
   "id": "721b6d7b",
   "metadata": {},
   "outputs": [],
   "source": [
    "A2 = np.array([[2, 1]])"
   ]
  },
  {
   "cell_type": "code",
   "execution_count": 21,
   "id": "620b7abf",
   "metadata": {},
   "outputs": [],
   "source": [
    "def f2it(x):\n",
    "    RT = 8.3145*298.15\n",
    "    V=1\n",
    "    A = np.array([[1, 0, -2], [0, 1, -1], [2*x[0], x[1], 0]])\n",
    "    b = np.array([-np.log(x[0]/V), -np.log(x[1]/V)-3000/RT, 2-x[0]*2-x[1]])\n",
    "    return linalg.solve(A, b)"
   ]
  },
  {
   "cell_type": "code",
   "execution_count": 22,
   "id": "8847c3f8",
   "metadata": {},
   "outputs": [],
   "source": [
    "out = f2it(xf2)\n",
    "val = np.log(xf2[:2]) + out[:2]\n",
    "xf3 = np.r_[np.exp(val), out[2:]]"
   ]
  },
  {
   "cell_type": "code",
   "execution_count": 23,
   "id": "014b46b3",
   "metadata": {},
   "outputs": [
    {
     "data": {
      "text/plain": [
       "array([-4.16333634e-17,  8.06787284e-01, -2.19711285e-01])"
      ]
     },
     "execution_count": 23,
     "metadata": {},
     "output_type": "execute_result"
    }
   ],
   "source": [
    "f2(xf3)"
   ]
  },
  {
   "cell_type": "code",
   "execution_count": 24,
   "id": "e1fa65f6",
   "metadata": {},
   "outputs": [],
   "source": [
    "def iteration(x0):\n",
    "    print(f2(x0))\n",
    "    out = f2it(x0)\n",
    "    val = np.log(x0[:2]) + out[:2]\n",
    "    res = np.r_[np.exp(val), out[2:]]\n",
    "    print(res)\n",
    "    return res"
   ]
  },
  {
   "cell_type": "code",
   "execution_count": 25,
   "id": "66099c95",
   "metadata": {},
   "outputs": [
    {
     "data": {
      "text/plain": [
       "array([ 0.96352772,  0.29265585, -0.01857701])"
      ]
     },
     "execution_count": 25,
     "metadata": {},
     "output_type": "execute_result"
    }
   ],
   "source": [
    "xf3"
   ]
  },
  {
   "cell_type": "code",
   "execution_count": 26,
   "id": "dab7fc98",
   "metadata": {},
   "outputs": [
    {
     "ename": "NameError",
     "evalue": "name 'xf' is not defined",
     "output_type": "error",
     "traceback": [
      "\u001b[0;31m---------------------------------------------------------------------------\u001b[0m",
      "\u001b[0;31mNameError\u001b[0m                                 Traceback (most recent call last)",
      "\u001b[0;32m/var/folders/zn/x8ct2v5d1z714b45ycxv1hhc0000gn/T/ipykernel_82563/3317723384.py\u001b[0m in \u001b[0;36m<module>\u001b[0;34m\u001b[0m\n\u001b[0;32m----> 1\u001b[0;31m \u001b[0mout\u001b[0m \u001b[0;34m=\u001b[0m \u001b[0mf2it\u001b[0m\u001b[0;34m(\u001b[0m\u001b[0mxf\u001b[0m\u001b[0;34m)\u001b[0m\u001b[0;34m\u001b[0m\u001b[0;34m\u001b[0m\u001b[0m\n\u001b[0m\u001b[1;32m      2\u001b[0m \u001b[0mval\u001b[0m \u001b[0;34m=\u001b[0m \u001b[0mnp\u001b[0m\u001b[0;34m.\u001b[0m\u001b[0mlog\u001b[0m\u001b[0;34m(\u001b[0m\u001b[0mxf3\u001b[0m\u001b[0;34m[\u001b[0m\u001b[0;34m:\u001b[0m\u001b[0;36m2\u001b[0m\u001b[0;34m]\u001b[0m\u001b[0;34m)\u001b[0m \u001b[0;34m+\u001b[0m \u001b[0mout\u001b[0m\u001b[0;34m[\u001b[0m\u001b[0;34m:\u001b[0m\u001b[0;36m2\u001b[0m\u001b[0;34m]\u001b[0m\u001b[0;34m\u001b[0m\u001b[0;34m\u001b[0m\u001b[0m\n\u001b[1;32m      3\u001b[0m \u001b[0mxf4\u001b[0m \u001b[0;34m=\u001b[0m \u001b[0mnp\u001b[0m\u001b[0;34m.\u001b[0m\u001b[0mr_\u001b[0m\u001b[0;34m[\u001b[0m\u001b[0mnp\u001b[0m\u001b[0;34m.\u001b[0m\u001b[0mexp\u001b[0m\u001b[0;34m(\u001b[0m\u001b[0mval\u001b[0m\u001b[0;34m)\u001b[0m\u001b[0;34m,\u001b[0m \u001b[0mout\u001b[0m\u001b[0;34m[\u001b[0m\u001b[0;36m2\u001b[0m\u001b[0;34m:\u001b[0m\u001b[0;34m]\u001b[0m\u001b[0;34m]\u001b[0m\u001b[0;34m\u001b[0m\u001b[0;34m\u001b[0m\u001b[0m\n",
      "\u001b[0;31mNameError\u001b[0m: name 'xf' is not defined"
     ]
    }
   ],
   "source": [
    "out = f2it(xf)\n",
    "val = np.log(xf3[:2]) + out[:2]\n",
    "xf4 = np.r_[np.exp(val), out[2:]]"
   ]
  },
  {
   "cell_type": "code",
   "execution_count": 27,
   "id": "ce7ec08c",
   "metadata": {},
   "outputs": [
    {
     "ename": "NameError",
     "evalue": "name 'x' is not defined",
     "output_type": "error",
     "traceback": [
      "\u001b[0;31m---------------------------------------------------------------------------\u001b[0m",
      "\u001b[0;31mNameError\u001b[0m                                 Traceback (most recent call last)",
      "\u001b[0;32m/var/folders/zn/x8ct2v5d1z714b45ycxv1hhc0000gn/T/ipykernel_82563/32546335.py\u001b[0m in \u001b[0;36m<module>\u001b[0;34m\u001b[0m\n\u001b[0;32m----> 1\u001b[0;31m \u001b[0mx\u001b[0m\u001b[0;34m\u001b[0m\u001b[0;34m\u001b[0m\u001b[0m\n\u001b[0m",
      "\u001b[0;31mNameError\u001b[0m: name 'x' is not defined"
     ]
    }
   ],
   "source": [
    "x"
   ]
  },
  {
   "cell_type": "code",
   "execution_count": 28,
   "id": "cb3e200f",
   "metadata": {},
   "outputs": [
    {
     "name": "stdout",
     "output_type": "stream",
     "text": [
      "[-1.00503359e-02 -1.89505480e+00  1.73472348e-17]\n",
      "[ 0.96352772  0.29265585 -0.01857701]\n",
      "[-4.16333634e-17  8.06787284e-01 -2.19711285e-01]\n",
      "[ 0.86664873  0.27755347 -0.07156077]\n",
      "[ 2.77555756e-17  8.06787284e-01 -1.08509261e-02]\n",
      "[ 0.86163999  0.27675025 -0.07445887]\n"
     ]
    }
   ],
   "source": [
    "xf2 = np.array([0.99, 0.02, 0.0])\n",
    "xs = [xf2]\n",
    "for i in range(3):\n",
    "    xf2 = iteration(xf2)\n",
    "    xs.append(xf2)"
   ]
  },
  {
   "cell_type": "code",
   "execution_count": 29,
   "id": "41121a5a",
   "metadata": {},
   "outputs": [],
   "source": [
    "K = np.exp(-5000*2/(8.3145*298.15))"
   ]
  },
  {
   "cell_type": "code",
   "execution_count": 30,
   "id": "a946985a",
   "metadata": {},
   "outputs": [
    {
     "data": {
      "text/plain": [
       "0.018055555555555557"
      ]
     },
     "execution_count": 30,
     "metadata": {},
     "output_type": "execute_result"
    }
   ],
   "source": [
    "0.13**2 / 0.936"
   ]
  },
  {
   "cell_type": "code",
   "execution_count": 31,
   "id": "a2978c56",
   "metadata": {},
   "outputs": [
    {
     "data": {
      "text/plain": [
       "0.017704500292228767"
      ]
     },
     "execution_count": 31,
     "metadata": {},
     "output_type": "execute_result"
    }
   ],
   "source": [
    "K"
   ]
  },
  {
   "cell_type": "code",
   "execution_count": 32,
   "id": "10308fdf",
   "metadata": {},
   "outputs": [
    {
     "ename": "NameError",
     "evalue": "name 'xf4' is not defined",
     "output_type": "error",
     "traceback": [
      "\u001b[0;31m---------------------------------------------------------------------------\u001b[0m",
      "\u001b[0;31mNameError\u001b[0m                                 Traceback (most recent call last)",
      "\u001b[0;32m/var/folders/zn/x8ct2v5d1z714b45ycxv1hhc0000gn/T/ipykernel_82563/2250108260.py\u001b[0m in \u001b[0;36m<module>\u001b[0;34m\u001b[0m\n\u001b[0;32m----> 1\u001b[0;31m \u001b[0mf2\u001b[0m\u001b[0;34m(\u001b[0m\u001b[0mxf4\u001b[0m\u001b[0;34m)\u001b[0m\u001b[0;34m\u001b[0m\u001b[0;34m\u001b[0m\u001b[0m\n\u001b[0m",
      "\u001b[0;31mNameError\u001b[0m: name 'xf4' is not defined"
     ]
    }
   ],
   "source": [
    "f2(xf4)"
   ]
  },
  {
   "cell_type": "code",
   "execution_count": 33,
   "id": "fef31c86",
   "metadata": {},
   "outputs": [],
   "source": [
    "H2O = cal.Substance2(\"H2O(l)\", state='l', H0=-285.826e3, S0=69.96,\n",
    "                        cP=4.18*18.02, molarMass=18.02, density=1.0,\n",
    "                        atoms=dict(H=2,O=1, c=0))\n",
    "Hplus = cal.Substance2(\"H+(aq)\", state=\"aq\", H0=0, S0=0, cP=0,\n",
    "                       molarMass=1.01, density=0,\n",
    "                      atoms=dict(H=1,c=1))\n",
    "OH = cal.Substance2(\"OH-(aq)\", state=\"aq\", H0=-230.02e3, S0=-10.9, molarMass=17.01,\n",
    "                   cP=-148.5, density=0, atoms=dict(H=1,O=1,c=-1))\n",
    "\n",
    "HF = cal.Substance2('HF(aq)', state=\"aq\", H0=-332.93e3, S0=30, molarMass=18.998+1.01,cP=0,\n",
    "                    density=0, atoms=dict(H=1,F=1))\n",
    "F = cal.Substance2('F-(aq)', state=\"aq\", H0=-335.35e3, S0=-13.8, molarMass=18.998,cP=-106.7,\n",
    "                   density=0, atoms=dict(F=1,c=-1))\n",
    "\n",
    "\n",
    "dH_ice = -6.01e3\n",
    "T_ice  = 273.15\n",
    "\n",
    "ice = cal.phaseChange(dH_ice, T_ice, H2O, cP=2.108*H2O.molarMass,\n",
    "                    name=\"ice\", state='s', density=0.91, atoms=dict(H=2,O=1))\n",
    "\n",
    "\n",
    "chemicals = {0: H2O, 1: ice}\n",
    "\n",
    "rxns = [{0: -1, 1: 1, 2: 1}]\n",
    "\n",
    "s0 = cal.State3(T=298.15, chemicals=chemicals, rxns=[], V=1.0)\n",
    "\n",
    "n0 = 1000/18.02\n",
    "\n",
    "s0.set_state({0: 1000/18.02, 1: 0, 2: 0, 10:1, 11:0})"
   ]
  },
  {
   "cell_type": "code",
   "execution_count": 144,
   "id": "fe9d7337",
   "metadata": {},
   "outputs": [],
   "source": [
    "H2O = cal.Substance2(\"H2O(l)\", state='l', H0=0, S0=0.0,\n",
    "                        cP=4.18*18.02, molarMass=18.02, density=1.0,\n",
    "                        atoms=dict(A=1))\n",
    "\n",
    "\n",
    "dH_ice = -6.01e3\n",
    "T_ice  = 273.15\n",
    "\n",
    "ice = cal.phaseChange(dH_ice, T_ice, H2O, cP=2.108*H2O.molarMass,\n",
    "                    name=\"ice\", state='s', density=0.91, atoms=dict(A=1))\n",
    "\n",
    "\n",
    "chemicals = {0: H2O, 1: ice}\n",
    "\n",
    "\n",
    "\n",
    "s0 = cal.State3(T=273.15, chemicals=chemicals, rxns=[], V=1.0)\n",
    "\n",
    "n0 = 1000/18.02\n",
    "\n",
    "s0.set_state({0: 1.0, 1: 0})"
   ]
  },
  {
   "cell_type": "code",
   "execution_count": 146,
   "id": "89e3c82f",
   "metadata": {},
   "outputs": [
    {
     "data": {
      "text/plain": [
       "array([-81.25301341, -81.25301341])"
      ]
     },
     "execution_count": 146,
     "metadata": {},
     "output_type": "execute_result"
    }
   ],
   "source": [
    "s0.get_prop_conc('Gbar')"
   ]
  },
  {
   "cell_type": "code",
   "execution_count": 161,
   "id": "279cc502",
   "metadata": {},
   "outputs": [],
   "source": [
    "x1 = optimize.root( s0.fH, np.array([1, 0.01, -81.25301341, 273.15]), args=(-100.0,))"
   ]
  },
  {
   "cell_type": "code",
   "execution_count": 162,
   "id": "2a8e2377",
   "metadata": {},
   "outputs": [
    {
     "data": {
      "text/plain": [
       "    fjac: array([[-7.07940780e-01, -7.05908224e-01, -1.73946169e-02,\n",
       "         1.45209395e-02],\n",
       "       [ 2.95888758e-02, -9.12044471e-03,  2.87552176e-04,\n",
       "         9.99520502e-01],\n",
       "       [ 7.05651720e-01, -7.07816482e-01, -1.74307312e-02,\n",
       "        -2.73431410e-02],\n",
       "       [-2.28484586e-05, -2.46216069e-02,  9.99696711e-01,\n",
       "        -5.11594217e-04]])\n",
       "     fun: array([-1.47482720e-12,  1.31473875e-12,  1.11022302e-16,  6.86124907e-14])\n",
       " message: 'The solution converged.'\n",
       "    nfev: 16\n",
       "     qtf: array([ 1.91517440e-12,  9.14554230e-12, -6.06368285e-11, -1.02657170e-12])\n",
       "       r: array([ 5.74890654e+01,  5.75326351e+01, -7.07942058e-01, -2.72156814e-03,\n",
       "        2.63562273e+00,  2.96225357e-02, -3.32100524e-02,  7.06963971e-01,\n",
       "        2.40601505e-03,  4.14885017e-06])\n",
       "  status: 1\n",
       " success: True\n",
       "       x: array([ 1.00000000e+00, -1.02144797e-10,  3.99342036e-02,  2.71822395e+02])"
      ]
     },
     "execution_count": 162,
     "metadata": {},
     "output_type": "execute_result"
    }
   ],
   "source": [
    "x1"
   ]
  },
  {
   "cell_type": "code",
   "execution_count": 154,
   "id": "5ccdb4e8",
   "metadata": {},
   "outputs": [
    {
     "data": {
      "text/plain": [
       "    fjac: array([[ 0.00304739, -0.00514907,  0.60402737, -0.79694111],\n",
       "       [ 0.01130336, -0.09689386,  0.79283203,  0.60158223],\n",
       "       [-0.99988239, -0.01097207,  0.01000676,  0.00383193],\n",
       "       [ 0.00990721, -0.99522092, -0.08042489, -0.05448857]])\n",
       "     fun: array([ 1.05623843e-13, -9.90984518e-14,  0.00000000e+00, -5.92447259e-14])\n",
       " message: 'The solution converged.'\n",
       "    nfev: 20\n",
       "     qtf: array([-3.30625379e-11,  2.35855590e-11,  1.56548632e-11, -1.38593501e-11])\n",
       "       r: array([-1.65555381e+00, -3.67087656e+00,  2.96609362e-03,  2.75843731e-02,\n",
       "        1.53539471e+00,  1.02372843e-02, -2.07696828e-02, -9.90135179e-01,\n",
       "       -5.09418996e-03,  1.78887691e-03])\n",
       "  status: 1\n",
       " success: True\n",
       "       x: array([1.00000000e+00, 7.65109441e-13, 8.95691222e-02, 2.59873948e+02])"
      ]
     },
     "execution_count": 154,
     "metadata": {},
     "output_type": "execute_result"
    }
   ],
   "source": [
    "x1"
   ]
  },
  {
   "cell_type": "code",
   "execution_count": 34,
   "id": "3151fe2e",
   "metadata": {},
   "outputs": [
    {
     "data": {
      "text/plain": [
       "(array([ 1.10327989e-01,  1.10327989e-01,  8.89672011e-01,  9.05687788e-14,\n",
       "         5.54938957e+01, -8.26468429e+01, -5.53800591e+01, -1.29544889e+01,\n",
       "         5.31757615e+01]),\n",
       " [22.901760955386322,\n",
       "  0.9660496875092517,\n",
       "  0.7940260656449363,\n",
       "  0.3029897355697839,\n",
       "  0.017086229726003488,\n",
       "  5.593831012307149e-05,\n",
       "  8.281904051443689e-10])"
      ]
     },
     "execution_count": 34,
     "metadata": {},
     "output_type": "execute_result"
    }
   ],
   "source": [
    "s0._solve_iterative() # Very robust constant temperature solver!"
   ]
  },
  {
   "cell_type": "code",
   "execution_count": 35,
   "id": "6a1bef0e",
   "metadata": {},
   "outputs": [
    {
     "data": {
      "text/plain": [
       "['F-(aq)', 'H+(aq)', 'HF(aq)', 'OH-(aq)', 'H2O(l)']"
      ]
     },
     "execution_count": 35,
     "metadata": {},
     "output_type": "execute_result"
    }
   ],
   "source": [
    "[x.name for x in s0.chem_vals]"
   ]
  },
  {
   "cell_type": "code",
   "execution_count": 36,
   "id": "6e0934e8",
   "metadata": {},
   "outputs": [
    {
     "data": {
      "text/plain": [
       "['aq', 'aq', 'aq', 'aq', 'l']"
      ]
     },
     "execution_count": 36,
     "metadata": {},
     "output_type": "execute_result"
    }
   ],
   "source": [
    "[x.state for x in s0.chem_vals]"
   ]
  },
  {
   "cell_type": "markdown",
   "id": "78a2451d",
   "metadata": {},
   "source": [
    "\n",
    "Lagrangian multipliers are linear, so we can get a value for each...\n"
   ]
  },
  {
   "cell_type": "code",
   "execution_count": 254,
   "id": "f024fd4c",
   "metadata": {},
   "outputs": [],
   "source": [
    "x = np.array([1, 0, 300.0])\n"
   ]
  },
  {
   "cell_type": "code",
   "execution_count": 255,
   "id": "6036e122",
   "metadata": {},
   "outputs": [],
   "source": [
    "from munch import Munch"
   ]
  },
  {
   "cell_type": "code",
   "execution_count": 265,
   "id": "b602f71a",
   "metadata": {},
   "outputs": [],
   "source": [
    "def thermo_vars(x):\n",
    "    hs = 0\n",
    "    hl = 6000.0\n",
    "    Ss = 0\n",
    "    Sl = 6000/300.0\n",
    "    cPs = 45.0\n",
    "    cPl = 70.0\n",
    "    T = x[-1]\n",
    "    R = 8.3145\n",
    "    RT = 8.3145*T\n",
    "    hsT = hs + cPs*(T-300)\n",
    "    hlT = hl + cPl*(T-300)\n",
    "    us = hsT - T*(Ss + cPs*np.log(T/300))\n",
    "    ul = hlT - T*(Sl + cPl*np.log(T/300))\n",
    "    \n",
    "    x0 = max(x[0], 0)\n",
    "    x1 = max(x[1], 0)\n",
    "    \n",
    "    cP_over_R = (cPs*x0 + cPl*x1) / R\n",
    "\n",
    "    \n",
    "    return Munch(locals())\n",
    "    "
   ]
  },
  {
   "cell_type": "code",
   "execution_count": 266,
   "id": "39ad09b9",
   "metadata": {},
   "outputs": [
    {
     "data": {
      "text/plain": [
       "Munch({'x': array([  1.,   0., 300.]), 'hs': 0, 'hl': 6000.0, 'Ss': 0, 'Sl': 20.0, 'cPs': 45.0, 'cPl': 70.0, 'T': 300.0, 'R': 8.3145, 'RT': 2494.3500000000004, 'hsT': 0.0, 'hlT': 6000.0, 'us': 0.0, 'ul': 0.0, 'x0': 1.0, 'x1': 0.0, 'cP_over_R': 5.412231643514342})"
      ]
     },
     "execution_count": 266,
     "metadata": {},
     "output_type": "execute_result"
    }
   ],
   "source": [
    "thermo_vars(x)"
   ]
  },
  {
   "cell_type": "code",
   "execution_count": 275,
   "id": "61904e2f",
   "metadata": {},
   "outputs": [],
   "source": [
    "def mu(x):\n",
    "    v = thermo_vars(x)\n",
    "    b = np.array([v.us, v.ul])\n",
    "    A = np.ones(2).reshape(-1, 1)\n",
    "    return linalg.lstsq(A, b)"
   ]
  },
  {
   "cell_type": "code",
   "execution_count": 276,
   "id": "0e2cb758",
   "metadata": {},
   "outputs": [
    {
     "data": {
      "text/plain": [
       "(array([-0.]), 0.0, 1, array([1.41421356]))"
      ]
     },
     "execution_count": 276,
     "metadata": {},
     "output_type": "execute_result"
    }
   ],
   "source": []
  },
  {
   "cell_type": "code",
   "execution_count": 262,
   "id": "7d7bf1ac",
   "metadata": {},
   "outputs": [],
   "source": [
    "def f(x, H):\n",
    "    hs = 0\n",
    "    hl = 6000.0\n",
    "    Ss = 0\n",
    "    Sl = 6000/300.0\n",
    "    cPs = 45.0\n",
    "    cPl = 70.0\n",
    "    T = x[-1]\n",
    "    RT = 8.3145*T\n",
    "    hsT = hs + cPs*(T-300)\n",
    "    hlT = hl + cPl*(T-300)\n",
    "    us = hsT - T*(Ss + cPs*np.log(T/300))\n",
    "    ul = hlT - T*(Sl + cPl*np.log(T/300))\n",
    "    \n",
    "    \n",
    "    x0 = max(x[0], 0) # Set moles back to zero...\n",
    "    x1 = max(x[1], 0) # \n",
    "    return np.array([\n",
    "        x[0]*(us + x[2])/RT,\n",
    "        x[1]*(ul + x[2])/RT,\n",
    "        1.0 - x0 - x1, # Moles need to be correct, but we also need to make sure x0, x1 are positive...\n",
    "        (H - x0*hsT - x1*hlT)/RT,\n",
    "    ])\n",
    "\n"
   ]
  },
  {
   "cell_type": "code",
   "execution_count": 249,
   "id": "caeaccf5",
   "metadata": {},
   "outputs": [],
   "source": [
    "def fi(x, H):\n",
    "    hs = 0\n",
    "    hl = 6000.0\n",
    "    Ss = 0\n",
    "    Sl = 6000/300.0\n",
    "    cPs = 45.0\n",
    "    cPl = 70.0\n",
    "    T = x[-1]\n",
    "    R = 8.3145\n",
    "    RT = R*T\n",
    "    hsT = hs + cPs*(T-300)\n",
    "    hlT = hl + cPl*(T-300)\n",
    "    us = hsT - T*(Ss + cPs*np.log(T/300))\n",
    "    ul = hlT - T*(Sl + cPl*np.log(T/300))\n",
    "    \n",
    "    print(f\"{us=}\")\n",
    "    print(f\"{ul=}\")\n",
    "    \n",
    "    cP_over_R = (cPs*x[0] + cPl*x[1]) / R\n",
    "    \n",
    "#     x0 = max(x[0], 0)\n",
    "#     x1 = max(x[1], 0)\n",
    "    A = np.array([\n",
    "        [-(us + x[2]), 0, -x[0], hsT/RT],\n",
    "        [-(ul + x[2]), 0, -x[1], hlT/RT],\n",
    "        [-1, -1, 0, 0,],\n",
    "        [x[0]*hsT/RT, x[1]*hlT/RT, 0, cP_over_R]\n",
    "    ])\n",
    "    \n",
    "    b = f(x, H)\n",
    "    \n",
    "    out = linalg.lstsq(A, b)\n",
    "    \n",
    "    return A, b"
   ]
  },
  {
   "cell_type": "code",
   "execution_count": 251,
   "id": "a4ab6e7f",
   "metadata": {},
   "outputs": [
    {
     "name": "stdout",
     "output_type": "stream",
     "text": [
      "us=-0.074916805279436\n",
      "ul=-20.1165372526566\n"
     ]
    }
   ],
   "source": [
    "x0 = np.array([0.99, 0.01, 0, 301.0])\n",
    "H0 = 100.0\n",
    "A, resid = fi(x0, H0)"
   ]
  },
  {
   "cell_type": "code",
   "execution_count": 252,
   "id": "442aa31c",
   "metadata": {},
   "outputs": [
    {
     "data": {
      "text/plain": [
       "(array([-1.22918523,  1.22918523,  0.09215523, 10.1953159 ]),\n",
       " array([], dtype=float64),\n",
       " 4,\n",
       " array([20.2985603 ,  5.39941698,  0.99906783,  0.9899415 ]))"
      ]
     },
     "execution_count": 252,
     "metadata": {},
     "output_type": "execute_result"
    }
   ],
   "source": [
    "linalg.lstsq(A, b)"
   ]
  },
  {
   "cell_type": "code",
   "execution_count": 239,
   "id": "b60837cd",
   "metadata": {},
   "outputs": [
    {
     "data": {
      "text/plain": [
       "(array([ 2.30701998e+03, -2.30701998e+03, -1.63018666e-14,  2.58547378e-15]),\n",
       " array([], dtype=float64),\n",
       " 4,\n",
       " array([5.9997745 , 1.41422496, 1.00004173, 0.00681893]))"
      ]
     },
     "execution_count": 239,
     "metadata": {},
     "output_type": "execute_result"
    }
   ],
   "source": [
    "linalg.lstsq(A, b)"
   ]
  },
  {
   "cell_type": "code",
   "execution_count": 224,
   "id": "15e909c1",
   "metadata": {},
   "outputs": [],
   "source": [
    "resid = f(np.array([1, 0.01, 0.0, 300.0]), H0)"
   ]
  },
  {
   "cell_type": "code",
   "execution_count": 225,
   "id": "b60c4386",
   "metadata": {},
   "outputs": [
    {
     "data": {
      "text/plain": [
       "array([ 0.        ,  0.        , -0.01      ,  0.01603624])"
      ]
     },
     "execution_count": 225,
     "metadata": {},
     "output_type": "execute_result"
    }
   ],
   "source": []
  },
  {
   "cell_type": "code",
   "execution_count": 219,
   "id": "990da67b",
   "metadata": {},
   "outputs": [
    {
     "data": {
      "text/plain": [
       "442.5628439792736"
      ]
     },
     "execution_count": 219,
     "metadata": {},
     "output_type": "execute_result"
    }
   ],
   "source": [
    "np.exp(0.3888)*300"
   ]
  },
  {
   "cell_type": "code",
   "execution_count": 220,
   "id": "995121f5",
   "metadata": {},
   "outputs": [
    {
     "data": {
      "text/plain": [
       "array([-3.56823761e-01, -6.65317824e-03,  4.33680869e-18, -1.47965624e+00])"
      ]
     },
     "execution_count": 220,
     "metadata": {},
     "output_type": "execute_result"
    }
   ],
   "source": [
    "f(np.array([0.995, 0.005, 0.0, 442.0]), H0)"
   ]
  },
  {
   "cell_type": "code",
   "execution_count": 279,
   "id": "e1c73202",
   "metadata": {},
   "outputs": [
    {
     "data": {
      "text/plain": [
       "3"
      ]
     },
     "execution_count": 279,
     "metadata": {},
     "output_type": "execute_result"
    }
   ],
   "source": [
    "s0.N_atoms"
   ]
  },
  {
   "cell_type": "code",
   "execution_count": 280,
   "id": "93788da0",
   "metadata": {},
   "outputs": [
    {
     "data": {
      "text/plain": [
       "4"
      ]
     },
     "execution_count": 280,
     "metadata": {},
     "output_type": "execute_result"
    }
   ],
   "source": [
    "s0.N_chem"
   ]
  },
  {
   "cell_type": "code",
   "execution_count": 282,
   "id": "11948934",
   "metadata": {},
   "outputs": [
    {
     "ename": "ValueError",
     "evalue": "matmul: Input operand 1 has a mismatch in its core dimension 0, with gufunc signature (n?,k),(k,m?)->(n?,m?) (size 3 is different from 4)",
     "output_type": "error",
     "traceback": [
      "\u001b[0;31m---------------------------------------------------------------------------\u001b[0m",
      "\u001b[0;31mValueError\u001b[0m                                Traceback (most recent call last)",
      "\u001b[0;32m/var/folders/zn/x8ct2v5d1z714b45ycxv1hhc0000gn/T/ipykernel_82563/3039043099.py\u001b[0m in \u001b[0;36m<module>\u001b[0;34m\u001b[0m\n\u001b[0;32m----> 1\u001b[0;31m \u001b[0ms0\u001b[0m\u001b[0;34m.\u001b[0m\u001b[0mA\u001b[0m \u001b[0;34m@\u001b[0m \u001b[0mnp\u001b[0m\u001b[0;34m.\u001b[0m\u001b[0marray\u001b[0m\u001b[0;34m(\u001b[0m\u001b[0;34m[\u001b[0m\u001b[0;36m0\u001b[0m\u001b[0;34m,\u001b[0m\u001b[0;36m0\u001b[0m\u001b[0;34m,\u001b[0m\u001b[0;36m0\u001b[0m\u001b[0;34m]\u001b[0m\u001b[0;34m)\u001b[0m\u001b[0;34m\u001b[0m\u001b[0;34m\u001b[0m\u001b[0m\n\u001b[0m",
      "\u001b[0;31mValueError\u001b[0m: matmul: Input operand 1 has a mismatch in its core dimension 0, with gufunc signature (n?,k),(k,m?)->(n?,m?) (size 3 is different from 4)"
     ]
    }
   ],
   "source": [
    "s0.A.T @ np.array([0,0,0])"
   ]
  },
  {
   "cell_type": "code",
   "execution_count": 100,
   "id": "911cd80b",
   "metadata": {},
   "outputs": [],
   "source": [
    "bounds = optimize.Bounds(np.array([0, 0, -np.inf, -np.inf]), np.ones(4)*np.inf)"
   ]
  },
  {
   "cell_type": "code",
   "execution_count": 101,
   "id": "3d84bf64",
   "metadata": {},
   "outputs": [
    {
     "data": {
      "text/plain": [
       "array([-1.66666667e-02,  1.01666667e+00,  0.00000000e+00,  3.00000000e+02])"
      ]
     },
     "execution_count": 101,
     "metadata": {},
     "output_type": "execute_result"
    }
   ],
   "source": [
    "out = optimize.root(f, x0, args=(6100.0))\n",
    "out.x"
   ]
  },
  {
   "cell_type": "code",
   "execution_count": 102,
   "id": "5d593f4d",
   "metadata": {},
   "outputs": [
    {
     "data": {
      "text/plain": [
       "    fjac: array([[ 9.99997679e-01, -5.11502986e-09, -3.40734106e-05,\n",
       "        -2.15448776e-03],\n",
       "       [ 2.15450993e-03, -5.15900481e-04,  6.73540352e-04,\n",
       "         9.99997319e-01],\n",
       "       [-1.11582584e-06, -9.99999867e-01,  2.42380244e-05,\n",
       "        -5.15915717e-04],\n",
       "       [ 3.26222166e-05,  2.45855064e-05,  9.99999772e-01,\n",
       "        -6.73599606e-04]])\n",
       "     fun: array([ 0.00000000e+00,  0.00000000e+00, -1.66666667e-02, -1.33049980e-08])\n",
       " message: 'The iteration is not making good progress, as measured by the \\n  improvement from the last ten iterations.'\n",
       "    nfev: 20\n",
       "     qtf: array([ 5.67918843e-07, -1.12389775e-05, -4.03960209e-07, -1.66666629e-02])\n",
       "       r: array([ 2.87646262e+04, -1.69669626e+07,  8.49114092e+02,  2.18248734e+05,\n",
       "       -6.22438300e+03, -1.82972812e-03, -7.13941578e+01, -1.03355496e+00,\n",
       "        2.07240863e+01,  4.22430919e-02])\n",
       "  status: 5\n",
       " success: False\n",
       "       x: array([-1.66666667e-02,  1.01666667e+00,  0.00000000e+00,  3.00000000e+02])"
      ]
     },
     "execution_count": 102,
     "metadata": {},
     "output_type": "execute_result"
    }
   ],
   "source": [
    "out"
   ]
  },
  {
   "cell_type": "code",
   "execution_count": 42,
   "id": "46db4b49",
   "metadata": {},
   "outputs": [
    {
     "data": {
      "text/plain": [
       "array([[ 1.,  0.,  1.,  0.,  0.],\n",
       "       [ 0.,  1.,  1.,  1.,  2.],\n",
       "       [ 0.,  0.,  0.,  1.,  1.],\n",
       "       [-1.,  1.,  0., -1.,  0.]])"
      ]
     },
     "execution_count": 42,
     "metadata": {},
     "output_type": "execute_result"
    }
   ],
   "source": [
    "s0.A"
   ]
  },
  {
   "cell_type": "code",
   "execution_count": 43,
   "id": "145f102f",
   "metadata": {},
   "outputs": [],
   "source": [
    "x0 = np.zeros(s0.N_chem+s0.N_atoms)\n",
    "x0[:s0.N_chem] = s0.x # Current state"
   ]
  },
  {
   "cell_type": "code",
   "execution_count": 44,
   "id": "91f2313b",
   "metadata": {},
   "outputs": [],
   "source": [
    "df = s0.f(x0)"
   ]
  },
  {
   "cell_type": "code",
   "execution_count": 45,
   "id": "2cb4ab61",
   "metadata": {},
   "outputs": [
    {
     "ename": "NameError",
     "evalue": "name 'y' is not defined",
     "output_type": "error",
     "traceback": [
      "\u001b[0;31m---------------------------------------------------------------------------\u001b[0m",
      "\u001b[0;31mNameError\u001b[0m                                 Traceback (most recent call last)",
      "\u001b[0;32m/var/folders/zn/x8ct2v5d1z714b45ycxv1hhc0000gn/T/ipykernel_82563/859573044.py\u001b[0m in \u001b[0;36m<module>\u001b[0;34m\u001b[0m\n\u001b[0;32m----> 1\u001b[0;31m \u001b[0ms0\u001b[0m\u001b[0;34m.\u001b[0m\u001b[0mA\u001b[0m\u001b[0;34m.\u001b[0m\u001b[0mT\u001b[0m\u001b[0;34m@\u001b[0m\u001b[0my\u001b[0m\u001b[0;34m\u001b[0m\u001b[0;34m\u001b[0m\u001b[0m\n\u001b[0m",
      "\u001b[0;31mNameError\u001b[0m: name 'y' is not defined"
     ]
    }
   ],
   "source": [
    "s0.A.T@y"
   ]
  },
  {
   "cell_type": "code",
   "execution_count": 46,
   "id": "0d879db3",
   "metadata": {},
   "outputs": [
    {
     "data": {
      "text/plain": [
       "-202.69585952746235"
      ]
     },
     "execution_count": 46,
     "metadata": {},
     "output_type": "execute_result"
    }
   ],
   "source": [
    "df[0]"
   ]
  },
  {
   "cell_type": "code",
   "execution_count": 47,
   "id": "bcb5b23a",
   "metadata": {},
   "outputs": [],
   "source": [
    "n_aq = x0[:s0.N_chem][1:]"
   ]
  },
  {
   "cell_type": "code",
   "execution_count": 48,
   "id": "6849d07e",
   "metadata": {},
   "outputs": [
    {
     "ename": "NameError",
     "evalue": "name 'r' is not defined",
     "output_type": "error",
     "traceback": [
      "\u001b[0;31m---------------------------------------------------------------------------\u001b[0m",
      "\u001b[0;31mNameError\u001b[0m                                 Traceback (most recent call last)",
      "\u001b[0;32m/var/folders/zn/x8ct2v5d1z714b45ycxv1hhc0000gn/T/ipykernel_82563/2196536262.py\u001b[0m in \u001b[0;36m<module>\u001b[0;34m\u001b[0m\n\u001b[0;32m----> 1\u001b[0;31m \u001b[0ms0\u001b[0m\u001b[0;34m.\u001b[0m\u001b[0mA\u001b[0m\u001b[0;34m.\u001b[0m\u001b[0mT\u001b[0m\u001b[0;34m[\u001b[0m\u001b[0;36m1\u001b[0m\u001b[0;34m:\u001b[0m\u001b[0;34m]\u001b[0m \u001b[0;34m@\u001b[0m \u001b[0mnp\u001b[0m\u001b[0;34m.\u001b[0m\u001b[0mdiag\u001b[0m\u001b[0;34m(\u001b[0m\u001b[0mn_aq\u001b[0m\u001b[0;34m)\u001b[0m \u001b[0;34m@\u001b[0m \u001b[0mr\u001b[0m\u001b[0;34m\u001b[0m\u001b[0;34m\u001b[0m\u001b[0m\n\u001b[0m",
      "\u001b[0;31mNameError\u001b[0m: name 'r' is not defined"
     ]
    }
   ],
   "source": [
    "s0.A.T[1:] @ np.diag(n_aq) @ r"
   ]
  },
  {
   "cell_type": "code",
   "execution_count": 49,
   "id": "3bf03a21",
   "metadata": {},
   "outputs": [],
   "source": [
    "self=s0\n",
    "all_atoms = set()\n",
    "for x in self.chem_vals:\n",
    "    all_atoms.update(x.atoms.keys())\n",
    "\n",
    "N_atoms = len(all_atoms)\n",
    "N_chem = len(self.chem_vals)\n",
    "all_atoms = sorted(all_atoms)\n",
    "A = np.zeros(shape=(N_atoms, N_chem))\n",
    "for i, atom in enumerate(all_atoms):\n",
    "    for j, chem in enumerate(self.chem_vals):\n",
    "        A[i, j] = chem.atoms.get(atom, 0)"
   ]
  },
  {
   "cell_type": "code",
   "execution_count": 50,
   "id": "ed081347",
   "metadata": {},
   "outputs": [
    {
     "data": {
      "text/plain": [
       "array([  1.        , 111.98779134,  55.49389567,   0.        ])"
      ]
     },
     "execution_count": 50,
     "metadata": {},
     "output_type": "execute_result"
    }
   ],
   "source": [
    "A@s0.x"
   ]
  },
  {
   "cell_type": "code",
   "execution_count": 51,
   "id": "1878e302",
   "metadata": {},
   "outputs": [
    {
     "data": {
      "text/plain": [
       "['F', 'H', 'O', 'c']"
      ]
     },
     "execution_count": 51,
     "metadata": {},
     "output_type": "execute_result"
    }
   ],
   "source": [
    "all_atoms"
   ]
  },
  {
   "cell_type": "code",
   "execution_count": 52,
   "id": "b7d29431",
   "metadata": {},
   "outputs": [
    {
     "data": {
      "text/plain": [
       "(array([ 2.81485186e-08,  3.29277351e-08,  2.13106496e-03,  4.58117331e-09,\n",
       "         5.55931919e+01,  2.34241947e+02, -8.22260152e+01,  2.86415515e+02,\n",
       "         9.14991137e+01]),\n",
       " {'nfev': 94,\n",
       "  'fjac': array([[-1.00000000e+00,  0.00000000e+00,  0.00000000e+00,\n",
       "           0.00000000e+00,  0.00000000e+00,  2.98023224e-08,\n",
       "           0.00000000e+00,  0.00000000e+00, -2.81478885e-08],\n",
       "         [-9.26831555e-16, -1.00000000e+00,  0.00000000e+00,\n",
       "           0.00000000e+00,  0.00000000e+00,  2.76217328e-23,\n",
       "           0.00000000e+00,  0.00000000e+00,  3.29272143e-08],\n",
       "         [ 8.00302937e-11,  7.41746015e-26, -9.99992788e-01,\n",
       "           0.00000000e+00,  0.00000000e+00,  2.68537105e-03,\n",
       "           2.68552751e-03,  0.00000000e+00,  2.25268378e-18],\n",
       "         [ 1.28977111e-16, -1.50876574e-16, -1.03220016e-26,\n",
       "          -1.00000000e+00,  0.00000000e+00, -3.84378972e-24,\n",
       "           2.77202192e-29,  0.00000000e+00, -4.58212385e-09],\n",
       "         [-1.92234026e-13, -1.78168561e-28,  2.40199843e-03,\n",
       "           2.47937893e-29,  0.00000000e+00, -6.45030356e-06,\n",
       "           8.94423321e-01,  4.47214886e-01, -5.41098193e-21],\n",
       "         [-2.72056115e-08,  3.15062269e-13, -2.94171365e-03,\n",
       "          -4.38438042e-14,  8.32667268e-17, -9.12859803e-01,\n",
       "          -1.82580572e-01,  3.65161144e-01,  9.56844591e-06],\n",
       "         [ 8.69088704e-16, -9.30073926e-16, -8.68854912e-16,\n",
       "           1.29428317e-16, -1.00000000e+00,  2.48347533e-09,\n",
       "          -2.48365417e-09,  4.96730873e-09, -2.82463593e-08],\n",
       "         [-2.98934358e-08,  3.23759841e-08,  2.98934356e-08,\n",
       "          -4.50541511e-09, -2.88820024e-08, -7.43823740e-02,\n",
       "           7.43891717e-02, -1.48778343e-01,  9.83259131e-01],\n",
       "         [-6.83467906e-09, -5.99975786e-09,  6.83467900e-09,\n",
       "           8.34921331e-10, -8.34921243e-10, -4.01431228e-01,\n",
       "           4.01410385e-01, -8.02820771e-01, -1.82212738e-01]]),\n",
       "  'r': array([-3.55266436e+07,  2.81478886e-08, -2.98023093e-08, -2.81478883e-08,\n",
       "          0.00000000e+00, -9.99999997e-01,  0.00000000e+00,  0.00000000e+00,\n",
       "          1.00000000e+00, -3.03700153e+07, -2.76217207e-23,  3.29272141e-08,\n",
       "          0.00000000e+00, -9.26831552e-16, -1.00000000e+00,  0.00000000e+00,\n",
       "         -1.00000000e+00, -3.72387854e+02,  2.25268377e-18, -5.37105502e-03,\n",
       "         -9.99992793e-01, -9.99992802e-01,  0.00000000e+00, -8.00302938e-11,\n",
       "         -2.18239408e+08, -5.54404385e-29,  1.28977111e-16, -1.00000001e+00,\n",
       "         -9.99999997e-01,  1.00000000e+00, -2.23606153e+00,  2.40199844e-03,\n",
       "          2.40199847e-03,  0.00000000e+00,  1.92234027e-13, -2.94174087e-03,\n",
       "         -2.94171369e-03, -4.37965217e-14,  2.72059704e-08, -2.00000000e+00,\n",
       "         -9.99999997e-01, -1.92859095e-15, -3.33874175e-08,  6.67748352e-08,\n",
       "         -1.37207929e-16]),\n",
       "  'qtf': array([ 8.24735688e+00,  7.97525174e+00, -8.17560584e+00, -2.02514983e+00,\n",
       "          7.06986865e-01, -1.11656321e+00,  1.75699682e+00,  7.05368714e-06,\n",
       "         -2.06235160e-05]),\n",
       "  'fvec': array([-8.26124492e+00, -7.95585202e+00,  7.95479839e+00,  2.01143277e+00,\n",
       "         -1.75112252e+00,  9.97868907e-01,  7.99276520e-01, -9.92961932e-02,\n",
       "         -1.98043200e-10])},\n",
       " 4,\n",
       " 'The iteration is not making good progress, as measured by the \\n  improvement from the last five Jacobian evaluations.')"
      ]
     },
     "execution_count": 52,
     "metadata": {},
     "output_type": "execute_result"
    }
   ],
   "source": [
    "s0._solve_constT()"
   ]
  },
  {
   "cell_type": "code",
   "execution_count": 53,
   "id": "ac808fcf",
   "metadata": {},
   "outputs": [],
   "source": [
    "nH = nOH= 1e-7\n",
    "Gbar_opt = s0.get_prop_conc('Gbar', np.array([n0-nH, nH, nOH]))\n",
    "\n",
    "Gbar_opt_dim = Gbar_opt/(8.3145*298.15)"
   ]
  },
  {
   "cell_type": "code",
   "execution_count": 54,
   "id": "5422871f",
   "metadata": {},
   "outputs": [
    {
     "ename": "ValueError",
     "evalue": "Shape mismatch: a and b should have the same number of rows (5 != 3).",
     "output_type": "error",
     "traceback": [
      "\u001b[0;31m---------------------------------------------------------------------------\u001b[0m",
      "\u001b[0;31mValueError\u001b[0m                                Traceback (most recent call last)",
      "\u001b[0;32m/var/folders/zn/x8ct2v5d1z714b45ycxv1hhc0000gn/T/ipykernel_82563/2499025841.py\u001b[0m in \u001b[0;36m<module>\u001b[0;34m\u001b[0m\n\u001b[0;32m----> 1\u001b[0;31m \u001b[0mout\u001b[0m \u001b[0;34m=\u001b[0m \u001b[0mlinalg\u001b[0m\u001b[0;34m.\u001b[0m\u001b[0mlstsq\u001b[0m\u001b[0;34m(\u001b[0m\u001b[0mA\u001b[0m\u001b[0;34m.\u001b[0m\u001b[0mT\u001b[0m\u001b[0;34m,\u001b[0m \u001b[0mGbar_opt_dim\u001b[0m\u001b[0;34m)\u001b[0m\u001b[0;34m\u001b[0m\u001b[0;34m\u001b[0m\u001b[0m\n\u001b[0m",
      "\u001b[0;32m~/miniconda3/lib/python3.9/site-packages/scipy/linalg/basic.py\u001b[0m in \u001b[0;36mlstsq\u001b[0;34m(a, b, cond, overwrite_a, overwrite_b, check_finite, lapack_driver)\u001b[0m\n\u001b[1;32m   1154\u001b[0m         \u001b[0mnrhs\u001b[0m \u001b[0;34m=\u001b[0m \u001b[0;36m1\u001b[0m\u001b[0;34m\u001b[0m\u001b[0;34m\u001b[0m\u001b[0m\n\u001b[1;32m   1155\u001b[0m     \u001b[0;32mif\u001b[0m \u001b[0mm\u001b[0m \u001b[0;34m!=\u001b[0m \u001b[0mb1\u001b[0m\u001b[0;34m.\u001b[0m\u001b[0mshape\u001b[0m\u001b[0;34m[\u001b[0m\u001b[0;36m0\u001b[0m\u001b[0;34m]\u001b[0m\u001b[0;34m:\u001b[0m\u001b[0;34m\u001b[0m\u001b[0;34m\u001b[0m\u001b[0m\n\u001b[0;32m-> 1156\u001b[0;31m         raise ValueError('Shape mismatch: a and b should have the same number'\n\u001b[0m\u001b[1;32m   1157\u001b[0m                          ' of rows ({} != {}).'.format(m, b1.shape[0]))\n\u001b[1;32m   1158\u001b[0m     \u001b[0;32mif\u001b[0m \u001b[0mm\u001b[0m \u001b[0;34m==\u001b[0m \u001b[0;36m0\u001b[0m \u001b[0;32mor\u001b[0m \u001b[0mn\u001b[0m \u001b[0;34m==\u001b[0m \u001b[0;36m0\u001b[0m\u001b[0;34m:\u001b[0m  \u001b[0;31m# Zero-sized problem, confuses LAPACK\u001b[0m\u001b[0;34m\u001b[0m\u001b[0;34m\u001b[0m\u001b[0m\n",
      "\u001b[0;31mValueError\u001b[0m: Shape mismatch: a and b should have the same number of rows (5 != 3)."
     ]
    }
   ],
   "source": [
    "out = linalg.lstsq(A.T, Gbar_opt_dim)"
   ]
  },
  {
   "cell_type": "code",
   "execution_count": 55,
   "id": "8e3d5254",
   "metadata": {},
   "outputs": [
    {
     "data": {
      "text/plain": [
       "    fjac: array([[-9.99999515e-01, -4.30444183e-04, -7.75739968e-06,\n",
       "        -8.86343810e-04],\n",
       "       [ 8.37891164e-04,  1.01828946e-01,  1.62468807e-03,\n",
       "        -9.94800243e-01],\n",
       "       [-5.18456931e-04,  9.94801753e-01, -5.59869004e-04,\n",
       "         1.01827749e-01],\n",
       "       [-9.40898955e-06,  3.91515632e-04,  9.99998523e-01,\n",
       "         1.67324588e-03]])\n",
       "     fun: array([ 1.27225098e-14,  1.52766688e-13, -4.44089210e-16,  0.00000000e+00])\n",
       " message: 'The solution converged.'\n",
       "    nfev: 28\n",
       "     qtf: array([-1.08709602e-14, -1.78528526e-12,  4.22013442e-13,  2.91467928e-15])\n",
       "       r: array([ 9.99770860e-01,  2.76614717e+02, -9.56313115e-03, -4.98277549e+00,\n",
       "        5.04911240e+03,  1.43822842e-01,  8.37713464e+01,  9.72007002e-01,\n",
       "       -3.82474443e+01, -3.28780210e-01])\n",
       "  status: 1\n",
       " success: True\n",
       "       x: array([-1.27225098e-14,  1.00000000e+00,  2.88091468e+01,  3.01428571e+02])"
      ]
     },
     "execution_count": 55,
     "metadata": {},
     "output_type": "execute_result"
    }
   ],
   "source": [
    "out"
   ]
  },
  {
   "cell_type": "code",
   "execution_count": 56,
   "id": "7ff8137e",
   "metadata": {},
   "outputs": [
    {
     "data": {
      "text/plain": [
       "    fjac: array([[-9.99999515e-01, -4.30444183e-04, -7.75739968e-06,\n",
       "        -8.86343810e-04],\n",
       "       [ 8.37891164e-04,  1.01828946e-01,  1.62468807e-03,\n",
       "        -9.94800243e-01],\n",
       "       [-5.18456931e-04,  9.94801753e-01, -5.59869004e-04,\n",
       "         1.01827749e-01],\n",
       "       [-9.40898955e-06,  3.91515632e-04,  9.99998523e-01,\n",
       "         1.67324588e-03]])\n",
       "     fun: array([ 1.27225098e-14,  1.52766688e-13, -4.44089210e-16,  0.00000000e+00])\n",
       " message: 'The solution converged.'\n",
       "    nfev: 28\n",
       "     qtf: array([-1.08709602e-14, -1.78528526e-12,  4.22013442e-13,  2.91467928e-15])\n",
       "       r: array([ 9.99770860e-01,  2.76614717e+02, -9.56313115e-03, -4.98277549e+00,\n",
       "        5.04911240e+03,  1.43822842e-01,  8.37713464e+01,  9.72007002e-01,\n",
       "       -3.82474443e+01, -3.28780210e-01])\n",
       "  status: 1\n",
       " success: True\n",
       "       x: array([-1.27225098e-14,  1.00000000e+00,  2.88091468e+01,  3.01428571e+02])"
      ]
     },
     "execution_count": 56,
     "metadata": {},
     "output_type": "execute_result"
    }
   ],
   "source": [
    "out"
   ]
  },
  {
   "cell_type": "code",
   "execution_count": 57,
   "id": "520419bd",
   "metadata": {},
   "outputs": [
    {
     "ename": "KeyError",
     "evalue": "0",
     "output_type": "error",
     "traceback": [
      "\u001b[0;31m---------------------------------------------------------------------------\u001b[0m",
      "\u001b[0;31mKeyError\u001b[0m                                  Traceback (most recent call last)",
      "\u001b[0;32m/var/folders/zn/x8ct2v5d1z714b45ycxv1hhc0000gn/T/ipykernel_82563/2735880119.py\u001b[0m in \u001b[0;36m<module>\u001b[0;34m\u001b[0m\n\u001b[0;32m----> 1\u001b[0;31m \u001b[0mGbar_opt_dim\u001b[0m \u001b[0;34m-\u001b[0m \u001b[0mA\u001b[0m\u001b[0;34m@\u001b[0m\u001b[0mout\u001b[0m\u001b[0;34m[\u001b[0m\u001b[0;36m0\u001b[0m\u001b[0;34m]\u001b[0m\u001b[0;34m\u001b[0m\u001b[0;34m\u001b[0m\u001b[0m\n\u001b[0m",
      "\u001b[0;31mKeyError\u001b[0m: 0"
     ]
    }
   ],
   "source": [
    "Gbar_opt_dim - A@out[0]"
   ]
  },
  {
   "cell_type": "code",
   "execution_count": 58,
   "id": "a02f9518",
   "metadata": {},
   "outputs": [
    {
     "ename": "KeyError",
     "evalue": "0",
     "output_type": "error",
     "traceback": [
      "\u001b[0;31m---------------------------------------------------------------------------\u001b[0m",
      "\u001b[0;31mKeyError\u001b[0m                                  Traceback (most recent call last)",
      "\u001b[0;32m/var/folders/zn/x8ct2v5d1z714b45ycxv1hhc0000gn/T/ipykernel_82563/2017383896.py\u001b[0m in \u001b[0;36m<module>\u001b[0;34m\u001b[0m\n\u001b[0;32m----> 1\u001b[0;31m \u001b[0mGbar_opt_dim\u001b[0m \u001b[0;34m-\u001b[0m \u001b[0mA\u001b[0m\u001b[0;34m.\u001b[0m\u001b[0mT\u001b[0m\u001b[0;34m@\u001b[0m\u001b[0mout\u001b[0m\u001b[0;34m[\u001b[0m\u001b[0;36m0\u001b[0m\u001b[0;34m]\u001b[0m\u001b[0;34m\u001b[0m\u001b[0;34m\u001b[0m\u001b[0m\n\u001b[0m",
      "\u001b[0;31mKeyError\u001b[0m: 0"
     ]
    }
   ],
   "source": [
    "Gbar_opt_dim - A.T@out[0]"
   ]
  },
  {
   "cell_type": "code",
   "execution_count": 59,
   "id": "ff568ef8",
   "metadata": {},
   "outputs": [
    {
     "ename": "SyntaxError",
     "evalue": "invalid syntax (636307151.py, line 2)",
     "output_type": "error",
     "traceback": [
      "\u001b[0;36m  File \u001b[0;32m\"/var/folders/zn/x8ct2v5d1z714b45ycxv1hhc0000gn/T/ipykernel_82563/636307151.py\"\u001b[0;36m, line \u001b[0;32m2\u001b[0m\n\u001b[0;31m    mu_H =\u001b[0m\n\u001b[0m           ^\u001b[0m\n\u001b[0;31mSyntaxError\u001b[0m\u001b[0;31m:\u001b[0m invalid syntax\n"
     ]
    }
   ],
   "source": [
    "mu_e = 0.0\n",
    "mu_H = "
   ]
  },
  {
   "cell_type": "markdown",
   "id": "faa44c04",
   "metadata": {},
   "source": [
    "The matrix $A$ gives mass/charge balance."
   ]
  },
  {
   "cell_type": "code",
   "execution_count": 60,
   "id": "b5eaa815",
   "metadata": {},
   "outputs": [],
   "source": [
    "from scipy import optimize"
   ]
  },
  {
   "cell_type": "code",
   "execution_count": 61,
   "id": "48760fad",
   "metadata": {},
   "outputs": [],
   "source": [
    "# mass_charge_balance = optimize.LinearConstraint()"
   ]
  },
  {
   "cell_type": "code",
   "execution_count": 62,
   "id": "d1f281c0",
   "metadata": {},
   "outputs": [],
   "source": [
    "si = s0.get_prop_conc('Sbar')"
   ]
  },
  {
   "cell_type": "code",
   "execution_count": 63,
   "id": "24bdff39",
   "metadata": {},
   "outputs": [
    {
     "data": {
      "text/plain": [
       "{11: 0.0, 1: 0.0, 10: 1.0, 2: 0.0, 0: 55.49389567147614}"
      ]
     },
     "execution_count": 63,
     "metadata": {},
     "output_type": "execute_result"
    }
   ],
   "source": [
    "s0.state"
   ]
  },
  {
   "cell_type": "code",
   "execution_count": 64,
   "id": "942f10bf",
   "metadata": {},
   "outputs": [],
   "source": [
    "moles = np.array([54.49389567147614+1, 1e-7, 1e-7])"
   ]
  },
  {
   "cell_type": "code",
   "execution_count": 65,
   "id": "4f8a04ae",
   "metadata": {},
   "outputs": [],
   "source": [
    "si2 = s0.get_prop_conc('Sbar', x=moles)"
   ]
  },
  {
   "cell_type": "code",
   "execution_count": 66,
   "id": "67f2fab8",
   "metadata": {
    "scrolled": true
   },
   "outputs": [],
   "source": [
    "G311 = s0.get_prop_conc('G0bar', T=311.5)"
   ]
  },
  {
   "cell_type": "code",
   "execution_count": 67,
   "id": "60c7903b",
   "metadata": {},
   "outputs": [],
   "source": [
    "dG311 = G311[2] - G311[0]"
   ]
  },
  {
   "cell_type": "code",
   "execution_count": 68,
   "id": "bb6cf531",
   "metadata": {},
   "outputs": [],
   "source": [
    "K311 = np.exp(-dG311/(8.3145*311.5))"
   ]
  },
  {
   "cell_type": "code",
   "execution_count": 69,
   "id": "e6268fed",
   "metadata": {},
   "outputs": [
    {
     "data": {
      "text/plain": [
       "4.3915610675291195"
      ]
     },
     "execution_count": 69,
     "metadata": {},
     "output_type": "execute_result"
    }
   ],
   "source": [
    "K311**0.5/2"
   ]
  },
  {
   "cell_type": "code",
   "execution_count": 70,
   "id": "7c5c2e35",
   "metadata": {},
   "outputs": [
    {
     "data": {
      "text/plain": [
       "-2618.940152291824"
      ]
     },
     "execution_count": 70,
     "metadata": {},
     "output_type": "execute_result"
    }
   ],
   "source": [
    "si2 @ moles"
   ]
  },
  {
   "cell_type": "code",
   "execution_count": 71,
   "id": "f7a1c67f",
   "metadata": {},
   "outputs": [
    {
     "data": {
      "text/plain": [
       "3912.3529411764703"
      ]
     },
     "execution_count": 71,
     "metadata": {},
     "output_type": "execute_result"
    }
   ],
   "source": [
    "si @ np.array(list(s0.state.values()))"
   ]
  },
  {
   "cell_type": "code",
   "execution_count": 72,
   "id": "5582cc9e",
   "metadata": {},
   "outputs": [],
   "source": [
    "def atan_mod(a, b):\n",
    "    def atan(x):\n",
    "        y = np.arctan(x)\n",
    "        return np.where(y>0, y * b/np.pi/2, y * abs(a)/(np.pi/2))\n",
    "    \n",
    "    return \n",
    "    "
   ]
  },
  {
   "cell_type": "code",
   "execution_count": 73,
   "id": "622e181f",
   "metadata": {},
   "outputs": [],
   "source": [
    "a2 = atan_mod(-1.0, 54.493)"
   ]
  },
  {
   "cell_type": "code",
   "execution_count": 74,
   "id": "be95db46",
   "metadata": {},
   "outputs": [],
   "source": [
    "A, b = cal.arrayRxns(s0.state, s0.rxns)"
   ]
  },
  {
   "cell_type": "code",
   "execution_count": 75,
   "id": "c7b4324d",
   "metadata": {},
   "outputs": [
    {
     "ename": "ValueError",
     "evalue": "matmul: Input operand 1 has a mismatch in its core dimension 0, with gufunc signature (n?,k),(k,m?)->(n?,m?) (size 1 is different from 0)",
     "output_type": "error",
     "traceback": [
      "\u001b[0;31m---------------------------------------------------------------------------\u001b[0m",
      "\u001b[0;31mValueError\u001b[0m                                Traceback (most recent call last)",
      "\u001b[0;32m/var/folders/zn/x8ct2v5d1z714b45ycxv1hhc0000gn/T/ipykernel_82563/2500822701.py\u001b[0m in \u001b[0;36m<module>\u001b[0;34m\u001b[0m\n\u001b[1;32m      1\u001b[0m \u001b[0mx\u001b[0m \u001b[0;34m=\u001b[0m \u001b[0mnp\u001b[0m\u001b[0;34m.\u001b[0m\u001b[0mgeomspace\u001b[0m\u001b[0;34m(\u001b[0m\u001b[0;36m1e-10\u001b[0m\u001b[0;34m,\u001b[0m \u001b[0;36m1e-4\u001b[0m\u001b[0;34m,\u001b[0m \u001b[0;36m14\u001b[0m\u001b[0;34m)\u001b[0m\u001b[0;34m.\u001b[0m\u001b[0mreshape\u001b[0m\u001b[0;34m(\u001b[0m\u001b[0;34m-\u001b[0m\u001b[0;36m1\u001b[0m\u001b[0;34m,\u001b[0m \u001b[0;36m1\u001b[0m\u001b[0;34m)\u001b[0m\u001b[0;34m\u001b[0m\u001b[0;34m\u001b[0m\u001b[0m\n\u001b[0;32m----> 2\u001b[0;31m \u001b[0mvals\u001b[0m \u001b[0;34m=\u001b[0m \u001b[0;34m[\u001b[0m\u001b[0mA\u001b[0m \u001b[0;34m@\u001b[0m \u001b[0mx_\u001b[0m \u001b[0;34m+\u001b[0m \u001b[0mb\u001b[0m \u001b[0;32mfor\u001b[0m \u001b[0mx_\u001b[0m \u001b[0;32min\u001b[0m \u001b[0mx\u001b[0m\u001b[0;34m]\u001b[0m\u001b[0;34m\u001b[0m\u001b[0;34m\u001b[0m\u001b[0m\n\u001b[0m\u001b[1;32m      3\u001b[0m \u001b[0mvals\u001b[0m\u001b[0;34m\u001b[0m\u001b[0;34m\u001b[0m\u001b[0m\n",
      "\u001b[0;32m/var/folders/zn/x8ct2v5d1z714b45ycxv1hhc0000gn/T/ipykernel_82563/2500822701.py\u001b[0m in \u001b[0;36m<listcomp>\u001b[0;34m(.0)\u001b[0m\n\u001b[1;32m      1\u001b[0m \u001b[0mx\u001b[0m \u001b[0;34m=\u001b[0m \u001b[0mnp\u001b[0m\u001b[0;34m.\u001b[0m\u001b[0mgeomspace\u001b[0m\u001b[0;34m(\u001b[0m\u001b[0;36m1e-10\u001b[0m\u001b[0;34m,\u001b[0m \u001b[0;36m1e-4\u001b[0m\u001b[0;34m,\u001b[0m \u001b[0;36m14\u001b[0m\u001b[0;34m)\u001b[0m\u001b[0;34m.\u001b[0m\u001b[0mreshape\u001b[0m\u001b[0;34m(\u001b[0m\u001b[0;34m-\u001b[0m\u001b[0;36m1\u001b[0m\u001b[0;34m,\u001b[0m \u001b[0;36m1\u001b[0m\u001b[0;34m)\u001b[0m\u001b[0;34m\u001b[0m\u001b[0;34m\u001b[0m\u001b[0m\n\u001b[0;32m----> 2\u001b[0;31m \u001b[0mvals\u001b[0m \u001b[0;34m=\u001b[0m \u001b[0;34m[\u001b[0m\u001b[0mA\u001b[0m \u001b[0;34m@\u001b[0m \u001b[0mx_\u001b[0m \u001b[0;34m+\u001b[0m \u001b[0mb\u001b[0m \u001b[0;32mfor\u001b[0m \u001b[0mx_\u001b[0m \u001b[0;32min\u001b[0m \u001b[0mx\u001b[0m\u001b[0;34m]\u001b[0m\u001b[0;34m\u001b[0m\u001b[0;34m\u001b[0m\u001b[0m\n\u001b[0m\u001b[1;32m      3\u001b[0m \u001b[0mvals\u001b[0m\u001b[0;34m\u001b[0m\u001b[0;34m\u001b[0m\u001b[0m\n",
      "\u001b[0;31mValueError\u001b[0m: matmul: Input operand 1 has a mismatch in its core dimension 0, with gufunc signature (n?,k),(k,m?)->(n?,m?) (size 1 is different from 0)"
     ]
    }
   ],
   "source": [
    "x = np.geomspace(1e-10, 1e-4, 14).reshape(-1, 1)\n",
    "vals = [A @ x_ + b for x_ in x]\n",
    "vals"
   ]
  },
  {
   "cell_type": "code",
   "execution_count": 76,
   "id": "33f18eec",
   "metadata": {},
   "outputs": [
    {
     "ename": "NameError",
     "evalue": "name 'vals' is not defined",
     "output_type": "error",
     "traceback": [
      "\u001b[0;31m---------------------------------------------------------------------------\u001b[0m",
      "\u001b[0;31mNameError\u001b[0m                                 Traceback (most recent call last)",
      "\u001b[0;32m/var/folders/zn/x8ct2v5d1z714b45ycxv1hhc0000gn/T/ipykernel_82563/2650736271.py\u001b[0m in \u001b[0;36m<module>\u001b[0;34m\u001b[0m\n\u001b[0;32m----> 1\u001b[0;31m \u001b[0mGbars\u001b[0m \u001b[0;34m=\u001b[0m \u001b[0;34m[\u001b[0m\u001b[0ms0\u001b[0m\u001b[0;34m.\u001b[0m\u001b[0mget_prop_conc\u001b[0m\u001b[0;34m(\u001b[0m\u001b[0;34m'Gbar'\u001b[0m\u001b[0;34m,\u001b[0m \u001b[0mx_\u001b[0m\u001b[0;34m)\u001b[0m \u001b[0;32mfor\u001b[0m \u001b[0mx_\u001b[0m \u001b[0;32min\u001b[0m \u001b[0mvals\u001b[0m\u001b[0;34m]\u001b[0m\u001b[0;34m\u001b[0m\u001b[0;34m\u001b[0m\u001b[0m\n\u001b[0m",
      "\u001b[0;31mNameError\u001b[0m: name 'vals' is not defined"
     ]
    }
   ],
   "source": [
    "Gbars = [s0.get_prop_conc('Gbar', x_) for x_ in vals]"
   ]
  },
  {
   "cell_type": "code",
   "execution_count": 77,
   "id": "0d5c5013",
   "metadata": {},
   "outputs": [
    {
     "ename": "NameError",
     "evalue": "name 'vals' is not defined",
     "output_type": "error",
     "traceback": [
      "\u001b[0;31m---------------------------------------------------------------------------\u001b[0m",
      "\u001b[0;31mNameError\u001b[0m                                 Traceback (most recent call last)",
      "\u001b[0;32m/var/folders/zn/x8ct2v5d1z714b45ycxv1hhc0000gn/T/ipykernel_82563/3501868520.py\u001b[0m in \u001b[0;36m<module>\u001b[0;34m\u001b[0m\n\u001b[0;32m----> 1\u001b[0;31m \u001b[0mvals\u001b[0m\u001b[0;34m\u001b[0m\u001b[0;34m\u001b[0m\u001b[0m\n\u001b[0m",
      "\u001b[0;31mNameError\u001b[0m: name 'vals' is not defined"
     ]
    }
   ],
   "source": []
  },
  {
   "cell_type": "code",
   "execution_count": 78,
   "id": "0380c079",
   "metadata": {},
   "outputs": [
    {
     "data": {
      "text/plain": [
       "array([-13.8       ,   0.        , 164.01390629])"
      ]
     },
     "execution_count": 78,
     "metadata": {},
     "output_type": "execute_result"
    }
   ],
   "source": [
    "s0.get_prop_conc('Sbar', np.array([1, 1,1e-7]))"
   ]
  },
  {
   "cell_type": "code",
   "execution_count": 79,
   "id": "9102f7ca",
   "metadata": {},
   "outputs": [
    {
     "ename": "NameError",
     "evalue": "name 'Gbars' is not defined",
     "output_type": "error",
     "traceback": [
      "\u001b[0;31m---------------------------------------------------------------------------\u001b[0m",
      "\u001b[0;31mNameError\u001b[0m                                 Traceback (most recent call last)",
      "\u001b[0;32m/var/folders/zn/x8ct2v5d1z714b45ycxv1hhc0000gn/T/ipykernel_82563/2564001858.py\u001b[0m in \u001b[0;36m<module>\u001b[0;34m\u001b[0m\n\u001b[0;32m----> 1\u001b[0;31m \u001b[0mGbars\u001b[0m\u001b[0;34m\u001b[0m\u001b[0;34m\u001b[0m\u001b[0m\n\u001b[0m",
      "\u001b[0;31mNameError\u001b[0m: name 'Gbars' is not defined"
     ]
    }
   ],
   "source": [
    "Gbars"
   ]
  },
  {
   "cell_type": "code",
   "execution_count": 80,
   "id": "91f69785",
   "metadata": {},
   "outputs": [],
   "source": [
    "rxn = np.array([[-1, 1, 1]])"
   ]
  },
  {
   "cell_type": "code",
   "execution_count": 81,
   "id": "61fd5dfd",
   "metadata": {},
   "outputs": [
    {
     "ename": "NameError",
     "evalue": "name 'Gbars' is not defined",
     "output_type": "error",
     "traceback": [
      "\u001b[0;31m---------------------------------------------------------------------------\u001b[0m",
      "\u001b[0;31mNameError\u001b[0m                                 Traceback (most recent call last)",
      "\u001b[0;32m/var/folders/zn/x8ct2v5d1z714b45ycxv1hhc0000gn/T/ipykernel_82563/3636257379.py\u001b[0m in \u001b[0;36m<module>\u001b[0;34m\u001b[0m\n\u001b[0;32m----> 1\u001b[0;31m \u001b[0;34m[\u001b[0m\u001b[0mrxn\u001b[0m \u001b[0;34m@\u001b[0m \u001b[0mG_\u001b[0m \u001b[0;32mfor\u001b[0m \u001b[0mG_\u001b[0m \u001b[0;32min\u001b[0m \u001b[0mGbars\u001b[0m\u001b[0;34m]\u001b[0m\u001b[0;34m\u001b[0m\u001b[0;34m\u001b[0m\u001b[0m\n\u001b[0m",
      "\u001b[0;31mNameError\u001b[0m: name 'Gbars' is not defined"
     ]
    }
   ],
   "source": [
    "[rxn @ G_ for G_ in Gbars]"
   ]
  },
  {
   "cell_type": "code",
   "execution_count": 82,
   "id": "4f62377e",
   "metadata": {},
   "outputs": [
    {
     "ename": "NameError",
     "evalue": "name 'Gbars' is not defined",
     "output_type": "error",
     "traceback": [
      "\u001b[0;31m---------------------------------------------------------------------------\u001b[0m",
      "\u001b[0;31mNameError\u001b[0m                                 Traceback (most recent call last)",
      "\u001b[0;32m/var/folders/zn/x8ct2v5d1z714b45ycxv1hhc0000gn/T/ipykernel_82563/2600592020.py\u001b[0m in \u001b[0;36m<module>\u001b[0;34m\u001b[0m\n\u001b[0;32m----> 1\u001b[0;31m \u001b[0mGbars2\u001b[0m \u001b[0;34m=\u001b[0m \u001b[0mnp\u001b[0m\u001b[0;34m.\u001b[0m\u001b[0marray\u001b[0m\u001b[0;34m(\u001b[0m\u001b[0mGbars\u001b[0m\u001b[0;34m)\u001b[0m\u001b[0;34m\u001b[0m\u001b[0;34m\u001b[0m\u001b[0m\n\u001b[0m",
      "\u001b[0;31mNameError\u001b[0m: name 'Gbars' is not defined"
     ]
    }
   ],
   "source": [
    "Gbars2 = np.array(Gbars)"
   ]
  },
  {
   "cell_type": "code",
   "execution_count": 83,
   "id": "174e4973",
   "metadata": {},
   "outputs": [
    {
     "name": "stdout",
     "output_type": "stream",
     "text": [
      "-14907.499999999998\n"
     ]
    },
    {
     "data": {
      "text/plain": [
       "408.94910678667907"
      ]
     },
     "execution_count": 83,
     "metadata": {},
     "output_type": "execute_result"
    }
   ],
   "source": [
    "dG = -50*298.15\n",
    "print(dG)\n",
    "K = np.exp(-dG/(8.3145*298.15))\n",
    "K"
   ]
  },
  {
   "cell_type": "code",
   "execution_count": 84,
   "id": "11272129",
   "metadata": {},
   "outputs": [],
   "source": [
    "import sympy as sm"
   ]
  },
  {
   "cell_type": "code",
   "execution_count": 85,
   "id": "20c39040",
   "metadata": {},
   "outputs": [],
   "source": [
    "x = sm.symbols('x')"
   ]
  },
  {
   "cell_type": "code",
   "execution_count": 86,
   "id": "3e5bd4d1",
   "metadata": {},
   "outputs": [
    {
     "data": {
      "text/plain": [
       "[0.951757639060005, 1.05068765299078]"
      ]
     },
     "execution_count": 86,
     "metadata": {},
     "output_type": "execute_result"
    }
   ],
   "source": [
    "sm.solve(x/((1.0-x)*(1.0-x)) - K, x)"
   ]
  },
  {
   "cell_type": "code",
   "execution_count": 87,
   "id": "1519a597",
   "metadata": {},
   "outputs": [],
   "source": [
    "x1 = 0.951757639060005"
   ]
  },
  {
   "cell_type": "code",
   "execution_count": 88,
   "id": "7ee8ad1c",
   "metadata": {},
   "outputs": [
    {
     "data": {
      "text/plain": [
       "0.951757639060005"
      ]
     },
     "execution_count": 88,
     "metadata": {},
     "output_type": "execute_result"
    }
   ],
   "source": [
    "x1"
   ]
  },
  {
   "cell_type": "code",
   "execution_count": 89,
   "id": "27145ba1",
   "metadata": {},
   "outputs": [
    {
     "ename": "NameError",
     "evalue": "name 'Gbars' is not defined",
     "output_type": "error",
     "traceback": [
      "\u001b[0;31m---------------------------------------------------------------------------\u001b[0m",
      "\u001b[0;31mNameError\u001b[0m                                 Traceback (most recent call last)",
      "\u001b[0;32m/var/folders/zn/x8ct2v5d1z714b45ycxv1hhc0000gn/T/ipykernel_82563/2554652799.py\u001b[0m in \u001b[0;36m<module>\u001b[0;34m\u001b[0m\n\u001b[0;32m----> 1\u001b[0;31m \u001b[0mA\u001b[0m\u001b[0;34m.\u001b[0m\u001b[0mT\u001b[0m\u001b[0;34m@\u001b[0m\u001b[0mGbars\u001b[0m\u001b[0;34m[\u001b[0m\u001b[0;36m0\u001b[0m\u001b[0;34m]\u001b[0m\u001b[0;34m\u001b[0m\u001b[0;34m\u001b[0m\u001b[0m\n\u001b[0m",
      "\u001b[0;31mNameError\u001b[0m: name 'Gbars' is not defined"
     ]
    }
   ],
   "source": [
    "A.T@Gbars[0]"
   ]
  },
  {
   "cell_type": "code",
   "execution_count": 90,
   "id": "43c19ff7",
   "metadata": {},
   "outputs": [
    {
     "ename": "NameError",
     "evalue": "name 'vals' is not defined",
     "output_type": "error",
     "traceback": [
      "\u001b[0;31m---------------------------------------------------------------------------\u001b[0m",
      "\u001b[0;31mNameError\u001b[0m                                 Traceback (most recent call last)",
      "\u001b[0;32m/var/folders/zn/x8ct2v5d1z714b45ycxv1hhc0000gn/T/ipykernel_82563/1404135119.py\u001b[0m in \u001b[0;36m<module>\u001b[0;34m\u001b[0m\n\u001b[0;32m----> 1\u001b[0;31m \u001b[0;34m[\u001b[0m\u001b[0mx\u001b[0m\u001b[0;34m[\u001b[0m\u001b[0;36m1\u001b[0m\u001b[0;34m]\u001b[0m \u001b[0;32mfor\u001b[0m \u001b[0mx\u001b[0m \u001b[0;32min\u001b[0m \u001b[0mvals\u001b[0m\u001b[0;34m]\u001b[0m\u001b[0;34m\u001b[0m\u001b[0;34m\u001b[0m\u001b[0m\n\u001b[0m",
      "\u001b[0;31mNameError\u001b[0m: name 'vals' is not defined"
     ]
    }
   ],
   "source": [
    "[x[1] for x in vals]"
   ]
  },
  {
   "cell_type": "code",
   "execution_count": 91,
   "id": "7f08598e",
   "metadata": {},
   "outputs": [
    {
     "ename": "NameError",
     "evalue": "name 'Gbars' is not defined",
     "output_type": "error",
     "traceback": [
      "\u001b[0;31m---------------------------------------------------------------------------\u001b[0m",
      "\u001b[0;31mNameError\u001b[0m                                 Traceback (most recent call last)",
      "\u001b[0;32m/var/folders/zn/x8ct2v5d1z714b45ycxv1hhc0000gn/T/ipykernel_82563/2179139317.py\u001b[0m in \u001b[0;36m<module>\u001b[0;34m\u001b[0m\n\u001b[0;32m----> 1\u001b[0;31m \u001b[0mnp\u001b[0m\u001b[0;34m.\u001b[0m\u001b[0meinsum\u001b[0m\u001b[0;34m(\u001b[0m\u001b[0;34m'sr,cs'\u001b[0m\u001b[0;34m,\u001b[0m \u001b[0mA\u001b[0m\u001b[0;34m,\u001b[0m \u001b[0mGbars\u001b[0m\u001b[0;34m)\u001b[0m\u001b[0;34m\u001b[0m\u001b[0;34m\u001b[0m\u001b[0m\n\u001b[0m",
      "\u001b[0;31mNameError\u001b[0m: name 'Gbars' is not defined"
     ]
    }
   ],
   "source": [
    "np.einsum('sr,cs', A, Gbars)"
   ]
  },
  {
   "cell_type": "code",
   "execution_count": 92,
   "id": "2b2b4d86",
   "metadata": {},
   "outputs": [
    {
     "ename": "NameError",
     "evalue": "name 'Gbars' is not defined",
     "output_type": "error",
     "traceback": [
      "\u001b[0;31m---------------------------------------------------------------------------\u001b[0m",
      "\u001b[0;31mNameError\u001b[0m                                 Traceback (most recent call last)",
      "\u001b[0;32m/var/folders/zn/x8ct2v5d1z714b45ycxv1hhc0000gn/T/ipykernel_82563/2795701978.py\u001b[0m in \u001b[0;36m<module>\u001b[0;34m\u001b[0m\n\u001b[0;32m----> 1\u001b[0;31m \u001b[0mG_\u001b[0m \u001b[0;34m=\u001b[0m \u001b[0mGbars\u001b[0m\u001b[0;34m[\u001b[0m\u001b[0;36m0\u001b[0m\u001b[0;34m]\u001b[0m\u001b[0;34m\u001b[0m\u001b[0;34m\u001b[0m\u001b[0m\n\u001b[0m\u001b[1;32m      2\u001b[0m \u001b[0mG_\u001b[0m\u001b[0;34m[\u001b[0m\u001b[0;36m1\u001b[0m\u001b[0;34m]\u001b[0m \u001b[0;34m+\u001b[0m \u001b[0mG_\u001b[0m\u001b[0;34m[\u001b[0m\u001b[0;36m2\u001b[0m\u001b[0;34m]\u001b[0m \u001b[0;34m-\u001b[0m \u001b[0mG_\u001b[0m\u001b[0;34m[\u001b[0m\u001b[0;36m0\u001b[0m\u001b[0;34m]\u001b[0m\u001b[0;34m\u001b[0m\u001b[0;34m\u001b[0m\u001b[0m\n",
      "\u001b[0;31mNameError\u001b[0m: name 'Gbars' is not defined"
     ]
    }
   ],
   "source": [
    "G_ = Gbars[0]\n",
    "G_[1] + G_[2] - G_[0]"
   ]
  },
  {
   "cell_type": "code",
   "execution_count": 93,
   "id": "5f0a9af3",
   "metadata": {},
   "outputs": [],
   "source": [
    "def G(x):\n",
    "    return s0.G(x=x, T = 298.15) - s0.G(T=298.15)"
   ]
  },
  {
   "cell_type": "code",
   "execution_count": 94,
   "id": "ccd2fb8a",
   "metadata": {},
   "outputs": [
    {
     "ename": "NameError",
     "evalue": "name 'vals' is not defined",
     "output_type": "error",
     "traceback": [
      "\u001b[0;31m---------------------------------------------------------------------------\u001b[0m",
      "\u001b[0;31mNameError\u001b[0m                                 Traceback (most recent call last)",
      "\u001b[0;32m/var/folders/zn/x8ct2v5d1z714b45ycxv1hhc0000gn/T/ipykernel_82563/2280644244.py\u001b[0m in \u001b[0;36m<module>\u001b[0;34m\u001b[0m\n\u001b[0;32m----> 1\u001b[0;31m \u001b[0mG_out\u001b[0m \u001b[0;34m=\u001b[0m \u001b[0;34m[\u001b[0m\u001b[0mG\u001b[0m\u001b[0;34m(\u001b[0m\u001b[0my\u001b[0m\u001b[0;34m)\u001b[0m \u001b[0;32mfor\u001b[0m \u001b[0my\u001b[0m \u001b[0;32min\u001b[0m \u001b[0mvals\u001b[0m\u001b[0;34m]\u001b[0m\u001b[0;34m\u001b[0m\u001b[0;34m\u001b[0m\u001b[0m\n\u001b[0m",
      "\u001b[0;31mNameError\u001b[0m: name 'vals' is not defined"
     ]
    }
   ],
   "source": [
    "G_out = [G(y) for y in vals]"
   ]
  },
  {
   "cell_type": "code",
   "execution_count": 95,
   "id": "fe189161",
   "metadata": {},
   "outputs": [
    {
     "ename": "NameError",
     "evalue": "name 'G_out' is not defined",
     "output_type": "error",
     "traceback": [
      "\u001b[0;31m---------------------------------------------------------------------------\u001b[0m",
      "\u001b[0;31mNameError\u001b[0m                                 Traceback (most recent call last)",
      "\u001b[0;32m/var/folders/zn/x8ct2v5d1z714b45ycxv1hhc0000gn/T/ipykernel_82563/2977116425.py\u001b[0m in \u001b[0;36m<module>\u001b[0;34m\u001b[0m\n\u001b[0;32m----> 1\u001b[0;31m \u001b[0mplt\u001b[0m\u001b[0;34m.\u001b[0m\u001b[0mplot\u001b[0m\u001b[0;34m(\u001b[0m\u001b[0mG_out\u001b[0m\u001b[0;34m)\u001b[0m\u001b[0;34m\u001b[0m\u001b[0;34m\u001b[0m\u001b[0m\n\u001b[0m",
      "\u001b[0;31mNameError\u001b[0m: name 'G_out' is not defined"
     ]
    }
   ],
   "source": [
    "plt.plot(G_out)"
   ]
  },
  {
   "cell_type": "code",
   "execution_count": 96,
   "id": "adfb14c6",
   "metadata": {},
   "outputs": [
    {
     "ename": "AttributeError",
     "evalue": "'Substance' object has no attribute 'atoms'",
     "output_type": "error",
     "traceback": [
      "\u001b[0;31m---------------------------------------------------------------------------\u001b[0m",
      "\u001b[0;31mAttributeError\u001b[0m                            Traceback (most recent call last)",
      "\u001b[0;32m/var/folders/zn/x8ct2v5d1z714b45ycxv1hhc0000gn/T/ipykernel_82563/3982912973.py\u001b[0m in \u001b[0;36m<module>\u001b[0;34m\u001b[0m\n\u001b[1;32m      8\u001b[0m \u001b[0ms0\u001b[0m \u001b[0;34m=\u001b[0m \u001b[0mcal\u001b[0m\u001b[0;34m.\u001b[0m\u001b[0mState3\u001b[0m\u001b[0;34m(\u001b[0m\u001b[0mT\u001b[0m\u001b[0;34m=\u001b[0m\u001b[0;36m298.15\u001b[0m\u001b[0;34m,\u001b[0m \u001b[0mchemicals\u001b[0m\u001b[0;34m=\u001b[0m\u001b[0mchemicals\u001b[0m\u001b[0;34m,\u001b[0m \u001b[0mrxns\u001b[0m\u001b[0;34m=\u001b[0m\u001b[0mrxns\u001b[0m\u001b[0;34m,\u001b[0m \u001b[0mV\u001b[0m\u001b[0;34m=\u001b[0m\u001b[0;36m1.0\u001b[0m\u001b[0;34m)\u001b[0m\u001b[0;34m\u001b[0m\u001b[0;34m\u001b[0m\u001b[0m\n\u001b[1;32m      9\u001b[0m \u001b[0;34m\u001b[0m\u001b[0m\n\u001b[0;32m---> 10\u001b[0;31m \u001b[0ms0\u001b[0m\u001b[0;34m.\u001b[0m\u001b[0mset_state\u001b[0m\u001b[0;34m(\u001b[0m\u001b[0;34m{\u001b[0m\u001b[0;36m0\u001b[0m\u001b[0;34m:\u001b[0m \u001b[0;36m1.0\u001b[0m\u001b[0;34m,\u001b[0m \u001b[0;36m1\u001b[0m\u001b[0;34m:\u001b[0m \u001b[0;36m1.0\u001b[0m\u001b[0;34m,\u001b[0m \u001b[0;36m2\u001b[0m\u001b[0;34m:\u001b[0m \u001b[0;36m0.0\u001b[0m\u001b[0;34m}\u001b[0m\u001b[0;34m)\u001b[0m\u001b[0;34m\u001b[0m\u001b[0;34m\u001b[0m\u001b[0m\n\u001b[0m\u001b[1;32m     11\u001b[0m \u001b[0;34m\u001b[0m\u001b[0m\n\u001b[1;32m     12\u001b[0m \u001b[0mA\u001b[0m\u001b[0;34m,\u001b[0m \u001b[0mb\u001b[0m \u001b[0;34m=\u001b[0m \u001b[0mcal\u001b[0m\u001b[0;34m.\u001b[0m\u001b[0marrayRxns\u001b[0m\u001b[0;34m(\u001b[0m\u001b[0ms0\u001b[0m\u001b[0;34m.\u001b[0m\u001b[0mstate\u001b[0m\u001b[0;34m,\u001b[0m \u001b[0ms0\u001b[0m\u001b[0;34m.\u001b[0m\u001b[0mrxns\u001b[0m\u001b[0;34m)\u001b[0m\u001b[0;34m\u001b[0m\u001b[0;34m\u001b[0m\u001b[0m\n",
      "\u001b[0;32m~/programming/pchem/pchem/calorimetry.py\u001b[0m in \u001b[0;36mset_state\u001b[0;34m(self, state)\u001b[0m\n\u001b[1;32m    214\u001b[0m         \u001b[0mall_atoms\u001b[0m \u001b[0;34m=\u001b[0m \u001b[0mset\u001b[0m\u001b[0;34m(\u001b[0m\u001b[0;34m)\u001b[0m\u001b[0;34m\u001b[0m\u001b[0;34m\u001b[0m\u001b[0m\n\u001b[1;32m    215\u001b[0m         \u001b[0;32mfor\u001b[0m \u001b[0mx\u001b[0m \u001b[0;32min\u001b[0m \u001b[0mself\u001b[0m\u001b[0;34m.\u001b[0m\u001b[0mchem_vals\u001b[0m\u001b[0;34m:\u001b[0m\u001b[0;34m\u001b[0m\u001b[0;34m\u001b[0m\u001b[0m\n\u001b[0;32m--> 216\u001b[0;31m             \u001b[0mall_atoms\u001b[0m\u001b[0;34m.\u001b[0m\u001b[0mupdate\u001b[0m\u001b[0;34m(\u001b[0m\u001b[0mx\u001b[0m\u001b[0;34m.\u001b[0m\u001b[0matoms\u001b[0m\u001b[0;34m.\u001b[0m\u001b[0mkeys\u001b[0m\u001b[0;34m(\u001b[0m\u001b[0;34m)\u001b[0m\u001b[0;34m)\u001b[0m\u001b[0;34m\u001b[0m\u001b[0;34m\u001b[0m\u001b[0m\n\u001b[0m\u001b[1;32m    217\u001b[0m \u001b[0;34m\u001b[0m\u001b[0m\n\u001b[1;32m    218\u001b[0m         \u001b[0mself\u001b[0m\u001b[0;34m.\u001b[0m\u001b[0mall_atoms\u001b[0m \u001b[0;34m=\u001b[0m \u001b[0mtuple\u001b[0m\u001b[0;34m(\u001b[0m\u001b[0msorted\u001b[0m\u001b[0;34m(\u001b[0m\u001b[0mall_atoms\u001b[0m\u001b[0;34m)\u001b[0m\u001b[0;34m)\u001b[0m\u001b[0;34m\u001b[0m\u001b[0;34m\u001b[0m\u001b[0m\n",
      "\u001b[0;31mAttributeError\u001b[0m: 'Substance' object has no attribute 'atoms'"
     ]
    }
   ],
   "source": [
    "P  = cal.Substance(\"P(aq)\", state=\"aq\", H0=0, S0=0, cP=0, molarMass=100.0, density=1.0)\n",
    "D  = cal.Substance(\"D(aq)\", state=\"aq\", H0=0, S0=0, cP=0, molarMass=100.0, density=1.0)\n",
    "PD = cal.Substance(\"PD(aq)\", state=\"aq\", H0=0, S0=50.0, cP=0, molarMass=100.0, density=1.0)\n",
    "\n",
    "chemicals = {0: P, 1: D, 2: PD}\n",
    "rxns = [{0: -1, 1: -1, 2: 1}]\n",
    "\n",
    "s0 = cal.State3(T=298.15, chemicals=chemicals, rxns=rxns, V=1.0)\n",
    "\n",
    "s0.set_state({0: 1.0, 1: 1.0, 2: 0.0})\n",
    "\n",
    "A, b = cal.arrayRxns(s0.state, s0.rxns)"
   ]
  },
  {
   "cell_type": "code",
   "execution_count": 97,
   "id": "9862569b",
   "metadata": {},
   "outputs": [],
   "source": [
    "dx = np.linspace(0.01, 0.99, 99).reshape(-1, 1)"
   ]
  },
  {
   "cell_type": "code",
   "execution_count": 112,
   "id": "baa8f4c1",
   "metadata": {},
   "outputs": [],
   "source": [
    "vals = (A @ dx.T + b.reshape(-1, 1)).T"
   ]
  },
  {
   "cell_type": "code",
   "execution_count": 113,
   "id": "2987509d",
   "metadata": {},
   "outputs": [],
   "source": [
    "Gbar_all = np.array([s0.get_prop_conc('Gbar', val) for val in vals])"
   ]
  },
  {
   "cell_type": "code",
   "execution_count": 114,
   "id": "b3efc35b",
   "metadata": {},
   "outputs": [],
   "source": [
    "dG = sum(s0.get_prop_conc('G0bar'))"
   ]
  },
  {
   "cell_type": "code",
   "execution_count": 133,
   "id": "b10df20e",
   "metadata": {},
   "outputs": [],
   "source": [
    "Gibbs = [s0.G(x=val) for val in vals]"
   ]
  },
  {
   "cell_type": "code",
   "execution_count": 123,
   "id": "5d44dcfe",
   "metadata": {},
   "outputs": [],
   "source": [
    "Gout = np.einsum('s,sv', A.flatten(), Gbar_all.T)"
   ]
  },
  {
   "cell_type": "code",
   "execution_count": 131,
   "id": "a5f05b14",
   "metadata": {},
   "outputs": [
    {
     "data": {
      "image/png": "[encoded data removed]",
      "text/plain": [
       "<Figure size 432x288 with 1 Axes>"
      ]
     },
     "metadata": {
      "needs_background": "light"
     },
     "output_type": "display_data"
    }
   ],
   "source": [
    "plt.plot(dx, Gout)\n",
    "plt.xlim(0.8, 1)\n",
    "plt.axhline(color='0')\n",
    "plt.ylim(-7000, 7000)\n",
    "plt.grid()"
   ]
  },
  {
   "cell_type": "code",
   "execution_count": 139,
   "id": "66167e31",
   "metadata": {},
   "outputs": [
    {
     "data": {
      "image/png": "[encoded data removed]",
      "text/plain": [
       "<Figure size 432x288 with 1 Axes>"
      ]
     },
     "metadata": {
      "needs_background": "light"
     },
     "output_type": "display_data"
    }
   ],
   "source": [
    "plt.plot(dx, Gibbs)\n",
    "plt.xlim(0.8, 1)\n",
    "plt.axhline(color='0')\n",
    "plt.ylim(-15200, -14000)\n",
    "plt.grid()"
   ]
  },
  {
   "cell_type": "code",
   "execution_count": null,
   "id": "4b1c6e4c",
   "metadata": {},
   "outputs": [],
   "source": [
    "\n",
    "def f3it(x):\n",
    "    T = x[-1]\n",
    "    RT = 8.3145*T\n",
    "    A = np.array([[1, 0, -2], [0, 1, -1], [2*x[0], x[1], 0]])\n",
    "    \n",
    "    b = np.array([-np.log(x[0]/V), -np.log(x[1]/V)-3000/RT, 2-x[0]*2-x[1]])\n",
    "    \n",
    "    return linalg.solve(A, b)"
   ]
  }
 ],
 "metadata": {
  "kernelspec": {
   "display_name": "Python 3 (ipykernel)",
   "language": "python",
   "name": "python3"
  },
  "language_info": {
   "codemirror_mode": {
    "name": "ipython",
    "version": 3
   },
   "file_extension": ".py",
   "mimetype": "text/x-python",
   "name": "python",
   "nbconvert_exporter": "python",
   "pygments_lexer": "ipython3",
   "version": "3.9.7"
  }
 },
 "nbformat": 4,
 "nbformat_minor": 5
}
