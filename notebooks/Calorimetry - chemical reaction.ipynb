{
 "cells": [
  {
   "cell_type": "markdown",
   "id": "95749aa1",
   "metadata": {},
   "source": [
    "2NO₂(g) ⇌ N₂O₄(g)"
   ]
  },
  {
   "cell_type": "code",
   "execution_count": 1,
   "id": "1dcdba52",
   "metadata": {},
   "outputs": [],
   "source": [
    "import pchem as pc"
   ]
  },
  {
   "cell_type": "code",
   "execution_count": 19,
   "id": "fcc4aa1f",
   "metadata": {},
   "outputs": [
    {
     "data": {
      "text/plain": [
       "73.53074568003639"
      ]
     },
     "execution_count": 19,
     "metadata": {},
     "output_type": "execute_result"
    }
   ],
   "source": [
    "pc.getprop('NH3', 'Cpmolar', T=200)"
   ]
  },
  {
   "cell_type": "code",
   "execution_count": null,
   "id": "b8c6ca8f",
   "metadata": {},
   "outputs": [],
   "source": []
  }
 ],
 "metadata": {
  "kernelspec": {
   "display_name": "Python 3 (ipykernel)",
   "language": "python",
   "name": "python3"
  },
  "language_info": {
   "codemirror_mode": {
    "name": "ipython",
    "version": 3
   },
   "file_extension": ".py",
   "mimetype": "text/x-python",
   "name": "python",
   "nbconvert_exporter": "python",
   "pygments_lexer": "ipython3",
   "version": "3.9.9"
  }
 },
 "nbformat": 4,
 "nbformat_minor": 5
}
