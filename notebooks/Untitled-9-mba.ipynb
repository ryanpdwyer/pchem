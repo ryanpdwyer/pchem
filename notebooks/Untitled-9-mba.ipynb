{
 "cells": [
  {
   "cell_type": "code",
   "execution_count": 24,
   "id": "c0a93ca3",
   "metadata": {},
   "outputs": [
    {
     "ename": "ImportError",
     "evalue": "cannot import name 'calorimetry' from 'pchem' (/Users/dwyer/programming/pchem/pchem/__init__.py)",
     "output_type": "error",
     "traceback": [
      "\u001b[0;31m---------------------------------------------------------------------------\u001b[0m",
      "\u001b[0;31mImportError\u001b[0m                               Traceback (most recent call last)",
      "Input \u001b[0;32mIn [24]\u001b[0m, in \u001b[0;36m<module>\u001b[0;34m\u001b[0m\n\u001b[1;32m      2\u001b[0m \u001b[38;5;28;01mfrom\u001b[39;00m \u001b[38;5;21;01mscipy\u001b[39;00m \u001b[38;5;28;01mimport\u001b[39;00m optimize\n\u001b[1;32m      3\u001b[0m \u001b[38;5;28;01mfrom\u001b[39;00m \u001b[38;5;21;01mscipy\u001b[39;00m \u001b[38;5;28;01mimport\u001b[39;00m linalg\n\u001b[0;32m----> 4\u001b[0m \u001b[38;5;28;01mfrom\u001b[39;00m \u001b[38;5;21;01mpchem\u001b[39;00m \u001b[38;5;28;01mimport\u001b[39;00m calorimetry \u001b[38;5;28;01mas\u001b[39;00m cal\n",
      "\u001b[0;31mImportError\u001b[0m: cannot import name 'calorimetry' from 'pchem' (/Users/dwyer/programming/pchem/pchem/__init__.py)"
     ]
    }
   ],
   "source": [
    "import numpy as np\n",
    "from scipy import optimize\n",
    "from scipy import linalg\n",
    "from pchem import calorimetry as cal"
   ]
  },
  {
   "cell_type": "markdown",
   "id": "1a98f4f8",
   "metadata": {},
   "source": [
    "The state vector can be moles of water, H+, and OH- ions."
   ]
  },
  {
   "cell_type": "code",
   "execution_count": 10,
   "id": "9fc0c3ff",
   "metadata": {},
   "outputs": [],
   "source": [
    "x0 = np.array([1000/18.02, 0, 0])\n",
    "x0\n",
    "nSpecies = len(x0)"
   ]
  },
  {
   "cell_type": "markdown",
   "id": "02407471",
   "metadata": {},
   "source": [
    "The reaction array takes 1 mole of water and creates 1 mole of H+ and OH- ions:"
   ]
  },
  {
   "cell_type": "code",
   "execution_count": 11,
   "id": "c89be320",
   "metadata": {},
   "outputs": [
    {
     "data": {
      "text/plain": [
       "array([[-1],\n",
       "       [ 1],\n",
       "       [ 1]])"
      ]
     },
     "execution_count": 11,
     "metadata": {},
     "output_type": "execute_result"
    }
   ],
   "source": [
    "A = np.array([[-1, 1, 1]]).T\n",
    "A"
   ]
  },
  {
   "cell_type": "code",
   "execution_count": 15,
   "id": "b862237b",
   "metadata": {},
   "outputs": [],
   "source": [
    "y0 = []\n",
    "for i in range(nSpecies):\n",
    "    y0.append(linalg.solve(A[i], -x0[i]))"
   ]
  },
  {
   "cell_type": "code",
   "execution_count": 16,
   "id": "f906d576",
   "metadata": {},
   "outputs": [
    {
     "data": {
      "text/plain": [
       "[array([55.49389567]), array([-0.]), array([-0.])]"
      ]
     },
     "execution_count": 16,
     "metadata": {},
     "output_type": "execute_result"
    }
   ],
   "source": [
    "y0"
   ]
  },
  {
   "cell_type": "code",
   "execution_count": 22,
   "id": "3aee4835",
   "metadata": {},
   "outputs": [],
   "source": [
    "def Sconc(c):\n",
    "    R = 8.3145\n",
    "    return -R*np.log(c)"
   ]
  },
  {
   "cell_type": "code",
   "execution_count": 21,
   "id": "1e454ff9",
   "metadata": {},
   "outputs": [
    {
     "ename": "NameError",
     "evalue": "name 'R' is not defined",
     "output_type": "error",
     "traceback": [
      "\u001b[0;31m---------------------------------------------------------------------------\u001b[0m",
      "\u001b[0;31mNameError\u001b[0m                                 Traceback (most recent call last)",
      "Input \u001b[0;32mIn [21]\u001b[0m, in \u001b[0;36m<module>\u001b[0;34m\u001b[0m\n\u001b[0;32m----> 1\u001b[0m \u001b[38;5;241m-\u001b[39m\u001b[43mR\u001b[49m\u001b[38;5;241m*\u001b[39mnp\u001b[38;5;241m.\u001b[39mlog\n",
      "\u001b[0;31mNameError\u001b[0m: name 'R' is not defined"
     ]
    }
   ],
   "source": []
  },
  {
   "cell_type": "code",
   "execution_count": null,
   "id": "fba1d8a2",
   "metadata": {},
   "outputs": [],
   "source": []
  }
 ],
 "metadata": {
  "kernelspec": {
   "display_name": "Python 3 (ipykernel)",
   "language": "python",
   "name": "python3"
  },
  "language_info": {
   "codemirror_mode": {
    "name": "ipython",
    "version": 3
   },
   "file_extension": ".py",
   "mimetype": "text/x-python",
   "name": "python",
   "nbconvert_exporter": "python",
   "pygments_lexer": "ipython3",
   "version": "3.9.7"
  }
 },
 "nbformat": 4,
 "nbformat_minor": 5
}
