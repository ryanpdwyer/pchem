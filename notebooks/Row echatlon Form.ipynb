{
 "cells": [
  {
   "cell_type": "code",
   "execution_count": 1,
   "id": "2a597973",
   "metadata": {},
   "outputs": [],
   "source": [
    "import numpy as np\n",
    "from scipy import linalg"
   ]
  },
  {
   "cell_type": "code",
   "execution_count": 3,
   "id": "e806a040",
   "metadata": {},
   "outputs": [
    {
     "data": {
      "text/plain": [
       "array([[ 1,  0,  3,  0, 26],\n",
       "       [ 0,  1, -2,  0, -8],\n",
       "       [ 0,  0,  0,  1,  8]])"
      ]
     },
     "execution_count": 3,
     "metadata": {},
     "output_type": "execute_result"
    }
   ],
   "source": [
    "B = np.array([[1, 0, 3, 0, 26],[0, 1, -2, 0, -8], [0, 0, 0, 1, 8]])\n",
    "B"
   ]
  },
  {
   "cell_type": "code",
   "execution_count": 6,
   "id": "f3623627",
   "metadata": {},
   "outputs": [],
   "source": [
    "u, s, vh = linalg.svd(B)"
   ]
  },
  {
   "cell_type": "code",
   "execution_count": 12,
   "id": "99fd57e0",
   "metadata": {},
   "outputs": [],
   "source": [
    "np.set_printoptions(2, suppress=True)"
   ]
  },
  {
   "cell_type": "code",
   "execution_count": 16,
   "id": "69f0fb28",
   "metadata": {},
   "outputs": [
    {
     "data": {
      "text/plain": [
       "array([[ 0.03, -0.01,  0.12,  0.01,  0.99],\n",
       "       [-0.02, -0.43,  0.81, -0.38, -0.09],\n",
       "       [-0.4 , -0.6 ,  0.  ,  0.7 , -0.  ],\n",
       "       [ 0.14,  0.57,  0.57,  0.57, -0.07],\n",
       "       [-0.91,  0.36,  0.07, -0.21,  0.03]])"
      ]
     },
     "execution_count": 16,
     "metadata": {},
     "output_type": "execute_result"
    }
   ],
   "source": [
    "vh "
   ]
  },
  {
   "cell_type": "code",
   "execution_count": 31,
   "id": "cea3b641",
   "metadata": {},
   "outputs": [],
   "source": [
    "c1 = np.array([-3, 2, 1, 0,0])"
   ]
  },
  {
   "cell_type": "code",
   "execution_count": 32,
   "id": "77979241",
   "metadata": {},
   "outputs": [
    {
     "data": {
      "text/plain": [
       "array([0, 0, 0])"
      ]
     },
     "execution_count": 32,
     "metadata": {},
     "output_type": "execute_result"
    }
   ],
   "source": [
    "B @ c1"
   ]
  },
  {
   "cell_type": "code",
   "execution_count": 33,
   "id": "5ce1eeed",
   "metadata": {},
   "outputs": [
    {
     "data": {
      "text/plain": [
       "0"
      ]
     },
     "execution_count": 33,
     "metadata": {},
     "output_type": "execute_result"
    }
   ],
   "source": [
    "np.dot(B[0], c1)"
   ]
  },
  {
   "cell_type": "code",
   "execution_count": 34,
   "id": "efee4ed9",
   "metadata": {},
   "outputs": [
    {
     "data": {
      "text/plain": [
       "array([ 1,  0,  3,  0, 26])"
      ]
     },
     "execution_count": 34,
     "metadata": {},
     "output_type": "execute_result"
    }
   ],
   "source": [
    "B[0]"
   ]
  },
  {
   "cell_type": "code",
   "execution_count": 35,
   "id": "a4e17372",
   "metadata": {},
   "outputs": [
    {
     "data": {
      "text/plain": [
       "array([-3,  2,  1,  0,  0])"
      ]
     },
     "execution_count": 35,
     "metadata": {},
     "output_type": "execute_result"
    }
   ],
   "source": [
    "c1"
   ]
  },
  {
   "cell_type": "code",
   "execution_count": 48,
   "id": "0d9134d7",
   "metadata": {},
   "outputs": [
    {
     "data": {
      "text/plain": [
       "array([-39.29,  16.86,   4.43,  -8.  ,   1.  ])"
      ]
     },
     "execution_count": 48,
     "metadata": {},
     "output_type": "execute_result"
    }
   ],
   "source": [
    "c2 = np.array([(-26 - 3 * (31/7)),39 - 31/7*5, 31/7, -8, 1])\n",
    "c2"
   ]
  },
  {
   "cell_type": "code",
   "execution_count": 49,
   "id": "17e0c881",
   "metadata": {},
   "outputs": [
    {
     "data": {
      "text/plain": [
       "array([0, 0, 0])"
      ]
     },
     "execution_count": 49,
     "metadata": {},
     "output_type": "execute_result"
    }
   ],
   "source": [
    "B @ c1"
   ]
  },
  {
   "cell_type": "code",
   "execution_count": 50,
   "id": "93c0de8a",
   "metadata": {},
   "outputs": [
    {
     "data": {
      "text/plain": [
       "array([ 0., -0.,  0.])"
      ]
     },
     "execution_count": 50,
     "metadata": {},
     "output_type": "execute_result"
    }
   ],
   "source": [
    "B @ c2"
   ]
  },
  {
   "cell_type": "code",
   "execution_count": 51,
   "id": "6a050394",
   "metadata": {},
   "outputs": [
    {
     "data": {
      "text/plain": [
       "array([-3,  2,  1,  0,  0])"
      ]
     },
     "execution_count": 51,
     "metadata": {},
     "output_type": "execute_result"
    }
   ],
   "source": [
    "c1"
   ]
  },
  {
   "cell_type": "code",
   "execution_count": 52,
   "id": "d664477f",
   "metadata": {},
   "outputs": [
    {
     "data": {
      "text/plain": [
       "array([-39.29,  16.86,   4.43,  -8.  ,   1.  ])"
      ]
     },
     "execution_count": 52,
     "metadata": {},
     "output_type": "execute_result"
    }
   ],
   "source": [
    "c2"
   ]
  },
  {
   "cell_type": "code",
   "execution_count": 62,
   "id": "9225e049",
   "metadata": {},
   "outputs": [
    {
     "data": {
      "text/plain": [
       "array([[26.19, -0.06, -0.4 ,  0.  , -0.  ],\n",
       "       [-8.18, -1.29, -0.6 ,  0.  , -0.  ],\n",
       "       [ 7.95, -1.14,  0.7 ,  0.  ,  0.  ]])"
      ]
     },
     "execution_count": 62,
     "metadata": {},
     "output_type": "execute_result"
    }
   ],
   "source": [
    "B @ vh.T"
   ]
  },
  {
   "cell_type": "code",
   "execution_count": null,
   "id": "c089c4f4",
   "metadata": {},
   "outputs": [],
   "source": []
  }
 ],
 "metadata": {
  "kernelspec": {
   "display_name": "Python 3 (ipykernel)",
   "language": "python",
   "name": "python3"
  },
  "language_info": {
   "codemirror_mode": {
    "name": "ipython",
    "version": 3
   },
   "file_extension": ".py",
   "mimetype": "text/x-python",
   "name": "python",
   "nbconvert_exporter": "python",
   "pygments_lexer": "ipython3",
   "version": "3.9.7"
  }
 },
 "nbformat": 4,
 "nbformat_minor": 5
}
