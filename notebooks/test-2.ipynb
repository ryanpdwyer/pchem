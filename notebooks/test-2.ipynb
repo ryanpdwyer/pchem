{
 "cells": [
  {
   "cell_type": "code",
   "execution_count": 3,
   "id": "1c7f3c47",
   "metadata": {},
   "outputs": [],
   "source": [
    "import sympy as sm\n",
    "sm.init_printing()\n",
    "from pchem import solve"
   ]
  },
  {
   "cell_type": "code",
   "execution_count": 7,
   "id": "8e93f2eb",
   "metadata": {},
   "outputs": [],
   "source": [
    "P, V, n, R, T = sm.symbols('P V n R T', positive=True)\n",
    "subs = dict(\n",
    "P=2,\n",
    "V=0.1,\n",
    "R=0.083145,\n",
    "T=275,\n",
    "n=1,\n",
    ")\n",
    "gas_law = P*V - n * R *T\n",
    "n1 = solve(gas_law, n, subs)"
   ]
  },
  {
   "cell_type": "code",
   "execution_count": 8,
   "id": "81955ee5",
   "metadata": {},
   "outputs": [
    {
     "data": {
      "image/png": "[encoded data removed]",
      "text/latex": [
       "$\\displaystyle 50.0$"
      ],
      "text/plain": [
       "50.0000000000000"
      ]
     },
     "execution_count": 8,
     "metadata": {},
     "output_type": "execute_result"
    }
   ],
   "source": [
    "R_J = 8.3145\n",
    "n1 * 5/2*R_J*(550-275)"
   ]
  },
  {
   "cell_type": "code",
   "execution_count": 10,
   "id": "a1c07156",
   "metadata": {},
   "outputs": [
    {
     "data": {
      "image/png": "[encoded data removed]",
      "text/latex": [
       "$\\displaystyle 2.5 R$"
      ],
      "text/plain": [
       "2.5⋅R"
      ]
     },
     "execution_count": 10,
     "metadata": {},
     "output_type": "execute_result"
    }
   ],
   "source": [
    "sm.diff(5/2*R*T, T)"
   ]
  },
  {
   "cell_type": "code",
   "execution_count": null,
   "id": "9db9c5ab",
   "metadata": {},
   "outputs": [],
   "source": []
  }
 ],
 "metadata": {
  "kernelspec": {
   "display_name": "Python 3 (ipykernel)",
   "language": "python",
   "name": "python3"
  },
  "language_info": {
   "codemirror_mode": {
    "name": "ipython",
    "version": 3
   },
   "file_extension": ".py",
   "mimetype": "text/x-python",
   "name": "python",
   "nbconvert_exporter": "python",
   "pygments_lexer": "ipython3",
   "version": "3.9.7"
  }
 },
 "nbformat": 4,
 "nbformat_minor": 5
}
