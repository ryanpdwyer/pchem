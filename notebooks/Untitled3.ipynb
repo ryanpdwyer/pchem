{
 "cells": [
  {
   "cell_type": "code",
   "execution_count": 4,
   "id": "ebe62109",
   "metadata": {},
   "outputs": [
    {
     "data": {
      "text/plain": [
       "0.2762021582411176"
      ]
     },
     "execution_count": 4,
     "metadata": {},
     "output_type": "execute_result"
    }
   ],
   "source": [
    "import numpy as np\n",
    "R=0.008314 \n",
    "E=5\n",
    "T=273\n",
    "2 / (2+5*np.exp(-E/(R*T)))\n",
    "\n",
    "5/2*np.exp(-E/(R*T))"
   ]
  },
  {
   "cell_type": "code",
   "execution_count": 7,
   "id": "1adfd277",
   "metadata": {},
   "outputs": [],
   "source": [
    "q = 2+5*np.exp(-E/(R*T))"
   ]
  },
  {
   "cell_type": "code",
   "execution_count": 8,
   "id": "2e430bf2",
   "metadata": {},
   "outputs": [
    {
     "data": {
      "text/plain": [
       "2.552404316482235"
      ]
     },
     "execution_count": 8,
     "metadata": {},
     "output_type": "execute_result"
    }
   ],
   "source": [
    "2 / (2+)"
   ]
  },
  {
   "cell_type": "code",
   "execution_count": 9,
   "id": "7c074222",
   "metadata": {},
   "outputs": [
    {
     "data": {
      "text/plain": [
       "1.0821254158580325"
      ]
     },
     "execution_count": 9,
     "metadata": {},
     "output_type": "execute_result"
    }
   ],
   "source": [
    "5 * 5*np.exp(-E/(R*T)) / q"
   ]
  },
  {
   "cell_type": "code",
   "execution_count": 11,
   "id": "23bc9a71",
   "metadata": {},
   "outputs": [
    {
     "data": {
      "text/plain": [
       "0.2164250831716065"
      ]
     },
     "execution_count": 11,
     "metadata": {},
     "output_type": "execute_result"
    }
   ],
   "source": [
    "5*np.exp(-E/(R*T)) / q"
   ]
  },
  {
   "cell_type": "code",
   "execution_count": null,
   "id": "011527fc",
   "metadata": {},
   "outputs": [],
   "source": []
  }
 ],
 "metadata": {
  "kernelspec": {
   "display_name": "Python 3 (ipykernel)",
   "language": "python",
   "name": "python3"
  },
  "language_info": {
   "codemirror_mode": {
    "name": "ipython",
    "version": 3
   },
   "file_extension": ".py",
   "mimetype": "text/x-python",
   "name": "python",
   "nbconvert_exporter": "python",
   "pygments_lexer": "ipython3",
   "version": "3.9.7"
  }
 },
 "nbformat": 4,
 "nbformat_minor": 5
}
