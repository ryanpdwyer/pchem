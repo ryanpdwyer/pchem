{
 "cells": [
  {
   "cell_type": "code",
   "execution_count": 84,
   "id": "17a4acb5",
   "metadata": {},
   "outputs": [],
   "source": [
    "import CoolProp\n",
    "import numpy as np\n",
    "import pandas as pd\n",
    "import matplotlib.pyplot as plt\n",
    "import plotly.express as px\n",
    "from munch import Munch"
   ]
  },
  {
   "cell_type": "code",
   "execution_count": 104,
   "id": "c569b89c",
   "metadata": {},
   "outputs": [],
   "source": [
    "R = 0.08314\n",
    "\n",
    "def IG(**kwargs):\n",
    "    a = Munch(kwargs)\n",
    "    if len(a) < 3:\n",
    "        return ValueError(\"Not enough information provided.\")\n",
    "    if 'n' not in a:\n",
    "        a.n = a.P*a.V/(R*a.T)\n",
    "    elif 'P' not in a:\n",
    "        a.P = a.n*R*a.T/(a.V)\n",
    "    elif 'V' not in a:\n",
    "        a.V = a.n*R*a.T/(a.P)\n",
    "    elif 'T' not in a:\n",
    "        a.T = a.P*a.V / (R*a.n)\n",
    "    return a\n",
    "\n",
    "A = IG(T=273, P=1.0, V=0.366)\n",
    "\n",
    "B = IG(V=0.366, T=373, n=A.n)\n",
    "\n",
    "C = IG(P=1, n=A.n, T=B.T)\n",
    "\n",
    "D = IG(n=A.n, V=C.V, T=373*(C.V/B.V)**(-2/3))\n",
    "\n"
   ]
  },
  {
   "cell_type": "code",
   "execution_count": 116,
   "id": "984af0e0",
   "metadata": {},
   "outputs": [],
   "source": [
    "def deltaU(i, f, cVbar=3/2*R_J):\n",
    "    return cVbar*f.n*(f.T-i.T)\n",
    "\n",
    "def deltaS(i, f, cVbar=3/2*R_J):\n",
    "    cPbar = cVbar + R_J\n",
    "    dS1 = cPbar * f.n * np.log(f.T/i.T) # Change tempearture (const P)\n",
    "    dS2 = -f.n*R_J*np.log(f.P/i.P) # Change pressure (const T)\n",
    "    return dS1 + dS2"
   ]
  },
  {
   "cell_type": "code",
   "execution_count": 117,
   "id": "924f235d",
   "metadata": {},
   "outputs": [
    {
     "data": {
      "text/plain": [
       "0.06276429920436329"
      ]
     },
     "execution_count": 117,
     "metadata": {},
     "output_type": "execute_result"
    }
   ],
   "source": [
    "deltaS(A, B, 3/2*R_J)"
   ]
  },
  {
   "cell_type": "code",
   "execution_count": 118,
   "id": "453263d0",
   "metadata": {},
   "outputs": [
    {
     "data": {
      "text/plain": [
       "0.04184286613624224"
      ]
     },
     "execution_count": 118,
     "metadata": {},
     "output_type": "execute_result"
    }
   ],
   "source": [
    "deltaS(B, C)"
   ]
  },
  {
   "cell_type": "code",
   "execution_count": 119,
   "id": "4e00c412",
   "metadata": {},
   "outputs": [
    {
     "data": {
      "text/plain": [
       "-0.10460716534060549"
      ]
     },
     "execution_count": 119,
     "metadata": {},
     "output_type": "execute_result"
    }
   ],
   "source": [
    "deltaS(C, A)"
   ]
  },
  {
   "cell_type": "markdown",
   "id": "d9b5fd8f",
   "metadata": {},
   "source": [
    "$$\n",
    "\\begin{align}\n",
    "dS& =  \\frac{dq_\\text{rev}}{T}\\\\\n",
    "\\int_\\text{i}^\\text{f} dS& = \\int_\\text{i}^\\text{f} \\frac{C_V \\, dT}{T}\\\\\n",
    "\\Delta S& = C_V \\ln \\left (\\frac{T_\\text{f}}{T_\\text{i}} \\right )\n",
    "\\end{align}\n",
    "$$\n",
    "\n"
   ]
  },
  {
   "cell_type": "code",
   "execution_count": 55,
   "id": "f23bfff1",
   "metadata": {},
   "outputs": [],
   "source": [
    "cP = 5/2*n*R_J"
   ]
  },
  {
   "cell_type": "code",
   "execution_count": 56,
   "id": "dd3fc170",
   "metadata": {},
   "outputs": [
    {
     "data": {
      "text/plain": [
       "-0.1045933728079275"
      ]
     },
     "execution_count": 56,
     "metadata": {},
     "output_type": "execute_result"
    }
   ],
   "source": [
    "dS1= cP*np.log(Tf/Ti)\n",
    "dS1"
   ]
  },
  {
   "cell_type": "code",
   "execution_count": 59,
   "id": "cf47123a",
   "metadata": {},
   "outputs": [
    {
     "data": {
      "text/plain": [
       "-33.51206434316353"
      ]
     },
     "execution_count": 59,
     "metadata": {},
     "output_type": "execute_result"
    }
   ],
   "source": [
    "q1 = cP*(Tf-Ti)\n",
    "q1_surr = -q1\n",
    "q1"
   ]
  },
  {
   "cell_type": "code",
   "execution_count": 58,
   "id": "dc6d2fd2",
   "metadata": {},
   "outputs": [],
   "source": [
    "T_surr = Tf\n",
    "dS1_surr = q1_surr/T_surr"
   ]
  },
  {
   "cell_type": "code",
   "execution_count": 54,
   "id": "da665c0f",
   "metadata": {},
   "outputs": [
    {
     "data": {
      "text/plain": [
       "-33.51206434316353"
      ]
     },
     "execution_count": 54,
     "metadata": {},
     "output_type": "execute_result"
    }
   ],
   "source": [
    "q1"
   ]
  },
  {
   "cell_type": "code",
   "execution_count": 35,
   "id": "b24733a2",
   "metadata": {},
   "outputs": [
    {
     "data": {
      "text/plain": [
       "0.018161441635894948"
      ]
     },
     "execution_count": 35,
     "metadata": {},
     "output_type": "execute_result"
    }
   ],
   "source": [
    "dS1_surr + dS1"
   ]
  },
  {
   "cell_type": "markdown",
   "id": "e4453446",
   "metadata": {},
   "source": [
    "Constant volume, put the container back in the 373 K container.\n",
    "\n",
    "\n",
    "Reversible isothermal expansion.\n"
   ]
  },
  {
   "cell_type": "markdown",
   "id": "d6e676cb",
   "metadata": {},
   "source": [
    "$$\n",
    "\\begin{align}\n",
    "dS& =  \\frac{dq_\\text{rev}}{T}\\\\\n",
    "\\int_\\text{i}^\\text{f} dS& = \\int_\\text{i}^\\text{f} \\frac{C_P \\, dT}{T}\\\\\n",
    "\\Delta S& = C_P \\ln \\left (\\frac{T_\\text{f}}{T_\\text{i}} \\right )\n",
    "\\end{align}\n",
    "$$\n",
    "\n"
   ]
  },
  {
   "cell_type": "code",
   "execution_count": 44,
   "id": "a8a72dd4",
   "metadata": {},
   "outputs": [
    {
     "name": "stdout",
     "output_type": "stream",
     "text": [
      "-0.053906805913935985\n"
     ]
    },
    {
     "data": {
      "text/plain": [
       "0.008849217770820553"
      ]
     },
     "execution_count": 44,
     "metadata": {},
     "output_type": "execute_result"
    }
   ],
   "source": [
    "C_V = 3/2*n*R_J\n",
    "dS2 = C_V*np.log(Ti/Tf)\n",
    "q2 = C_V*(Ti - Tf)\n",
    "dS2_surr = -q2/Ti\n",
    "print(dS2_surr)\n",
    "dS2_universe = dS2_surr + dS2\n",
    "dS2_universe"
   ]
  },
  {
   "cell_type": "markdown",
   "id": "d06a1b2d",
   "metadata": {},
   "source": [
    "Reversible isothermal expansion."
   ]
  },
  {
   "cell_type": "code",
   "execution_count": 66,
   "id": "df78dac0",
   "metadata": {},
   "outputs": [
    {
     "data": {
      "text/plain": [
       "0.041837349123171004"
      ]
     },
     "execution_count": 66,
     "metadata": {},
     "output_type": "execute_result"
    }
   ],
   "source": [
    "w3 = -n*R_J*Ti*np.log(Vi/Vf)\n",
    "q3 = -w3\n",
    "dS3 = q3/Ti\n",
    "dS3_surr = -q3/Ti\n",
    "dS3"
   ]
  },
  {
   "cell_type": "markdown",
   "id": "6e9906b0",
   "metadata": {},
   "source": [
    "What about starting at $373 K$ and doing a (reversible) adiabatic expansion? What is $\\Delta S$ for the system, surroundings, and universe?"
   ]
  },
  {
   "cell_type": "markdown",
   "id": "192a2d09",
   "metadata": {},
   "source": [
    "$$\n",
    "\\begin{align}\n",
    "dS& =  \\frac{dq_\\text{rev}}{T}\\\\\n",
    "\\int_\\text{i}^\\text{f} dS& = \\int_\\text{i}^\\text{f} \\frac{C_P \\, dT}{T}\\\\\n",
    "\\Delta S& = C_P \\ln \\left (\\frac{T_\\text{f}}{T_\\text{i}} \\right )\n",
    "\\end{align}\n",
    "$$\n",
    "\n"
   ]
  },
  {
   "cell_type": "markdown",
   "id": "754720f8",
   "metadata": {},
   "source": [
    "$$T_\\text{D} = T_\\text{B} \\left ( \\frac{V_\\text{D}}{V_\\text{B}} \\right )^{-\\frac{2}{3}} $$"
   ]
  },
  {
   "cell_type": "code",
   "execution_count": 79,
   "id": "89a62c9a",
   "metadata": {},
   "outputs": [],
   "source": [
    "V_D = V_C\n",
    "V_B = V_A\n",
    "T_D = T_B*(V_D/V_B)**(-2/3)\n",
    "\n",
    "DU_4 = 3/2*n*R_J*(T_D-T_B)"
   ]
  }
 ],
 "metadata": {
  "kernelspec": {
   "display_name": "Python 3 (ipykernel)",
   "language": "python",
   "name": "python3"
  },
  "language_info": {
   "codemirror_mode": {
    "name": "ipython",
    "version": 3
   },
   "file_extension": ".py",
   "mimetype": "text/x-python",
   "name": "python",
   "nbconvert_exporter": "python",
   "pygments_lexer": "ipython3",
   "version": "3.9.15"
  }
 },
 "nbformat": 4,
 "nbformat_minor": 5
}
