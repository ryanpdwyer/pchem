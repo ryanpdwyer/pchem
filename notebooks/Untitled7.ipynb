{
 "cells": [
  {
   "cell_type": "code",
   "execution_count": 1,
   "id": "74f2c1b3",
   "metadata": {},
   "outputs": [
    {
     "data": {
      "text/plain": [
       "-177.3"
      ]
     },
     "execution_count": 1,
     "metadata": {},
     "output_type": "execute_result"
    }
   ],
   "source": [
    "-124.7+-52.6"
   ]
  },
  {
   "cell_type": "code",
   "execution_count": 2,
   "id": "9d15cffb",
   "metadata": {},
   "outputs": [
    {
     "data": {
      "text/plain": [
       "9"
      ]
     },
     "execution_count": 2,
     "metadata": {},
     "output_type": "execute_result"
    }
   ],
   "source": [
    "2*295-(149+432)"
   ]
  },
  {
   "cell_type": "code",
   "execution_count": 3,
   "id": "001aa48f",
   "metadata": {},
   "outputs": [
    {
     "data": {
      "text/plain": [
       "-381"
      ]
     },
     "execution_count": 3,
     "metadata": {},
     "output_type": "execute_result"
    }
   ],
   "source": [
    "3*614+3*432 - (6*413 + 3*347)"
   ]
  },
  {
   "cell_type": "code",
   "execution_count": 4,
   "id": "da0dbf8b",
   "metadata": {},
   "outputs": [
    {
     "data": {
      "text/plain": [
       "-396"
      ]
     },
     "execution_count": 4,
     "metadata": {},
     "output_type": "execute_result"
    }
   ],
   "source": [
    "713+-1075+-282+248"
   ]
  },
  {
   "cell_type": "code",
   "execution_count": null,
   "id": "4ea7bae8",
   "metadata": {},
   "outputs": [],
   "source": []
  }
 ],
 "metadata": {
  "kernelspec": {
   "display_name": "Python 3 (ipykernel)",
   "language": "python",
   "name": "python3"
  },
  "language_info": {
   "codemirror_mode": {
    "name": "ipython",
    "version": 3
   },
   "file_extension": ".py",
   "mimetype": "text/x-python",
   "name": "python",
   "nbconvert_exporter": "python",
   "pygments_lexer": "ipython3",
   "version": "3.9.7"
  }
 },
 "nbformat": 4,
 "nbformat_minor": 5
}
