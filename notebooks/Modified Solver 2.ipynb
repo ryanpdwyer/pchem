{
 "cells": [
  {
   "cell_type": "markdown",
   "id": "9cbedd35",
   "metadata": {},
   "source": [
    "# Modifications to the standard Gordon equilibrium solver\n",
    "\n",
    "The Gordon equilibrium solver works well for reactions in solution or gases. Our 2 key modifications are to \n",
    "\n",
    "1) Modify the chemical potential equation to be zero if we run out of a solid/liquid substance (n_i = 0) and the chemical potential difference is positive ($\\mu_i - \\sum A \\vec{\\lambda} > 0$) - we have used the substance up, and there is no way to satisfy the chemical potential equation. Note that if the chemical potential difference is negative, we should instead create more of the substance.\n",
    "\n",
    "2) Not sure if this is different than their approach, but use the exact chemical potential of each element at each iteration.\n",
    "\n",
    "Then hopefully the same iterative procedure should work well?"
   ]
  },
  {
   "cell_type": "code",
   "execution_count": 1,
   "id": "cf75f481",
   "metadata": {},
   "outputs": [],
   "source": [
    "%load_ext autoreload\n",
    "%autoreload 2\n",
    "import pchem.calorimetry as cal\n",
    "import numpy as np\n",
    "import sympy as sm"
   ]
  },
  {
   "cell_type": "markdown",
   "id": "1ece27ad",
   "metadata": {},
   "source": [
    "# Test case showing good performance for normal chemical equilibrium"
   ]
  },
  {
   "cell_type": "code",
   "execution_count": 2,
   "id": "94fc196f",
   "metadata": {},
   "outputs": [],
   "source": [
    "S  = cal.Substance2(\"S(l)\", state=\"l\", H0=0, S0=0, cP=50.0, molarMass=100.0, density=1.0, atoms=dict(S=1))\n",
    "P  = cal.Substance2(\"P(aq)\", state=\"aq\", H0=0, S0=0, cP=0, molarMass=100.0, density=1.0, atoms=dict(P=1))\n",
    "D  = cal.Substance2(\"D(aq)\", state=\"aq\", H0=0, S0=0, cP=0, molarMass=100.0, density=1.0, atoms=dict(D=1))\n",
    "PD = cal.Substance2(\"PD(aq)\", state=\"aq\", H0=0, S0=50.0, cP=0, molarMass=100.0, density=1.0, atoms=dict(D=1, P=1))\n",
    "\n",
    "chemicals = {0: S, 1: P, 2: D, 3: PD}\n",
    "\n",
    "s0 = cal.State3(T=298.15, chemicals=chemicals, rxns=[], V=1.0)\n",
    "\n",
    "s0.set_state({0:50.0, 1: 1.0, 2: 1.0, 3: 0.0})"
   ]
  },
  {
   "cell_type": "code",
   "execution_count": 3,
   "id": "4239be29",
   "metadata": {},
   "outputs": [],
   "source": [
    "K = np.exp(50.0/8.3145)"
   ]
  },
  {
   "cell_type": "code",
   "execution_count": 4,
   "id": "e6dc1c6a",
   "metadata": {},
   "outputs": [],
   "source": [
    "x = sm.symbols('x')\n",
    "\n",
    "x_solved = float(sm.solve(K - x/ (1-x)**2, x)[0])"
   ]
  },
  {
   "cell_type": "code",
   "execution_count": 5,
   "id": "1502a666",
   "metadata": {},
   "outputs": [
    {
     "name": "stdout",
     "output_type": "stream",
     "text": [
      "[ 1.  1.  0. 50.]\n"
     ]
    }
   ],
   "source": [
    "out, iterations = s0._solve_iterative()"
   ]
  },
  {
   "cell_type": "code",
   "execution_count": 6,
   "id": "78549955",
   "metadata": {},
   "outputs": [
    {
     "data": {
      "text/plain": [
       "True"
      ]
     },
     "execution_count": 6,
     "metadata": {},
     "output_type": "execute_result"
    }
   ],
   "source": [
    "np.allclose( np.array([1-x_solved, 1-x_solved, x_solved]), out[:3])"
   ]
  },
  {
   "cell_type": "markdown",
   "id": "8f3d58b7",
   "metadata": {},
   "source": [
    "## Normal chemical equilibrium: temperature change"
   ]
  },
  {
   "cell_type": "code",
   "execution_count": 7,
   "id": "f292aca5",
   "metadata": {},
   "outputs": [
    {
     "name": "stdout",
     "output_type": "stream",
     "text": [
      "T=298.15\n"
     ]
    }
   ],
   "source": [
    "out, iterations = s0._solve_iterative_dH(dH=0.0)\n",
    "n_moles = out[:4]\n",
    "lambdas = out[4:7]\n",
    "T = out[-1]\n",
    "print(f\"{T=}\")"
   ]
  },
  {
   "cell_type": "code",
   "execution_count": 8,
   "id": "5e8241d6",
   "metadata": {},
   "outputs": [
    {
     "name": "stdout",
     "output_type": "stream",
     "text": [
      "T=298.19\n"
     ]
    },
    {
     "data": {
      "text/plain": [
       "True"
      ]
     },
     "execution_count": 8,
     "metadata": {},
     "output_type": "execute_result"
    }
   ],
   "source": [
    "out, iterations = s0._solve_iterative_dH(dH=100.0)\n",
    "n_moles = out[:4]\n",
    "lambdas = out[4:7]\n",
    "T = out[-1]\n",
    "print(f\"{T=}\")\n",
    "\n",
    "cP = 2500.0\n",
    "dT = 100/2500.0\n",
    "\n",
    "np.allclose(T, s0.T + dT) # Good!"
   ]
  },
  {
   "cell_type": "markdown",
   "id": "4ad26e3d",
   "metadata": {},
   "source": [
    "## Exothermic reaction\n",
    "\n",
    "Here the temperature changes will be coupled to the chemical reaction."
   ]
  },
  {
   "cell_type": "code",
   "execution_count": 9,
   "id": "a6b67a07",
   "metadata": {},
   "outputs": [],
   "source": [
    "S  = cal.Substance2(\"S(l)\", state=\"l\", H0=0, S0=0, cP=50.0, molarMass=100.0, density=1.0, atoms=dict(S=1))\n",
    "P  = cal.Substance2(\"P(aq)\", state=\"aq\", H0=0, S0=0, cP=0, molarMass=100.0, density=1.0, atoms=dict(P=1))\n",
    "D  = cal.Substance2(\"D(aq)\", state=\"aq\", H0=0, S0=0, cP=0, molarMass=100.0, density=1.0, atoms=dict(D=1))\n",
    "PD = cal.Substance2(\"PD(aq)\", state=\"aq\", H0=-50*298.15, S0=0.0, cP=0, molarMass=100.0, density=1.0, atoms=dict(D=1, P=1))\n",
    "\n",
    "chemicals = {0: S, 1: P, 2: D, 3: PD}\n",
    "\n",
    "s0 = cal.State3(T=298.15, chemicals=chemicals, rxns=[], V=1.0)\n",
    "\n",
    "s0.set_state({0:50.0, 1: 1.0, 2: 1.0, 3: 0.0})"
   ]
  },
  {
   "cell_type": "code",
   "execution_count": 10,
   "id": "acd1c0e2",
   "metadata": {},
   "outputs": [
    {
     "name": "stdout",
     "output_type": "stream",
     "text": [
      "T=303.8253308017202\n",
      "n_moles=array([4.82423609e-02, 4.82423609e-02, 9.51757639e-01, 5.00000000e+01])\n"
     ]
    }
   ],
   "source": [
    "out, iterations = s0._solve_iterative_dH(dH=0.0)\n",
    "n_moles = out[:4]\n",
    "lambdas = out[4:7]\n",
    "T = out[-1]\n",
    "print(f\"{T=}\")\n",
    "print(f\"{n_moles=}\")"
   ]
  },
  {
   "cell_type": "code",
   "execution_count": 11,
   "id": "f6a037eb",
   "metadata": {},
   "outputs": [
    {
     "name": "stdout",
     "output_type": "stream",
     "text": [
      "T=303.8091455150239\n",
      "n_moles=array([ 0.05095665,  0.05095665,  0.94904335, 50.        ])\n"
     ]
    }
   ],
   "source": [
    "s0.x = n_moles\n",
    "s0.T = T\n",
    "out, iterations = s0._solve_iterative_dH(dH=0.0)\n",
    "n_moles = out[:4]\n",
    "lambdas = out[4:7]\n",
    "T = out[-1]\n",
    "print(f\"{T=}\")\n",
    "print(f\"{n_moles=}\")"
   ]
  },
  {
   "cell_type": "code",
   "execution_count": 12,
   "id": "e53342f2",
   "metadata": {},
   "outputs": [
    {
     "name": "stdout",
     "output_type": "stream",
     "text": [
      "T=303.80919202671987\n",
      "n_moles=array([ 0.05094885,  0.05094885,  0.94905115, 50.        ])\n"
     ]
    }
   ],
   "source": [
    "s0.x = n_moles\n",
    "s0.T = T\n",
    "out, iterations = s0._solve_iterative_dH(dH=0.0)\n",
    "n_moles = out[:4]\n",
    "lambdas = out[4:7]\n",
    "T = out[-1]\n",
    "print(f\"{T=}\")\n",
    "print(f\"{n_moles=}\")"
   ]
  },
  {
   "cell_type": "code",
   "execution_count": 13,
   "id": "8557143c",
   "metadata": {},
   "outputs": [
    {
     "name": "stdout",
     "output_type": "stream",
     "text": [
      "T=303.8091918930699\n",
      "n_moles=array([ 0.05094887,  0.05094887,  0.94905113, 50.        ])\n"
     ]
    }
   ],
   "source": [
    "s0.x = n_moles\n",
    "s0.T = T\n",
    "out, iterations = s0._solve_iterative_dH(dH=0.0)\n",
    "n_moles = out[:4]\n",
    "lambdas = out[4:7]\n",
    "T = out[-1]\n",
    "print(f\"{T=}\")\n",
    "print(f\"{n_moles=}\")"
   ]
  },
  {
   "cell_type": "code",
   "execution_count": 14,
   "id": "8f4742d6",
   "metadata": {},
   "outputs": [
    {
     "data": {
      "text/plain": [
       "[4.3867801258201666e-07, 1.2569474350243581e-09]"
      ]
     },
     "execution_count": 14,
     "metadata": {},
     "output_type": "execute_result"
    }
   ],
   "source": [
    "iterations"
   ]
  },
  {
   "cell_type": "markdown",
   "id": "9e7441cf",
   "metadata": {},
   "source": [
    "## Phase transition"
   ]
  },
  {
   "cell_type": "code",
   "execution_count": 15,
   "id": "1761fd12",
   "metadata": {},
   "outputs": [],
   "source": [
    "S  = cal.Substance2(\"S(l)\", state=\"l\", H0=0, S0=0, cP=50.0, molarMass=100.0, density=1.0, atoms=dict(S=1))\n",
    "Ssolid = cal.Substance2(\"S(s)\", state=\"s\", H0=-10000, S0=-20.0, cP=40.0, molarMass=100.0, density=1.05, atoms=dict(S=1))\n",
    "chemicals = {0: Ssolid, 1: S}\n",
    "\n",
    "s0 = cal.State3(T=298.15, chemicals=chemicals, rxns=[], V=1.0)\n",
    "\n",
    "s0.set_state({0:10.0, 1: 0.0})"
   ]
  },
  {
   "cell_type": "code",
   "execution_count": 16,
   "id": "ed45cd6d",
   "metadata": {},
   "outputs": [],
   "source": [
    "x0_pt = np.r_[s0.x, 4037/(s0.T*8.3145), s0.T]\n",
    "\n",
    "A, y = s0._fHi(x0_pt, 400.0)"
   ]
  },
  {
   "cell_type": "code",
   "execution_count": 17,
   "id": "67b22b7d",
   "metadata": {},
   "outputs": [
    {
     "data": {
      "text/plain": [
       "('S(l)', 'S(s)')"
      ]
     },
     "execution_count": 17,
     "metadata": {},
     "output_type": "execute_result"
    }
   ],
   "source": [
    "s0.chem_labels"
   ]
  },
  {
   "cell_type": "code",
   "execution_count": 18,
   "id": "c70b7b04",
   "metadata": {},
   "outputs": [
    {
     "data": {
      "text/plain": [
       "array([-0.        ,  1.62850013,  0.        ,  0.16135746])"
      ]
     },
     "execution_count": 18,
     "metadata": {},
     "output_type": "execute_result"
    }
   ],
   "source": [
    "y"
   ]
  },
  {
   "cell_type": "code",
   "execution_count": 19,
   "id": "20c4ca57",
   "metadata": {},
   "outputs": [],
   "source": [
    "lb = np.array([0, -10, -np.inf, -np.inf])"
   ]
  },
  {
   "cell_type": "code",
   "execution_count": 20,
   "id": "de2bae66",
   "metadata": {},
   "outputs": [],
   "source": [
    "dy = A @ np.array([0,0,x0_pt[2],0])"
   ]
  },
  {
   "cell_type": "code",
   "execution_count": 21,
   "id": "8bbfb28d",
   "metadata": {},
   "outputs": [],
   "source": [
    "m=np.array([True, True, False, True])"
   ]
  },
  {
   "cell_type": "code",
   "execution_count": 22,
   "id": "1d13e5b4",
   "metadata": {},
   "outputs": [],
   "source": [
    "y3 = (y+dy)"
   ]
  },
  {
   "cell_type": "code",
   "execution_count": 23,
   "id": "79c2477f",
   "metadata": {},
   "outputs": [],
   "source": [
    "A3 = A[:, m]"
   ]
  },
  {
   "cell_type": "code",
   "execution_count": 24,
   "id": "f7dcbeb6",
   "metadata": {},
   "outputs": [
    {
     "data": {
      "text/plain": [
       "array([-1.62850013,  0.        ,  0.        ,  0.16135746])"
      ]
     },
     "execution_count": 24,
     "metadata": {},
     "output_type": "execute_result"
    }
   ],
   "source": [
    "y3"
   ]
  },
  {
   "cell_type": "code",
   "execution_count": 25,
   "id": "6a08fa97",
   "metadata": {},
   "outputs": [
    {
     "ename": "NameError",
     "evalue": "name 'optimize' is not defined",
     "output_type": "error",
     "traceback": [
      "\u001b[0;31m---------------------------------------------------------------------------\u001b[0m",
      "\u001b[0;31mNameError\u001b[0m                                 Traceback (most recent call last)",
      "Input \u001b[0;32mIn [25]\u001b[0m, in \u001b[0;36m<module>\u001b[0;34m\u001b[0m\n\u001b[1;32m      1\u001b[0m lb \u001b[38;5;241m=\u001b[39m np\u001b[38;5;241m.\u001b[39marray([\u001b[38;5;241m0\u001b[39m, \u001b[38;5;241m-\u001b[39m\u001b[38;5;241m10\u001b[39m, \u001b[38;5;241m-\u001b[39mnp\u001b[38;5;241m.\u001b[39minf])\n\u001b[0;32m----> 2\u001b[0m y_out \u001b[38;5;241m=\u001b[39m \u001b[43moptimize\u001b[49m\u001b[38;5;241m.\u001b[39mlsq_linear(A3, y3, bounds\u001b[38;5;241m=\u001b[39m(lb, np\u001b[38;5;241m.\u001b[39minf))\n",
      "\u001b[0;31mNameError\u001b[0m: name 'optimize' is not defined"
     ]
    }
   ],
   "source": [
    "lb = np.array([0, -10, -np.inf])\n",
    "y_out = optimize.lsq_linear(A3, y3, bounds=(lb, np.inf))"
   ]
  },
  {
   "cell_type": "code",
   "execution_count": null,
   "id": "9eb5b358",
   "metadata": {},
   "outputs": [],
   "source": [
    "x_new = np.r_[x0_pt[:2] + y_out.x[:2], 0.0, x0_pt[-1]*np.exp(y_out.x[-1])]"
   ]
  },
  {
   "cell_type": "code",
   "execution_count": 26,
   "id": "7c10e68e",
   "metadata": {},
   "outputs": [
    {
     "ename": "NameError",
     "evalue": "name 'x_new' is not defined",
     "output_type": "error",
     "traceback": [
      "\u001b[0;31m---------------------------------------------------------------------------\u001b[0m",
      "\u001b[0;31mNameError\u001b[0m                                 Traceback (most recent call last)",
      "Input \u001b[0;32mIn [26]\u001b[0m, in \u001b[0;36m<module>\u001b[0;34m\u001b[0m\n\u001b[0;32m----> 1\u001b[0m mu2 \u001b[38;5;241m=\u001b[39m s0\u001b[38;5;241m.\u001b[39mmu(x\u001b[38;5;241m=\u001b[39m\u001b[43mx_new\u001b[49m[:\u001b[38;5;241m2\u001b[39m], T\u001b[38;5;241m=\u001b[39mx_new[\u001b[38;5;241m-\u001b[39m\u001b[38;5;241m1\u001b[39m])\u001b[38;5;241m/\u001b[39m(\u001b[38;5;241m8.3145\u001b[39m\u001b[38;5;241m*\u001b[39mx_new[\u001b[38;5;241m-\u001b[39m\u001b[38;5;241m1\u001b[39m])\n",
      "\u001b[0;31mNameError\u001b[0m: name 'x_new' is not defined"
     ]
    }
   ],
   "source": [
    "mu2 = s0.mu(x=x_new[:2], T=x_new[-1])/(8.3145*x_new[-1])"
   ]
  },
  {
   "cell_type": "code",
   "execution_count": 338,
   "id": "acc88bfe",
   "metadata": {},
   "outputs": [
    {
     "data": {
      "text/plain": [
       "array([-1.62198613])"
      ]
     },
     "execution_count": 338,
     "metadata": {},
     "output_type": "execute_result"
    }
   ],
   "source": [
    "mu2"
   ]
  },
  {
   "cell_type": "code",
   "execution_count": 344,
   "id": "a101dcf2",
   "metadata": {},
   "outputs": [],
   "source": [
    "A, y = s0._fHi(x_new, 2000.0)\n",
    "dy = A @ np.array([0,0,mu2[0],0])\n",
    "y3 = y - dy\n",
    "A3 = A[:, m]"
   ]
  },
  {
   "cell_type": "code",
   "execution_count": 345,
   "id": "7e467796",
   "metadata": {},
   "outputs": [
    {
     "data": {
      "text/plain": [
       "array([[ 0.        ,  0.        , -1.        , -0.        ],\n",
       "       [ 0.        ,  0.        , -1.        ,  4.03393642],\n",
       "       [ 1.        ,  1.        ,  0.        ,  0.        ],\n",
       "       [ 0.        , -4.03393642,  0.        , 48.15683445]])"
      ]
     },
     "execution_count": 345,
     "metadata": {},
     "output_type": "execute_result"
    }
   ],
   "source": [
    "A"
   ]
  },
  {
   "cell_type": "code",
   "execution_count": 352,
   "id": "30f8fca9",
   "metadata": {},
   "outputs": [],
   "source": [
    "U, s, Vh = linalg.svd(A)"
   ]
  },
  {
   "cell_type": "markdown",
   "id": "7d2c4f6c",
   "metadata": {},
   "source": [
    "$$A = U \\sigma V^T$$\n",
    "\n",
    "$$U^T U \\sigma V^T x = y$$\n",
    "\n",
    "$$ x = V \\sigma^{-1} U^T y$$"
   ]
  },
  {
   "cell_type": "code",
   "execution_count": 364,
   "id": "6bc7e986",
   "metadata": {},
   "outputs": [
    {
     "data": {
      "text/plain": [
       "array([-4.65934073e+00,  4.65934073e+00, -1.35185608e-16,  4.03700000e-01])"
      ]
     },
     "execution_count": 364,
     "metadata": {},
     "output_type": "execute_result"
    }
   ],
   "source": [
    "Vh.T @ np.diag(s**-1) @ U.T @ y"
   ]
  },
  {
   "cell_type": "code",
   "execution_count": 365,
   "id": "0a34ba6f",
   "metadata": {},
   "outputs": [
    {
     "data": {
      "text/plain": [
       "array([-4.65934073,  4.65934073, -0.        ,  0.4037    ])"
      ]
     },
     "execution_count": 365,
     "metadata": {},
     "output_type": "execute_result"
    }
   ],
   "source": [
    "optimize.nonlin.l"
   ]
  },
  {
   "cell_type": "code",
   "execution_count": 340,
   "id": "622e0e92",
   "metadata": {},
   "outputs": [],
   "source": [
    "lb = np.r_[-x_new[:2], -np.inf]\n",
    "y_out2 = optimize.lsq_linear(A3, y3, bounds=(lb, np.inf))"
   ]
  },
  {
   "cell_type": "code",
   "execution_count": 341,
   "id": "24b3f489",
   "metadata": {},
   "outputs": [],
   "source": [
    "x_new2 = np.r_[x_new[:2] + y_out2.x[:2], 0.0, x_new[-1]*np.exp(y_out2.x[-1])]"
   ]
  },
  {
   "cell_type": "code",
   "execution_count": 343,
   "id": "64e71319",
   "metadata": {},
   "outputs": [
    {
     "data": {
      "text/plain": [
       "array([1.80722637e-01, 9.81927736e+00, 0.00000000e+00, 2.98631842e+02])"
      ]
     },
     "execution_count": 343,
     "metadata": {},
     "output_type": "execute_result"
    }
   ],
   "source": [
    "# optimize.least_squares()"
   ]
  },
  {
   "cell_type": "code",
   "execution_count": 237,
   "id": "5415a39b",
   "metadata": {},
   "outputs": [],
   "source": [
    "Aw = w @ A\n",
    "yw = w @ y"
   ]
  },
  {
   "cell_type": "code",
   "execution_count": 238,
   "id": "8f13d0ec",
   "metadata": {},
   "outputs": [],
   "source": [
    "lsq_lin = optimize.lsq_linear(Aw, yw, bounds=(lb, np.inf))"
   ]
  },
  {
   "cell_type": "code",
   "execution_count": 231,
   "id": "5f463697",
   "metadata": {},
   "outputs": [
    {
     "data": {
      "text/plain": [
       "array([ 0.        ,  0.        , -1.62850013,  0.        ])"
      ]
     },
     "execution_count": 231,
     "metadata": {},
     "output_type": "execute_result"
    }
   ],
   "source": [
    "A"
   ]
  },
  {
   "cell_type": "code",
   "execution_count": 233,
   "id": "0cd1b750",
   "metadata": {},
   "outputs": [
    {
     "data": {
      "text/plain": [
       "array([ 0.        ,  0.        , -1.62850013,  0.        ])"
      ]
     },
     "execution_count": 233,
     "metadata": {},
     "output_type": "execute_result"
    }
   ],
   "source": [
    "v"
   ]
  },
  {
   "cell_type": "code",
   "execution_count": 240,
   "id": "92a86581",
   "metadata": {},
   "outputs": [],
   "source": [
    "x1 = np.r_[x0_pt[:2] + lsq_lin.x[:2], lsq_lin.x[2], x0_pt[-1]*np.exp(lsq_lin.x[-1])]"
   ]
  },
  {
   "cell_type": "code",
   "execution_count": 241,
   "id": "a7141fdc",
   "metadata": {},
   "outputs": [
    {
     "data": {
      "text/plain": [
       "array([ 2.46833384e-01,  9.75316662e+00, -1.71199084e+00,  2.92042586e+02])"
      ]
     },
     "execution_count": 241,
     "metadata": {},
     "output_type": "execute_result"
    }
   ],
   "source": [
    "x1"
   ]
  },
  {
   "cell_type": "code",
   "execution_count": 228,
   "id": "c99b4d0a",
   "metadata": {},
   "outputs": [
    {
     "data": {
      "text/plain": [
       "array([ 1.71199084e+00, -2.22044605e-16,  0.00000000e+00,  1.11022302e-16])"
      ]
     },
     "execution_count": 228,
     "metadata": {},
     "output_type": "execute_result"
    }
   ],
   "source": [
    "A @ lsq_lin.x - y"
   ]
  },
  {
   "cell_type": "code",
   "execution_count": 108,
   "id": "785e0c0c",
   "metadata": {},
   "outputs": [],
   "source": [
    "from scipy import linalg, optimize"
   ]
  },
  {
   "cell_type": "code",
   "execution_count": 109,
   "id": "cb79aa8e",
   "metadata": {},
   "outputs": [
    {
     "ename": "TypeError",
     "evalue": "lstsq() missing 2 required positional arguments: 'a' and 'b'",
     "output_type": "error",
     "traceback": [
      "\u001b[0;31m---------------------------------------------------------------------------\u001b[0m",
      "\u001b[0;31mTypeError\u001b[0m                                 Traceback (most recent call last)",
      "Input \u001b[0;32mIn [109]\u001b[0m, in \u001b[0;36m<module>\u001b[0;34m\u001b[0m\n\u001b[0;32m----> 1\u001b[0m \u001b[43mlinalg\u001b[49m\u001b[38;5;241;43m.\u001b[39;49m\u001b[43mlstsq\u001b[49m\u001b[43m(\u001b[49m\u001b[43m)\u001b[49m\n",
      "\u001b[0;31mTypeError\u001b[0m: lstsq() missing 2 required positional arguments: 'a' and 'b'"
     ]
    }
   ],
   "source": [
    "optimize.lsq_linear()"
   ]
  },
  {
   "cell_type": "code",
   "execution_count": 155,
   "id": "568ff4c8",
   "metadata": {},
   "outputs": [],
   "source": [
    "C = np.array([[1, 0, 0], [0, 1, 0], [0, 0,0], [0, 0, 1]]).T"
   ]
  },
  {
   "cell_type": "code",
   "execution_count": 157,
   "id": "18d3f9f6",
   "metadata": {},
   "outputs": [
    {
     "data": {
      "text/plain": [
       "array([[1, 0, 0, 0],\n",
       "       [0, 1, 0, 0],\n",
       "       [0, 0, 0, 1]])"
      ]
     },
     "execution_count": 157,
     "metadata": {},
     "output_type": "execute_result"
    }
   ],
   "source": [
    "C"
   ]
  },
  {
   "cell_type": "code",
   "execution_count": 143,
   "id": "972f2159",
   "metadata": {},
   "outputs": [],
   "source": [
    "y_r = C.T @ y"
   ]
  },
  {
   "cell_type": "code",
   "execution_count": 147,
   "id": "55c503ff",
   "metadata": {},
   "outputs": [
    {
     "data": {
      "text/plain": [
       "array([[ 0.        ,  0.        ,  0.        ],\n",
       "       [ 0.        ,  0.        ,  4.03393642],\n",
       "       [ 0.        , -4.03393642, 48.10872572]])"
      ]
     },
     "execution_count": 147,
     "metadata": {},
     "output_type": "execute_result"
    }
   ],
   "source": [
    "C.T @ A @ C"
   ]
  },
  {
   "cell_type": "code",
   "execution_count": 144,
   "id": "611949cc",
   "metadata": {},
   "outputs": [
    {
     "data": {
      "text/plain": [
       "array([0.        , 1.62850013, 0.        , 0.16135746])"
      ]
     },
     "execution_count": 144,
     "metadata": {},
     "output_type": "execute_result"
    }
   ],
   "source": [
    "C @ y_r"
   ]
  },
  {
   "cell_type": "code",
   "execution_count": 145,
   "id": "605dc8d5",
   "metadata": {},
   "outputs": [
    {
     "data": {
      "text/plain": [
       "array([0.        , 1.62850013, 0.16135746])"
      ]
     },
     "execution_count": 145,
     "metadata": {},
     "output_type": "execute_result"
    }
   ],
   "source": [
    "y_r"
   ]
  },
  {
   "cell_type": "code",
   "execution_count": 148,
   "id": "6b549795",
   "metadata": {},
   "outputs": [],
   "source": [
    "condensed_phase_active = [True, False]"
   ]
  },
  {
   "cell_type": "code",
   "execution_count": 161,
   "id": "47801f07",
   "metadata": {},
   "outputs": [],
   "source": [
    "def make_C(s, active_phases, include_T=False):\n",
    "    N_condensed_active = sum(active_phases)\n",
    "    N_condensed = s.N_chem - s.N_aq\n",
    "    N_total = s.N_chem + s.N_atoms\n",
    "    if include_T:\n",
    "        N_total += 1\n",
    "    \n",
    "    N_active = N_total + (N_condensed_active - N_condensed) # Remove inactive condensed species...\n",
    "    C = np.zeros((N_active, N_total))\n",
    "    \n",
    "    for i in range(s.N_aq):\n",
    "        C[i, i] = 1\n",
    "    \n",
    "    i_curr = s.N_aq\n",
    "    for i in range(s.N_aq, s.N_chem):\n",
    "        j = i - s.N_aq\n",
    "        if active_phases[j]:\n",
    "            C[i_curr, i] = 1\n",
    "            i_curr += 1\n",
    "    \n",
    "    for i in range(s.N_chem, N_total):\n",
    "        C[i_curr, i] = 1\n",
    "        i_curr+= 1\n",
    "    \n",
    "    return C\n",
    "    "
   ]
  },
  {
   "cell_type": "code",
   "execution_count": 181,
   "id": "7e6a9db9",
   "metadata": {},
   "outputs": [],
   "source": [
    "C_active = make_C(s0, [False, True], True)"
   ]
  },
  {
   "cell_type": "code",
   "execution_count": 182,
   "id": "937b3e86",
   "metadata": {},
   "outputs": [],
   "source": [
    "A, y = s0._fHi(x0_pt, 400.0)"
   ]
  },
  {
   "cell_type": "code",
   "execution_count": 196,
   "id": "5303cd11",
   "metadata": {},
   "outputs": [],
   "source": [
    "A_active = C @ A @C_active.T\n",
    "y_active = C @ y"
   ]
  },
  {
   "cell_type": "code",
   "execution_count": 184,
   "id": "72582d68",
   "metadata": {},
   "outputs": [],
   "source": [
    "from scipy import linalg"
   ]
  },
  {
   "cell_type": "code",
   "execution_count": 203,
   "id": "0abb50e3",
   "metadata": {},
   "outputs": [],
   "source": [
    "m = np.array([False, True, True, True], dtype=bool)"
   ]
  },
  {
   "cell_type": "code",
   "execution_count": 209,
   "id": "1531443c",
   "metadata": {},
   "outputs": [],
   "source": [
    "A_active = A[m][:, m] # Choose active columns...\n",
    "y_active = y[m]"
   ]
  },
  {
   "cell_type": "code",
   "execution_count": 208,
   "id": "9fca8dac",
   "metadata": {},
   "outputs": [
    {
     "data": {
      "text/plain": [
       "array([-0.        , -1.61497024,  0.00335402])"
      ]
     },
     "execution_count": 208,
     "metadata": {},
     "output_type": "execute_result"
    }
   ],
   "source": [
    "linalg.solve(A_active, y_active)"
   ]
  },
  {
   "cell_type": "code",
   "execution_count": 210,
   "id": "e60edd45",
   "metadata": {},
   "outputs": [
    {
     "data": {
      "text/plain": [
       "array([[ 0.        ,  0.        , -1.        , -0.        ],\n",
       "       [ 0.        ,  0.        , -1.        ,  4.03393642],\n",
       "       [ 1.        ,  1.        ,  0.        ,  0.        ],\n",
       "       [ 0.        , -4.03393642,  0.        , 48.10872572]])"
      ]
     },
     "execution_count": 210,
     "metadata": {},
     "output_type": "execute_result"
    }
   ],
   "source": []
  },
  {
   "cell_type": "code",
   "execution_count": null,
   "id": "8a789f5e",
   "metadata": {},
   "outputs": [],
   "source": []
  }
 ],
 "metadata": {
  "kernelspec": {
   "display_name": "Python 3 (ipykernel)",
   "language": "python",
   "name": "python3"
  },
  "language_info": {
   "codemirror_mode": {
    "name": "ipython",
    "version": 3
   },
   "file_extension": ".py",
   "mimetype": "text/x-python",
   "name": "python",
   "nbconvert_exporter": "python",
   "pygments_lexer": "ipython3",
   "version": "3.9.5"
  }
 },
 "nbformat": 4,
 "nbformat_minor": 5
}
