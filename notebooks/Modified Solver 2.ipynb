{
 "cells": [
  {
   "cell_type": "markdown",
   "id": "9cbedd35",
   "metadata": {},
   "source": [
    "# Modifications to the standard Gordon equilibrium solver\n",
    "\n",
    "The Gordon equilibrium solver works well for reactions in solution or gases. Our 2 key modifications are to \n",
    "\n",
    "1) Modify the chemical potential equation to be zero if we run out of a solid/liquid substance (n_i = 0) and the chemical potential difference is positive ($\\mu_i - \\sum A \\vec{\\lambda} > 0$) - we have used the substance up, and there is no way to satisfy the chemical potential equation. Note that if the chemical potential difference is negative, we should instead create more of the substance.\n",
    "\n",
    "2) Not sure if this is different than their approach, but use the exact chemical potential of each element at each iteration.\n",
    "\n",
    "Then hopefully the same iterative procedure should work well?"
   ]
  },
  {
   "cell_type": "code",
   "execution_count": 227,
   "id": "cf75f481",
   "metadata": {},
   "outputs": [
    {
     "name": "stdout",
     "output_type": "stream",
     "text": [
      "The autoreload extension is already loaded. To reload it, use:\n",
      "  %reload_ext autoreload\n"
     ]
    }
   ],
   "source": [
    "%load_ext autoreload\n",
    "%autoreload 2\n",
    "import pchem.calorimetry as cal\n",
    "import numpy as np\n",
    "import sympy as sm"
   ]
  },
  {
   "cell_type": "markdown",
   "id": "1ece27ad",
   "metadata": {},
   "source": [
    "# Test case showing good performance for normal chemical equilibrium"
   ]
  },
  {
   "cell_type": "code",
   "execution_count": 228,
   "id": "94fc196f",
   "metadata": {},
   "outputs": [],
   "source": [
    "S  = cal.Substance2(\"S(l)\", state=\"l\", H0=0, S0=0, cP=50.0, molarMass=100.0, density=1.0, atoms=dict(S=1))\n",
    "P  = cal.Substance2(\"P(aq)\", state=\"aq\", H0=0, S0=0, cP=0, molarMass=100.0, density=1.0, atoms=dict(P=1))\n",
    "D  = cal.Substance2(\"D(aq)\", state=\"aq\", H0=0, S0=0, cP=0, molarMass=100.0, density=1.0, atoms=dict(D=1))\n",
    "PD = cal.Substance2(\"PD(aq)\", state=\"aq\", H0=0, S0=50.0, cP=0, molarMass=100.0, density=1.0, atoms=dict(D=1, P=1))\n",
    "\n",
    "chemicals = {0: S, 1: P, 2: D, 3: PD}\n",
    "\n",
    "s0 = cal.State3(T=298.15, chemicals=chemicals, rxns=[], V=1.0)\n",
    "\n",
    "s0.set_state({0:50.0, 1: 1.0, 2: 1.0, 3: 0.0})"
   ]
  },
  {
   "cell_type": "code",
   "execution_count": 229,
   "id": "4239be29",
   "metadata": {},
   "outputs": [],
   "source": [
    "K = np.exp(50.0/8.3145)"
   ]
  },
  {
   "cell_type": "code",
   "execution_count": 230,
   "id": "e6dc1c6a",
   "metadata": {},
   "outputs": [],
   "source": [
    "x = sm.symbols('x')\n",
    "\n",
    "x_solved = float(sm.solve(K - x/ (1-x)**2, x)[0])"
   ]
  },
  {
   "cell_type": "code",
   "execution_count": 231,
   "id": "1502a666",
   "metadata": {},
   "outputs": [
    {
     "name": "stdout",
     "output_type": "stream",
     "text": [
      "[ 1.  1.  0. 50.]\n"
     ]
    }
   ],
   "source": [
    "out, iterations = s0._solve_iterative()"
   ]
  },
  {
   "cell_type": "code",
   "execution_count": 232,
   "id": "78549955",
   "metadata": {},
   "outputs": [
    {
     "data": {
      "text/plain": [
       "True"
      ]
     },
     "execution_count": 232,
     "metadata": {},
     "output_type": "execute_result"
    }
   ],
   "source": [
    "np.allclose( np.array([1-x_solved, 1-x_solved, x_solved]), out[:3])"
   ]
  },
  {
   "cell_type": "markdown",
   "id": "8f3d58b7",
   "metadata": {},
   "source": [
    "## Normal chemical equilibrium: temperature change"
   ]
  },
  {
   "cell_type": "code",
   "execution_count": 133,
   "id": "f292aca5",
   "metadata": {},
   "outputs": [
    {
     "name": "stdout",
     "output_type": "stream",
     "text": [
      "T=298.15\n"
     ]
    }
   ],
   "source": [
    "out, iterations = s0._solve_iterative_dH(dH=0.0)\n",
    "n_moles = out[:4]\n",
    "lambdas = out[4:7]\n",
    "T = out[-1]\n",
    "print(f\"{T=}\")"
   ]
  },
  {
   "cell_type": "code",
   "execution_count": null,
   "id": "c2a680cf",
   "metadata": {},
   "outputs": [],
   "source": []
  },
  {
   "cell_type": "code",
   "execution_count": 134,
   "id": "5e8241d6",
   "metadata": {},
   "outputs": [
    {
     "name": "stdout",
     "output_type": "stream",
     "text": [
      "T=298.189999941779\n"
     ]
    },
    {
     "data": {
      "text/plain": [
       "True"
      ]
     },
     "execution_count": 134,
     "metadata": {},
     "output_type": "execute_result"
    }
   ],
   "source": [
    "out, iterations = s0._solve_iterative_dH(dH=100.0)\n",
    "n_moles = out[:4]\n",
    "lambdas = out[4:7]\n",
    "T = out[-1]\n",
    "print(f\"{T=}\")\n",
    "\n",
    "cP = 2500.0\n",
    "dT = 100/2500.0\n",
    "\n",
    "np.allclose(T, s0.T + dT) # Good!"
   ]
  },
  {
   "cell_type": "markdown",
   "id": "4ad26e3d",
   "metadata": {},
   "source": [
    "## Exothermic reaction\n",
    "\n",
    "Here the temperature changes will be coupled to the chemical reaction."
   ]
  },
  {
   "cell_type": "code",
   "execution_count": 135,
   "id": "a6b67a07",
   "metadata": {},
   "outputs": [],
   "source": [
    "S  = cal.Substance2(\"S(l)\", state=\"l\", H0=0, S0=0, cP=50.0, molarMass=100.0, density=1.0, atoms=dict(S=1))\n",
    "P  = cal.Substance2(\"P(aq)\", state=\"aq\", H0=0, S0=0, cP=0, molarMass=100.0, density=1.0, atoms=dict(P=1))\n",
    "D  = cal.Substance2(\"D(aq)\", state=\"aq\", H0=0, S0=0, cP=0, molarMass=100.0, density=1.0, atoms=dict(D=1))\n",
    "PD = cal.Substance2(\"PD(aq)\", state=\"aq\", H0=-50*298.15, S0=0.0, cP=0, molarMass=100.0, density=1.0, atoms=dict(D=1, P=1))\n",
    "\n",
    "chemicals = {0: S, 1: P, 2: D, 3: PD}\n",
    "\n",
    "s0 = cal.State3(T=298.15, chemicals=chemicals, rxns=[], V=1.0)\n",
    "\n",
    "s0.set_state({0:50.0, 1: 1.0, 2: 1.0, 3: 0.0})"
   ]
  },
  {
   "cell_type": "code",
   "execution_count": 136,
   "id": "acd1c0e2",
   "metadata": {},
   "outputs": [
    {
     "name": "stdout",
     "output_type": "stream",
     "text": [
      "T=303.82532262956835\n",
      "n_moles=array([4.82423609e-02, 4.82423609e-02, 9.51757639e-01, 5.00000722e+01])\n"
     ]
    }
   ],
   "source": [
    "out, iterations = s0._solve_iterative_dH(dH=0.0)\n",
    "n_moles = out[:4]\n",
    "lambdas = out[4:7]\n",
    "T = out[-1]\n",
    "print(f\"{T=}\")\n",
    "print(f\"{n_moles=}\")"
   ]
  },
  {
   "cell_type": "code",
   "execution_count": 137,
   "id": "f6a037eb",
   "metadata": {},
   "outputs": [
    {
     "name": "stdout",
     "output_type": "stream",
     "text": [
      "T=303.80913594376807\n",
      "n_moles=array([ 0.05095664,  0.05095664,  0.94904336, 50.00008497])\n"
     ]
    }
   ],
   "source": [
    "s0.x = n_moles\n",
    "s0.T = T\n",
    "out, iterations = s0._solve_iterative_dH(dH=0.0)\n",
    "n_moles = out[:4]\n",
    "lambdas = out[4:7]\n",
    "T = out[-1]\n",
    "print(f\"{T=}\")\n",
    "print(f\"{n_moles=}\")"
   ]
  },
  {
   "cell_type": "code",
   "execution_count": 138,
   "id": "e53342f2",
   "metadata": {},
   "outputs": [
    {
     "name": "stdout",
     "output_type": "stream",
     "text": [
      "T=303.809181706801\n",
      "n_moles=array([ 0.05094884,  0.05094884,  0.94905116, 50.00009162])\n"
     ]
    }
   ],
   "source": [
    "s0.x = n_moles\n",
    "s0.T = T\n",
    "out, iterations = s0._solve_iterative_dH(dH=0.0)\n",
    "n_moles = out[:4]\n",
    "lambdas = out[4:7]\n",
    "T = out[-1]\n",
    "print(f\"{T=}\")\n",
    "print(f\"{n_moles=}\")"
   ]
  },
  {
   "cell_type": "code",
   "execution_count": 139,
   "id": "8557143c",
   "metadata": {},
   "outputs": [
    {
     "name": "stdout",
     "output_type": "stream",
     "text": [
      "T=303.80918106502133\n",
      "n_moles=array([ 0.05094886,  0.05094886,  0.94905114, 50.00009613])\n"
     ]
    }
   ],
   "source": [
    "s0.x = n_moles\n",
    "s0.T = T\n",
    "out, iterations = s0._solve_iterative_dH(dH=0.0)\n",
    "n_moles = out[:4]\n",
    "lambdas = out[4:7]\n",
    "T = out[-1]\n",
    "print(f\"{T=}\")\n",
    "print(f\"{n_moles=}\")"
   ]
  },
  {
   "cell_type": "code",
   "execution_count": 140,
   "id": "8f4742d6",
   "metadata": {},
   "outputs": [
    {
     "data": {
      "text/plain": [
       "[4.3162057661305653e-07,\n",
       " 5.280708847976712e-08,\n",
       " 5.261091473585111e-08,\n",
       " 5.241617628826134e-08,\n",
       " 5.222286603157045e-08,\n",
       " 5.2030955544069e-08,\n",
       " 5.1840437720329646e-08,\n",
       " 5.1651298349497665e-08,\n",
       " 5.1463516115290986e-08,\n",
       " 5.127708391228225e-08,\n",
       " 5.109198042418939e-08,\n",
       " 5.090819854558504e-08,\n",
       " 5.072571696018713e-08,\n",
       " 5.0544521457140945e-08,\n",
       " 5.036460493101913e-08,\n",
       " 5.018595317096697e-08,\n",
       " 5.0008551966129744e-08,\n",
       " 4.983238710565274e-08,\n",
       " 4.965744437868125e-08,\n",
       " 4.9483716679787904e-08,\n",
       " 4.9311182692690636e-08,\n",
       " 4.9139842417389445e-08,\n",
       " 4.89696674321749e-08,\n",
       " 4.880066484247436e-08,\n",
       " 4.8632806226578396e-08,\n",
       " 4.8466084479059646e-08,\n",
       " 4.830049959991811e-08,\n",
       " 4.8136023167444364e-08,\n",
       " 4.79726551816384e-08,\n",
       " 4.781037432621815e-08,\n",
       " 4.7649180601183616e-08,\n",
       " 4.748905979568008e-08,\n",
       " 4.733000480428018e-08,\n",
       " 4.717199431070185e-08,\n",
       " 4.7015028314945084e-08,\n",
       " 4.685909260615517e-08,\n",
       " 4.67041729734774e-08,\n",
       " 4.655026941691176e-08,\n",
       " 4.639736062017619e-08,\n",
       " 4.624544658327068e-08,\n",
       " 4.609451309534052e-08,\n",
       " 4.594455305095835e-08,\n",
       " 4.579555934469681e-08,\n",
       " 4.564751066027384e-08,\n",
       " 4.550041410311678e-08,\n",
       " 4.535424835694357e-08,\n",
       " 4.520901342175421e-08,\n",
       " 4.5064687981266616e-08,\n",
       " 4.4921279140908155e-08,\n",
       " 4.477877268982411e-08,\n",
       " 4.4637154417159763e-08,\n",
       " 4.449641721748776e-08,\n",
       " 4.43565610908081e-08,\n",
       " 4.4217571826266067e-08,\n",
       " 4.4079435213006946e-08,\n",
       " 4.3942158356458094e-08,\n",
       " 4.38057270457648e-08,\n",
       " 4.367012707007234e-08,\n",
       " 4.3535351323953364e-08,\n",
       " 4.340140691283523e-08,\n",
       " 4.32682654150085e-08,\n",
       " 4.3135941041327897e-08,\n",
       " 4.300440537008399e-08,\n",
       " 4.287366550670413e-08,\n",
       " 4.2743714345760964e-08,\n",
       " 4.261453767639978e-08,\n",
       " 4.248612839319321e-08,\n",
       " 4.235848649614127e-08,\n",
       " 4.2231604879816587e-08,\n",
       " 4.2105469333364454e-08,\n",
       " 4.198007275135751e-08,\n",
       " 4.185542223922312e-08,\n",
       " 4.17314964806792e-08,\n",
       " 4.160830258115311e-08,\n",
       " 4.1485819224362785e-08,\n",
       " 4.136405351573558e-08,\n",
       " 4.1242984138989414e-08,\n",
       " 4.112262530497901e-08,\n",
       " 4.1002955697422294e-08,\n",
       " 4.088396821089191e-08,\n",
       " 4.076566995081521e-08,\n",
       " 4.064804670633748e-08,\n",
       " 4.053109137203137e-08,\n",
       " 4.041480394789687e-08,\n",
       " 4.029917022307927e-08,\n",
       " 4.018419019757857e-08,\n",
       " 4.006986387139477e-08,\n",
       " 3.995617703367316e-08,\n",
       " 3.984312257898637e-08,\n",
       " 3.973070761276176e-08,\n",
       " 3.9618917924144625e-08,\n",
       " 3.95077464077076e-08,\n",
       " 3.939718595802333e-08,\n",
       " 3.928724368051917e-08,\n",
       " 3.9177905364340404e-08,\n",
       " 3.9069171009487036e-08,\n",
       " 3.896102640510435e-08,\n",
       " 3.88534786566197e-08,\n",
       " 3.8746513553178374e-08,\n",
       " 3.864013109478037e-08]"
      ]
     },
     "execution_count": 140,
     "metadata": {},
     "output_type": "execute_result"
    }
   ],
   "source": [
    "iterations"
   ]
  },
  {
   "cell_type": "markdown",
   "id": "9e7441cf",
   "metadata": {},
   "source": [
    "## Phase transition"
   ]
  },
  {
   "cell_type": "code",
   "execution_count": 325,
   "id": "1761fd12",
   "metadata": {},
   "outputs": [],
   "source": [
    "S  = cal.Substance2(\"S(l)\", state=\"l\", H0=0, S0=0, cP=50.0, molarMass=100.0, density=1.0, atoms=dict(S=1))\n",
    "Ssolid = cal.Substance2(\"S(s)\", state=\"s\", H0=-10000, S0=-20.0, cP=40.0, molarMass=100.0, density=1.05, atoms=dict(S=1))\n",
    "chemicals = {0: Ssolid, 1: S}\n",
    "\n",
    "s0 = cal.State3(T=298.15, chemicals=chemicals, rxns=[], V=1.0)\n",
    "\n",
    "s0.set_state({0:10.0, 1: 0.0})"
   ]
  },
  {
   "cell_type": "code",
   "execution_count": 326,
   "id": "ed45cd6d",
   "metadata": {},
   "outputs": [],
   "source": [
    "x0_pt = np.r_[s0.x, 4037/(s0.T*8.3145), s0.T]\n",
    "\n",
    "A, y = s0._fHi(x0_pt, 400.0)"
   ]
  },
  {
   "cell_type": "code",
   "execution_count": 327,
   "id": "67b22b7d",
   "metadata": {},
   "outputs": [
    {
     "data": {
      "text/plain": [
       "('S(l)', 'S(s)')"
      ]
     },
     "execution_count": 327,
     "metadata": {},
     "output_type": "execute_result"
    }
   ],
   "source": [
    "s0.chem_labels"
   ]
  },
  {
   "cell_type": "code",
   "execution_count": 328,
   "id": "c70b7b04",
   "metadata": {},
   "outputs": [
    {
     "data": {
      "text/plain": [
       "array([-0.        ,  1.62850013,  0.        ,  0.16135746])"
      ]
     },
     "execution_count": 328,
     "metadata": {},
     "output_type": "execute_result"
    }
   ],
   "source": [
    "y"
   ]
  },
  {
   "cell_type": "code",
   "execution_count": 329,
   "id": "20c4ca57",
   "metadata": {},
   "outputs": [],
   "source": [
    "lb = np.array([0, -10, -np.inf, -np.inf])"
   ]
  },
  {
   "cell_type": "code",
   "execution_count": 330,
   "id": "de2bae66",
   "metadata": {},
   "outputs": [],
   "source": [
    "dy = A @ np.array([0,0,x0_pt[2],0])"
   ]
  },
  {
   "cell_type": "code",
   "execution_count": 331,
   "id": "8bbfb28d",
   "metadata": {},
   "outputs": [],
   "source": [
    "m=np.array([True, True, False, True])"
   ]
  },
  {
   "cell_type": "code",
   "execution_count": 332,
   "id": "1d13e5b4",
   "metadata": {},
   "outputs": [],
   "source": [
    "y3 = (y+dy)"
   ]
  },
  {
   "cell_type": "code",
   "execution_count": 333,
   "id": "79c2477f",
   "metadata": {},
   "outputs": [],
   "source": [
    "A3 = A[:, m]"
   ]
  },
  {
   "cell_type": "code",
   "execution_count": 334,
   "id": "f7dcbeb6",
   "metadata": {},
   "outputs": [
    {
     "data": {
      "text/plain": [
       "array([-1.62850013,  0.        ,  0.        ,  0.16135746])"
      ]
     },
     "execution_count": 334,
     "metadata": {},
     "output_type": "execute_result"
    }
   ],
   "source": [
    "y3"
   ]
  },
  {
   "cell_type": "code",
   "execution_count": 335,
   "id": "6a08fa97",
   "metadata": {},
   "outputs": [],
   "source": [
    "lb = np.array([0, -10, -np.inf])\n",
    "y_out = optimize.lsq_linear(A3, y3, bounds=(lb, np.inf))"
   ]
  },
  {
   "cell_type": "code",
   "execution_count": 336,
   "id": "9eb5b358",
   "metadata": {},
   "outputs": [],
   "source": [
    "x_new = np.r_[x0_pt[:2] + y_out.x[:2], 0.0, x0_pt[-1]*np.exp(y_out.x[-1])]"
   ]
  },
  {
   "cell_type": "code",
   "execution_count": 337,
   "id": "7c10e68e",
   "metadata": {},
   "outputs": [],
   "source": [
    "mu2 = s0.mu(x=x_new[:2], T=x_new[-1])/(8.3145*x_new[-1])"
   ]
  },
  {
   "cell_type": "code",
   "execution_count": 338,
   "id": "acc88bfe",
   "metadata": {},
   "outputs": [
    {
     "data": {
      "text/plain": [
       "array([-1.62198613])"
      ]
     },
     "execution_count": 338,
     "metadata": {},
     "output_type": "execute_result"
    }
   ],
   "source": [
    "mu2"
   ]
  },
  {
   "cell_type": "code",
   "execution_count": 344,
   "id": "a101dcf2",
   "metadata": {},
   "outputs": [],
   "source": [
    "A, y = s0._fHi(x_new, 2000.0)\n",
    "dy = A @ np.array([0,0,mu2[0],0])\n",
    "y3 = y - dy\n",
    "A3 = A[:, m]"
   ]
  },
  {
   "cell_type": "code",
   "execution_count": 345,
   "id": "7e467796",
   "metadata": {},
   "outputs": [
    {
     "data": {
      "text/plain": [
       "array([[ 0.        ,  0.        , -1.        , -0.        ],\n",
       "       [ 0.        ,  0.        , -1.        ,  4.03393642],\n",
       "       [ 1.        ,  1.        ,  0.        ,  0.        ],\n",
       "       [ 0.        , -4.03393642,  0.        , 48.15683445]])"
      ]
     },
     "execution_count": 345,
     "metadata": {},
     "output_type": "execute_result"
    }
   ],
   "source": [
    "A"
   ]
  },
  {
   "cell_type": "code",
   "execution_count": 352,
   "id": "30f8fca9",
   "metadata": {},
   "outputs": [],
   "source": [
    "U, s, Vh = linalg.svd(A)"
   ]
  },
  {
   "cell_type": "markdown",
   "id": "7d2c4f6c",
   "metadata": {},
   "source": [
    "$$A = U \\sigma V^T$$\n",
    "\n",
    "$$U^T U \\sigma V^T x = y$$\n",
    "\n",
    "$$ x = V \\sigma^{-1} U^T y$$"
   ]
  },
  {
   "cell_type": "code",
   "execution_count": 364,
   "id": "6bc7e986",
   "metadata": {},
   "outputs": [
    {
     "data": {
      "text/plain": [
       "array([-4.65934073e+00,  4.65934073e+00, -1.35185608e-16,  4.03700000e-01])"
      ]
     },
     "execution_count": 364,
     "metadata": {},
     "output_type": "execute_result"
    }
   ],
   "source": [
    "Vh.T @ np.diag(s**-1) @ U.T @ y"
   ]
  },
  {
   "cell_type": "code",
   "execution_count": 365,
   "id": "0a34ba6f",
   "metadata": {},
   "outputs": [
    {
     "data": {
      "text/plain": [
       "array([-4.65934073,  4.65934073, -0.        ,  0.4037    ])"
      ]
     },
     "execution_count": 365,
     "metadata": {},
     "output_type": "execute_result"
    }
   ],
   "source": [
    "optimize.nonlin.l"
   ]
  },
  {
   "cell_type": "code",
   "execution_count": 340,
   "id": "622e0e92",
   "metadata": {},
   "outputs": [],
   "source": [
    "lb = np.r_[-x_new[:2], -np.inf]\n",
    "y_out2 = optimize.lsq_linear(A3, y3, bounds=(lb, np.inf))"
   ]
  },
  {
   "cell_type": "code",
   "execution_count": 341,
   "id": "24b3f489",
   "metadata": {},
   "outputs": [],
   "source": [
    "x_new2 = np.r_[x_new[:2] + y_out2.x[:2], 0.0, x_new[-1]*np.exp(y_out2.x[-1])]"
   ]
  },
  {
   "cell_type": "code",
   "execution_count": 343,
   "id": "64e71319",
   "metadata": {},
   "outputs": [
    {
     "data": {
      "text/plain": [
       "array([1.80722637e-01, 9.81927736e+00, 0.00000000e+00, 2.98631842e+02])"
      ]
     },
     "execution_count": 343,
     "metadata": {},
     "output_type": "execute_result"
    }
   ],
   "source": [
    "# optimize.least_squares()"
   ]
  },
  {
   "cell_type": "code",
   "execution_count": 237,
   "id": "5415a39b",
   "metadata": {},
   "outputs": [],
   "source": [
    "Aw = w @ A\n",
    "yw = w @ y"
   ]
  },
  {
   "cell_type": "code",
   "execution_count": 238,
   "id": "8f13d0ec",
   "metadata": {},
   "outputs": [],
   "source": [
    "lsq_lin = optimize.lsq_linear(Aw, yw, bounds=(lb, np.inf))"
   ]
  },
  {
   "cell_type": "code",
   "execution_count": 231,
   "id": "5f463697",
   "metadata": {},
   "outputs": [
    {
     "data": {
      "text/plain": [
       "array([ 0.        ,  0.        , -1.62850013,  0.        ])"
      ]
     },
     "execution_count": 231,
     "metadata": {},
     "output_type": "execute_result"
    }
   ],
   "source": [
    "A"
   ]
  },
  {
   "cell_type": "code",
   "execution_count": 233,
   "id": "0cd1b750",
   "metadata": {},
   "outputs": [
    {
     "data": {
      "text/plain": [
       "array([ 0.        ,  0.        , -1.62850013,  0.        ])"
      ]
     },
     "execution_count": 233,
     "metadata": {},
     "output_type": "execute_result"
    }
   ],
   "source": [
    "v"
   ]
  },
  {
   "cell_type": "code",
   "execution_count": 240,
   "id": "92a86581",
   "metadata": {},
   "outputs": [],
   "source": [
    "x1 = np.r_[x0_pt[:2] + lsq_lin.x[:2], lsq_lin.x[2], x0_pt[-1]*np.exp(lsq_lin.x[-1])]"
   ]
  },
  {
   "cell_type": "code",
   "execution_count": 241,
   "id": "a7141fdc",
   "metadata": {},
   "outputs": [
    {
     "data": {
      "text/plain": [
       "array([ 2.46833384e-01,  9.75316662e+00, -1.71199084e+00,  2.92042586e+02])"
      ]
     },
     "execution_count": 241,
     "metadata": {},
     "output_type": "execute_result"
    }
   ],
   "source": [
    "x1"
   ]
  },
  {
   "cell_type": "code",
   "execution_count": 228,
   "id": "c99b4d0a",
   "metadata": {},
   "outputs": [
    {
     "data": {
      "text/plain": [
       "array([ 1.71199084e+00, -2.22044605e-16,  0.00000000e+00,  1.11022302e-16])"
      ]
     },
     "execution_count": 228,
     "metadata": {},
     "output_type": "execute_result"
    }
   ],
   "source": [
    "A @ lsq_lin.x - y"
   ]
  },
  {
   "cell_type": "code",
   "execution_count": 108,
   "id": "785e0c0c",
   "metadata": {},
   "outputs": [],
   "source": [
    "from scipy import linalg, optimize"
   ]
  },
  {
   "cell_type": "code",
   "execution_count": 109,
   "id": "cb79aa8e",
   "metadata": {},
   "outputs": [
    {
     "ename": "TypeError",
     "evalue": "lstsq() missing 2 required positional arguments: 'a' and 'b'",
     "output_type": "error",
     "traceback": [
      "\u001b[0;31m---------------------------------------------------------------------------\u001b[0m",
      "\u001b[0;31mTypeError\u001b[0m                                 Traceback (most recent call last)",
      "Input \u001b[0;32mIn [109]\u001b[0m, in \u001b[0;36m<module>\u001b[0;34m\u001b[0m\n\u001b[0;32m----> 1\u001b[0m \u001b[43mlinalg\u001b[49m\u001b[38;5;241;43m.\u001b[39;49m\u001b[43mlstsq\u001b[49m\u001b[43m(\u001b[49m\u001b[43m)\u001b[49m\n",
      "\u001b[0;31mTypeError\u001b[0m: lstsq() missing 2 required positional arguments: 'a' and 'b'"
     ]
    }
   ],
   "source": [
    "optimize.lsq_linear()"
   ]
  },
  {
   "cell_type": "code",
   "execution_count": 155,
   "id": "568ff4c8",
   "metadata": {},
   "outputs": [],
   "source": [
    "C = np.array([[1, 0, 0], [0, 1, 0], [0, 0,0], [0, 0, 1]]).T"
   ]
  },
  {
   "cell_type": "code",
   "execution_count": 157,
   "id": "18d3f9f6",
   "metadata": {},
   "outputs": [
    {
     "data": {
      "text/plain": [
       "array([[1, 0, 0, 0],\n",
       "       [0, 1, 0, 0],\n",
       "       [0, 0, 0, 1]])"
      ]
     },
     "execution_count": 157,
     "metadata": {},
     "output_type": "execute_result"
    }
   ],
   "source": [
    "C"
   ]
  },
  {
   "cell_type": "code",
   "execution_count": 143,
   "id": "972f2159",
   "metadata": {},
   "outputs": [],
   "source": [
    "y_r = C.T @ y"
   ]
  },
  {
   "cell_type": "code",
   "execution_count": 147,
   "id": "55c503ff",
   "metadata": {},
   "outputs": [
    {
     "data": {
      "text/plain": [
       "array([[ 0.        ,  0.        ,  0.        ],\n",
       "       [ 0.        ,  0.        ,  4.03393642],\n",
       "       [ 0.        , -4.03393642, 48.10872572]])"
      ]
     },
     "execution_count": 147,
     "metadata": {},
     "output_type": "execute_result"
    }
   ],
   "source": [
    "C.T @ A @ C"
   ]
  },
  {
   "cell_type": "code",
   "execution_count": 144,
   "id": "611949cc",
   "metadata": {},
   "outputs": [
    {
     "data": {
      "text/plain": [
       "array([0.        , 1.62850013, 0.        , 0.16135746])"
      ]
     },
     "execution_count": 144,
     "metadata": {},
     "output_type": "execute_result"
    }
   ],
   "source": [
    "C @ y_r"
   ]
  },
  {
   "cell_type": "code",
   "execution_count": 145,
   "id": "605dc8d5",
   "metadata": {},
   "outputs": [
    {
     "data": {
      "text/plain": [
       "array([0.        , 1.62850013, 0.16135746])"
      ]
     },
     "execution_count": 145,
     "metadata": {},
     "output_type": "execute_result"
    }
   ],
   "source": [
    "y_r"
   ]
  },
  {
   "cell_type": "code",
   "execution_count": 148,
   "id": "6b549795",
   "metadata": {},
   "outputs": [],
   "source": [
    "condensed_phase_active = [True, False]"
   ]
  },
  {
   "cell_type": "code",
   "execution_count": 161,
   "id": "47801f07",
   "metadata": {},
   "outputs": [],
   "source": [
    "def make_C(s, active_phases, include_T=False):\n",
    "    N_condensed_active = sum(active_phases)\n",
    "    N_condensed = s.N_chem - s.N_aq\n",
    "    N_total = s.N_chem + s.N_atoms\n",
    "    if include_T:\n",
    "        N_total += 1\n",
    "    \n",
    "    N_active = N_total + (N_condensed_active - N_condensed) # Remove inactive condensed species...\n",
    "    C = np.zeros((N_active, N_total))\n",
    "    \n",
    "    for i in range(s.N_aq):\n",
    "        C[i, i] = 1\n",
    "    \n",
    "    i_curr = s.N_aq\n",
    "    for i in range(s.N_aq, s.N_chem):\n",
    "        j = i - s.N_aq\n",
    "        if active_phases[j]:\n",
    "            C[i_curr, i] = 1\n",
    "            i_curr += 1\n",
    "    \n",
    "    for i in range(s.N_chem, N_total):\n",
    "        C[i_curr, i] = 1\n",
    "        i_curr+= 1\n",
    "    \n",
    "    return C\n",
    "    "
   ]
  },
  {
   "cell_type": "code",
   "execution_count": 181,
   "id": "7e6a9db9",
   "metadata": {},
   "outputs": [],
   "source": [
    "C_active = make_C(s0, [False, True], True)"
   ]
  },
  {
   "cell_type": "code",
   "execution_count": 182,
   "id": "937b3e86",
   "metadata": {},
   "outputs": [],
   "source": [
    "A, y = s0._fHi(x0_pt, 400.0)"
   ]
  },
  {
   "cell_type": "code",
   "execution_count": 196,
   "id": "5303cd11",
   "metadata": {},
   "outputs": [],
   "source": [
    "A_active = C @ A @C_active.T\n",
    "y_active = C @ y"
   ]
  },
  {
   "cell_type": "code",
   "execution_count": 184,
   "id": "72582d68",
   "metadata": {},
   "outputs": [],
   "source": [
    "from scipy import linalg"
   ]
  },
  {
   "cell_type": "code",
   "execution_count": 203,
   "id": "0abb50e3",
   "metadata": {},
   "outputs": [],
   "source": [
    "m = np.array([False, True, True, True], dtype=bool)"
   ]
  },
  {
   "cell_type": "code",
   "execution_count": 209,
   "id": "1531443c",
   "metadata": {},
   "outputs": [],
   "source": [
    "A_active = A[m][:, m] # Choose active columns...\n",
    "y_active = y[m]"
   ]
  },
  {
   "cell_type": "code",
   "execution_count": 208,
   "id": "9fca8dac",
   "metadata": {},
   "outputs": [
    {
     "data": {
      "text/plain": [
       "array([-0.        , -1.61497024,  0.00335402])"
      ]
     },
     "execution_count": 208,
     "metadata": {},
     "output_type": "execute_result"
    }
   ],
   "source": [
    "linalg.solve(A_active, y_active)"
   ]
  },
  {
   "cell_type": "code",
   "execution_count": 210,
   "id": "e60edd45",
   "metadata": {},
   "outputs": [
    {
     "data": {
      "text/plain": [
       "array([[ 0.        ,  0.        , -1.        , -0.        ],\n",
       "       [ 0.        ,  0.        , -1.        ,  4.03393642],\n",
       "       [ 1.        ,  1.        ,  0.        ,  0.        ],\n",
       "       [ 0.        , -4.03393642,  0.        , 48.10872572]])"
      ]
     },
     "execution_count": 210,
     "metadata": {},
     "output_type": "execute_result"
    }
   ],
   "source": []
  },
  {
   "cell_type": "code",
   "execution_count": null,
   "id": "8a789f5e",
   "metadata": {},
   "outputs": [],
   "source": []
  }
 ],
 "metadata": {
  "kernelspec": {
   "display_name": "Python 3 (ipykernel)",
   "language": "python",
   "name": "python3"
  },
  "language_info": {
   "codemirror_mode": {
    "name": "ipython",
    "version": 3
   },
   "file_extension": ".py",
   "mimetype": "text/x-python",
   "name": "python",
   "nbconvert_exporter": "python",
   "pygments_lexer": "ipython3",
   "version": "3.9.5"
  }
 },
 "nbformat": 4,
 "nbformat_minor": 5
}
