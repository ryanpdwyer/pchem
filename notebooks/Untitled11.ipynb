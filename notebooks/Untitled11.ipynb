{
 "cells": [
  {
   "cell_type": "code",
   "execution_count": 1,
   "id": "113cce8e",
   "metadata": {},
   "outputs": [],
   "source": [
    "import numpy as np"
   ]
  },
  {
   "cell_type": "code",
   "execution_count": 7,
   "id": "0370dc43",
   "metadata": {},
   "outputs": [
    {
     "data": {
      "text/plain": [
       "-144.04000000000008"
      ]
     },
     "execution_count": 7,
     "metadata": {},
     "output_type": "execute_result"
    }
   ],
   "source": [
    "deltaH = (-542.8+227.4+2*-230.02) - (2*-285.8+-59.8)\n",
    "deltaH "
   ]
  },
  {
   "cell_type": "code",
   "execution_count": 5,
   "id": "a92d6e79",
   "metadata": {},
   "outputs": [
    {
     "data": {
      "text/plain": [
       "-84.0"
      ]
     },
     "execution_count": 5,
     "metadata": {},
     "output_type": "execute_result"
    }
   ],
   "source": [
    "deltaS = (-53.1+-10.9*2+200.9) - (70+2*70)\n",
    "deltaS"
   ]
  },
  {
   "cell_type": "code",
   "execution_count": 6,
   "id": "b1a3b31e",
   "metadata": {},
   "outputs": [
    {
     "data": {
      "text/plain": [
       "-144.04000000000008"
      ]
     },
     "execution_count": 6,
     "metadata": {},
     "output_type": "execute_result"
    }
   ],
   "source": [
    "deltaH"
   ]
  },
  {
   "cell_type": "code",
   "execution_count": null,
   "id": "25f6e0e4",
   "metadata": {},
   "outputs": [],
   "source": []
  }
 ],
 "metadata": {
  "kernelspec": {
   "display_name": "Python 3 (ipykernel)",
   "language": "python",
   "name": "python3"
  },
  "language_info": {
   "codemirror_mode": {
    "name": "ipython",
    "version": 3
   },
   "file_extension": ".py",
   "mimetype": "text/x-python",
   "name": "python",
   "nbconvert_exporter": "python",
   "pygments_lexer": "ipython3",
   "version": "3.9.7"
  }
 },
 "nbformat": 4,
 "nbformat_minor": 5
}
