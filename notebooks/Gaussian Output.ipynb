{
 "cells": [
  {
   "cell_type": "code",
   "execution_count": 67,
   "id": "5da05ddf",
   "metadata": {},
   "outputs": [],
   "source": [
    "import numpy as np\n",
    "from io import StringIO\n",
    "from collections import defaultdict\n",
    "from scipy import linalg"
   ]
  },
  {
   "cell_type": "code",
   "execution_count": 68,
   "id": "26507f43",
   "metadata": {},
   "outputs": [],
   "source": [
    "m1 = \"\"\"\\\n",
    "                1             2             3             4             5 \n",
    "      1  0.100000D+01\n",
    "      2  0.236704D+00  0.100000D+01\n",
    "      3  0.000000D+00  0.000000D+00  0.100000D+01\n",
    "      4  0.000000D+00  0.000000D+00  0.000000D+00  0.100000D+01\n",
    "      5  0.000000D+00  0.000000D+00  0.000000D+00  0.000000D+00  0.100000D+01\n",
    "      6  0.487518D-01  0.447147D+00  0.000000D+00  0.299042D+00 -0.231543D+00\n",
    "      7  0.487518D-01  0.447147D+00  0.000000D+00 -0.299042D+00 -0.231543D+00\n",
    "                6             7 \n",
    "      6  0.100000D+01\n",
    "      7  0.228239D+00  0.100000D+01\"\"\""
   ]
  },
  {
   "cell_type": "code",
   "execution_count": 84,
   "id": "2b17d611",
   "metadata": {},
   "outputs": [],
   "source": [
    "def gaussian_to_numpy(text):\n",
    "    all_data = [x.strip().split(\" \") for x in text.split(\"\\n\")]\n",
    "    ragged = [row for row in all_data if len(row) <= 12]\n",
    "    triangle = defaultdict(lambda : [])\n",
    "    for row in ragged:\n",
    "        to_append = [float(x.replace(\"D\", \"e\")) for i, x in enumerate(row) if i>0 and x!=\"\"]\n",
    "        if len(to_append) >= 1:\n",
    "            triangle[int(row[0])].extend(to_append)\n",
    "\n",
    "    N = max(triangle.keys())\n",
    "    M = np.zeros((N, N))\n",
    "    for key, val in triangle.items():\n",
    "        M[key-1, :len(val)] = val\n",
    "    M_full = M+M.T-np.diag(M.diagonal())\n",
    "    return M_full"
   ]
  },
  {
   "cell_type": "code",
   "execution_count": 85,
   "id": "9a65587d",
   "metadata": {},
   "outputs": [],
   "source": [
    "o1 = gaussian_to_numpy(m1)"
   ]
  },
  {
   "cell_type": "code",
   "execution_count": 86,
   "id": "f4ff83e9",
   "metadata": {},
   "outputs": [
    {
     "data": {
      "text/plain": [
       "array([[ 1.   ,  0.237,  0.   ,  0.   ,  0.   ,  0.049,  0.049],\n",
       "       [ 0.237,  1.   ,  0.   ,  0.   ,  0.   ,  0.447,  0.447],\n",
       "       [ 0.   ,  0.   ,  1.   ,  0.   ,  0.   ,  0.   ,  0.   ],\n",
       "       [ 0.   ,  0.   ,  0.   ,  1.   ,  0.   ,  0.299, -0.299],\n",
       "       [ 0.   ,  0.   ,  0.   ,  0.   ,  1.   , -0.232, -0.232],\n",
       "       [ 0.049,  0.447,  0.   ,  0.299, -0.232,  1.   ,  0.228],\n",
       "       [ 0.049,  0.447,  0.   , -0.299, -0.232,  0.228,  1.   ]])"
      ]
     },
     "execution_count": 86,
     "metadata": {},
     "output_type": "execute_result"
    }
   ],
   "source": [
    "o1.round(3)"
   ]
  },
  {
   "cell_type": "code",
   "execution_count": 87,
   "id": "ce1a1768",
   "metadata": {},
   "outputs": [],
   "source": [
    "kinetic=\"\"\"\\\n",
    "1             2             3             4             5 \n",
    "      1  0.290032D+02\n",
    "      2 -0.168011D+00  0.808128D+00\n",
    "      3  0.000000D+00  0.000000D+00  0.252873D+01\n",
    "      4  0.000000D+00  0.000000D+00  0.000000D+00  0.252873D+01\n",
    "      5  0.000000D+00  0.000000D+00  0.000000D+00  0.000000D+00  0.252873D+01\n",
    "      6 -0.512016D-02  0.109023D+00  0.000000D+00  0.199564D+00 -0.154519D+00\n",
    "      7 -0.512016D-02  0.109023D+00  0.000000D+00 -0.199564D+00 -0.154519D+00\n",
    "                6             7 \n",
    "      6  0.760032D+00\n",
    "      7  0.359579D-02  0.760032D+00\n",
    "\"\"\""
   ]
  },
  {
   "cell_type": "code",
   "execution_count": 89,
   "id": "4d9dee93",
   "metadata": {},
   "outputs": [],
   "source": [
    "T = gaussian_to_numpy(kinetic)"
   ]
  },
  {
   "cell_type": "code",
   "execution_count": 90,
   "id": "1107b0ad",
   "metadata": {},
   "outputs": [],
   "source": [
    "potential=\"\"\"\\\n",
    "1             2             3             4             5 \n",
    "      1  0.616768D+02\n",
    "      2  0.743360D+01  0.100996D+02\n",
    "      3  0.000000D+00  0.000000D+00  0.995087D+01\n",
    "      4  0.000000D+00  0.000000D+00  0.000000D+00  0.100924D+02\n",
    "      5 -0.174154D-01 -0.207813D+00  0.000000D+00  0.000000D+00  0.100357D+02\n",
    "      6  0.157306D+01  0.358237D+01  0.000000D+00  0.212431D+01 -0.170905D+01\n",
    "      7  0.157306D+01  0.358237D+01  0.000000D+00 -0.212431D+01 -0.170905D+01\n",
    "                6             7 \n",
    "      6  0.566361D+01\n",
    "      7  0.142625D+01  0.566361D+01\n",
    "\"\"\""
   ]
  },
  {
   "cell_type": "code",
   "execution_count": 91,
   "id": "7fe234c1",
   "metadata": {},
   "outputs": [],
   "source": [
    "V = gaussian_to_numpy(potential)"
   ]
  },
  {
   "cell_type": "code",
   "execution_count": 92,
   "id": "75e69021",
   "metadata": {},
   "outputs": [
    {
     "data": {
      "text/plain": [
       "array([[ 6.16768e+01,  7.43360e+00,  0.00000e+00,  0.00000e+00,\n",
       "        -1.74154e-02,  1.57306e+00,  1.57306e+00],\n",
       "       [ 7.43360e+00,  1.00996e+01,  0.00000e+00,  0.00000e+00,\n",
       "        -2.07813e-01,  3.58237e+00,  3.58237e+00],\n",
       "       [ 0.00000e+00,  0.00000e+00,  9.95087e+00,  0.00000e+00,\n",
       "         0.00000e+00,  0.00000e+00,  0.00000e+00],\n",
       "       [ 0.00000e+00,  0.00000e+00,  0.00000e+00,  1.00924e+01,\n",
       "         0.00000e+00,  2.12431e+00, -2.12431e+00],\n",
       "       [-1.74154e-02, -2.07813e-01,  0.00000e+00,  0.00000e+00,\n",
       "         1.00357e+01, -1.70905e+00, -1.70905e+00],\n",
       "       [ 1.57306e+00,  3.58237e+00,  0.00000e+00,  2.12431e+00,\n",
       "        -1.70905e+00,  5.66361e+00,  1.42625e+00],\n",
       "       [ 1.57306e+00,  3.58237e+00,  0.00000e+00, -2.12431e+00,\n",
       "        -1.70905e+00,  1.42625e+00,  5.66361e+00]])"
      ]
     },
     "execution_count": 92,
     "metadata": {},
     "output_type": "execute_result"
    }
   ],
   "source": [
    "V"
   ]
  },
  {
   "cell_type": "code",
   "execution_count": 93,
   "id": "01bf251f",
   "metadata": {},
   "outputs": [],
   "source": [
    "Hcore_str=\"\"\"\n",
    " 1             2             3             4             5 \n",
    "      1 -0.326736D+02\n",
    "      2 -0.760161D+01 -0.929148D+01\n",
    "      3  0.000000D+00  0.000000D+00 -0.742214D+01\n",
    "      4  0.000000D+00  0.000000D+00  0.000000D+00 -0.756362D+01\n",
    "      5  0.174154D-01  0.207813D+00  0.000000D+00  0.000000D+00 -0.750696D+01\n",
    "      6 -0.157818D+01 -0.347335D+01  0.000000D+00 -0.192475D+01  0.155453D+01\n",
    "      7 -0.157818D+01 -0.347335D+01  0.000000D+00  0.192475D+01  0.155453D+01\n",
    "                6             7 \n",
    "      6 -0.490358D+01\n",
    "      7 -0.142266D+01 -0.490358D+01\"\"\""
   ]
  },
  {
   "cell_type": "code",
   "execution_count": 96,
   "id": "51197f64",
   "metadata": {},
   "outputs": [
    {
     "data": {
      "text/plain": [
       "(7, 7)"
      ]
     },
     "execution_count": 96,
     "metadata": {},
     "output_type": "execute_result"
    }
   ],
   "source": [
    "\n",
    "Hcore = gaussian_to_numpy(Hcore_str)\n",
    "Hcore.shape"
   ]
  },
  {
   "cell_type": "code",
   "execution_count": 97,
   "id": "7dc3800b",
   "metadata": {},
   "outputs": [],
   "source": [
    "basis_str = \"\"\"\n",
    " 1             2             3             4             5 \n",
    "      1   0.362238D+00  0.448049D+00  0.829144D+00  0.223948D+00  0.000000D+00\n",
    "      2   0.597041D+00  0.159718D+00 -0.466225D+00 -0.102777D+01  0.000000D+00\n",
    "      3   0.000000D+00  0.000000D+00  0.000000D+00  0.000000D+00  0.100000D+01\n",
    "      4   0.000000D+00  0.000000D+00  0.000000D+00  0.000000D+00  0.000000D+00\n",
    "      5  -0.209193D+00  0.818474D+00 -0.437341D+00  0.495173D+00  0.000000D+00\n",
    "      6   0.200635D+00 -0.107707D+00 -0.141403D+00  0.792594D+00  0.000000D+00\n",
    "      7   0.200635D+00 -0.107707D+00 -0.141403D+00  0.792594D+00  0.000000D+00\n",
    "                 6             7 \n",
    "      1   0.000000D+00  0.000000D+00\n",
    "      2   0.000000D+00  0.000000D+00\n",
    "      3   0.000000D+00  0.000000D+00\n",
    "      4   0.874749D+00 -0.732438D+00\n",
    "      5   0.000000D+00  0.000000D+00\n",
    "      6   0.177786D+00  0.900939D+00\n",
    "      7  -0.177786D+00 -0.900939D+00\"\"\""
   ]
  },
  {
   "cell_type": "code",
   "execution_count": 98,
   "id": "9f14bdec",
   "metadata": {},
   "outputs": [],
   "source": [
    "basis0 = gaussian_to_numpy(basis_str)"
   ]
  },
  {
   "cell_type": "code",
   "execution_count": null,
   "id": "50aad666",
   "metadata": {},
   "outputs": [],
   "source": []
  }
 ],
 "metadata": {
  "kernelspec": {
   "display_name": "Python 3 (ipykernel)",
   "language": "python",
   "name": "python3"
  },
  "language_info": {
   "codemirror_mode": {
    "name": "ipython",
    "version": 3
   },
   "file_extension": ".py",
   "mimetype": "text/x-python",
   "name": "python",
   "nbconvert_exporter": "python",
   "pygments_lexer": "ipython3",
   "version": "3.9.15"
  }
 },
 "nbformat": 4,
 "nbformat_minor": 5
}
