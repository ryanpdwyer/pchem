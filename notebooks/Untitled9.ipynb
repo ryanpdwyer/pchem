{
 "cells": [
  {
   "cell_type": "code",
   "execution_count": 1,
   "id": "2f6efc48",
   "metadata": {},
   "outputs": [],
   "source": [
    "from pchem.spc import File"
   ]
  },
  {
   "cell_type": "code",
   "execution_count": null,
   "id": "fcb7f222",
   "metadata": {},
   "outputs": [],
   "source": []
  },
  {
   "cell_type": "code",
   "execution_count": 2,
   "id": "b4e25b61",
   "metadata": {},
   "outputs": [],
   "source": [
    "fname = \"/Users/dwyerry/Dropbox/__mu/pchem1-2020/21-lab-data/2021 L5 Major Project/Shimadzu UV-1800/2021-10-21/CHE 341 10.21.21_135019.spc\""
   ]
  },
  {
   "cell_type": "code",
   "execution_count": 3,
   "id": "865b7084",
   "metadata": {},
   "outputs": [
    {
     "name": "stdout",
     "output_type": "stream",
     "text": [
      "\u001b[31mCHE 341 10.21.21_135019.spc\u001b[m\u001b[m             \u001b[31mCHE 341 High Gold 2 10.21.21_145508.spc\u001b[m\u001b[m\r\n",
      "\u001b[31mCHE 341 High Gold 1 10.21.21_143517.spc\u001b[m\u001b[m \u001b[31mCHE 341 High Gold 3 10.21.21_151842.spc\u001b[m\u001b[m\r\n"
     ]
    }
   ],
   "source": [
    "!ls \"/Users/dwyerry/Dropbox/__mu/pchem1-2020/21-lab-data/2021 L5 Major Project/Shimadzu UV-1800/2021-10-21\""
   ]
  },
  {
   "cell_type": "code",
   "execution_count": 4,
   "id": "c858fcc0",
   "metadata": {},
   "outputs": [],
   "source": [
    "fname = \"/Users/dwyerry/Dropbox/__mu/pchem1-2020/21-lab-data/2021 L5 Major Project/Shimadzu UV-1800/2021-10-21/CHE 341 High Gold 3 10.21.21_151842.spc\""
   ]
  },
  {
   "cell_type": "code",
   "execution_count": 5,
   "id": "1b89dd2a",
   "metadata": {},
   "outputs": [
    {
     "name": "stdout",
     "output_type": "stream",
     "text": [
      "Highly experimental format, may not work \n"
     ]
    },
    {
     "ename": "error",
     "evalue": "unpack requires a buffer of 16 bytes",
     "output_type": "error",
     "traceback": [
      "\u001b[0;31m---------------------------------------------------------------------------\u001b[0m",
      "\u001b[0;31merror\u001b[0m                                     Traceback (most recent call last)",
      "\u001b[0;32m/var/folders/zn/x8ct2v5d1z714b45ycxv1hhc0000gn/T/ipykernel_84827/1490640199.py\u001b[0m in \u001b[0;36m<module>\u001b[0;34m\u001b[0m\n\u001b[0;32m----> 1\u001b[0;31m \u001b[0mFile\u001b[0m\u001b[0;34m(\u001b[0m\u001b[0mfname\u001b[0m\u001b[0;34m)\u001b[0m\u001b[0;34m\u001b[0m\u001b[0;34m\u001b[0m\u001b[0m\n\u001b[0m",
      "\u001b[0;32m~/programming/pchem/pchem/spc.py\u001b[0m in \u001b[0;36m__init__\u001b[0;34m(self, filename)\u001b[0m\n\u001b[1;32m    384\u001b[0m                     \u001b[0;32mbreak\u001b[0m\u001b[0;34m\u001b[0m\u001b[0;34m\u001b[0m\u001b[0m\n\u001b[1;32m    385\u001b[0m             \u001b[0mdat_siz\u001b[0m \u001b[0;34m=\u001b[0m \u001b[0mint\u001b[0m\u001b[0;34m(\u001b[0m\u001b[0mdat_len\u001b[0m \u001b[0;34m/\u001b[0m \u001b[0;36m8\u001b[0m\u001b[0;34m)\u001b[0m\u001b[0;34m\u001b[0m\u001b[0;34m\u001b[0m\u001b[0m\n\u001b[0;32m--> 386\u001b[0;31m             \u001b[0mself\u001b[0m\u001b[0;34m.\u001b[0m\u001b[0my\u001b[0m \u001b[0;34m=\u001b[0m \u001b[0mstruct\u001b[0m\u001b[0;34m.\u001b[0m\u001b[0munpack\u001b[0m\u001b[0;34m(\u001b[0m\u001b[0;34m(\u001b[0m\u001b[0;34m'<'\u001b[0m \u001b[0;34m+\u001b[0m \u001b[0mdat_siz\u001b[0m \u001b[0;34m*\u001b[0m \u001b[0;34m'd'\u001b[0m\u001b[0;34m)\u001b[0m\u001b[0;34m.\u001b[0m\u001b[0mencode\u001b[0m\u001b[0;34m(\u001b[0m\u001b[0;34m'utf8'\u001b[0m\u001b[0;34m)\u001b[0m\u001b[0;34m,\u001b[0m \u001b[0mraw_data\u001b[0m\u001b[0;34m[\u001b[0m\u001b[0;34m:\u001b[0m\u001b[0mdat_len\u001b[0m\u001b[0;34m]\u001b[0m\u001b[0;34m)\u001b[0m\u001b[0;34m\u001b[0m\u001b[0;34m\u001b[0m\u001b[0m\n\u001b[0m\u001b[1;32m    387\u001b[0m             \u001b[0mself\u001b[0m\u001b[0;34m.\u001b[0m\u001b[0mx\u001b[0m \u001b[0;34m=\u001b[0m \u001b[0mstruct\u001b[0m\u001b[0;34m.\u001b[0m\u001b[0munpack\u001b[0m\u001b[0;34m(\u001b[0m\u001b[0;34m(\u001b[0m\u001b[0;34m'<'\u001b[0m \u001b[0;34m+\u001b[0m \u001b[0mdat_siz\u001b[0m \u001b[0;34m*\u001b[0m \u001b[0;34m'd'\u001b[0m\u001b[0;34m)\u001b[0m\u001b[0;34m.\u001b[0m\u001b[0mencode\u001b[0m\u001b[0;34m(\u001b[0m\u001b[0;34m'utf8'\u001b[0m\u001b[0;34m)\u001b[0m\u001b[0;34m,\u001b[0m \u001b[0mraw_data\u001b[0m\u001b[0;34m[\u001b[0m\u001b[0mi\u001b[0m\u001b[0;34m:\u001b[0m\u001b[0mi\u001b[0m \u001b[0;34m+\u001b[0m \u001b[0mdat_len\u001b[0m\u001b[0;34m]\u001b[0m\u001b[0;34m)\u001b[0m\u001b[0;34m\u001b[0m\u001b[0;34m\u001b[0m\u001b[0m\n\u001b[1;32m    388\u001b[0m \u001b[0;34m\u001b[0m\u001b[0m\n",
      "\u001b[0;31merror\u001b[0m: unpack requires a buffer of 16 bytes"
     ]
    }
   ],
   "source": [
    "File(fname)"
   ]
  },
  {
   "cell_type": "code",
   "execution_count": null,
   "id": "da602030",
   "metadata": {},
   "outputs": [],
   "source": []
  }
 ],
 "metadata": {
  "kernelspec": {
   "display_name": "Python 3 (ipykernel)",
   "language": "python",
   "name": "python3"
  },
  "language_info": {
   "codemirror_mode": {
    "name": "ipython",
    "version": 3
   },
   "file_extension": ".py",
   "mimetype": "text/x-python",
   "name": "python",
   "nbconvert_exporter": "python",
   "pygments_lexer": "ipython3",
   "version": "3.9.7"
  }
 },
 "nbformat": 4,
 "nbformat_minor": 5
}
