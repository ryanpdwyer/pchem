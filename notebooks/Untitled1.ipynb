{
 "cells": [
  {
   "cell_type": "code",
   "execution_count": 24,
   "id": "3fb8118e",
   "metadata": {},
   "outputs": [],
   "source": [
    "import numpy as np\n",
    "import sympy as sm\n",
    "sm.init_printing()"
   ]
  },
  {
   "cell_type": "code",
   "execution_count": 25,
   "id": "1ba8e5c0",
   "metadata": {},
   "outputs": [],
   "source": [
    "epsilon = 1.0\n",
    "state_energies = np.array([0, 1, 1, 1])*epsilon"
   ]
  },
  {
   "cell_type": "code",
   "execution_count": 35,
   "id": "dd142ed9",
   "metadata": {},
   "outputs": [],
   "source": [
    "def ways(state_energies, T, kB, numpy=True):\n",
    "    if numpy:\n",
    "        return np.exp(-state_energies/ (kB*T))\n",
    "    else:\n",
    "        return [sm.exp(-e / (kB*T)) for e in state_energies]"
   ]
  },
  {
   "cell_type": "code",
   "execution_count": 36,
   "id": "afe68e5a",
   "metadata": {},
   "outputs": [],
   "source": [
    "w = ways(state_energies, T=1, kB=1)"
   ]
  },
  {
   "cell_type": "code",
   "execution_count": 48,
   "id": "8fc159ca",
   "metadata": {},
   "outputs": [],
   "source": [
    "def probabilities(state_energies, T, kB, numpy=True):\n",
    "    w = ways(state_energies, T, kB, numpy)\n",
    "    if numpy:\n",
    "        return w / sum(w)\n",
    "    else:\n",
    "        total_ways = sum(w)\n",
    "        return [way/total_ways for way in w]"
   ]
  },
  {
   "cell_type": "code",
   "execution_count": 49,
   "id": "c9d5ae87",
   "metadata": {},
   "outputs": [
    {
     "data": {
      "text/plain": [
       "array([0.47536689, 0.1748777 , 0.1748777 , 0.1748777 ])"
      ]
     },
     "execution_count": 49,
     "metadata": {},
     "output_type": "execute_result"
    }
   ],
   "source": [
    "probabilities(state_energies, 1, kB=1)"
   ]
  },
  {
   "cell_type": "code",
   "execution_count": 57,
   "id": "5aba7aaf",
   "metadata": {},
   "outputs": [],
   "source": [
    "epsilon, k_B, T = sm.symbols('epsilon k_B T', positive=True)\n",
    "i = sm.symbols('i', integer=True, nonnegative=True)\n",
    "se = [0, epsilon, epsilon, epsilon]"
   ]
  },
  {
   "cell_type": "code",
   "execution_count": 51,
   "id": "f60c055a",
   "metadata": {},
   "outputs": [
    {
     "data": {
      "image/png": "[encoded data removed]",
      "text/latex": [
       "$\\displaystyle \\left[ \\frac{1}{1 + 3 e^{- \\frac{\\epsilon}{T k_{B}}}}, \\  \\frac{e^{- \\frac{\\epsilon}{T k_{B}}}}{1 + 3 e^{- \\frac{\\epsilon}{T k_{B}}}}, \\  \\frac{e^{- \\frac{\\epsilon}{T k_{B}}}}{1 + 3 e^{- \\frac{\\epsilon}{T k_{B}}}}, \\  \\frac{e^{- \\frac{\\epsilon}{T k_{B}}}}{1 + 3 e^{- \\frac{\\epsilon}{T k_{B}}}}\\right]$"
      ],
      "text/plain": [
       "⎡                   -ε            -ε            -ε     ⎤\n",
       "⎢                  ─────         ─────         ─────   ⎥\n",
       "⎢                  T⋅k_B         T⋅k_B         T⋅k_B   ⎥\n",
       "⎢     1           ℯ             ℯ             ℯ        ⎥\n",
       "⎢────────────, ────────────, ────────────, ────────────⎥\n",
       "⎢        -ε            -ε            -ε            -ε  ⎥\n",
       "⎢       ─────         ─────         ─────         ─────⎥\n",
       "⎢       T⋅k_B         T⋅k_B         T⋅k_B         T⋅k_B⎥\n",
       "⎣1 + 3⋅ℯ       1 + 3⋅ℯ       1 + 3⋅ℯ       1 + 3⋅ℯ     ⎦"
      ]
     },
     "execution_count": 51,
     "metadata": {},
     "output_type": "execute_result"
    }
   ],
   "source": [
    "probabilities(se, T, k_B, False)"
   ]
  },
  {
   "cell_type": "code",
   "execution_count": 56,
   "id": "23013e8e",
   "metadata": {},
   "outputs": [],
   "source": [
    "def ways_levels(level_energies, level_degeneracies, T, kB, numpy=True):\n",
    "    if numpy:\n",
    "        return np.exp(-level_energies/ (kB*T))*level_degeneracies\n",
    "    else:\n",
    "        return [g*sm.exp(-e / (kB*T)) for e, g in zip(level_energies, level_degeneracies)]"
   ]
  },
  {
   "cell_type": "code",
   "execution_count": 59,
   "id": "d183869c",
   "metadata": {},
   "outputs": [],
   "source": [
    "wl = ways_levels(sm.sequence(i*(i+1)*epsilon, (i, 0, 10)), sm.sequence(2*i+1, (i, 0, 10)), T, k_B, False)"
   ]
  },
  {
   "cell_type": "code",
   "execution_count": 60,
   "id": "1ebfc504",
   "metadata": {},
   "outputs": [],
   "source": [
    "def probabilities_levels(level_energies, level_degeneracies, T, kB, numpy=True):\n",
    "    w = ways_levels(state_energies, level_degeneracies, T, kB, numpy)\n",
    "    if numpy:\n",
    "        return w / sum(w)\n",
    "    else:\n",
    "        total_ways = sum(w)\n",
    "        return [way/total_ways for way in w]"
   ]
  },
  {
   "cell_type": "code",
   "execution_count": null,
   "id": "39fb0711",
   "metadata": {},
   "outputs": [],
   "source": [
    "probabilities_levels()"
   ]
  }
 ],
 "metadata": {
  "kernelspec": {
   "display_name": "Python 3 (ipykernel)",
   "language": "python",
   "name": "python3"
  },
  "language_info": {
   "codemirror_mode": {
    "name": "ipython",
    "version": 3
   },
   "file_extension": ".py",
   "mimetype": "text/x-python",
   "name": "python",
   "nbconvert_exporter": "python",
   "pygments_lexer": "ipython3",
   "version": "3.9.7"
  }
 },
 "nbformat": 4,
 "nbformat_minor": 5
}
