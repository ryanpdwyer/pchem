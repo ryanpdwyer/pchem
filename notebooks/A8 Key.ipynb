{
 "cells": [
  {
   "cell_type": "code",
   "execution_count": 1,
   "id": "d430958c",
   "metadata": {},
   "outputs": [],
   "source": [
    "import numpy as np\n",
    "import pchem as pc\n",
    "import sympy as sm\n",
    "sm.init_printing()"
   ]
  },
  {
   "cell_type": "code",
   "execution_count": 24,
   "id": "68af48b2",
   "metadata": {},
   "outputs": [
    {
     "name": "stdout",
     "output_type": "stream",
     "text": [
      "deltaH1=25700.00 deltaS1=108.70\n"
     ]
    }
   ],
   "source": [
    "deltaH1 = (-339.9- -365.6)*1e3 \n",
    "deltaS1 = 259.8 - 151.1\n",
    "print(f\"{deltaH1=:.2f} {deltaS1=:.2f}\")"
   ]
  },
  {
   "cell_type": "code",
   "execution_count": null,
   "id": "ba9ffb95",
   "metadata": {},
   "outputs": [],
   "source": []
  },
  {
   "cell_type": "code",
   "execution_count": 4,
   "id": "331d8c33",
   "metadata": {},
   "outputs": [],
   "source": [
    "Tsurr = 310\n",
    "T_i = 298.15\n",
    "T_f = 268.15\n",
    "R_J = 8.3145\n",
    "Cf = 3.4\n",
    "deltaS2 = -2* R_J * np.log(Cf/1)\n",
    "cP = 2.9\n",
    "m = 5*18.02 + 1 * 80.043\n",
    "C_P = cP*m\n",
    "deltaS3 = C_P * np.log(T_f/T_i)\n",
    "deltaH3 = C_P*(T_f-T_i)"
   ]
  },
  {
   "cell_type": "code",
   "execution_count": 27,
   "id": "53d5d623",
   "metadata": {},
   "outputs": [],
   "source": [
    "deltaH = deltaH1 + deltaH3"
   ]
  },
  {
   "cell_type": "code",
   "execution_count": 28,
   "id": "dc4b4e5c",
   "metadata": {},
   "outputs": [
    {
     "data": {
      "image/png": "[encoded data removed]",
      "text/latex": [
       "$\\displaystyle 10897.559$"
      ],
      "text/plain": [
       "10897.559000000045"
      ]
     },
     "execution_count": 28,
     "metadata": {},
     "output_type": "execute_result"
    }
   ],
   "source": [
    "deltaH"
   ]
  },
  {
   "cell_type": "code",
   "execution_count": 30,
   "id": "e640147a",
   "metadata": {},
   "outputs": [
    {
     "data": {
      "image/png": "[encoded data removed]",
      "text/latex": [
       "$\\displaystyle -14802.441$"
      ],
      "text/plain": [
       "-14802.440999999999"
      ]
     },
     "execution_count": 30,
     "metadata": {},
     "output_type": "execute_result"
    }
   ],
   "source": [
    "deltaH3"
   ]
  },
  {
   "cell_type": "code",
   "execution_count": 33,
   "id": "47f6e80b",
   "metadata": {},
   "outputs": [
    {
     "data": {
      "image/png": "[encoded data removed]",
      "text/latex": [
       "$\\displaystyle 108.7$"
      ],
      "text/plain": [
       "108.70000000000002"
      ]
     },
     "execution_count": 33,
     "metadata": {},
     "output_type": "execute_result"
    }
   ],
   "source": [
    "deltaS1"
   ]
  },
  {
   "cell_type": "code",
   "execution_count": 34,
   "id": "c2411eca",
   "metadata": {},
   "outputs": [
    {
     "data": {
      "image/png": "[encoded data removed]",
      "text/latex": [
       "$\\displaystyle -52.3267227529602$"
      ],
      "text/plain": [
       "-52.3267227529602"
      ]
     },
     "execution_count": 34,
     "metadata": {},
     "output_type": "execute_result"
    }
   ],
   "source": [
    "deltaS3"
   ]
  },
  {
   "cell_type": "code",
   "execution_count": 37,
   "id": "87d1f31c",
   "metadata": {},
   "outputs": [
    {
     "data": {
      "image/png": "[encoded data removed]",
      "text/latex": [
       "$\\displaystyle 10897.559$"
      ],
      "text/plain": [
       "10897.559000000045"
      ]
     },
     "execution_count": 37,
     "metadata": {},
     "output_type": "execute_result"
    }
   ],
   "source": [
    "deltaH"
   ]
  },
  {
   "cell_type": "code",
   "execution_count": 38,
   "id": "d945f761",
   "metadata": {},
   "outputs": [],
   "source": [
    "deltaS_surr = -deltaH/Tsurr"
   ]
  },
  {
   "cell_type": "code",
   "execution_count": 39,
   "id": "db646c8a",
   "metadata": {},
   "outputs": [
    {
     "data": {
      "image/png": "[encoded data removed]",
      "text/latex": [
       "$\\displaystyle -35.1534161290324$"
      ],
      "text/plain": [
       "-35.1534161290324"
      ]
     },
     "execution_count": 39,
     "metadata": {},
     "output_type": "execute_result"
    }
   ],
   "source": [
    "deltaS_surr"
   ]
  },
  {
   "cell_type": "code",
   "execution_count": 40,
   "id": "ad5e78b3",
   "metadata": {},
   "outputs": [
    {
     "data": {
      "image/png": "[encoded data removed]",
      "text/latex": [
       "$\\displaystyle 36.0231155945956$"
      ],
      "text/plain": [
       "36.023115594595644"
      ]
     },
     "execution_count": 40,
     "metadata": {},
     "output_type": "execute_result"
    }
   ],
   "source": [
    "deltaS2 + deltaS1 + deltaS3"
   ]
  },
  {
   "cell_type": "code",
   "execution_count": 41,
   "id": "d5de5183",
   "metadata": {},
   "outputs": [],
   "source": [
    "deltaS = deltaS1 + deltaS2 + deltaS3"
   ]
  },
  {
   "cell_type": "code",
   "execution_count": 42,
   "id": "a99dfc3a",
   "metadata": {},
   "outputs": [],
   "source": [
    "deltaS_surr = -deltaH/(273+37)"
   ]
  },
  {
   "cell_type": "code",
   "execution_count": 43,
   "id": "88b7c180",
   "metadata": {},
   "outputs": [
    {
     "data": {
      "image/png": "[encoded data removed]",
      "text/latex": [
       "$\\displaystyle -35.1534161290324$"
      ],
      "text/plain": [
       "-35.1534161290324"
      ]
     },
     "execution_count": 43,
     "metadata": {},
     "output_type": "execute_result"
    }
   ],
   "source": [
    "deltaS_surr"
   ]
  },
  {
   "cell_type": "code",
   "execution_count": 44,
   "id": "ba2a8acc",
   "metadata": {},
   "outputs": [
    {
     "data": {
      "image/png": "[encoded data removed]",
      "text/latex": [
       "$\\displaystyle 36.0231155945956$"
      ],
      "text/plain": [
       "36.023115594595644"
      ]
     },
     "execution_count": 44,
     "metadata": {},
     "output_type": "execute_result"
    }
   ],
   "source": [
    "deltaS1 + deltaS2 + deltaS3"
   ]
  },
  {
   "cell_type": "code",
   "execution_count": 45,
   "id": "8f637f0c",
   "metadata": {},
   "outputs": [],
   "source": [
    "# System = soln...\n",
    "# Surroundings = knee (some heat flows there!)"
   ]
  },
  {
   "cell_type": "code",
   "execution_count": 46,
   "id": "6f54e6a0",
   "metadata": {},
   "outputs": [
    {
     "data": {
      "image/png": "[encoded data removed]",
      "text/latex": [
       "$\\displaystyle 0.869699465563244$"
      ],
      "text/plain": [
       "0.8696994655632437"
      ]
     },
     "execution_count": 46,
     "metadata": {},
     "output_type": "execute_result"
    }
   ],
   "source": [
    "deltaS_surr + deltaS"
   ]
  },
  {
   "cell_type": "markdown",
   "id": "2844bb41",
   "metadata": {},
   "source": [
    "# Constant pressure\n",
    "\n",
    "$\\Delta H = q$"
   ]
  },
  {
   "cell_type": "code",
   "execution_count": 126,
   "id": "33f7ec84",
   "metadata": {},
   "outputs": [
    {
     "data": {
      "image/png": "[encoded data removed]",
      "text/latex": [
       "$\\displaystyle 33.1442856005148$"
      ],
      "text/plain": [
       "33.144285600514834"
      ]
     },
     "execution_count": 126,
     "metadata": {},
     "output_type": "execute_result"
    }
   ],
   "source": [
    "np.log(np.math.factorial(52)/(2*np.math.factorial(26)**2) )"
   ]
  },
  {
   "cell_type": "code",
   "execution_count": 127,
   "id": "514e6530",
   "metadata": {},
   "outputs": [
    {
     "data": {
      "image/png": "[encoded data removed]",
      "text/latex": [
       "$\\displaystyle 36.0436533891172$"
      ],
      "text/plain": [
       "36.04365338911715"
      ]
     },
     "execution_count": 127,
     "metadata": {},
     "output_type": "execute_result"
    }
   ],
   "source": [
    "np.log(2**52)"
   ]
  },
  {
   "cell_type": "code",
   "execution_count": null,
   "id": "2243d07a",
   "metadata": {},
   "outputs": [],
   "source": []
  }
 ],
 "metadata": {
  "kernelspec": {
   "display_name": "Python 3 (ipykernel)",
   "language": "python",
   "name": "python3"
  },
  "language_info": {
   "codemirror_mode": {
    "name": "ipython",
    "version": 3
   },
   "file_extension": ".py",
   "mimetype": "text/x-python",
   "name": "python",
   "nbconvert_exporter": "python",
   "pygments_lexer": "ipython3",
   "version": "3.9.9"
  }
 },
 "nbformat": 4,
 "nbformat_minor": 5
}
