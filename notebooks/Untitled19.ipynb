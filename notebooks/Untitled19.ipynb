{
 "cells": [
  {
   "cell_type": "code",
   "execution_count": 10,
   "id": "3ce82f25",
   "metadata": {},
   "outputs": [],
   "source": [
    "import numpy as np\n",
    "import matplotlib.pyplot as plt"
   ]
  },
  {
   "cell_type": "code",
   "execution_count": 11,
   "id": "6bb1f84f",
   "metadata": {},
   "outputs": [],
   "source": [
    "txt = \"\"\"12.0 324.675 12.2 325.942 12.4 327.194 12.6 328.429 12.8 329.649 \n",
    "\n",
    "13.0 330.854 13.2 332.044 13.4 333.220 13.6 334.382 13.8 335.531 \n",
    "\n",
    "14.0 336.666 14.2 337.789 14.4 338.899 14.6 339.996 14.8 341.082 \n",
    "\n",
    "15.0 342.155 15.2 343.217 15.4 344.268 15.6 345.308 15.8 346.337 \n",
    "\n",
    "16.0 347.355 16.2 348.362 16.4 349.360 16.6 350.347 16.8 351.325 \n",
    "\n",
    "17.0 352.293 17.2 353.251 17.4 354.200 17.6 355.140 17.8 356.071 \n",
    "\n",
    "18.0 356.992 18.2 357.906 18.4 358.810 18.6 359.706 18.8 360.594 \n",
    "\n",
    "19.0 361.473 19.2 362.344 19.4 363.208 19.6 364.063 19.8 364.910 \n",
    "\n",
    "20.0 365.749 20.2 366.581 20.4 367.404 20.6 368.220 20.8 369.027 \n",
    "\n",
    "21.0 369.827 21.2 370.619 21.4 371.402 21.6 372.178 21.8 372.946 \n",
    "\n",
    "22.0 373.705\"\"\"\n",
    "data = np.array(txt.split(), dtype=float)\n",
    "P_MPa = data[::2]\n",
    "P_bar = P_MPa/0.1\n",
    "T_C = data[1::2]\n",
    "T_K = T_C + 273.15"
   ]
  },
  {
   "cell_type": "code",
   "execution_count": 12,
   "id": "25e1375b",
   "metadata": {},
   "outputs": [],
   "source": []
  },
  {
   "cell_type": "code",
   "execution_count": 13,
   "id": "0be78a74",
   "metadata": {},
   "outputs": [
    {
     "data": {
      "text/plain": [
       "[<matplotlib.lines.Line2D at 0x160360f10>]"
      ]
     },
     "execution_count": 13,
     "metadata": {},
     "output_type": "execute_result"
    },
    {
     "data": {
      "image/png": "[encoded data removed]",
      "text/plain": [
       "<Figure size 432x288 with 1 Axes>"
      ]
     },
     "metadata": {
      "needs_background": "light"
     },
     "output_type": "display_data"
    }
   ],
   "source": [
    "plt.plot(1/T_K, np.log(P_bar), 'o')"
   ]
  },
  {
   "cell_type": "code",
   "execution_count": 17,
   "id": "d0dc97f2",
   "metadata": {},
   "outputs": [],
   "source": [
    "dlnPdT = np.gradient(np.log(P_bar))/ np.gradient(1/T_K)"
   ]
  },
  {
   "cell_type": "code",
   "execution_count": 19,
   "id": "4402ac63",
   "metadata": {},
   "outputs": [
    {
     "data": {
      "text/plain": [
       "[<matplotlib.lines.Line2D at 0x160ab3460>]"
      ]
     },
     "execution_count": 19,
     "metadata": {},
     "output_type": "execute_result"
    },
    {
     "data": {
      "image/png": "[encoded data removed]",
      "text/plain": [
       "<Figure size 432x288 with 1 Axes>"
      ]
     },
     "metadata": {
      "needs_background": "light"
     },
     "output_type": "display_data"
    }
   ],
   "source": [
    "plt.plot(T_K, dlnPdT)"
   ]
  },
  {
   "cell_type": "code",
   "execution_count": 20,
   "id": "79fc1b17",
   "metadata": {},
   "outputs": [],
   "source": [
    "import pchem as pc"
   ]
  },
  {
   "cell_type": "code",
   "execution_count": 24,
   "id": "5b1f812a",
   "metadata": {},
   "outputs": [
    {
     "data": {
      "text/plain": [
       "0.9656674136042743"
      ]
     },
     "execution_count": 24,
     "metadata": {},
     "output_type": "execute_result"
    }
   ],
   "source": [
    "pc.getprop('H2O', 'Z', 21.5, T=370+273)"
   ]
  },
  {
   "cell_type": "code",
   "execution_count": null,
   "id": "8e298f48",
   "metadata": {},
   "outputs": [],
   "source": []
  }
 ],
 "metadata": {
  "kernelspec": {
   "display_name": "Python 3 (ipykernel)",
   "language": "python",
   "name": "python3"
  },
  "language_info": {
   "codemirror_mode": {
    "name": "ipython",
    "version": 3
   },
   "file_extension": ".py",
   "mimetype": "text/x-python",
   "name": "python",
   "nbconvert_exporter": "python",
   "pygments_lexer": "ipython3",
   "version": "3.9.9"
  }
 },
 "nbformat": 4,
 "nbformat_minor": 5
}
