{
 "cells": [
  {
   "cell_type": "markdown",
   "id": "794597d3",
   "metadata": {},
   "source": [
    "# Statistical Mechanics Python Template\n",
    "\n",
    "\n",
    "### Table of Contents\n",
    "\n",
    "1. [Imports](#imports)\n",
    "2. [Statistical mechanics](#statistical-mechanics)\n",
    "3. [Plotting - Matplotlib](#plotting-matplotlib)\n",
    "4. [Plotting - Plotly](#plotting-plotly)\n",
    "\n",
    "\n",
    "Here are some helper functions for doing statistical mechanics calculations and plotting."
   ]
  },
  {
   "cell_type": "markdown",
   "id": "7f2f1aa5",
   "metadata": {},
   "source": [
    "### Imports <a id=\"imports\"></a>\n",
    "\n",
    "Let's import all the packages we might need. **Remember you need to evaluate this cell first.** You may want to just use Cell > Run All to make everything work."
   ]
  },
  {
   "cell_type": "code",
   "execution_count": 4,
   "id": "de3ff046",
   "metadata": {},
   "outputs": [],
   "source": [
    "# Usual functions for math: np.exp, np.linspace, etc...\n",
    "import numpy as np\n",
    "\n",
    "# Spreadsheet-style tables (with data in rows and labeled columns) in Python\n",
    "import pandas as pd\n",
    "\n",
    "# Dictionaries that can use a.b rather than a['b'] (easier to type)\n",
    "from munch import Munch\n",
    "\n",
    "# Plotting\n",
    "import matplotlib.pyplot as plt\n",
    "import plotly.express as px\n",
    "\n",
    "# An easy way to make things interactive...\n",
    "from ipywidgets import interact\n",
    "\n",
    "# Physical constants\n",
    "kB = 1.381e-23 # J/K\n",
    "h = 6.626e-34 # Js\n",
    "R = 8.314 # J/mol-K\n",
    "R_kJ = R / 1000 # kJ/mol-K\n",
    "\n",
    "# Units; add any other conversion factors you need \n",
    "amu = 1.6605e-27 # 1 amu = 1.6605e-27 kg"
   ]
  },
  {
   "attachments": {},
   "cell_type": "markdown",
   "id": "90af5811",
   "metadata": {},
   "source": [
    "## Statistical mechanics calculations <a id=\"statistical-mechanics\"></a>\n",
    "\n",
    "### Case 1: Just a few energy levels\n",
    "\n",
    "There are lots of ways to do these calculations - here's one approach. Just define a function that takes the problem parameters as inputs, do all your calculations in the function, and output them all in a dictionary (or Munch for slightly easier access with `.`) - then we'll convert to a dataframe for analysis with plotly.\n",
    "\n",
    "\n",
    "We want to calculate the probabilities, total ways $q$, and average energy per particle as a function of temperature $T$ (arbitrarily from 1 K to 2000 K).\n",
    "\n",
    "**What are the inputs?** \n",
    "- The energy $\\varepsilon$ and the temperature $T$, and the gas constant $R$.\n",
    "- We consider $k_B$ or $R$ an input so that you can change the units of your energy from J/particle to kJ/mol easily. Remember\n",
    "\n",
    "$$\\frac{\\varepsilon}{k_B T} = \\frac{E}{RT}$$\n",
    "\n",
    "so you can use energy per particle $\\epsilon$ and Boltzmann's constant $k_B$ or energy per mole of particles $E$ and the gas constant $R$ interchangably just be changing the value of \"R\" passed into the function."
   ]
  },
  {
   "cell_type": "markdown",
   "id": "dcb54f25",
   "metadata": {},
   "source": [
    "**Example function:** Now that we have our inputs, let's go through the steps in a function."
   ]
  },
  {
   "cell_type": "code",
   "execution_count": 5,
   "id": "4f4c5e9f",
   "metadata": {},
   "outputs": [],
   "source": [
    "def polymer4(E, T, R=R_kJ):\n",
    "    \"\"\"The 4 unit polymer model from class; by default,\n",
    "    the model uses an energy E in kJ/mol. If you pass R=kB,\n",
    "    you can use J/particle instead.\"\"\"\n",
    "    # Step 2: Define the ways\n",
    "\n",
    "\n",
    "    # Step 3: Define the total ways q\n",
    "    \n",
    "    \n",
    "\n",
    "   # Step 4: Define anything else we need - K, probabilities, average energy...\n",
    "\n",
    "\n",
    "    # Outputs: Easy, we'll output everything!\n",
    "    return Munch(locals()) # locals is a dictionary containing all variables defined in the function"
   ]
  },
  {
   "cell_type": "markdown",
   "id": "73607c3b",
   "metadata": {},
   "source": [
    "#### Check\n",
    "\n",
    "Use our pencil and paper results from class for $E = 5$ kJ/mol and $T=273$ K and $T=373$ K to check that your function is working properly."
   ]
  },
  {
   "cell_type": "code",
   "execution_count": 6,
   "id": "1b838e8d",
   "metadata": {},
   "outputs": [
    {
     "data": {
      "text/plain": [
       "Munch({'E': 5, 'T': 273, 'R': 0.008314})"
      ]
     },
     "execution_count": 6,
     "metadata": {},
     "output_type": "execute_result"
    }
   ],
   "source": [
    "polymer4(5, 273)"
   ]
  },
  {
   "attachments": {},
   "cell_type": "markdown",
   "id": "c1cdb49f",
   "metadata": {},
   "source": [
    "Once we have our function, we can call our function using a numpy array of temperatures to quickly determine how all of our ways, probabilities, and equilibrium constants vary with temperature.\n",
    "\n",
    "The variable `outputs` should contain arrays listing all of our results versus temperature - to visualize this more easily, we'll make a pandas (abbreviated `pd`) DataFrame (like an Excel Table) from our results."
   ]
  },
  {
   "cell_type": "code",
   "execution_count": 8,
   "id": "8c16d4af",
   "metadata": {},
   "outputs": [
    {
     "data": {
      "text/html": [
       "<div>\n",
       "<style scoped>\n",
       "    .dataframe tbody tr th:only-of-type {\n",
       "        vertical-align: middle;\n",
       "    }\n",
       "\n",
       "    .dataframe tbody tr th {\n",
       "        vertical-align: top;\n",
       "    }\n",
       "\n",
       "    .dataframe thead th {\n",
       "        text-align: right;\n",
       "    }\n",
       "</style>\n",
       "<table border=\"1\" class=\"dataframe\">\n",
       "  <thead>\n",
       "    <tr style=\"text-align: right;\">\n",
       "      <th></th>\n",
       "      <th>E</th>\n",
       "      <th>T</th>\n",
       "      <th>R</th>\n",
       "      <th>temp</th>\n",
       "    </tr>\n",
       "  </thead>\n",
       "  <tbody>\n",
       "    <tr>\n",
       "      <th>0</th>\n",
       "      <td>5</td>\n",
       "      <td>1.0</td>\n",
       "      <td>0.008314</td>\n",
       "      <td>1.0</td>\n",
       "    </tr>\n",
       "    <tr>\n",
       "      <th>1</th>\n",
       "      <td>5</td>\n",
       "      <td>2.0</td>\n",
       "      <td>0.008314</td>\n",
       "      <td>2.0</td>\n",
       "    </tr>\n",
       "    <tr>\n",
       "      <th>2</th>\n",
       "      <td>5</td>\n",
       "      <td>3.0</td>\n",
       "      <td>0.008314</td>\n",
       "      <td>3.0</td>\n",
       "    </tr>\n",
       "    <tr>\n",
       "      <th>3</th>\n",
       "      <td>5</td>\n",
       "      <td>4.0</td>\n",
       "      <td>0.008314</td>\n",
       "      <td>4.0</td>\n",
       "    </tr>\n",
       "    <tr>\n",
       "      <th>4</th>\n",
       "      <td>5</td>\n",
       "      <td>5.0</td>\n",
       "      <td>0.008314</td>\n",
       "      <td>5.0</td>\n",
       "    </tr>\n",
       "    <tr>\n",
       "      <th>...</th>\n",
       "      <td>...</td>\n",
       "      <td>...</td>\n",
       "      <td>...</td>\n",
       "      <td>...</td>\n",
       "    </tr>\n",
       "    <tr>\n",
       "      <th>1995</th>\n",
       "      <td>5</td>\n",
       "      <td>1996.0</td>\n",
       "      <td>0.008314</td>\n",
       "      <td>1996.0</td>\n",
       "    </tr>\n",
       "    <tr>\n",
       "      <th>1996</th>\n",
       "      <td>5</td>\n",
       "      <td>1997.0</td>\n",
       "      <td>0.008314</td>\n",
       "      <td>1997.0</td>\n",
       "    </tr>\n",
       "    <tr>\n",
       "      <th>1997</th>\n",
       "      <td>5</td>\n",
       "      <td>1998.0</td>\n",
       "      <td>0.008314</td>\n",
       "      <td>1998.0</td>\n",
       "    </tr>\n",
       "    <tr>\n",
       "      <th>1998</th>\n",
       "      <td>5</td>\n",
       "      <td>1999.0</td>\n",
       "      <td>0.008314</td>\n",
       "      <td>1999.0</td>\n",
       "    </tr>\n",
       "    <tr>\n",
       "      <th>1999</th>\n",
       "      <td>5</td>\n",
       "      <td>2000.0</td>\n",
       "      <td>0.008314</td>\n",
       "      <td>2000.0</td>\n",
       "    </tr>\n",
       "  </tbody>\n",
       "</table>\n",
       "<p>2000 rows × 4 columns</p>\n",
       "</div>"
      ],
      "text/plain": [
       "      E       T         R    temp\n",
       "0     5     1.0  0.008314     1.0\n",
       "1     5     2.0  0.008314     2.0\n",
       "2     5     3.0  0.008314     3.0\n",
       "3     5     4.0  0.008314     4.0\n",
       "4     5     5.0  0.008314     5.0\n",
       "...  ..     ...       ...     ...\n",
       "1995  5  1996.0  0.008314  1996.0\n",
       "1996  5  1997.0  0.008314  1997.0\n",
       "1997  5  1998.0  0.008314  1998.0\n",
       "1998  5  1999.0  0.008314  1999.0\n",
       "1999  5  2000.0  0.008314  2000.0\n",
       "\n",
       "[2000 rows x 4 columns]"
      ]
     },
     "execution_count": 8,
     "metadata": {},
     "output_type": "execute_result"
    }
   ],
   "source": [
    "temps = np.linspace(1, 2000, num=2000) # starting at 1 K, ending at 2000 K\n",
    "outputs = polymer4(5, temps)\n",
    "df = pd.DataFrame(outputs)\n",
    "df['temp'] = df['T']\n",
    "df"
   ]
  },
  {
   "cell_type": "markdown",
   "id": "e1dc91a2",
   "metadata": {},
   "source": [
    "This contains all of our data - we can select a column using dictionary (`df['T']`) or dot `.` (`df.T`) syntax. Let's make a matplotlib plot below:"
   ]
  },
  {
   "cell_type": "markdown",
   "id": "20566fed",
   "metadata": {},
   "source": [
    "### Plotting - Matplotlib <a id=\"plotting-matplotlib\"></a>\n",
    "\n",
    "We can plot using matplotlib `plt.plot`, as you've used before. \n",
    "\n",
    "Modify the template below to plot the ways of each macrostate and total ways versus temperature."
   ]
  },
  {
   "cell_type": "code",
   "execution_count": 9,
   "id": "45b69ef4",
   "metadata": {},
   "outputs": [
    {
     "data": {
      "text/plain": [
       "<matplotlib.legend.Legend at 0x10dbd9610>"
      ]
     },
     "execution_count": 9,
     "metadata": {},
     "output_type": "execute_result"
    },
    {
     "data": {
      "image/png": "[encoded data removed]",
      "text/plain": [
       "<Figure size 432x288 with 1 Axes>"
      ]
     },
     "metadata": {
      "needs_background": "light"
     },
     "output_type": "display_data"
    }
   ],
   "source": [
    "# In case you forgot, plt.plot works like this:\n",
    "# plt.plot(x, y, label=\"Text for legend\")\n",
    "plt.plot(df.temp, df.R, label=\"Total ways\")\n",
    "# Add appropriate lines for wC and wO below...\n",
    "\n",
    "plt.xlabel(\"X axis label\")\n",
    "plt.ylabel(\"Y axis label\")\n",
    "plt.legend() # Show the legend"
   ]
  },
  {
   "cell_type": "markdown",
   "id": "5afb6060",
   "metadata": {},
   "source": [
    "### Plotting - Plotly <a id=\"plotting-plotly\"></a>\n",
    "\n",
    "Plotly (abbreviated `px`) knows how to plot dataframes directly. Use `px.line` for a line plot and `px.scatter` for a scatter plot.\n",
    "\n",
    "Modify the template below to plot the ways of each macrostate and total ways versus temperature."
   ]
  },
  {
   "cell_type": "code",
   "execution_count": null,
   "id": "d3347842",
   "metadata": {},
   "outputs": [],
   "source": [
    "# If you give plotly a dataframe,\n",
    "# just use the names of the columns to tell plotly what should be on each axis\n",
    "# If you give a list, it will plot multiple things\n",
    "px.line(df, x='T',\n",
    "        # Try switching the y axis list to plot the right columns\n",
    "        y=['R'],\n",
    "        # Plotly labels are changed in a dictionary\n",
    "        labels={'value': \"Y axis label\", # value is the default name given to the y-axis when multiple things are plotted\n",
    "                'T': \"Temperature (K)\"\n",
    "               }\n",
    "       )"
   ]
  }
 ],
 "metadata": {
  "kernelspec": {
   "display_name": "Python 3 (ipykernel)",
   "language": "python",
   "name": "python3"
  },
  "language_info": {
   "codemirror_mode": {
    "name": "ipython",
    "version": 3
   },
   "file_extension": ".py",
   "mimetype": "text/x-python",
   "name": "python",
   "nbconvert_exporter": "python",
   "pygments_lexer": "ipython3",
   "version": "3.9.9"
  }
 },
 "nbformat": 4,
 "nbformat_minor": 5
}
