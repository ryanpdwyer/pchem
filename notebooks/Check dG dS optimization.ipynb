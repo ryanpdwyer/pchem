{
 "cells": [
  {
   "cell_type": "code",
   "execution_count": 6,
   "id": "5a50466a",
   "metadata": {},
   "outputs": [],
   "source": [
    "import numpy as np\n",
    "import scipy.optimize as opt\n",
    "import matplotlib.pyplot as plt\n",
    "from scipy import linalg"
   ]
  },
  {
   "cell_type": "code",
   "execution_count": 7,
   "id": "c74e1b24",
   "metadata": {},
   "outputs": [],
   "source": [
    "import pchem.calorimetry as cal"
   ]
  },
  {
   "cell_type": "code",
   "execution_count": 8,
   "id": "7de2e9c4",
   "metadata": {},
   "outputs": [
    {
     "data": {
      "text/plain": [
       "'/Users/dwyerry/programming/pchem/pchem/calorimetry.py'"
      ]
     },
     "execution_count": 8,
     "metadata": {},
     "output_type": "execute_result"
    }
   ],
   "source": [
    "cal.__file__"
   ]
  },
  {
   "cell_type": "code",
   "execution_count": 4,
   "id": "35f8fc84",
   "metadata": {},
   "outputs": [],
   "source": [
    "H2O = cal.Substance2(\"H2O(l)\", state='l', H0=-285.826e3, S0=69.96,\n",
    "                        cP=4.18*18.02, molarMass=18.02, density=1.0,\n",
    "                        atoms=dict(H=2,O=1, c=0))\n",
    "Hplus = cal.Substance2(\"H+(aq)\", state=\"aq\", H0=0, S0=0, cP=0,\n",
    "                       molarMass=1.01, density=0,\n",
    "                      atoms=dict(H=1,c=1))\n",
    "OH = cal.Substance2(\"OH-(aq)\", state=\"aq\", H0=-230.02e3, S0=-10.9, molarMass=17.01,\n",
    "                   cP=-148.5, density=0, atoms=dict(H=1,O=1,c=-1))\n",
    "\n",
    "HF = cal.Substance2('HF(aq)', state=\"aq\", H0=-324.93e3, S0=-13.8, molarMass=18.998+1.01,cP=0,\n",
    "                    density=0, atoms=dict(H=1,F=1))\n",
    "F = cal.Substance2('F-(aq)', state=\"aq\", H0=-335.35e3, S0=-13.8, molarMass=18.998,cP=-106.7,\n",
    "                   density=0, atoms=dict(F=1,c=-1))\n",
    "\n",
    "\n",
    "dH_ice = -6.01e3\n",
    "T_ice  = 273.15\n",
    "\n",
    "ice = cal.phaseChange(dH_ice, T_ice, H2O, cP=2.108*H2O.molarMass,\n",
    "                    name=\"ice\", state='s', density=0.91, atoms=dict(H=2,O=1))\n",
    "\n",
    "\n",
    "chemicals = {0: H2O, 1: Hplus, 2: OH}\n",
    "\n",
    "rxns = [{0: -1, 1: 1, 2: 1}]\n",
    "\n",
    "s0 = cal.State3(T=298.15, chemicals=chemicals, rxns=[], V=1.0)\n",
    "\n",
    "n0 = 1000/18.02\n",
    "\n",
    "s0.set_state({0: 1000/18.02, 1:0, 2: 0})"
   ]
  },
  {
   "cell_type": "code",
   "execution_count": 5,
   "id": "aacae4bd",
   "metadata": {},
   "outputs": [
    {
     "data": {
      "text/plain": [
       "(array([ 9.99613487e-08,  9.99613486e-08,  5.54938956e+01, -4.39246161e+01,\n",
       "        -3.58653750e+01,  2.78061339e+01]),\n",
       " [6.907372299553355, 3.6096492301851413e-06, 2.879012583889562e-10])"
      ]
     },
     "execution_count": 5,
     "metadata": {},
     "output_type": "execute_result"
    }
   ],
   "source": [
    "s0._solve_iterative()"
   ]
  },
  {
   "cell_type": "code",
   "execution_count": 11,
   "id": "e50748f2",
   "metadata": {},
   "outputs": [
    {
     "data": {
      "text/plain": [
       "array([ 2.85423813e-01,  3.50085409e-14,  5.57476758e+01, -4.14471658e+01,\n",
       "       -4.08202757e+01,  4.01933856e+01])"
      ]
     },
     "execution_count": 11,
     "metadata": {},
     "output_type": "execute_result"
    }
   ],
   "source": [
    "s0.fi(np.array([1.0, 0.01, 0.01, 0,0,0]))"
   ]
  },
  {
   "cell_type": "code",
   "execution_count": 12,
   "id": "1a5101c6",
   "metadata": {},
   "outputs": [
    {
     "data": {
      "text/plain": [
       "<bound method State3.fi of State3(T=298.15, chemicals={0: Substance2(name='H2O(l)', H0=-285826.0, S0=69.96, cP=75.3236, molarMass=18.02, state='l', density=1.0, atoms={'H': 2, 'O': 1, 'c': 0}, T0=298.15, conc0=1), 1: Substance2(name='H+(aq)', H0=0, S0=0, cP=0, molarMass=1.01, state='aq', density=0, atoms={'H': 1, 'c': 1}, T0=298.15, conc0=1), 2: Substance2(name='OH-(aq)', H0=-230020.0, S0=-10.9, cP=-148.5, molarMass=17.01, state='aq', density=0, atoms={'H': 1, 'O': 1, 'c': -1}, T0=298.15, conc0=1)}, rxns=[], V=1.0, x=array([ 0.        ,  0.        , 55.49389567]), x_keys=array([1, 2, 0]))>"
      ]
     },
     "execution_count": 12,
     "metadata": {},
     "output_type": "execute_result"
    }
   ],
   "source": [
    "s0.fi"
   ]
  },
  {
   "cell_type": "code",
   "execution_count": 117,
   "id": "c72b0865",
   "metadata": {},
   "outputs": [],
   "source": [
    "def f2(x):\n",
    "    RT = 8.3145*298.15\n",
    "    V=1\n",
    "    return np.array([np.log(x[0]/V)-x[2]*2, np.log(x[1]/V)+5000/RT-x[2], 2-x[0]*2-x[1]])"
   ]
  },
  {
   "cell_type": "code",
   "execution_count": 118,
   "id": "586d1697",
   "metadata": {},
   "outputs": [
    {
     "data": {
      "text/plain": [
       "array([-1.00503359e-02, -1.89505480e+00,  1.73472348e-17])"
      ]
     },
     "execution_count": 118,
     "metadata": {},
     "output_type": "execute_result"
    }
   ],
   "source": [
    "xf2 = np.array([0.99, 0.02, 0])\n",
    "f2(xf2)"
   ]
  },
  {
   "cell_type": "code",
   "execution_count": 129,
   "id": "721b6d7b",
   "metadata": {},
   "outputs": [],
   "source": [
    "A2 = np.array([[2, 1]])"
   ]
  },
  {
   "cell_type": "code",
   "execution_count": 119,
   "id": "620b7abf",
   "metadata": {},
   "outputs": [],
   "source": [
    "def f2it(x):\n",
    "    RT = 8.3145*298.15\n",
    "    V=1\n",
    "    A = np.array([[1, 0, -2], [0, 1, -1], [2*x[0], x[1], 0]])\n",
    "    b = np.array([-np.log(x[0]/V), -np.log(x[1]/V)-3000/RT, 2-x[0]*2-x[1]])\n",
    "    return linalg.solve(A, b)"
   ]
  },
  {
   "cell_type": "code",
   "execution_count": 120,
   "id": "8847c3f8",
   "metadata": {},
   "outputs": [],
   "source": [
    "out = f2it(xf2)\n",
    "val = np.log(xf2[:2]) + out[:2]\n",
    "xf3 = np.r_[np.exp(val), out[2:]]"
   ]
  },
  {
   "cell_type": "code",
   "execution_count": 121,
   "id": "014b46b3",
   "metadata": {},
   "outputs": [
    {
     "data": {
      "text/plain": [
       "array([-4.16333634e-17,  8.06787284e-01, -2.19711285e-01])"
      ]
     },
     "execution_count": 121,
     "metadata": {},
     "output_type": "execute_result"
    }
   ],
   "source": [
    "f2(xf3)"
   ]
  },
  {
   "cell_type": "code",
   "execution_count": 122,
   "id": "e1fa65f6",
   "metadata": {},
   "outputs": [],
   "source": [
    "def iteration(x0):\n",
    "    print(f2(x0))\n",
    "    out = f2it(x0)\n",
    "    val = np.log(x0[:2]) + out[:2]\n",
    "    res = np.r_[np.exp(val), out[2:]]\n",
    "    print(res)\n",
    "    return res"
   ]
  },
  {
   "cell_type": "code",
   "execution_count": 123,
   "id": "66099c95",
   "metadata": {},
   "outputs": [
    {
     "data": {
      "text/plain": [
       "array([ 0.96352772,  0.29265585, -0.01857701])"
      ]
     },
     "execution_count": 123,
     "metadata": {},
     "output_type": "execute_result"
    }
   ],
   "source": [
    "xf3"
   ]
  },
  {
   "cell_type": "code",
   "execution_count": 124,
   "id": "dab7fc98",
   "metadata": {},
   "outputs": [
    {
     "ename": "NameError",
     "evalue": "name 'xf' is not defined",
     "output_type": "error",
     "traceback": [
      "\u001b[0;31m---------------------------------------------------------------------------\u001b[0m",
      "\u001b[0;31mNameError\u001b[0m                                 Traceback (most recent call last)",
      "\u001b[0;32m/var/folders/zn/x8ct2v5d1z714b45ycxv1hhc0000gn/T/ipykernel_37282/3317723384.py\u001b[0m in \u001b[0;36m<module>\u001b[0;34m\u001b[0m\n\u001b[0;32m----> 1\u001b[0;31m \u001b[0mout\u001b[0m \u001b[0;34m=\u001b[0m \u001b[0mf2it\u001b[0m\u001b[0;34m(\u001b[0m\u001b[0mxf\u001b[0m\u001b[0;34m)\u001b[0m\u001b[0;34m\u001b[0m\u001b[0;34m\u001b[0m\u001b[0m\n\u001b[0m\u001b[1;32m      2\u001b[0m \u001b[0mval\u001b[0m \u001b[0;34m=\u001b[0m \u001b[0mnp\u001b[0m\u001b[0;34m.\u001b[0m\u001b[0mlog\u001b[0m\u001b[0;34m(\u001b[0m\u001b[0mxf3\u001b[0m\u001b[0;34m[\u001b[0m\u001b[0;34m:\u001b[0m\u001b[0;36m2\u001b[0m\u001b[0;34m]\u001b[0m\u001b[0;34m)\u001b[0m \u001b[0;34m+\u001b[0m \u001b[0mout\u001b[0m\u001b[0;34m[\u001b[0m\u001b[0;34m:\u001b[0m\u001b[0;36m2\u001b[0m\u001b[0;34m]\u001b[0m\u001b[0;34m\u001b[0m\u001b[0;34m\u001b[0m\u001b[0m\n\u001b[1;32m      3\u001b[0m \u001b[0mxf4\u001b[0m \u001b[0;34m=\u001b[0m \u001b[0mnp\u001b[0m\u001b[0;34m.\u001b[0m\u001b[0mr_\u001b[0m\u001b[0;34m[\u001b[0m\u001b[0mnp\u001b[0m\u001b[0;34m.\u001b[0m\u001b[0mexp\u001b[0m\u001b[0;34m(\u001b[0m\u001b[0mval\u001b[0m\u001b[0;34m)\u001b[0m\u001b[0;34m,\u001b[0m \u001b[0mout\u001b[0m\u001b[0;34m[\u001b[0m\u001b[0;36m2\u001b[0m\u001b[0;34m:\u001b[0m\u001b[0;34m]\u001b[0m\u001b[0;34m]\u001b[0m\u001b[0;34m\u001b[0m\u001b[0;34m\u001b[0m\u001b[0m\n",
      "\u001b[0;31mNameError\u001b[0m: name 'xf' is not defined"
     ]
    }
   ],
   "source": [
    "out = f2it(xf)\n",
    "val = np.log(xf3[:2]) + out[:2]\n",
    "xf4 = np.r_[np.exp(val), out[2:]]"
   ]
  },
  {
   "cell_type": "code",
   "execution_count": 125,
   "id": "ce7ec08c",
   "metadata": {},
   "outputs": [
    {
     "ename": "NameError",
     "evalue": "name 'x' is not defined",
     "output_type": "error",
     "traceback": [
      "\u001b[0;31m---------------------------------------------------------------------------\u001b[0m",
      "\u001b[0;31mNameError\u001b[0m                                 Traceback (most recent call last)",
      "\u001b[0;32m/var/folders/zn/x8ct2v5d1z714b45ycxv1hhc0000gn/T/ipykernel_37282/32546335.py\u001b[0m in \u001b[0;36m<module>\u001b[0;34m\u001b[0m\n\u001b[0;32m----> 1\u001b[0;31m \u001b[0mx\u001b[0m\u001b[0;34m\u001b[0m\u001b[0;34m\u001b[0m\u001b[0m\n\u001b[0m",
      "\u001b[0;31mNameError\u001b[0m: name 'x' is not defined"
     ]
    }
   ],
   "source": [
    "x"
   ]
  },
  {
   "cell_type": "code",
   "execution_count": 126,
   "id": "cb3e200f",
   "metadata": {},
   "outputs": [
    {
     "name": "stdout",
     "output_type": "stream",
     "text": [
      "[-1.00503359e-02 -1.89505480e+00  1.73472348e-17]\n",
      "[ 0.96352772  0.29265585 -0.01857701]\n",
      "[-4.16333634e-17  8.06787284e-01 -2.19711285e-01]\n",
      "[ 0.86664873  0.27755347 -0.07156077]\n",
      "[ 2.77555756e-17  8.06787284e-01 -1.08509261e-02]\n",
      "[ 0.86163999  0.27675025 -0.07445887]\n"
     ]
    }
   ],
   "source": [
    "xf2 = np.array([0.99, 0.02, 0.0])\n",
    "xs = [xf2]\n",
    "for i in range(3):\n",
    "    xf2 = iteration(xf2)\n",
    "    xs.append(xf2)"
   ]
  },
  {
   "cell_type": "code",
   "execution_count": 94,
   "id": "41121a5a",
   "metadata": {},
   "outputs": [],
   "source": [
    "K = np.exp(-5000*2/(8.3145*298.15))"
   ]
  },
  {
   "cell_type": "code",
   "execution_count": 95,
   "id": "a946985a",
   "metadata": {},
   "outputs": [
    {
     "data": {
      "text/plain": [
       "0.018055555555555557"
      ]
     },
     "execution_count": 95,
     "metadata": {},
     "output_type": "execute_result"
    }
   ],
   "source": [
    "0.13**2 / 0.936"
   ]
  },
  {
   "cell_type": "code",
   "execution_count": 96,
   "id": "a2978c56",
   "metadata": {},
   "outputs": [
    {
     "data": {
      "text/plain": [
       "0.017704500292228767"
      ]
     },
     "execution_count": 96,
     "metadata": {},
     "output_type": "execute_result"
    }
   ],
   "source": [
    "K"
   ]
  },
  {
   "cell_type": "code",
   "execution_count": 31,
   "id": "10308fdf",
   "metadata": {},
   "outputs": [
    {
     "data": {
      "text/plain": [
       "array([-3.38514111e+03,  3.30944641e+03, -2.30609809e+00])"
      ]
     },
     "execution_count": 31,
     "metadata": {},
     "output_type": "execute_result"
    }
   ],
   "source": [
    "f2(xf4)"
   ]
  },
  {
   "cell_type": "code",
   "execution_count": 4,
   "id": "fef31c86",
   "metadata": {},
   "outputs": [],
   "source": [
    "H2O = cal.Substance2(\"H2O(l)\", state='l', H0=-285.826e3, S0=69.96,\n",
    "                        cP=4.18*18.02, molarMass=18.02, density=1.0,\n",
    "                        atoms=dict(H=2,O=1, c=0))\n",
    "Hplus = cal.Substance2(\"H+(aq)\", state=\"aq\", H0=0, S0=0, cP=0,\n",
    "                       molarMass=1.01, density=0,\n",
    "                      atoms=dict(H=1,c=1))\n",
    "OH = cal.Substance2(\"OH-(aq)\", state=\"aq\", H0=-230.02e3, S0=-10.9, molarMass=17.01,\n",
    "                   cP=-148.5, density=0, atoms=dict(H=1,O=1,c=-1))\n",
    "\n",
    "HF = cal.Substance2('HF(aq)', state=\"aq\", H0=-324.93e3, S0=-13.8, molarMass=18.998+1.01,cP=0,\n",
    "                    density=0, atoms=dict(H=1,F=1))\n",
    "F = cal.Substance2('F-(aq)', state=\"aq\", H0=-335.35e3, S0=-13.8, molarMass=18.998,cP=-106.7,\n",
    "                   density=0, atoms=dict(F=1,c=-1))\n",
    "\n",
    "\n",
    "dH_ice = -6.01e3\n",
    "T_ice  = 273.15\n",
    "\n",
    "ice = cal.phaseChange(dH_ice, T_ice, H2O, cP=2.108*H2O.molarMass,\n",
    "                    name=\"ice\", state='s', density=0.91, atoms=dict(H=2,O=1))\n",
    "\n",
    "\n",
    "chemicals = {0: H2O, 1: Hplus, 2: OH, 10: HF, 11: F}\n",
    "\n",
    "rxns = [{0: -1, 1: 1, 2: 1}]\n",
    "\n",
    "s0 = cal.State3(T=298.15, chemicals=chemicals, rxns=[], V=1.0)\n",
    "\n",
    "n0 = 1000/18.02\n",
    "\n",
    "s0.set_state({0: 1000/18.02, 1: 1, 2: 0, 10:0, 11:1})"
   ]
  },
  {
   "cell_type": "code",
   "execution_count": 5,
   "id": "3151fe2e",
   "metadata": {},
   "outputs": [
    {
     "data": {
      "text/plain": [
       "('F', 'H', 'O', 'c')"
      ]
     },
     "execution_count": 5,
     "metadata": {},
     "output_type": "execute_result"
    }
   ],
   "source": [
    "s0.all_atoms"
   ]
  },
  {
   "cell_type": "code",
   "execution_count": 13,
   "id": "6e0934e8",
   "metadata": {},
   "outputs": [
    {
     "data": {
      "text/plain": [
       "['l', 'aq', 'aq', 'aq', 'aq']"
      ]
     },
     "execution_count": 13,
     "metadata": {},
     "output_type": "execute_result"
    }
   ],
   "source": [
    "[x.state for x in s0.chem_vals]"
   ]
  },
  {
   "cell_type": "code",
   "execution_count": 6,
   "id": "7d7bf1ac",
   "metadata": {},
   "outputs": [
    {
     "data": {
      "text/plain": [
       "array([[ 0.,  0.,  0.,  1.,  1.],\n",
       "       [ 2.,  1.,  1.,  1.,  0.],\n",
       "       [ 1.,  0.,  1.,  0.,  0.],\n",
       "       [ 0.,  1., -1.,  0., -1.]])"
      ]
     },
     "execution_count": 6,
     "metadata": {},
     "output_type": "execute_result"
    }
   ],
   "source": [
    "s0.A"
   ]
  },
  {
   "cell_type": "code",
   "execution_count": 9,
   "id": "46db4b49",
   "metadata": {},
   "outputs": [
    {
     "data": {
      "text/plain": [
       "array([[ 0.,  0.,  0.,  1.,  1.],\n",
       "       [ 2.,  1.,  1.,  1.,  0.],\n",
       "       [ 1.,  0.,  1.,  0.,  0.],\n",
       "       [ 0.,  1., -1.,  0., -1.]])"
      ]
     },
     "execution_count": 9,
     "metadata": {},
     "output_type": "execute_result"
    }
   ],
   "source": [
    "s0.A"
   ]
  },
  {
   "cell_type": "code",
   "execution_count": 15,
   "id": "145f102f",
   "metadata": {},
   "outputs": [],
   "source": [
    "x0 = np.zeros(s0.N_chem+s0.N_atoms)\n",
    "x0[:s0.N_chem] = s0.x # Current state"
   ]
  },
  {
   "cell_type": "code",
   "execution_count": 17,
   "id": "91f2313b",
   "metadata": {},
   "outputs": [],
   "source": [
    "df = s0.f(x0)"
   ]
  },
  {
   "cell_type": "code",
   "execution_count": 22,
   "id": "2cb4ab61",
   "metadata": {},
   "outputs": [
    {
     "data": {
      "text/plain": [
       "array([0., 2., 1., 0.])"
      ]
     },
     "execution_count": 22,
     "metadata": {},
     "output_type": "execute_result"
    }
   ],
   "source": [
    "s0.A.T@y"
   ]
  },
  {
   "cell_type": "code",
   "execution_count": 18,
   "id": "0d879db3",
   "metadata": {},
   "outputs": [
    {
     "data": {
      "text/plain": [
       "array([-123.71460719,    0.        , -160.5551955 , -198.49249778,\n",
       "       -133.61830674,    0.        ,    0.        ,    0.        ,\n",
       "          0.        ])"
      ]
     },
     "execution_count": 18,
     "metadata": {},
     "output_type": "execute_result"
    }
   ],
   "source": [
    "df[0]"
   ]
  },
  {
   "cell_type": "code",
   "execution_count": 28,
   "id": "bcb5b23a",
   "metadata": {},
   "outputs": [],
   "source": [
    "n_aq = x0[:s0.N_chem][1:]"
   ]
  },
  {
   "cell_type": "code",
   "execution_count": 29,
   "id": "6849d07e",
   "metadata": {},
   "outputs": [
    {
     "data": {
      "text/plain": [
       "array([[ 0.,  0.,  0.,  1.],\n",
       "       [ 0.,  0.,  0., -1.],\n",
       "       [ 1.,  0.,  0.,  0.],\n",
       "       [ 1.,  0.,  0., -1.]])"
      ]
     },
     "execution_count": 29,
     "metadata": {},
     "output_type": "execute_result"
    }
   ],
   "source": [
    "s0.A.T[1:] @ np.diag(n_aq) @ r"
   ]
  },
  {
   "cell_type": "code",
   "execution_count": 26,
   "id": "3bf03a21",
   "metadata": {},
   "outputs": [],
   "source": [
    "self=s0\n",
    "all_atoms = set()\n",
    "for x in self.chem_vals:\n",
    "    all_atoms.update(x.atoms.keys())\n",
    "\n",
    "N_atoms = len(all_atoms)\n",
    "N_chem = len(self.chem_vals)\n",
    "all_atoms = sorted(all_atoms)\n",
    "A = np.zeros(shape=(N_atoms, N_chem))\n",
    "for i, atom in enumerate(all_atoms):\n",
    "    for j, chem in enumerate(self.chem_vals):\n",
    "        A[i, j] = chem.atoms.get(atom, 0)"
   ]
  },
  {
   "cell_type": "code",
   "execution_count": 27,
   "id": "ed081347",
   "metadata": {},
   "outputs": [
    {
     "data": {
      "text/plain": [
       "array([  1.        , 111.98779134,  55.49389567,   0.        ])"
      ]
     },
     "execution_count": 27,
     "metadata": {},
     "output_type": "execute_result"
    }
   ],
   "source": [
    "A@s0.x"
   ]
  },
  {
   "cell_type": "code",
   "execution_count": 28,
   "id": "1878e302",
   "metadata": {},
   "outputs": [
    {
     "data": {
      "text/plain": [
       "['F', 'H', 'O', 'c']"
      ]
     },
     "execution_count": 28,
     "metadata": {},
     "output_type": "execute_result"
    }
   ],
   "source": [
    "all_atoms"
   ]
  },
  {
   "cell_type": "code",
   "execution_count": 29,
   "id": "b7d29431",
   "metadata": {},
   "outputs": [
    {
     "data": {
      "text/plain": [
       "(array([ 5.58934028e+01,  1.22776560e-03,  8.36384461e-12,  1.28414981e-06,\n",
       "         8.11327411e-02, -9.90055471e+08,  9.90055613e+08, -1.98011110e+09,\n",
       "        -9.90055607e+08]),\n",
       " {'nfev': 263,\n",
       "  'fjac': array([[ 3.12673868e-22,  1.32348898e-23,  9.26442286e-23,\n",
       "          -1.58818678e-22, -3.49566527e-21, -2.01948392e-28,\n",
       "           8.94427191e-01,  4.47213595e-01,  1.51461294e-27],\n",
       "         [ 1.39048929e-17, -9.99999441e-01, -3.33066907e-16,\n",
       "           1.66533454e-16,  0.00000000e+00, -3.44107135e-22,\n",
       "           1.93214297e-04, -3.86428594e-04,  9.65524798e-04],\n",
       "         [ 1.66509737e-16,  1.43516922e-16, -1.00000000e+00,\n",
       "          -1.11022302e-16,  1.87350135e-16,  1.21760986e-21,\n",
       "          -8.13151629e-20,  2.16840434e-19, -4.33680869e-19],\n",
       "         [ 1.15366037e-12,  1.84263298e-10,  2.38161926e-16,\n",
       "          -1.00000000e+00, -3.20854454e-14,  9.83476639e-07,\n",
       "           1.90734828e-07, -3.81469655e-07, -1.78106445e-13],\n",
       "         [-3.25260652e-19, -7.29292328e-05,  1.53179335e-16,\n",
       "           7.42852797e-08, -9.94278355e-01,  7.55332983e-02,\n",
       "           1.40909641e-08, -2.81819283e-08, -7.55332289e-02],\n",
       "         [ 6.97706578e-09,  6.78816411e-04,  1.62864533e-17,\n",
       "          -6.91450546e-07, -1.06820191e-01, -7.03065730e-01,\n",
       "          -1.91671507e-06,  3.83343014e-06,  7.03055876e-01],\n",
       "         [-9.99999918e-01, -3.26718044e-07,  1.07944607e-16,\n",
       "          -3.31015789e-10, -4.15434212e-10, -2.41631321e-04,\n",
       "          -9.67031041e-05,  1.93406208e-04, -2.41625850e-04],\n",
       "         [-4.04383858e-04,  8.07952015e-04, -1.59893719e-19,\n",
       "           8.15703119e-07, -8.15703536e-07,  5.97517411e-01,\n",
       "           2.39136885e-01, -4.78273770e-01,  5.97528141e-01],\n",
       "         [-2.70523795e-17,  1.14611180e-08, -6.11256280e-22,\n",
       "          -1.14611180e-08,  1.14611180e-08, -3.78108696e-01,\n",
       "           3.77906739e-01, -7.55813478e-01, -3.78108842e-01]]),\n",
       "  'r': array([-2.23606798e+00, -8.94933348e-01, -1.81898940e-12, -8.70550436e-01,\n",
       "         -1.48760161e-20, -1.19116126e-17,  4.16865147e-17, -2.38197179e-17,\n",
       "         -1.78634285e-17, -1.03570586e+03, -2.67028809e-05, -1.88263541e-04,\n",
       "          9.65524796e-04, -1.42125867e-10, -9.99999440e-01, -2.84251345e-10,\n",
       "         -9.99999439e-01, -9.06533341e+10,  1.47917308e-06,  5.55111512e-16,\n",
       "          8.79396111e-10, -1.00000000e+00, -1.00000000e+00,  1.00000000e+00,\n",
       "         -1.02058424e+06, -9.83477222e-07, -9.99999998e-01, -9.99999999e-01,\n",
       "         -3.61901087e-10, -8.79950141e-11, -1.32391939e+01, -9.94278278e-01,\n",
       "         -7.28548133e-05, -7.66439467e-11,  9.94205424e-01, -1.06820882e-01,\n",
       "          6.78138929e-04,  6.96902651e-09,  1.07499007e-01, -2.00000017e+00,\n",
       "         -9.99999920e-01, -3.25182934e-07, -4.04383859e-04,  8.08767718e-04,\n",
       "         -5.00754232e-17]),\n",
       "  'qtf': array([ 2.89093886e-06, -3.64283148e-02,  1.30236203e-03,  5.45863899e-02,\n",
       "          7.15018813e-03, -5.95862109e-01, -8.43181486e-03,  8.35653150e-01,\n",
       "         -2.01718293e-04]),\n",
       "  'fvec': array([ 0.00809389,  0.03669846, -0.00130236, -0.0545853 ,  0.05654015,\n",
       "          0.91886597,  0.19975678, -0.39950709,  0.07990498])},\n",
       " 5,\n",
       " 'The iteration is not making good progress, as measured by the \\n  improvement from the last ten iterations.')"
      ]
     },
     "execution_count": 29,
     "metadata": {},
     "output_type": "execute_result"
    }
   ],
   "source": [
    "s0._solve_constT()"
   ]
  },
  {
   "cell_type": "code",
   "execution_count": 57,
   "id": "ac808fcf",
   "metadata": {},
   "outputs": [],
   "source": [
    "nH = nOH= 1e-7\n",
    "Gbar_opt = s0.get_prop_conc('Gbar', np.array([n0-nH, nH, nOH]))\n",
    "\n",
    "Gbar_opt_dim = Gbar_opt/(8.3145*298.15)"
   ]
  },
  {
   "cell_type": "code",
   "execution_count": 68,
   "id": "5422871f",
   "metadata": {},
   "outputs": [],
   "source": [
    "out = linalg.lstsq(A.T, Gbar_opt_dim)"
   ]
  },
  {
   "cell_type": "code",
   "execution_count": 69,
   "id": "8e3d5254",
   "metadata": {},
   "outputs": [
    {
     "data": {
      "text/plain": [
       "(array([-43.92450872, -35.86533203,  27.80615534]),\n",
       " array([], dtype=float64),\n",
       " 2,\n",
       " array([2.76509517e+00, 1.53435612e+00, 1.93683952e-17]))"
      ]
     },
     "execution_count": 69,
     "metadata": {},
     "output_type": "execute_result"
    }
   ],
   "source": [
    "out"
   ]
  },
  {
   "cell_type": "code",
   "execution_count": 64,
   "id": "7ff8137e",
   "metadata": {},
   "outputs": [
    {
     "data": {
      "text/plain": [
       "(array([-43.92450872, -35.86533203,  27.80615534]),\n",
       " array([], dtype=float64),\n",
       " 2,\n",
       " array([2.76509517e+00, 1.53435612e+00, 1.93683952e-17]))"
      ]
     },
     "execution_count": 64,
     "metadata": {},
     "output_type": "execute_result"
    }
   ],
   "source": [
    "out"
   ]
  },
  {
   "cell_type": "code",
   "execution_count": 67,
   "id": "520419bd",
   "metadata": {},
   "outputs": [
    {
     "data": {
      "text/plain": [
       "array([ 2.68622041, -5.37244082, -2.68622041])"
      ]
     },
     "execution_count": 67,
     "metadata": {},
     "output_type": "execute_result"
    }
   ],
   "source": [
    "Gbar_opt_dim - A@out[0]"
   ]
  },
  {
   "cell_type": "code",
   "execution_count": 71,
   "id": "a02f9518",
   "metadata": {},
   "outputs": [
    {
     "data": {
      "text/plain": [
       "array([-0.00025773,  0.00025773,  0.00025773])"
      ]
     },
     "execution_count": 71,
     "metadata": {},
     "output_type": "execute_result"
    }
   ],
   "source": [
    "Gbar_opt_dim - A.T@out[0]"
   ]
  },
  {
   "cell_type": "code",
   "execution_count": 35,
   "id": "ff568ef8",
   "metadata": {},
   "outputs": [
    {
     "data": {
      "text/plain": [
       "array([-306684.574     ,  -39956.24616033, -266726.41116033])"
      ]
     },
     "execution_count": 35,
     "metadata": {},
     "output_type": "execute_result"
    }
   ],
   "source": [
    "mu_e = 0.0\n",
    "mu_H = "
   ]
  },
  {
   "cell_type": "markdown",
   "id": "faa44c04",
   "metadata": {},
   "source": [
    "The matrix $A$ gives mass/charge balance."
   ]
  },
  {
   "cell_type": "code",
   "execution_count": 17,
   "id": "b5eaa815",
   "metadata": {},
   "outputs": [],
   "source": [
    "from scipy import optimize"
   ]
  },
  {
   "cell_type": "code",
   "execution_count": 18,
   "id": "48760fad",
   "metadata": {},
   "outputs": [],
   "source": [
    "# mass_charge_balance = optimize.LinearConstraint()"
   ]
  },
  {
   "cell_type": "code",
   "execution_count": 5,
   "id": "d1f281c0",
   "metadata": {},
   "outputs": [],
   "source": [
    "si = s0.get_prop_conc('Sbar')"
   ]
  },
  {
   "cell_type": "code",
   "execution_count": 6,
   "id": "24bdff39",
   "metadata": {},
   "outputs": [
    {
     "data": {
      "text/plain": [
       "{0: 55.49389567147614, 1: 0.0, 2: 0.0}"
      ]
     },
     "execution_count": 6,
     "metadata": {},
     "output_type": "execute_result"
    }
   ],
   "source": [
    "s0.state"
   ]
  },
  {
   "cell_type": "code",
   "execution_count": 7,
   "id": "942f10bf",
   "metadata": {},
   "outputs": [],
   "source": [
    "moles = np.array([54.49389567147614+1, 1e-7, 1e-7])"
   ]
  },
  {
   "cell_type": "code",
   "execution_count": 8,
   "id": "4f8a04ae",
   "metadata": {},
   "outputs": [],
   "source": [
    "si2 = s0.get_prop_conc('Sbar', x=moles)"
   ]
  },
  {
   "cell_type": "code",
   "execution_count": 9,
   "id": "67f2fab8",
   "metadata": {
    "scrolled": true
   },
   "outputs": [],
   "source": [
    "G311 = s0.get_prop_conc('G0bar', T=311.5)"
   ]
  },
  {
   "cell_type": "code",
   "execution_count": 10,
   "id": "60c7903b",
   "metadata": {},
   "outputs": [],
   "source": [
    "dG311 = G311[2] - G311[0]"
   ]
  },
  {
   "cell_type": "code",
   "execution_count": 11,
   "id": "bb6cf531",
   "metadata": {},
   "outputs": [],
   "source": [
    "K311 = np.exp(-dG311/(8.3145*311.5))"
   ]
  },
  {
   "cell_type": "code",
   "execution_count": 12,
   "id": "e6268fed",
   "metadata": {},
   "outputs": [
    {
     "data": {
      "text/plain": [
       "7.994235561342656e-08"
      ]
     },
     "execution_count": 12,
     "metadata": {},
     "output_type": "execute_result"
    }
   ],
   "source": [
    "K311**0.5/2"
   ]
  },
  {
   "cell_type": "code",
   "execution_count": 13,
   "id": "7c5c2e35",
   "metadata": {},
   "outputs": [
    {
     "data": {
      "text/plain": [
       "3882.3529668892515"
      ]
     },
     "execution_count": 13,
     "metadata": {},
     "output_type": "execute_result"
    }
   ],
   "source": [
    "si2 @ moles"
   ]
  },
  {
   "cell_type": "code",
   "execution_count": 14,
   "id": "f7a1c67f",
   "metadata": {},
   "outputs": [
    {
     "data": {
      "text/plain": [
       "3882.3529411764703"
      ]
     },
     "execution_count": 14,
     "metadata": {},
     "output_type": "execute_result"
    }
   ],
   "source": [
    "si @ np.array(list(s0.state.values()))"
   ]
  },
  {
   "cell_type": "code",
   "execution_count": 15,
   "id": "5582cc9e",
   "metadata": {},
   "outputs": [],
   "source": [
    "def atan_mod(a, b):\n",
    "    def atan(x):\n",
    "        y = np.arctan(x)\n",
    "        return np.where(y>0, y * b/np.pi/2, y * abs(a)/(np.pi/2))\n",
    "    \n",
    "    return \n",
    "    "
   ]
  },
  {
   "cell_type": "code",
   "execution_count": 16,
   "id": "622e181f",
   "metadata": {},
   "outputs": [],
   "source": [
    "a2 = atan_mod(-1.0, 54.493)"
   ]
  },
  {
   "cell_type": "code",
   "execution_count": 17,
   "id": "be95db46",
   "metadata": {},
   "outputs": [],
   "source": [
    "A, b = cal.arrayRxns(s0.state, s0.rxns)"
   ]
  },
  {
   "cell_type": "code",
   "execution_count": 18,
   "id": "c7b4324d",
   "metadata": {},
   "outputs": [
    {
     "data": {
      "text/plain": [
       "[array([5.54938957e+01, 1.00000000e-10, 1.00000000e-10]),\n",
       " array([5.54938957e+01, 2.89426612e-10, 2.89426612e-10]),\n",
       " array([5.54938957e+01, 8.37677640e-10, 8.37677640e-10]),\n",
       " array([5.54938957e+01, 2.42446202e-09, 2.42446202e-09]),\n",
       " array([5.54938957e+01, 7.01703829e-09, 7.01703829e-09]),\n",
       " array([5.54938957e+01, 2.03091762e-08, 2.03091762e-08]),\n",
       " array([5.54938956e+01, 5.87801607e-08, 5.87801607e-08]),\n",
       " array([5.54938955e+01, 1.70125428e-07, 1.70125428e-07]),\n",
       " array([5.54938952e+01, 4.92388263e-07, 4.92388263e-07]),\n",
       " array([5.54938942e+01, 1.42510267e-06, 1.42510267e-06]),\n",
       " array([5.54938915e+01, 4.12462638e-06, 4.12462638e-06]),\n",
       " array([5.54938837e+01, 1.19377664e-05, 1.19377664e-05]),\n",
       " array([5.54938611e+01, 3.45510729e-05, 3.45510729e-05]),\n",
       " array([5.54937957e+01, 1.00000000e-04, 1.00000000e-04])]"
      ]
     },
     "execution_count": 18,
     "metadata": {},
     "output_type": "execute_result"
    }
   ],
   "source": [
    "x = np.geomspace(1e-10, 1e-4, 14).reshape(-1, 1)\n",
    "vals = [A @ x_ + b for x_ in x]\n",
    "vals"
   ]
  },
  {
   "cell_type": "code",
   "execution_count": 19,
   "id": "33f18eec",
   "metadata": {},
   "outputs": [],
   "source": [
    "Gbars = [s0.get_prop_conc('Gbar', x_) for x_ in vals]"
   ]
  },
  {
   "cell_type": "code",
   "execution_count": 20,
   "id": "0d5c5013",
   "metadata": {},
   "outputs": [
    {
     "data": {
      "text/plain": [
       "[array([5.54938957e+01, 1.00000000e-10, 1.00000000e-10]),\n",
       " array([5.54938957e+01, 2.89426612e-10, 2.89426612e-10]),\n",
       " array([5.54938957e+01, 8.37677640e-10, 8.37677640e-10]),\n",
       " array([5.54938957e+01, 2.42446202e-09, 2.42446202e-09]),\n",
       " array([5.54938957e+01, 7.01703829e-09, 7.01703829e-09]),\n",
       " array([5.54938957e+01, 2.03091762e-08, 2.03091762e-08]),\n",
       " array([5.54938956e+01, 5.87801607e-08, 5.87801607e-08]),\n",
       " array([5.54938955e+01, 1.70125428e-07, 1.70125428e-07]),\n",
       " array([5.54938952e+01, 4.92388263e-07, 4.92388263e-07]),\n",
       " array([5.54938942e+01, 1.42510267e-06, 1.42510267e-06]),\n",
       " array([5.54938915e+01, 4.12462638e-06, 4.12462638e-06]),\n",
       " array([5.54938837e+01, 1.19377664e-05, 1.19377664e-05]),\n",
       " array([5.54938611e+01, 3.45510729e-05, 3.45510729e-05]),\n",
       " array([5.54937957e+01, 1.00000000e-04, 1.00000000e-04])]"
      ]
     },
     "execution_count": 20,
     "metadata": {},
     "output_type": "execute_result"
    }
   ],
   "source": [
    "vals"
   ]
  },
  {
   "cell_type": "code",
   "execution_count": 109,
   "id": "0380c079",
   "metadata": {},
   "outputs": [
    {
     "data": {
      "text/plain": [
       "array([  0.        ,   0.        , 184.01390629])"
      ]
     },
     "execution_count": 109,
     "metadata": {},
     "output_type": "execute_result"
    }
   ],
   "source": [
    "s0.get_prop_conc('Sbar', np.array([1, 1,1e-7]))"
   ]
  },
  {
   "cell_type": "code",
   "execution_count": 22,
   "id": "9102f7ca",
   "metadata": {},
   "outputs": [
    {
     "data": {
      "text/plain": [
       "[array([-306684.574     ,  -57080.35165762, -283850.51665762]),\n",
       " array([-306684.574    ,  -54445.8738888, -281216.0388888]),\n",
       " array([-306684.574     ,  -51811.39611999, -278581.56111999]),\n",
       " array([-306684.574     ,  -49176.91835118, -275947.08335118]),\n",
       " array([-306684.574     ,  -46542.44058236, -273312.60558236]),\n",
       " array([-306684.574     ,  -43907.96281355, -270678.12781355]),\n",
       " array([-306684.574     ,  -41273.48504474, -268043.65004474]),\n",
       " array([-306684.574     ,  -38639.00727593, -265409.17227593]),\n",
       " array([-306684.574     ,  -36004.52950711, -262774.69450711]),\n",
       " array([-306684.574    ,  -33370.0517383, -260140.2167383]),\n",
       " array([-306684.574     ,  -30735.57396949, -257505.73896949]),\n",
       " array([-306684.574     ,  -28101.09620067, -254871.26120067]),\n",
       " array([-306684.574     ,  -25466.61843186, -252236.78343186]),\n",
       " array([-306684.574     ,  -22832.14066305, -249602.30566305])]"
      ]
     },
     "execution_count": 22,
     "metadata": {},
     "output_type": "execute_result"
    }
   ],
   "source": [
    "Gbars"
   ]
  },
  {
   "cell_type": "code",
   "execution_count": 23,
   "id": "91f69785",
   "metadata": {},
   "outputs": [],
   "source": [
    "rxn = np.array([[-1, 1, 1]])"
   ]
  },
  {
   "cell_type": "code",
   "execution_count": 24,
   "id": "61fd5dfd",
   "metadata": {},
   "outputs": [
    {
     "data": {
      "text/plain": [
       "[array([-34246.29431523]),\n",
       " array([-28977.33877761]),\n",
       " array([-23708.38323998]),\n",
       " array([-18439.42770235]),\n",
       " array([-13170.47216473]),\n",
       " array([-7901.5166271]),\n",
       " array([-2632.56108948]),\n",
       " array([2636.39444815]),\n",
       " array([7905.34998578]),\n",
       " array([13174.3055234]),\n",
       " array([18443.26106103]),\n",
       " array([23712.21659865]),\n",
       " array([28981.17213628]),\n",
       " array([34250.12767391])]"
      ]
     },
     "execution_count": 24,
     "metadata": {},
     "output_type": "execute_result"
    }
   ],
   "source": [
    "[rxn @ G_ for G_ in Gbars]"
   ]
  },
  {
   "cell_type": "code",
   "execution_count": 25,
   "id": "4f62377e",
   "metadata": {},
   "outputs": [],
   "source": [
    "Gbars2 = np.array(Gbars)"
   ]
  },
  {
   "cell_type": "code",
   "execution_count": 97,
   "id": "174e4973",
   "metadata": {},
   "outputs": [
    {
     "name": "stdout",
     "output_type": "stream",
     "text": [
      "-14907.499999999998\n"
     ]
    },
    {
     "data": {
      "text/plain": [
       "408.94910678667907"
      ]
     },
     "execution_count": 97,
     "metadata": {},
     "output_type": "execute_result"
    }
   ],
   "source": [
    "dG = -50*298.15\n",
    "print(dG)\n",
    "K = np.exp(-dG/(8.3145*298.15))\n",
    "K"
   ]
  },
  {
   "cell_type": "code",
   "execution_count": 38,
   "id": "11272129",
   "metadata": {},
   "outputs": [],
   "source": [
    "import sympy as sm"
   ]
  },
  {
   "cell_type": "code",
   "execution_count": 39,
   "id": "20c39040",
   "metadata": {},
   "outputs": [],
   "source": [
    "x = sm.symbols('x')"
   ]
  },
  {
   "cell_type": "code",
   "execution_count": 42,
   "id": "3e5bd4d1",
   "metadata": {},
   "outputs": [
    {
     "data": {
      "text/plain": [
       "[0.951757639060005, 1.05068765299078]"
      ]
     },
     "execution_count": 42,
     "metadata": {},
     "output_type": "execute_result"
    }
   ],
   "source": [
    "sm.solve(x/((1.0-x)*(1.0-x)) - K, x)"
   ]
  },
  {
   "cell_type": "code",
   "execution_count": 44,
   "id": "1519a597",
   "metadata": {},
   "outputs": [],
   "source": [
    "x1 = 0.951757639060005"
   ]
  },
  {
   "cell_type": "code",
   "execution_count": 45,
   "id": "7ee8ad1c",
   "metadata": {},
   "outputs": [
    {
     "data": {
      "text/plain": [
       "0.951757639060005"
      ]
     },
     "execution_count": 45,
     "metadata": {},
     "output_type": "execute_result"
    }
   ],
   "source": [
    "x1"
   ]
  },
  {
   "cell_type": "code",
   "execution_count": 27,
   "id": "27145ba1",
   "metadata": {},
   "outputs": [
    {
     "data": {
      "text/plain": [
       "array([-34246.29431523])"
      ]
     },
     "execution_count": 27,
     "metadata": {},
     "output_type": "execute_result"
    }
   ],
   "source": [
    "A.T@Gbars[0]"
   ]
  },
  {
   "cell_type": "code",
   "execution_count": 30,
   "id": "43c19ff7",
   "metadata": {},
   "outputs": [
    {
     "data": {
      "text/plain": [
       "[1e-10,\n",
       " 2.8942661247167517e-10,\n",
       " 8.376776400682924e-10,\n",
       " 2.424462017082331e-09,\n",
       " 7.017038286703837e-09,\n",
       " 2.030917620904739e-08,\n",
       " 5.878016072274912e-08,\n",
       " 1.7012542798525891e-07,\n",
       " 4.923882631706742e-07,\n",
       " 1.4251026703029992e-06,\n",
       " 4.124626382901356e-06,\n",
       " 1.1937766417144382e-05,\n",
       " 3.455107294592218e-05,\n",
       " 0.0001]"
      ]
     },
     "execution_count": 30,
     "metadata": {},
     "output_type": "execute_result"
    }
   ],
   "source": [
    "[x[1] for x in vals]"
   ]
  },
  {
   "cell_type": "code",
   "execution_count": 28,
   "id": "7f08598e",
   "metadata": {},
   "outputs": [
    {
     "data": {
      "text/plain": [
       "array([[-34246.29431523],\n",
       "       [-28977.33877761],\n",
       "       [-23708.38323998],\n",
       "       [-18439.42770235],\n",
       "       [-13170.47216473],\n",
       "       [ -7901.5166271 ],\n",
       "       [ -2632.56108948],\n",
       "       [  2636.39444815],\n",
       "       [  7905.34998578],\n",
       "       [ 13174.3055234 ],\n",
       "       [ 18443.26106103],\n",
       "       [ 23712.21659865],\n",
       "       [ 28981.17213628],\n",
       "       [ 34250.12767391]])"
      ]
     },
     "execution_count": 28,
     "metadata": {},
     "output_type": "execute_result"
    }
   ],
   "source": [
    "np.einsum('sr,cs', A, Gbars)"
   ]
  },
  {
   "cell_type": "code",
   "execution_count": 98,
   "id": "2b2b4d86",
   "metadata": {},
   "outputs": [
    {
     "data": {
      "text/plain": [
       "194075.11231523313"
      ]
     },
     "execution_count": 98,
     "metadata": {},
     "output_type": "execute_result"
    }
   ],
   "source": [
    "G_ = Gbars[0]\n",
    "G_[1] + G_[2] - G_[0]"
   ]
  },
  {
   "cell_type": "code",
   "execution_count": 31,
   "id": "5f0a9af3",
   "metadata": {},
   "outputs": [],
   "source": [
    "def G(x):\n",
    "    return s0.G(x=x, T = 298.15) - s0.G(T=298.15)"
   ]
  },
  {
   "cell_type": "code",
   "execution_count": 32,
   "id": "ccd2fb8a",
   "metadata": {},
   "outputs": [],
   "source": [
    "G_out = [G(y) for y in vals]"
   ]
  },
  {
   "cell_type": "code",
   "execution_count": 33,
   "id": "fe189161",
   "metadata": {},
   "outputs": [
    {
     "data": {
      "text/plain": [
       "[<matplotlib.lines.Line2D at 0x12c6f4fa0>]"
      ]
     },
     "execution_count": 33,
     "metadata": {},
     "output_type": "execute_result"
    },
    {
     "data": {
      "image/png": "[encoded data removed]",
      "text/plain": [
       "<Figure size 432x288 with 1 Axes>"
      ]
     },
     "metadata": {
      "needs_background": "light"
     },
     "output_type": "display_data"
    }
   ],
   "source": [
    "plt.plot(G_out)"
   ]
  },
  {
   "cell_type": "code",
   "execution_count": 110,
   "id": "adfb14c6",
   "metadata": {},
   "outputs": [],
   "source": [
    "P  = cal.Substance(\"P(aq)\", state=\"aq\", H0=0, S0=0, cP=0, molarMass=100.0, density=1.0)\n",
    "D  = cal.Substance(\"D(aq)\", state=\"aq\", H0=0, S0=0, cP=0, molarMass=100.0, density=1.0)\n",
    "PD = cal.Substance(\"PD(aq)\", state=\"aq\", H0=0, S0=50.0, cP=0, molarMass=100.0, density=1.0)\n",
    "\n",
    "chemicals = {0: P, 1: D, 2: PD}\n",
    "rxns = [{0: -1, 1: -1, 2: 1}]\n",
    "\n",
    "s0 = cal.State3(T=298.15, chemicals=chemicals, rxns=rxns, V=1.0)\n",
    "\n",
    "s0.set_state({0: 1.0, 1: 1.0, 2: 0.0})\n",
    "\n",
    "A, b = cal.arrayRxns(s0.state, s0.rxns)"
   ]
  },
  {
   "cell_type": "code",
   "execution_count": 111,
   "id": "9862569b",
   "metadata": {},
   "outputs": [],
   "source": [
    "dx = np.linspace(0.01, 0.99, 99).reshape(-1, 1)"
   ]
  },
  {
   "cell_type": "code",
   "execution_count": 112,
   "id": "baa8f4c1",
   "metadata": {},
   "outputs": [],
   "source": [
    "vals = (A @ dx.T + b.reshape(-1, 1)).T"
   ]
  },
  {
   "cell_type": "code",
   "execution_count": 113,
   "id": "2987509d",
   "metadata": {},
   "outputs": [],
   "source": [
    "Gbar_all = np.array([s0.get_prop_conc('Gbar', val) for val in vals])"
   ]
  },
  {
   "cell_type": "code",
   "execution_count": 114,
   "id": "b3efc35b",
   "metadata": {},
   "outputs": [],
   "source": [
    "dG = sum(s0.get_prop_conc('G0bar'))"
   ]
  },
  {
   "cell_type": "code",
   "execution_count": 133,
   "id": "b10df20e",
   "metadata": {},
   "outputs": [],
   "source": [
    "Gibbs = [s0.G(x=val) for val in vals]"
   ]
  },
  {
   "cell_type": "code",
   "execution_count": 123,
   "id": "5d44dcfe",
   "metadata": {},
   "outputs": [],
   "source": [
    "Gout = np.einsum('s,sv', A.flatten(), Gbar_all.T)"
   ]
  },
  {
   "cell_type": "code",
   "execution_count": 131,
   "id": "a5f05b14",
   "metadata": {},
   "outputs": [
    {
     "data": {
      "image/png": "[encoded data removed]",
      "text/plain": [
       "<Figure size 432x288 with 1 Axes>"
      ]
     },
     "metadata": {
      "needs_background": "light"
     },
     "output_type": "display_data"
    }
   ],
   "source": [
    "plt.plot(dx, Gout)\n",
    "plt.xlim(0.8, 1)\n",
    "plt.axhline(color='0')\n",
    "plt.ylim(-7000, 7000)\n",
    "plt.grid()"
   ]
  },
  {
   "cell_type": "code",
   "execution_count": 139,
   "id": "66167e31",
   "metadata": {},
   "outputs": [
    {
     "data": {
      "image/png": "[encoded data removed]",
      "text/plain": [
       "<Figure size 432x288 with 1 Axes>"
      ]
     },
     "metadata": {
      "needs_background": "light"
     },
     "output_type": "display_data"
    }
   ],
   "source": [
    "plt.plot(dx, Gibbs)\n",
    "plt.xlim(0.8, 1)\n",
    "plt.axhline(color='0')\n",
    "plt.ylim(-15200, -14000)\n",
    "plt.grid()"
   ]
  },
  {
   "cell_type": "code",
   "execution_count": null,
   "id": "4b1c6e4c",
   "metadata": {},
   "outputs": [],
   "source": []
  }
 ],
 "metadata": {
  "kernelspec": {
   "display_name": "Python 3 (ipykernel)",
   "language": "python",
   "name": "python3"
  },
  "language_info": {
   "codemirror_mode": {
    "name": "ipython",
    "version": 3
   },
   "file_extension": ".py",
   "mimetype": "text/x-python",
   "name": "python",
   "nbconvert_exporter": "python",
   "pygments_lexer": "ipython3",
   "version": "3.9.5"
  }
 },
 "nbformat": 4,
 "nbformat_minor": 5
}
