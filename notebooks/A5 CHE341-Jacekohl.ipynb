{
 "cells": [
  {
   "cell_type": "markdown",
   "id": "b091308b",
   "metadata": {},
   "source": [
    "# A5\n",
    "## Jace Kohl"
   ]
  },
  {
   "cell_type": "code",
   "execution_count": 17,
   "id": "ea22d283",
   "metadata": {},
   "outputs": [
    {
     "name": "stdout",
     "output_type": "stream",
     "text": [
      "Requirement already satisfied: plotly in /Users/dwyer/opt/miniconda3/lib/python3.9/site-packages (5.5.0)\n",
      "Requirement already satisfied: tenacity>=6.2.0 in /Users/dwyer/opt/miniconda3/lib/python3.9/site-packages (from plotly) (8.0.1)\n",
      "Requirement already satisfied: six in /Users/dwyer/opt/miniconda3/lib/python3.9/site-packages (from plotly) (1.16.0)\n",
      "Requirement already satisfied: ipywidgets in /Users/dwyer/opt/miniconda3/lib/python3.9/site-packages (7.7.1)\n",
      "Requirement already satisfied: traitlets>=4.3.1 in /Users/dwyer/opt/miniconda3/lib/python3.9/site-packages (from ipywidgets) (5.3.0)\n",
      "Requirement already satisfied: jupyterlab-widgets>=1.0.0 in /Users/dwyer/opt/miniconda3/lib/python3.9/site-packages (from ipywidgets) (1.1.1)\n",
      "Requirement already satisfied: ipykernel>=4.5.1 in /Users/dwyer/opt/miniconda3/lib/python3.9/site-packages (from ipywidgets) (6.15.1)\n",
      "Requirement already satisfied: ipython-genutils~=0.2.0 in /Users/dwyer/opt/miniconda3/lib/python3.9/site-packages (from ipywidgets) (0.2.0)\n",
      "Requirement already satisfied: ipython>=4.0.0 in /Users/dwyer/opt/miniconda3/lib/python3.9/site-packages (from ipywidgets) (8.0.1)\n",
      "Requirement already satisfied: widgetsnbextension~=3.6.0 in /Users/dwyer/opt/miniconda3/lib/python3.9/site-packages (from ipywidgets) (3.6.1)\n",
      "Requirement already satisfied: tornado>=6.1 in /Users/dwyer/opt/miniconda3/lib/python3.9/site-packages (from ipykernel>=4.5.1->ipywidgets) (6.2)\n",
      "Requirement already satisfied: nest-asyncio in /Users/dwyer/opt/miniconda3/lib/python3.9/site-packages (from ipykernel>=4.5.1->ipywidgets) (1.5.5)\n",
      "Requirement already satisfied: debugpy>=1.0 in /Users/dwyer/opt/miniconda3/lib/python3.9/site-packages (from ipykernel>=4.5.1->ipywidgets) (1.6.0)\n",
      "Requirement already satisfied: appnope in /Users/dwyer/opt/miniconda3/lib/python3.9/site-packages (from ipykernel>=4.5.1->ipywidgets) (0.1.3)\n",
      "Requirement already satisfied: matplotlib-inline>=0.1 in /Users/dwyer/opt/miniconda3/lib/python3.9/site-packages (from ipykernel>=4.5.1->ipywidgets) (0.1.3)\n",
      "Requirement already satisfied: jupyter-client>=6.1.12 in /Users/dwyer/opt/miniconda3/lib/python3.9/site-packages (from ipykernel>=4.5.1->ipywidgets) (7.3.4)\n",
      "Requirement already satisfied: packaging in /Users/dwyer/opt/miniconda3/lib/python3.9/site-packages (from ipykernel>=4.5.1->ipywidgets) (20.9)\n",
      "Requirement already satisfied: psutil in /Users/dwyer/opt/miniconda3/lib/python3.9/site-packages (from ipykernel>=4.5.1->ipywidgets) (5.9.1)\n",
      "Requirement already satisfied: pyzmq>=17 in /Users/dwyer/opt/miniconda3/lib/python3.9/site-packages (from ipykernel>=4.5.1->ipywidgets) (23.2.0)\n",
      "Requirement already satisfied: pygments in /Users/dwyer/opt/miniconda3/lib/python3.9/site-packages (from ipython>=4.0.0->ipywidgets) (2.12.0)\n",
      "Requirement already satisfied: pickleshare in /Users/dwyer/opt/miniconda3/lib/python3.9/site-packages (from ipython>=4.0.0->ipywidgets) (0.7.5)\n",
      "Requirement already satisfied: black in /Users/dwyer/opt/miniconda3/lib/python3.9/site-packages (from ipython>=4.0.0->ipywidgets) (19.10b0)\n",
      "Requirement already satisfied: backcall in /Users/dwyer/opt/miniconda3/lib/python3.9/site-packages (from ipython>=4.0.0->ipywidgets) (0.2.0)\n",
      "Requirement already satisfied: prompt-toolkit!=3.0.0,!=3.0.1,<3.1.0,>=2.0.0 in /Users/dwyer/opt/miniconda3/lib/python3.9/site-packages (from ipython>=4.0.0->ipywidgets) (3.0.30)\n",
      "Requirement already satisfied: jedi>=0.16 in /Users/dwyer/opt/miniconda3/lib/python3.9/site-packages (from ipython>=4.0.0->ipywidgets) (0.18.1)\n",
      "Requirement already satisfied: stack-data in /Users/dwyer/opt/miniconda3/lib/python3.9/site-packages (from ipython>=4.0.0->ipywidgets) (0.3.0)\n",
      "Requirement already satisfied: pexpect>4.3 in /Users/dwyer/opt/miniconda3/lib/python3.9/site-packages (from ipython>=4.0.0->ipywidgets) (4.8.0)\n",
      "Requirement already satisfied: decorator in /Users/dwyer/opt/miniconda3/lib/python3.9/site-packages (from ipython>=4.0.0->ipywidgets) (5.1.1)\n",
      "Requirement already satisfied: setuptools>=18.5 in /Users/dwyer/opt/miniconda3/lib/python3.9/site-packages (from ipython>=4.0.0->ipywidgets) (59.8.0)\n",
      "Requirement already satisfied: notebook>=4.4.1 in /Users/dwyer/opt/miniconda3/lib/python3.9/site-packages (from widgetsnbextension~=3.6.0->ipywidgets) (6.4.12)\n",
      "Requirement already satisfied: parso<0.9.0,>=0.8.0 in /Users/dwyer/opt/miniconda3/lib/python3.9/site-packages (from jedi>=0.16->ipython>=4.0.0->ipywidgets) (0.8.3)\n",
      "Requirement already satisfied: entrypoints in /Users/dwyer/opt/miniconda3/lib/python3.9/site-packages (from jupyter-client>=6.1.12->ipykernel>=4.5.1->ipywidgets) (0.4)\n",
      "Requirement already satisfied: python-dateutil>=2.8.2 in /Users/dwyer/opt/miniconda3/lib/python3.9/site-packages (from jupyter-client>=6.1.12->ipykernel>=4.5.1->ipywidgets) (2.8.2)\n",
      "Requirement already satisfied: jupyter-core>=4.9.2 in /Users/dwyer/opt/miniconda3/lib/python3.9/site-packages (from jupyter-client>=6.1.12->ipykernel>=4.5.1->ipywidgets) (4.11.1)\n",
      "Requirement already satisfied: prometheus-client in /Users/dwyer/opt/miniconda3/lib/python3.9/site-packages (from notebook>=4.4.1->widgetsnbextension~=3.6.0->ipywidgets) (0.14.1)\n",
      "Requirement already satisfied: nbconvert>=5 in /Users/dwyer/opt/miniconda3/lib/python3.9/site-packages (from notebook>=4.4.1->widgetsnbextension~=3.6.0->ipywidgets) (6.5.0)\n",
      "Requirement already satisfied: nbformat in /Users/dwyer/opt/miniconda3/lib/python3.9/site-packages (from notebook>=4.4.1->widgetsnbextension~=3.6.0->ipywidgets) (5.4.0)\n",
      "Requirement already satisfied: terminado>=0.8.3 in /Users/dwyer/opt/miniconda3/lib/python3.9/site-packages (from notebook>=4.4.1->widgetsnbextension~=3.6.0->ipywidgets) (0.15.0)\n",
      "Requirement already satisfied: argon2-cffi in /Users/dwyer/opt/miniconda3/lib/python3.9/site-packages (from notebook>=4.4.1->widgetsnbextension~=3.6.0->ipywidgets) (21.3.0)\n",
      "Requirement already satisfied: Send2Trash>=1.8.0 in /Users/dwyer/opt/miniconda3/lib/python3.9/site-packages (from notebook>=4.4.1->widgetsnbextension~=3.6.0->ipywidgets) (1.8.0)\n",
      "Requirement already satisfied: jinja2 in /Users/dwyer/opt/miniconda3/lib/python3.9/site-packages (from notebook>=4.4.1->widgetsnbextension~=3.6.0->ipywidgets) (3.1.2)\n",
      "Requirement already satisfied: ptyprocess>=0.5 in /Users/dwyer/opt/miniconda3/lib/python3.9/site-packages (from pexpect>4.3->ipython>=4.0.0->ipywidgets) (0.7.0)\n",
      "Requirement already satisfied: wcwidth in /Users/dwyer/opt/miniconda3/lib/python3.9/site-packages (from prompt-toolkit!=3.0.0,!=3.0.1,<3.1.0,>=2.0.0->ipython>=4.0.0->ipywidgets) (0.2.5)\n",
      "Requirement already satisfied: regex in /Users/dwyer/opt/miniconda3/lib/python3.9/site-packages (from black->ipython>=4.0.0->ipywidgets) (2022.8.17)\n",
      "Requirement already satisfied: pathspec<1,>=0.6 in /Users/dwyer/opt/miniconda3/lib/python3.9/site-packages (from black->ipython>=4.0.0->ipywidgets) (0.9.0)\n",
      "Requirement already satisfied: attrs>=18.1.0 in /Users/dwyer/opt/miniconda3/lib/python3.9/site-packages (from black->ipython>=4.0.0->ipywidgets) (22.1.0)\n",
      "Requirement already satisfied: typed-ast>=1.4.0 in /Users/dwyer/opt/miniconda3/lib/python3.9/site-packages (from black->ipython>=4.0.0->ipywidgets) (1.5.4)\n",
      "Requirement already satisfied: appdirs in /Users/dwyer/opt/miniconda3/lib/python3.9/site-packages (from black->ipython>=4.0.0->ipywidgets) (1.4.4)\n",
      "Requirement already satisfied: click>=6.5 in /Users/dwyer/opt/miniconda3/lib/python3.9/site-packages (from black->ipython>=4.0.0->ipywidgets) (7.0)\n",
      "Requirement already satisfied: toml>=0.9.4 in /Users/dwyer/opt/miniconda3/lib/python3.9/site-packages (from black->ipython>=4.0.0->ipywidgets) (0.10.2)\n",
      "Requirement already satisfied: pyparsing>=2.0.2 in /Users/dwyer/opt/miniconda3/lib/python3.9/site-packages (from packaging->ipykernel>=4.5.1->ipywidgets) (3.0.9)\n",
      "Requirement already satisfied: executing in /Users/dwyer/opt/miniconda3/lib/python3.9/site-packages (from stack-data->ipython>=4.0.0->ipywidgets) (0.9.1)\n",
      "Requirement already satisfied: pure-eval in /Users/dwyer/opt/miniconda3/lib/python3.9/site-packages (from stack-data->ipython>=4.0.0->ipywidgets) (0.2.2)\n",
      "Requirement already satisfied: asttokens in /Users/dwyer/opt/miniconda3/lib/python3.9/site-packages (from stack-data->ipython>=4.0.0->ipywidgets) (2.0.5)\n",
      "Requirement already satisfied: beautifulsoup4 in /Users/dwyer/opt/miniconda3/lib/python3.9/site-packages (from nbconvert>=5->notebook>=4.4.1->widgetsnbextension~=3.6.0->ipywidgets) (4.11.1)\n",
      "Requirement already satisfied: mistune<2,>=0.8.1 in /Users/dwyer/opt/miniconda3/lib/python3.9/site-packages (from nbconvert>=5->notebook>=4.4.1->widgetsnbextension~=3.6.0->ipywidgets) (0.8.4)\n",
      "Requirement already satisfied: bleach in /Users/dwyer/opt/miniconda3/lib/python3.9/site-packages (from nbconvert>=5->notebook>=4.4.1->widgetsnbextension~=3.6.0->ipywidgets) (5.0.1)\n",
      "Requirement already satisfied: defusedxml in /Users/dwyer/opt/miniconda3/lib/python3.9/site-packages (from nbconvert>=5->notebook>=4.4.1->widgetsnbextension~=3.6.0->ipywidgets) (0.7.1)\n",
      "Requirement already satisfied: tinycss2 in /Users/dwyer/opt/miniconda3/lib/python3.9/site-packages (from nbconvert>=5->notebook>=4.4.1->widgetsnbextension~=3.6.0->ipywidgets) (1.1.1)\n",
      "Requirement already satisfied: MarkupSafe>=2.0 in /Users/dwyer/opt/miniconda3/lib/python3.9/site-packages (from nbconvert>=5->notebook>=4.4.1->widgetsnbextension~=3.6.0->ipywidgets) (2.1.1)\n",
      "Requirement already satisfied: pandocfilters>=1.4.1 in /Users/dwyer/opt/miniconda3/lib/python3.9/site-packages (from nbconvert>=5->notebook>=4.4.1->widgetsnbextension~=3.6.0->ipywidgets) (1.5.0)\n",
      "Requirement already satisfied: nbclient>=0.5.0 in /Users/dwyer/opt/miniconda3/lib/python3.9/site-packages (from nbconvert>=5->notebook>=4.4.1->widgetsnbextension~=3.6.0->ipywidgets) (0.6.6)\n",
      "Requirement already satisfied: jupyterlab-pygments in /Users/dwyer/opt/miniconda3/lib/python3.9/site-packages (from nbconvert>=5->notebook>=4.4.1->widgetsnbextension~=3.6.0->ipywidgets) (0.2.2)\n",
      "Requirement already satisfied: jsonschema>=2.6 in /Users/dwyer/opt/miniconda3/lib/python3.9/site-packages (from nbformat->notebook>=4.4.1->widgetsnbextension~=3.6.0->ipywidgets) (4.8.0)\n",
      "Requirement already satisfied: fastjsonschema in /Users/dwyer/opt/miniconda3/lib/python3.9/site-packages (from nbformat->notebook>=4.4.1->widgetsnbextension~=3.6.0->ipywidgets) (2.16.1)\n"
     ]
    },
    {
     "name": "stdout",
     "output_type": "stream",
     "text": [
      "Requirement already satisfied: six>=1.5 in /Users/dwyer/opt/miniconda3/lib/python3.9/site-packages (from python-dateutil>=2.8.2->jupyter-client>=6.1.12->ipykernel>=4.5.1->ipywidgets) (1.16.0)\n",
      "Requirement already satisfied: argon2-cffi-bindings in /Users/dwyer/opt/miniconda3/lib/python3.9/site-packages (from argon2-cffi->notebook>=4.4.1->widgetsnbextension~=3.6.0->ipywidgets) (21.2.0)\n",
      "Requirement already satisfied: pyrsistent!=0.17.0,!=0.17.1,!=0.17.2,>=0.14.0 in /Users/dwyer/opt/miniconda3/lib/python3.9/site-packages (from jsonschema>=2.6->nbformat->notebook>=4.4.1->widgetsnbextension~=3.6.0->ipywidgets) (0.18.1)\n",
      "Requirement already satisfied: cffi>=1.0.1 in /Users/dwyer/opt/miniconda3/lib/python3.9/site-packages (from argon2-cffi-bindings->argon2-cffi->notebook>=4.4.1->widgetsnbextension~=3.6.0->ipywidgets) (1.15.1)\n",
      "Requirement already satisfied: soupsieve>1.2 in /Users/dwyer/opt/miniconda3/lib/python3.9/site-packages (from beautifulsoup4->nbconvert>=5->notebook>=4.4.1->widgetsnbextension~=3.6.0->ipywidgets) (2.3.2.post1)\n",
      "Requirement already satisfied: webencodings in /Users/dwyer/opt/miniconda3/lib/python3.9/site-packages (from bleach->nbconvert>=5->notebook>=4.4.1->widgetsnbextension~=3.6.0->ipywidgets) (0.5.1)\n",
      "Requirement already satisfied: pycparser in /Users/dwyer/opt/miniconda3/lib/python3.9/site-packages (from cffi>=1.0.1->argon2-cffi-bindings->argon2-cffi->notebook>=4.4.1->widgetsnbextension~=3.6.0->ipywidgets) (2.21)\n",
      "Requirement already satisfied: munch in /Users/dwyer/opt/miniconda3/lib/python3.9/site-packages (2.5.0)\n",
      "Requirement already satisfied: six in /Users/dwyer/opt/miniconda3/lib/python3.9/site-packages (from munch) (1.16.0)\n"
     ]
    }
   ],
   "source": [
    "!pip install plotly\n",
    "!pip install ipywidgets\n",
    "!pip install munch"
   ]
  },
  {
   "cell_type": "code",
   "execution_count": 18,
   "id": "d012bb03",
   "metadata": {},
   "outputs": [],
   "source": [
    "import numpy as np\n",
    "import pandas as pd\n",
    "from munch import Munch\n",
    "import matplotlib.pyplot as plt\n",
    "import plotly.express as px\n",
    "from ipywidgets import interact\n",
    "\n",
    "kB = 1.381e-23 # J/K\n",
    "h = 6.626e-34 # Js\n",
    "R = 8.314 # J/mol-K\n",
    "R_kJ = R / 1000 # kJ/mol-K\n",
    " \n",
    "amu = 1.6605e-27 # 1 amu = 1.6605e-27 kg"
   ]
  },
  {
   "cell_type": "code",
   "execution_count": 19,
   "id": "2932d0b3",
   "metadata": {},
   "outputs": [],
   "source": [
    "def polymer4(E, T, R=R_kJ):\n",
    "   \n",
    "    wC = 1\n",
    "    wO = 4*np.exp(-E/(R*T))\n",
    "\n",
    "    q = wC + wO\n",
    "    \n",
    "    pC = wC/q\n",
    "    pO = wO/q\n",
    "    K = pO/pC\n",
    "    avgE = (E*wO)/q\n",
    "\n",
    "    return Munch(locals()) # locals is a dictionary containing all variables defined in the function"
   ]
  },
  {
   "cell_type": "code",
   "execution_count": 20,
   "id": "c5c93762",
   "metadata": {},
   "outputs": [
    {
     "data": {
      "text/plain": [
       "{'H': 1.008, 'He': 4.003, 'C': 12.011, 'N': 14.007, 'O': 15.999}"
      ]
     },
     "execution_count": 20,
     "metadata": {},
     "output_type": "execute_result"
    }
   ],
   "source": [
    "atom_masses = {'H': 1.008, 'He': 4.003, 'C': 12.011, 'N': 14.007, 'O': 15.999}\n",
    "atom_masses"
   ]
  },
  {
   "cell_type": "code",
   "execution_count": 21,
   "id": "4f0267e1",
   "metadata": {},
   "outputs": [
    {
     "data": {
      "text/plain": [
       "1.008"
      ]
     },
     "execution_count": 21,
     "metadata": {},
     "output_type": "execute_result"
    }
   ],
   "source": [
    "atom_masses['H']"
   ]
  },
  {
   "cell_type": "code",
   "execution_count": 22,
   "id": "d45814e0",
   "metadata": {},
   "outputs": [],
   "source": [
    "am = Munch(atom_masses)"
   ]
  },
  {
   "cell_type": "code",
   "execution_count": 23,
   "id": "df616de6",
   "metadata": {},
   "outputs": [
    {
     "data": {
      "text/plain": [
       "18.015"
      ]
     },
     "execution_count": 23,
     "metadata": {},
     "output_type": "execute_result"
    }
   ],
   "source": [
    "am.H*2 + am.O"
   ]
  },
  {
   "cell_type": "code",
   "execution_count": 24,
   "id": "070401c1",
   "metadata": {},
   "outputs": [
    {
     "data": {
      "text/plain": [
       "Munch({'E': 5, 'T': 273, 'R': 0.008314, 'wC': 1, 'wO': 0.44192345318578813, 'q': 1.441923453185788, 'pC': 0.6935180905689539, 'pO': 0.30648190943104625, 'K': 0.44192345318578813, 'avgE': 1.5324095471552313})"
      ]
     },
     "execution_count": 24,
     "metadata": {},
     "output_type": "execute_result"
    }
   ],
   "source": [
    "polymer4(5, 273)"
   ]
  },
  {
   "cell_type": "code",
   "execution_count": 25,
   "id": "da89dc24",
   "metadata": {},
   "outputs": [
    {
     "data": {
      "text/html": [
       "<div>\n",
       "<style scoped>\n",
       "    .dataframe tbody tr th:only-of-type {\n",
       "        vertical-align: middle;\n",
       "    }\n",
       "\n",
       "    .dataframe tbody tr th {\n",
       "        vertical-align: top;\n",
       "    }\n",
       "\n",
       "    .dataframe thead th {\n",
       "        text-align: right;\n",
       "    }\n",
       "</style>\n",
       "<table border=\"1\" class=\"dataframe\">\n",
       "  <thead>\n",
       "    <tr style=\"text-align: right;\">\n",
       "      <th></th>\n",
       "      <th>E</th>\n",
       "      <th>T</th>\n",
       "      <th>R</th>\n",
       "      <th>wC</th>\n",
       "      <th>wO</th>\n",
       "      <th>q</th>\n",
       "      <th>pC</th>\n",
       "      <th>pO</th>\n",
       "      <th>K</th>\n",
       "      <th>avgE</th>\n",
       "      <th>temp</th>\n",
       "    </tr>\n",
       "  </thead>\n",
       "  <tbody>\n",
       "    <tr>\n",
       "      <th>0</th>\n",
       "      <td>5</td>\n",
       "      <td>1.000000</td>\n",
       "      <td>0.008314</td>\n",
       "      <td>1</td>\n",
       "      <td>2.626801e-261</td>\n",
       "      <td>1.000000</td>\n",
       "      <td>1.000000</td>\n",
       "      <td>2.626801e-261</td>\n",
       "      <td>2.626801e-261</td>\n",
       "      <td>1.313400e-260</td>\n",
       "      <td>1.000000</td>\n",
       "    </tr>\n",
       "    <tr>\n",
       "      <th>1</th>\n",
       "      <td>5</td>\n",
       "      <td>11.018036</td>\n",
       "      <td>0.008314</td>\n",
       "      <td>1</td>\n",
       "      <td>7.889546e-24</td>\n",
       "      <td>1.000000</td>\n",
       "      <td>1.000000</td>\n",
       "      <td>7.889546e-24</td>\n",
       "      <td>7.889546e-24</td>\n",
       "      <td>3.944773e-23</td>\n",
       "      <td>11.018036</td>\n",
       "    </tr>\n",
       "    <tr>\n",
       "      <th>2</th>\n",
       "      <td>5</td>\n",
       "      <td>21.036072</td>\n",
       "      <td>0.008314</td>\n",
       "      <td>1</td>\n",
       "      <td>1.535037e-12</td>\n",
       "      <td>1.000000</td>\n",
       "      <td>1.000000</td>\n",
       "      <td>1.535037e-12</td>\n",
       "      <td>1.535037e-12</td>\n",
       "      <td>7.675186e-12</td>\n",
       "      <td>21.036072</td>\n",
       "    </tr>\n",
       "    <tr>\n",
       "      <th>3</th>\n",
       "      <td>5</td>\n",
       "      <td>31.054108</td>\n",
       "      <td>0.008314</td>\n",
       "      <td>1</td>\n",
       "      <td>1.554153e-08</td>\n",
       "      <td>1.000000</td>\n",
       "      <td>1.000000</td>\n",
       "      <td>1.554153e-08</td>\n",
       "      <td>1.554153e-08</td>\n",
       "      <td>7.770765e-08</td>\n",
       "      <td>31.054108</td>\n",
       "    </tr>\n",
       "    <tr>\n",
       "      <th>4</th>\n",
       "      <td>5</td>\n",
       "      <td>41.072144</td>\n",
       "      <td>0.008314</td>\n",
       "      <td>1</td>\n",
       "      <td>1.749611e-06</td>\n",
       "      <td>1.000002</td>\n",
       "      <td>0.999998</td>\n",
       "      <td>1.749608e-06</td>\n",
       "      <td>1.749611e-06</td>\n",
       "      <td>8.748039e-06</td>\n",
       "      <td>41.072144</td>\n",
       "    </tr>\n",
       "    <tr>\n",
       "      <th>...</th>\n",
       "      <td>...</td>\n",
       "      <td>...</td>\n",
       "      <td>...</td>\n",
       "      <td>...</td>\n",
       "      <td>...</td>\n",
       "      <td>...</td>\n",
       "      <td>...</td>\n",
       "      <td>...</td>\n",
       "      <td>...</td>\n",
       "      <td>...</td>\n",
       "      <td>...</td>\n",
       "    </tr>\n",
       "    <tr>\n",
       "      <th>495</th>\n",
       "      <td>5</td>\n",
       "      <td>4959.927856</td>\n",
       "      <td>0.008314</td>\n",
       "      <td>1</td>\n",
       "      <td>3.543247e+00</td>\n",
       "      <td>4.543247</td>\n",
       "      <td>0.220107</td>\n",
       "      <td>7.798931e-01</td>\n",
       "      <td>3.543247e+00</td>\n",
       "      <td>3.899466e+00</td>\n",
       "      <td>4959.927856</td>\n",
       "    </tr>\n",
       "    <tr>\n",
       "      <th>496</th>\n",
       "      <td>5</td>\n",
       "      <td>4969.945892</td>\n",
       "      <td>0.008314</td>\n",
       "      <td>1</td>\n",
       "      <td>3.544113e+00</td>\n",
       "      <td>4.544113</td>\n",
       "      <td>0.220065</td>\n",
       "      <td>7.799351e-01</td>\n",
       "      <td>3.544113e+00</td>\n",
       "      <td>3.899675e+00</td>\n",
       "      <td>4969.945892</td>\n",
       "    </tr>\n",
       "    <tr>\n",
       "      <th>497</th>\n",
       "      <td>5</td>\n",
       "      <td>4979.963928</td>\n",
       "      <td>0.008314</td>\n",
       "      <td>1</td>\n",
       "      <td>3.544976e+00</td>\n",
       "      <td>4.544976</td>\n",
       "      <td>0.220023</td>\n",
       "      <td>7.799768e-01</td>\n",
       "      <td>3.544976e+00</td>\n",
       "      <td>3.899884e+00</td>\n",
       "      <td>4979.963928</td>\n",
       "    </tr>\n",
       "    <tr>\n",
       "      <th>498</th>\n",
       "      <td>5</td>\n",
       "      <td>4989.981964</td>\n",
       "      <td>0.008314</td>\n",
       "      <td>1</td>\n",
       "      <td>3.545836e+00</td>\n",
       "      <td>4.545836</td>\n",
       "      <td>0.219982</td>\n",
       "      <td>7.800184e-01</td>\n",
       "      <td>3.545836e+00</td>\n",
       "      <td>3.900092e+00</td>\n",
       "      <td>4989.981964</td>\n",
       "    </tr>\n",
       "    <tr>\n",
       "      <th>499</th>\n",
       "      <td>5</td>\n",
       "      <td>5000.000000</td>\n",
       "      <td>0.008314</td>\n",
       "      <td>1</td>\n",
       "      <td>3.546692e+00</td>\n",
       "      <td>4.546692</td>\n",
       "      <td>0.219940</td>\n",
       "      <td>7.800599e-01</td>\n",
       "      <td>3.546692e+00</td>\n",
       "      <td>3.900299e+00</td>\n",
       "      <td>5000.000000</td>\n",
       "    </tr>\n",
       "  </tbody>\n",
       "</table>\n",
       "<p>500 rows × 11 columns</p>\n",
       "</div>"
      ],
      "text/plain": [
       "     E            T         R  wC             wO         q        pC  \\\n",
       "0    5     1.000000  0.008314   1  2.626801e-261  1.000000  1.000000   \n",
       "1    5    11.018036  0.008314   1   7.889546e-24  1.000000  1.000000   \n",
       "2    5    21.036072  0.008314   1   1.535037e-12  1.000000  1.000000   \n",
       "3    5    31.054108  0.008314   1   1.554153e-08  1.000000  1.000000   \n",
       "4    5    41.072144  0.008314   1   1.749611e-06  1.000002  0.999998   \n",
       "..  ..          ...       ...  ..            ...       ...       ...   \n",
       "495  5  4959.927856  0.008314   1   3.543247e+00  4.543247  0.220107   \n",
       "496  5  4969.945892  0.008314   1   3.544113e+00  4.544113  0.220065   \n",
       "497  5  4979.963928  0.008314   1   3.544976e+00  4.544976  0.220023   \n",
       "498  5  4989.981964  0.008314   1   3.545836e+00  4.545836  0.219982   \n",
       "499  5  5000.000000  0.008314   1   3.546692e+00  4.546692  0.219940   \n",
       "\n",
       "                pO              K           avgE         temp  \n",
       "0    2.626801e-261  2.626801e-261  1.313400e-260     1.000000  \n",
       "1     7.889546e-24   7.889546e-24   3.944773e-23    11.018036  \n",
       "2     1.535037e-12   1.535037e-12   7.675186e-12    21.036072  \n",
       "3     1.554153e-08   1.554153e-08   7.770765e-08    31.054108  \n",
       "4     1.749608e-06   1.749611e-06   8.748039e-06    41.072144  \n",
       "..             ...            ...            ...          ...  \n",
       "495   7.798931e-01   3.543247e+00   3.899466e+00  4959.927856  \n",
       "496   7.799351e-01   3.544113e+00   3.899675e+00  4969.945892  \n",
       "497   7.799768e-01   3.544976e+00   3.899884e+00  4979.963928  \n",
       "498   7.800184e-01   3.545836e+00   3.900092e+00  4989.981964  \n",
       "499   7.800599e-01   3.546692e+00   3.900299e+00  5000.000000  \n",
       "\n",
       "[500 rows x 11 columns]"
      ]
     },
     "execution_count": 25,
     "metadata": {},
     "output_type": "execute_result"
    }
   ],
   "source": [
    "temps = np.linspace(1, 5000, num=500)\n",
    "\n",
    "outs = polymer4 (5, temps)\n",
    "\n",
    "df = pd.DataFrame(outs)\n",
    "\n",
    "df['temp'] = df ['T']\n",
    "df"
   ]
  },
  {
   "cell_type": "code",
   "execution_count": 26,
   "id": "b6924686",
   "metadata": {},
   "outputs": [
    {
     "data": {
      "text/plain": [
       "<matplotlib.legend.Legend at 0x16e4a5a60>"
      ]
     },
     "execution_count": 26,
     "metadata": {},
     "output_type": "execute_result"
    },
    {
     "data": {
      "image/png": "[encoded data removed]",
      "text/plain": [
       "<Figure size 432x288 with 1 Axes>"
      ]
     },
     "metadata": {
      "needs_background": "light"
     },
     "output_type": "display_data"
    }
   ],
   "source": [
    "plt.plot(df.temp, df.R, label=\"Total ways\")\n",
    "\n",
    "plt.xlabel(\"X axis label\")\n",
    "plt.ylabel(\"Y axis label\")\n",
    "plt.legend() # Show the legend"
   ]
  },
  {
   "cell_type": "code",
   "execution_count": 27,
   "id": "0f27c0aa",
   "metadata": {},
   "outputs": [
    {
     "data": {
      "application/vnd.plotly.v1+json": {
       "config": {
        "plotlyServerURL": "https://plot.ly"
       },
       "data": [
        {
         "hovertemplate": "variable=T<br>K=%{x}<br>Temperature (K)=%{y}<extra></extra>",
         "legendgroup": "T",
         "line": {
          "color": "#636efa",
          "dash": "solid"
         },
         "marker": {
          "symbol": "circle"
         },
         "mode": "lines",
         "name": "T",
         "orientation": "v",
         "showlegend": true,
         "type": "scatter",
         "x": [
          2.62680080776167e-261,
          7.889546245956312e-24,
          1.5350371309975835e-12,
          1.5541530823700737e-08,
          1.7496109365811449e-06,
          3.0893810943833e-05,
          0.00021279426032038958,
          0.0008510618079512315,
          0.0024172230124974072,
          0.00545797786335345,
          0.010488248943464704,
          0.017916841181545146,
          0.02801430900664564,
          0.04091302303564988,
          0.056625519171575434,
          0.07507012745429123,
          0.09609706942478241,
          0.1195115728883794,
          0.14509271530385645,
          0.17260790632688813,
          0.20182348740753214,
          0.23251212710373234,
          0.2644577007449998,
          0.29745826687424937,
          0.33132764772884676,
          0.3658960154839138,
          0.4010097925379986,
          0.4365310967387609,
          0.4723369009622005,
          0.5083180289648401,
          0.5443780734941513,
          0.5804322958984356,
          0.6164065468524718,
          0.6522362336039755,
          0.6878653489937789,
          0.7232455703594047,
          0.7583354314969556,
          0.7930995675274262,
          0.8275080303415826,
          0.8615356709503976,
          0.8951615843017932,
          0.9283686117613896,
          0.9611428963661135,
          0.9934734860522904,
          1.0253519802680342,
          1.0567722156566801,
          1.0877299868111063,
          1.1182227984257047,
          1.1482496454985183,
          1.1778108185509735,
          1.206907731130667,
          1.2355427671405268,
          1.26371914579371,
          1.2914408022276043,
          1.318712282022614,
          1.34553864806313,
          1.3719253983504363,
          1.3978783935317356,
          1.423403793047505,
          1.4485079989224927,
          1.4731976063352508,
          1.4974793601985814,
          1.5213601170698139,
          1.544846811786704,
          1.5679464282928741,
          1.590665974177206,
          1.6130124585051435,
          1.6349928725673777,
          1.6566141732134947,
          1.6778832684754548,
          1.698807005218876,
          1.719392158589393,
          1.7396454230473943,
          1.7595734048074718,
          1.7791826155194042,
          1.7984794670456499,
          1.8174702672064242,
          1.8361612163777865,
          1.854558404840833,
          1.872667810791438,
          1.8904952989299875,
          1.9080466195595047,
          1.9253274081285017,
          1.9423431851619581,
          1.9590993565301242,
          1.9756012140104342,
          1.9918539361028196,
          2.0078625890631407,
          2.0236321281234217,
          2.0391673988710988,
          2.0544731387626336,
          2.069553978749662,
          2.084414444998325,
          2.0990589606846775,
          2.113491847851058,
          2.1277173293100566,
          2.1417395305843345,
          2.155562481871922,
          2.169190120027912,
          2.182626290554564,
          2.19587474959286,
          2.208939165909413,
          2.2218231228734537,
          2.234530120419322,
          2.2470635769904943,
          2.259426831461793,
          2.2716231450368576,
          2.2836557031184634,
          2.2955276171496215,
          2.3072419264237753,
          2.3188015998626894,
          2.3302095377609366,
          2.3414685734961025,
          2.352581475204051,
          2.3635509474187986,
          2.3743796326766757,
          2.3850701130846534,
          2.3956249118527793,
          2.406046494790828,
          2.416337271769355,
          2.4264995981454067,
          2.436535776153245,
          2.4464480562604805,
          2.4562386384900776,
          2.465909673708742,
          2.4754632648822117,
          2.484901468298049,
          2.4942262947565172,
          2.503439710730168,
          2.5125436394927703,
          2.5215399622182333,
          2.5304305190501792,
          2.5392171101428245,
          2.547901496673839,
          2.556485401829844,
          2.5649705117652153,
          2.573358476534847,
          2.5816509110015433,
          2.5898493957186597,
          2.597955477788668,
          2.6059706716982514,
          2.613896460130557,
          2.6217342947552296,
          2.629485596996812,
          2.637151758782103,
          2.644734143267075,
          2.6522340855438697,
          2.659652893328479,
          2.6669918476296086,
          2.6742522033992793,
          2.6814351901656694,
          2.6885420126487056,
          2.695573851358893,
          2.702531863179857,
          2.7094171819350747,
          2.716230918939236,
          2.7229741635346842,
          2.7296479836133596,
          2.736253426124673,
          2.742791517569703,
          2.749263264482122,
          2.755669653896228,
          2.762011653802459,
          2.768290213590748,
          2.774506264482076,
          2.780660719948555,
          2.7867544761223875,
          2.7927884121940028,
          2.798763390799705,
          2.804680258399119,
          2.810539845642735,
          2.816342967729842,
          2.8220904247571124,
          2.827783002058122,
          2.833421470534056,
          2.8390065869758607,
          2.844539094378072,
          2.850019722244581,
          2.8554491868865464,
          2.8608281917126845,
          2.8661574275121597,
          2.871437572730277,
          2.8766692937371814,
          2.8818532450897694,
          2.8869900697869952,
          2.892080399518762,
          2.8971248549085797,
          2.90212404575016,
          2.9070785712381215,
          2.9119890201929723,
          2.9168559712805173,
          2.921679993225862,
          2.9264616450221506,
          2.9312014761341865,
          2.935900026697078,
          2.9405578277100504,
          2.945175401225541,
          2.949753260533736,
          2.9542919103426315,
          2.958791846953787,
          2.963253558433851,
          2.9676775247819975,
          2.9720642180933603,
          2.976414102718613,
          2.98072763541974,
          2.985005265522161,
          2.989247435063262,
          2.993454578937453,
          2.9976271250378326,
          3.0017654943945575,
          3.005870101309998,
          3.0099413534907655,
          3.013979652176701,
          3.0179853922668918,
          3.021958962442805,
          3.0259007452886073,
          3.0298111174087468,
          3.0336904495428674,
          3.037539106678121,
          3.041357448158953,
          3.045145827794414,
          3.0489045939630746,
          3.052634089715592,
          3.056334652875,
          3.060006616134768,
          3.0636503071546954,
          3.067266048654693,
          3.0708541585065006,
          3.074414949823398,
          3.077948731047961,
          3.081455806037898,
          3.0849364741500387,
          3.088391030322494,
          3.091819765155051,
          3.095222964987843,
          3.0986009119783295,
          3.1019538841766363,
          3.105282155599291,
          3.1085859963013953,
          3.1118656724472693,
          3.11512144637961,
          3.1183535766871935,
          3.121562318271159,
          3.1247479224099126,
          3.127910636822674,
          3.131050705731711,
          3.1341683699232825,
          3.1372638668073245,
          3.140337430475913,
          3.1433892917605237,
          3.146419678288129,
          3.1494288145361407,
          3.1524169218862523,
          3.1553842186771788,
          3.1583309202563394,
          3.1612572390304976,
          3.164163384515388,
          3.1670495633843454,
          3.169915979515974,
          3.172762834040861,
          3.1755903253873665,
          3.1783986493265144,
          3.1811879990159895,
          3.183958565043284,
          3.1867105354679834,
          3.189444095863243,
          3.192159429356448,
          3.1948567166690856,
          3.1975361361558523,
          3.200197863842996,
          3.202842073465936,
          3.205468936506147,
          3.2080786222273487,
          3.2106712977110003,
          3.2132471278911257,
          3.2158062755884713,
          3.218348901544029,
          3.2208751644519196,
          3.2233852209916605,
          3.2258792258598348,
          3.228357331801161,
          3.230819689638994,
          3.2332664483052476,
          3.2356977548697783,
          3.2381137545692145,
          3.2405145908352617,
          3.2429004053224877,
          3.245271337935598,
          3.2476275268562156,
          3.249969108569173,
          3.252296217888326,
          3.254608987981904,
          3.256907550397402,
          3.2591920350860213,
          3.2614625704266786,
          3.2637192832495807,
          3.265962298859381,
          3.268191741057924,
          3.2704077321665883,
          3.2726103930482298,
          3.2747998431287435,
          3.2769762004182454,
          3.2791395815318767,
          3.2812901017102543,
          3.283427874839559,
          3.285553013471272,
          3.287665628841576,
          3.289765830890415,
          3.29185372828023,
          3.293929428414367,
          3.2959930374551756,
          3.298044660341794,
          3.300084400807631,
          3.302112361397553,
          3.3041286434847765,
          3.306133347287476,
          3.3081265718851127,
          3.3101084152344873,
          3.312078974185523,
          3.314038344496788,
          3.3159866208507487,
          3.317923896868786,
          3.3198502651259436,
          3.321765817165447,
          3.3236706435129735,
          3.32556483369069,
          3.327448476231063,
          3.329321658690437,
          3.3311844676623954,
          3.3330369887908997,
          3.3348793067832223,
          3.3367115054226577,
          3.3385336675810393,
          3.34034587523105,
          3.342148209458333,
          3.3439407504734104,
          3.3457235776234118,
          3.347496769403612,
          3.34926040346879,
          3.351014556644401,
          3.352759304937581,
          3.3544947235479654,
          3.35622088687835,
          3.35793786854517,
          3.3596457413888303,
          3.3613445774838597,
          3.3630344481489183,
          3.364715423956641,
          3.366387574743331,
          3.368050969618506,
          3.3697056769742915,
          3.371351764494673,
          3.3729892991646064,
          3.374618347278986,
          3.3762389744514745,
          3.377851245623206,
          3.3794552250713448,
          3.381050976417525,
          3.3826385626361555,
          3.3842180460625997,
          3.38578948840124,
          3.387352950733406,
          3.388908493525201,
          3.3904561766351984,
          3.3919960593220266,
          3.393528200251848,
          3.395052657505714,
          3.396569488586823,
          3.398078750427664,
          3.399580499397057,
          3.40107479130709,
          3.4025616814199537,
          3.404041224454678,
          3.4055134745937625,
          3.4069784854897263,
          3.4084363102715427,
          3.4098870015509943,
          3.4113306114289346,
          3.4127671915014526,
          3.414196792865953,
          3.4156194661271533,
          3.4170352614029835,
          3.418444228330415,
          3.4198464160711954,
          3.421241873317505,
          3.4226306482975377,
          3.4240127887809955,
          3.42538834208451,
          3.4267573550769863,
          3.42811987418487,
          3.4294759453973436,
          3.4308256142714466,
          3.4321689259371255,
          3.433505925102215,
          3.434836656057347,
          3.436161162680792,
          3.437479488443238,
          3.4387916764124924,
          3.440097769258134,
          3.4413978092560877,
          3.442691838293145,
          3.443979897871417,
          3.4452620291127305,
          3.4465382727629605,
          3.4478086691963115,
          3.4490732584195256,
          3.450332080076052,
          3.4515851734501455,
          3.452832577470917,
          3.45407433071633,
          3.455310471417137,
          3.4565410374607706,
          3.4577660663951764,
          3.4589855954326025,
          3.4601996614533292,
          3.4614083010093557,
          3.4626115503280346,
          3.4638094453156616,
          3.465002021561016,
          3.4661893143388514,
          3.4673713586133466,
          3.4685481890415075,
          3.4697198399765248,
          3.470886345471089,
          3.4720477392806597,
          3.4732040548666956,
          3.4743553253998436,
          3.4755015837630796,
          3.476642862554814,
          3.47777919409196,
          3.4789106104129557,
          3.480037143280753,
          3.481158824185763,
          3.4822756843487683,
          3.4833877547237964,
          3.4844950660009557,
          3.485597648609238,
          3.4866955327192812,
          3.4877887482461016,
          3.488877324851789,
          3.4899612919481684,
          3.491040678699429,
          3.4921155140247193,
          3.4931858266007096,
          3.4942516448641223,
          3.4953129970142327,
          3.496369911015339,
          3.4974224145991917,
          3.498470535267413,
          3.499514300293863,
          3.500553736726997,
          3.5015888713921757,
          3.502619730893967,
          3.503646341618396,
          3.5046687297351915,
          3.5056869211999864,
          3.5067009417565007,
          3.5077108169386966,
          3.508716572072903,
          3.5097182322799227,
          3.510715822477105,
          3.5117093673803996,
          3.512698891506383,
          3.513684419174259,
          3.514665974507841,
          3.515643581437505,
          3.51661726370212,
          3.5175870448509574,
          3.5185529482455764,
          3.5195149970616884,
          3.520473214290996,
          3.5214276227430146,
          3.522378245046868,
          3.5233251036530664,
          3.5242682208352623,
          3.525207618691984,
          3.5261433191483524,
          3.5270753439577756,
          3.5280037147036207,
          3.5289284528008715,
          3.529849579497766,
          3.5307671158774108,
          3.5316810828593797,
          3.5325915012012947,
          3.5334983915003875,
          3.534401774195043,
          3.5353016695663237,
          3.5361980977394794,
          3.5370910786854384,
          3.5379806322222804,
          3.538866778016694,
          3.539749535585418,
          3.540628924296663,
          3.5415049633715237,
          3.542377671885367,
          3.5432470687692095,
          3.544113172811078,
          3.5449760026573576,
          3.5458355768141154,
          3.546691913648423
         ],
         "xaxis": "x",
         "y": [
          1,
          11.01803607214429,
          21.03607214428858,
          31.054108216432866,
          41.07214428857716,
          51.09018036072145,
          61.10821643286573,
          71.12625250501003,
          81.14428857715431,
          91.1623246492986,
          101.1803607214429,
          111.19839679358718,
          121.21643286573146,
          131.23446893787576,
          141.25250501002006,
          151.27054108216433,
          161.28857715430863,
          171.30661322645292,
          181.3246492985972,
          191.3426853707415,
          201.3607214428858,
          211.37875751503006,
          221.39679358717436,
          231.41482965931866,
          241.43286573146293,
          251.45090180360722,
          261.4689378757515,
          271.4869739478958,
          281.5050100200401,
          291.52304609218436,
          301.54108216432866,
          311.55911823647295,
          321.57715430861725,
          331.59519038076155,
          341.61322645290585,
          351.63126252505015,
          361.6492985971944,
          371.6673346693387,
          381.685370741483,
          391.7034068136273,
          401.7214428857716,
          411.7394789579159,
          421.7575150300601,
          431.7755511022044,
          441.7935871743487,
          451.811623246493,
          461.8296593186373,
          471.8476953907816,
          481.86573146292585,
          491.88376753507015,
          501.90180360721445,
          511.91983967935874,
          521.937875751503,
          531.9559118236473,
          541.9739478957916,
          551.9919839679359,
          562.0100200400802,
          572.0280561122245,
          582.0460921843687,
          592.0641282565131,
          602.0821643286573,
          612.1002004008017,
          622.1182364729459,
          632.1362725450903,
          642.1543086172345,
          652.1723446893787,
          662.1903807615231,
          672.2084168336673,
          682.2264529058117,
          692.2444889779559,
          702.2625250501003,
          712.2805611222445,
          722.2985971943888,
          732.3166332665331,
          742.3346693386774,
          752.3527054108217,
          762.370741482966,
          772.3887775551102,
          782.4068136272546,
          792.4248496993988,
          802.4428857715432,
          812.4609218436874,
          822.4789579158318,
          832.496993987976,
          842.5150300601202,
          852.5330661322646,
          862.5511022044088,
          872.5691382765532,
          882.5871743486974,
          892.6052104208418,
          902.623246492986,
          912.6412825651303,
          922.6593186372746,
          932.6773547094189,
          942.6953907815632,
          952.7134268537075,
          962.7314629258517,
          972.749498997996,
          982.7675350701403,
          992.7855711422847,
          1002.8036072144289,
          1012.8216432865732,
          1022.8396793587175,
          1032.8577154308618,
          1042.875751503006,
          1052.8937875751503,
          1062.9118236472946,
          1072.929859719439,
          1082.9478957915833,
          1092.9659318637275,
          1102.9839679358718,
          1113.002004008016,
          1123.0200400801605,
          1133.0380761523047,
          1143.056112224449,
          1153.0741482965932,
          1163.0921843687374,
          1173.110220440882,
          1183.1282565130261,
          1193.1462925851704,
          1203.1643286573146,
          1213.182364729459,
          1223.2004008016033,
          1233.2184368737476,
          1243.2364729458918,
          1253.254509018036,
          1263.2725450901805,
          1273.2905811623248,
          1283.308617234469,
          1293.3266533066133,
          1303.3446893787575,
          1313.362725450902,
          1323.3807615230462,
          1333.3987975951904,
          1343.4168336673347,
          1353.434869739479,
          1363.4529058116234,
          1373.4709418837676,
          1383.4889779559119,
          1393.5070140280561,
          1403.5250501002006,
          1413.5430861723448,
          1423.561122244489,
          1433.5791583166333,
          1443.5971943887776,
          1453.615230460922,
          1463.6332665330663,
          1473.6513026052105,
          1483.6693386773547,
          1493.687374749499,
          1503.7054108216435,
          1513.7234468937877,
          1523.741482965932,
          1533.7595190380762,
          1543.7775551102204,
          1553.795591182365,
          1563.8136272545091,
          1573.8316633266534,
          1583.8496993987976,
          1593.867735470942,
          1603.8857715430863,
          1613.9038076152306,
          1623.9218436873748,
          1633.939879759519,
          1643.9579158316635,
          1653.9759519038078,
          1663.993987975952,
          1674.0120240480962,
          1684.0300601202405,
          1694.048096192385,
          1704.0661322645292,
          1714.0841683366734,
          1724.1022044088177,
          1734.120240480962,
          1744.1382765531064,
          1754.1563126252506,
          1764.1743486973949,
          1774.192384769539,
          1784.2104208416836,
          1794.2284569138278,
          1804.246492985972,
          1814.2645290581163,
          1824.2825651302605,
          1834.300601202405,
          1844.3186372745492,
          1854.3366733466935,
          1864.3547094188377,
          1874.372745490982,
          1884.3907815631264,
          1894.4088176352707,
          1904.426853707415,
          1914.4448897795592,
          1924.4629258517034,
          1934.4809619238479,
          1944.498997995992,
          1954.5170340681364,
          1964.5350701402806,
          1974.553106212425,
          1984.5711422845693,
          1994.5891783567135,
          2004.6072144288578,
          2014.625250501002,
          2024.6432865731465,
          2034.6613226452907,
          2044.679358717435,
          2054.6973947895794,
          2064.7154308617237,
          2074.733466933868,
          2084.751503006012,
          2094.7695390781564,
          2104.7875751503007,
          2114.805611222445,
          2124.823647294589,
          2134.8416833667334,
          2144.859719438878,
          2154.8777555110223,
          2164.8957915831666,
          2174.913827655311,
          2184.931863727455,
          2194.9498997995993,
          2204.9679358717435,
          2214.9859719438878,
          2225.004008016032,
          2235.0220440881767,
          2245.040080160321,
          2255.058116232465,
          2265.0761523046094,
          2275.0941883767537,
          2285.112224448898,
          2295.130260521042,
          2305.1482965931864,
          2315.1663326653306,
          2325.184368737475,
          2335.2024048096196,
          2345.220440881764,
          2355.238476953908,
          2365.2565130260523,
          2375.2745490981965,
          2385.2925851703408,
          2395.310621242485,
          2405.3286573146293,
          2415.3466933867735,
          2425.364729458918,
          2435.3827655310624,
          2445.4008016032067,
          2455.418837675351,
          2465.436873747495,
          2475.4549098196394,
          2485.4729458917836,
          2495.490981963928,
          2505.509018036072,
          2515.5270541082164,
          2525.545090180361,
          2535.5631262525053,
          2545.5811623246495,
          2555.599198396794,
          2565.617234468938,
          2575.6352705410823,
          2585.6533066132265,
          2595.6713426853707,
          2605.689378757515,
          2615.7074148296597,
          2625.725450901804,
          2635.743486973948,
          2645.7615230460924,
          2655.7795591182366,
          2665.797595190381,
          2675.815631262525,
          2685.8336673346694,
          2695.8517034068136,
          2705.869739478958,
          2715.8877755511025,
          2725.905811623247,
          2735.923847695391,
          2745.9418837675353,
          2755.9599198396795,
          2765.9779559118238,
          2775.995991983968,
          2786.0140280561122,
          2796.0320641282565,
          2806.050100200401,
          2816.0681362725454,
          2826.0861723446897,
          2836.104208416834,
          2846.122244488978,
          2856.1402805611224,
          2866.1583166332666,
          2876.176352705411,
          2886.194388777555,
          2896.2124248496993,
          2906.230460921844,
          2916.2484969939883,
          2926.2665330661325,
          2936.2845691382768,
          2946.302605210421,
          2956.3206412825652,
          2966.3386773547095,
          2976.3567134268537,
          2986.374749498998,
          2996.3927855711427,
          3006.410821643287,
          3016.428857715431,
          3026.4468937875754,
          3036.4649298597196,
          3046.482965931864,
          3056.501002004008,
          3066.5190380761524,
          3076.5370741482966,
          3086.555110220441,
          3096.5731462925855,
          3106.59118236473,
          3116.609218436874,
          3126.6272545090183,
          3136.6452905811625,
          3146.6633266533067,
          3156.681362725451,
          3166.699398797595,
          3176.7174348697395,
          3186.735470941884,
          3196.7535070140284,
          3206.7715430861726,
          3216.789579158317,
          3226.807615230461,
          3236.8256513026054,
          3246.8436873747496,
          3256.861723446894,
          3266.879759519038,
          3276.8977955911823,
          3286.915831663327,
          3296.9338677354713,
          3306.9519038076155,
          3316.9699398797597,
          3326.987975951904,
          3337.0060120240482,
          3347.0240480961925,
          3357.0420841683367,
          3367.060120240481,
          3377.0781563126257,
          3387.09619238477,
          3397.114228456914,
          3407.1322645290584,
          3417.1503006012026,
          3427.168336673347,
          3437.186372745491,
          3447.2044088176353,
          3457.2224448897796,
          3467.240480961924,
          3477.2585170340685,
          3487.2765531062128,
          3497.294589178357,
          3507.3126252505012,
          3517.3306613226455,
          3527.3486973947897,
          3537.366733466934,
          3547.384769539078,
          3557.4028056112224,
          3567.420841683367,
          3577.4388777555114,
          3587.4569138276556,
          3597.4749498998,
          3607.492985971944,
          3617.5110220440883,
          3627.5290581162326,
          3637.547094188377,
          3647.565130260521,
          3657.5831663326653,
          3667.60120240481,
          3677.6192384769543,
          3687.6372745490985,
          3697.6553106212427,
          3707.673346693387,
          3717.691382765531,
          3727.7094188376755,
          3737.7274549098197,
          3747.745490981964,
          3757.7635270541086,
          3767.781563126253,
          3777.799599198397,
          3787.8176352705414,
          3797.8356713426856,
          3807.85370741483,
          3817.871743486974,
          3827.8897795591183,
          3837.9078156312626,
          3847.925851703407,
          3857.9438877755515,
          3867.9619238476957,
          3877.97995991984,
          3887.997995991984,
          3898.0160320641285,
          3908.0340681362727,
          3918.052104208417,
          3928.070140280561,
          3938.0881763527054,
          3948.10621242485,
          3958.1242484969944,
          3968.1422845691386,
          3978.160320641283,
          3988.178356713427,
          3998.1963927855713,
          4008.2144288577156,
          4018.23246492986,
          4028.250501002004,
          4038.2685370741488,
          4048.286573146293,
          4058.3046092184372,
          4068.3226452905815,
          4078.3406813627257,
          4088.35871743487,
          4098.376753507015,
          4108.394789579159,
          4118.412825651303,
          4128.430861723447,
          4138.448897795592,
          4148.466933867736,
          4158.48496993988,
          4168.503006012024,
          4178.521042084169,
          4188.539078156313,
          4198.557114228457,
          4208.575150300601,
          4218.593186372746,
          4228.61122244489,
          4238.629258517034,
          4248.647294589178,
          4258.6653306613225,
          4268.683366733467,
          4278.701402805612,
          4288.719438877756,
          4298.7374749499,
          4308.755511022045,
          4318.773547094189,
          4328.791583166333,
          4338.809619238477,
          4348.827655310622,
          4358.845691382766,
          4368.86372745491,
          4378.881763527054,
          4388.899799599199,
          4398.917835671343,
          4408.935871743487,
          4418.953907815631,
          4428.9719438877755,
          4438.98997995992,
          4449.008016032064,
          4459.026052104208,
          4469.044088176353,
          4479.062124248498,
          4489.080160320642,
          4499.098196392786,
          4509.11623246493,
          4519.134268537075,
          4529.152304609219,
          4539.170340681363,
          4549.188376753507,
          4559.206412825652,
          4569.224448897796,
          4579.24248496994,
          4589.260521042084,
          4599.2785571142285,
          4609.296593186373,
          4619.314629258517,
          4629.332665330661,
          4639.3507014028055,
          4649.36873747495,
          4659.386773547095,
          4669.404809619239,
          4679.422845691383,
          4689.440881763528,
          4699.458917835672,
          4709.476953907816,
          4719.49498997996,
          4729.513026052105,
          4739.531062124249,
          4749.549098196393,
          4759.567134268537,
          4769.5851703406815,
          4779.603206412826,
          4789.62124248497,
          4799.639278557114,
          4809.6573146292585,
          4819.675350701403,
          4829.693386773547,
          4839.711422845691,
          4849.729458917836,
          4859.747494989981,
          4869.765531062125,
          4879.783567134269,
          4889.801603206413,
          4899.819639278558,
          4909.837675350702,
          4919.855711422846,
          4929.87374749499,
          4939.891783567135,
          4949.909819639279,
          4959.927855711423,
          4969.945891783567,
          4979.9639278557115,
          4989.981963927856,
          5000
         ],
         "yaxis": "y"
        }
       ],
       "layout": {
        "legend": {
         "title": {
          "text": "variable"
         },
         "tracegroupgap": 0
        },
        "margin": {
         "t": 60
        },
        "template": {
         "data": {
          "bar": [
           {
            "error_x": {
             "color": "#2a3f5f"
            },
            "error_y": {
             "color": "#2a3f5f"
            },
            "marker": {
             "line": {
              "color": "#E5ECF6",
              "width": 0.5
             },
             "pattern": {
              "fillmode": "overlay",
              "size": 10,
              "solidity": 0.2
             }
            },
            "type": "bar"
           }
          ],
          "barpolar": [
           {
            "marker": {
             "line": {
              "color": "#E5ECF6",
              "width": 0.5
             },
             "pattern": {
              "fillmode": "overlay",
              "size": 10,
              "solidity": 0.2
             }
            },
            "type": "barpolar"
           }
          ],
          "carpet": [
           {
            "aaxis": {
             "endlinecolor": "#2a3f5f",
             "gridcolor": "white",
             "linecolor": "white",
             "minorgridcolor": "white",
             "startlinecolor": "#2a3f5f"
            },
            "baxis": {
             "endlinecolor": "#2a3f5f",
             "gridcolor": "white",
             "linecolor": "white",
             "minorgridcolor": "white",
             "startlinecolor": "#2a3f5f"
            },
            "type": "carpet"
           }
          ],
          "choropleth": [
           {
            "colorbar": {
             "outlinewidth": 0,
             "ticks": ""
            },
            "type": "choropleth"
           }
          ],
          "contour": [
           {
            "colorbar": {
             "outlinewidth": 0,
             "ticks": ""
            },
            "colorscale": [
             [
              0,
              "#0d0887"
             ],
             [
              0.1111111111111111,
              "#46039f"
             ],
             [
              0.2222222222222222,
              "#7201a8"
             ],
             [
              0.3333333333333333,
              "#9c179e"
             ],
             [
              0.4444444444444444,
              "#bd3786"
             ],
             [
              0.5555555555555556,
              "#d8576b"
             ],
             [
              0.6666666666666666,
              "#ed7953"
             ],
             [
              0.7777777777777778,
              "#fb9f3a"
             ],
             [
              0.8888888888888888,
              "#fdca26"
             ],
             [
              1,
              "#f0f921"
             ]
            ],
            "type": "contour"
           }
          ],
          "contourcarpet": [
           {
            "colorbar": {
             "outlinewidth": 0,
             "ticks": ""
            },
            "type": "contourcarpet"
           }
          ],
          "heatmap": [
           {
            "colorbar": {
             "outlinewidth": 0,
             "ticks": ""
            },
            "colorscale": [
             [
              0,
              "#0d0887"
             ],
             [
              0.1111111111111111,
              "#46039f"
             ],
             [
              0.2222222222222222,
              "#7201a8"
             ],
             [
              0.3333333333333333,
              "#9c179e"
             ],
             [
              0.4444444444444444,
              "#bd3786"
             ],
             [
              0.5555555555555556,
              "#d8576b"
             ],
             [
              0.6666666666666666,
              "#ed7953"
             ],
             [
              0.7777777777777778,
              "#fb9f3a"
             ],
             [
              0.8888888888888888,
              "#fdca26"
             ],
             [
              1,
              "#f0f921"
             ]
            ],
            "type": "heatmap"
           }
          ],
          "heatmapgl": [
           {
            "colorbar": {
             "outlinewidth": 0,
             "ticks": ""
            },
            "colorscale": [
             [
              0,
              "#0d0887"
             ],
             [
              0.1111111111111111,
              "#46039f"
             ],
             [
              0.2222222222222222,
              "#7201a8"
             ],
             [
              0.3333333333333333,
              "#9c179e"
             ],
             [
              0.4444444444444444,
              "#bd3786"
             ],
             [
              0.5555555555555556,
              "#d8576b"
             ],
             [
              0.6666666666666666,
              "#ed7953"
             ],
             [
              0.7777777777777778,
              "#fb9f3a"
             ],
             [
              0.8888888888888888,
              "#fdca26"
             ],
             [
              1,
              "#f0f921"
             ]
            ],
            "type": "heatmapgl"
           }
          ],
          "histogram": [
           {
            "marker": {
             "pattern": {
              "fillmode": "overlay",
              "size": 10,
              "solidity": 0.2
             }
            },
            "type": "histogram"
           }
          ],
          "histogram2d": [
           {
            "colorbar": {
             "outlinewidth": 0,
             "ticks": ""
            },
            "colorscale": [
             [
              0,
              "#0d0887"
             ],
             [
              0.1111111111111111,
              "#46039f"
             ],
             [
              0.2222222222222222,
              "#7201a8"
             ],
             [
              0.3333333333333333,
              "#9c179e"
             ],
             [
              0.4444444444444444,
              "#bd3786"
             ],
             [
              0.5555555555555556,
              "#d8576b"
             ],
             [
              0.6666666666666666,
              "#ed7953"
             ],
             [
              0.7777777777777778,
              "#fb9f3a"
             ],
             [
              0.8888888888888888,
              "#fdca26"
             ],
             [
              1,
              "#f0f921"
             ]
            ],
            "type": "histogram2d"
           }
          ],
          "histogram2dcontour": [
           {
            "colorbar": {
             "outlinewidth": 0,
             "ticks": ""
            },
            "colorscale": [
             [
              0,
              "#0d0887"
             ],
             [
              0.1111111111111111,
              "#46039f"
             ],
             [
              0.2222222222222222,
              "#7201a8"
             ],
             [
              0.3333333333333333,
              "#9c179e"
             ],
             [
              0.4444444444444444,
              "#bd3786"
             ],
             [
              0.5555555555555556,
              "#d8576b"
             ],
             [
              0.6666666666666666,
              "#ed7953"
             ],
             [
              0.7777777777777778,
              "#fb9f3a"
             ],
             [
              0.8888888888888888,
              "#fdca26"
             ],
             [
              1,
              "#f0f921"
             ]
            ],
            "type": "histogram2dcontour"
           }
          ],
          "mesh3d": [
           {
            "colorbar": {
             "outlinewidth": 0,
             "ticks": ""
            },
            "type": "mesh3d"
           }
          ],
          "parcoords": [
           {
            "line": {
             "colorbar": {
              "outlinewidth": 0,
              "ticks": ""
             }
            },
            "type": "parcoords"
           }
          ],
          "pie": [
           {
            "automargin": true,
            "type": "pie"
           }
          ],
          "scatter": [
           {
            "marker": {
             "colorbar": {
              "outlinewidth": 0,
              "ticks": ""
             }
            },
            "type": "scatter"
           }
          ],
          "scatter3d": [
           {
            "line": {
             "colorbar": {
              "outlinewidth": 0,
              "ticks": ""
             }
            },
            "marker": {
             "colorbar": {
              "outlinewidth": 0,
              "ticks": ""
             }
            },
            "type": "scatter3d"
           }
          ],
          "scattercarpet": [
           {
            "marker": {
             "colorbar": {
              "outlinewidth": 0,
              "ticks": ""
             }
            },
            "type": "scattercarpet"
           }
          ],
          "scattergeo": [
           {
            "marker": {
             "colorbar": {
              "outlinewidth": 0,
              "ticks": ""
             }
            },
            "type": "scattergeo"
           }
          ],
          "scattergl": [
           {
            "marker": {
             "colorbar": {
              "outlinewidth": 0,
              "ticks": ""
             }
            },
            "type": "scattergl"
           }
          ],
          "scattermapbox": [
           {
            "marker": {
             "colorbar": {
              "outlinewidth": 0,
              "ticks": ""
             }
            },
            "type": "scattermapbox"
           }
          ],
          "scatterpolar": [
           {
            "marker": {
             "colorbar": {
              "outlinewidth": 0,
              "ticks": ""
             }
            },
            "type": "scatterpolar"
           }
          ],
          "scatterpolargl": [
           {
            "marker": {
             "colorbar": {
              "outlinewidth": 0,
              "ticks": ""
             }
            },
            "type": "scatterpolargl"
           }
          ],
          "scatterternary": [
           {
            "marker": {
             "colorbar": {
              "outlinewidth": 0,
              "ticks": ""
             }
            },
            "type": "scatterternary"
           }
          ],
          "surface": [
           {
            "colorbar": {
             "outlinewidth": 0,
             "ticks": ""
            },
            "colorscale": [
             [
              0,
              "#0d0887"
             ],
             [
              0.1111111111111111,
              "#46039f"
             ],
             [
              0.2222222222222222,
              "#7201a8"
             ],
             [
              0.3333333333333333,
              "#9c179e"
             ],
             [
              0.4444444444444444,
              "#bd3786"
             ],
             [
              0.5555555555555556,
              "#d8576b"
             ],
             [
              0.6666666666666666,
              "#ed7953"
             ],
             [
              0.7777777777777778,
              "#fb9f3a"
             ],
             [
              0.8888888888888888,
              "#fdca26"
             ],
             [
              1,
              "#f0f921"
             ]
            ],
            "type": "surface"
           }
          ],
          "table": [
           {
            "cells": {
             "fill": {
              "color": "#EBF0F8"
             },
             "line": {
              "color": "white"
             }
            },
            "header": {
             "fill": {
              "color": "#C8D4E3"
             },
             "line": {
              "color": "white"
             }
            },
            "type": "table"
           }
          ]
         },
         "layout": {
          "annotationdefaults": {
           "arrowcolor": "#2a3f5f",
           "arrowhead": 0,
           "arrowwidth": 1
          },
          "autotypenumbers": "strict",
          "coloraxis": {
           "colorbar": {
            "outlinewidth": 0,
            "ticks": ""
           }
          },
          "colorscale": {
           "diverging": [
            [
             0,
             "#8e0152"
            ],
            [
             0.1,
             "#c51b7d"
            ],
            [
             0.2,
             "#de77ae"
            ],
            [
             0.3,
             "#f1b6da"
            ],
            [
             0.4,
             "#fde0ef"
            ],
            [
             0.5,
             "#f7f7f7"
            ],
            [
             0.6,
             "#e6f5d0"
            ],
            [
             0.7,
             "#b8e186"
            ],
            [
             0.8,
             "#7fbc41"
            ],
            [
             0.9,
             "#4d9221"
            ],
            [
             1,
             "#276419"
            ]
           ],
           "sequential": [
            [
             0,
             "#0d0887"
            ],
            [
             0.1111111111111111,
             "#46039f"
            ],
            [
             0.2222222222222222,
             "#7201a8"
            ],
            [
             0.3333333333333333,
             "#9c179e"
            ],
            [
             0.4444444444444444,
             "#bd3786"
            ],
            [
             0.5555555555555556,
             "#d8576b"
            ],
            [
             0.6666666666666666,
             "#ed7953"
            ],
            [
             0.7777777777777778,
             "#fb9f3a"
            ],
            [
             0.8888888888888888,
             "#fdca26"
            ],
            [
             1,
             "#f0f921"
            ]
           ],
           "sequentialminus": [
            [
             0,
             "#0d0887"
            ],
            [
             0.1111111111111111,
             "#46039f"
            ],
            [
             0.2222222222222222,
             "#7201a8"
            ],
            [
             0.3333333333333333,
             "#9c179e"
            ],
            [
             0.4444444444444444,
             "#bd3786"
            ],
            [
             0.5555555555555556,
             "#d8576b"
            ],
            [
             0.6666666666666666,
             "#ed7953"
            ],
            [
             0.7777777777777778,
             "#fb9f3a"
            ],
            [
             0.8888888888888888,
             "#fdca26"
            ],
            [
             1,
             "#f0f921"
            ]
           ]
          },
          "colorway": [
           "#636efa",
           "#EF553B",
           "#00cc96",
           "#ab63fa",
           "#FFA15A",
           "#19d3f3",
           "#FF6692",
           "#B6E880",
           "#FF97FF",
           "#FECB52"
          ],
          "font": {
           "color": "#2a3f5f"
          },
          "geo": {
           "bgcolor": "white",
           "lakecolor": "white",
           "landcolor": "#E5ECF6",
           "showlakes": true,
           "showland": true,
           "subunitcolor": "white"
          },
          "hoverlabel": {
           "align": "left"
          },
          "hovermode": "closest",
          "mapbox": {
           "style": "light"
          },
          "paper_bgcolor": "white",
          "plot_bgcolor": "#E5ECF6",
          "polar": {
           "angularaxis": {
            "gridcolor": "white",
            "linecolor": "white",
            "ticks": ""
           },
           "bgcolor": "#E5ECF6",
           "radialaxis": {
            "gridcolor": "white",
            "linecolor": "white",
            "ticks": ""
           }
          },
          "scene": {
           "xaxis": {
            "backgroundcolor": "#E5ECF6",
            "gridcolor": "white",
            "gridwidth": 2,
            "linecolor": "white",
            "showbackground": true,
            "ticks": "",
            "zerolinecolor": "white"
           },
           "yaxis": {
            "backgroundcolor": "#E5ECF6",
            "gridcolor": "white",
            "gridwidth": 2,
            "linecolor": "white",
            "showbackground": true,
            "ticks": "",
            "zerolinecolor": "white"
           },
           "zaxis": {
            "backgroundcolor": "#E5ECF6",
            "gridcolor": "white",
            "gridwidth": 2,
            "linecolor": "white",
            "showbackground": true,
            "ticks": "",
            "zerolinecolor": "white"
           }
          },
          "shapedefaults": {
           "line": {
            "color": "#2a3f5f"
           }
          },
          "ternary": {
           "aaxis": {
            "gridcolor": "white",
            "linecolor": "white",
            "ticks": ""
           },
           "baxis": {
            "gridcolor": "white",
            "linecolor": "white",
            "ticks": ""
           },
           "bgcolor": "#E5ECF6",
           "caxis": {
            "gridcolor": "white",
            "linecolor": "white",
            "ticks": ""
           }
          },
          "title": {
           "x": 0.05
          },
          "xaxis": {
           "automargin": true,
           "gridcolor": "white",
           "linecolor": "white",
           "ticks": "",
           "title": {
            "standoff": 15
           },
           "zerolinecolor": "white",
           "zerolinewidth": 2
          },
          "yaxis": {
           "automargin": true,
           "gridcolor": "white",
           "linecolor": "white",
           "ticks": "",
           "title": {
            "standoff": 15
           },
           "zerolinecolor": "white",
           "zerolinewidth": 2
          }
         }
        },
        "xaxis": {
         "anchor": "y",
         "domain": [
          0,
          1
         ],
         "title": {
          "text": "K"
         }
        },
        "yaxis": {
         "anchor": "x",
         "domain": [
          0,
          1
         ],
         "title": {
          "text": "Temperature (K)"
         }
        }
       }
      },
      "text/html": [
       "<div>                            <div id=\"1b291341-9dad-4f51-89de-2779b8f930a3\" class=\"plotly-graph-div\" style=\"height:525px; width:100%;\"></div>            <script type=\"text/javascript\">                require([\"plotly\"], function(Plotly) {                    window.PLOTLYENV=window.PLOTLYENV || {};                                    if (document.getElementById(\"1b291341-9dad-4f51-89de-2779b8f930a3\")) {                    Plotly.newPlot(                        \"1b291341-9dad-4f51-89de-2779b8f930a3\",                        [{\"hovertemplate\":\"variable=T<br>K=%{x}<br>Temperature (K)=%{y}<extra></extra>\",\"legendgroup\":\"T\",\"line\":{\"color\":\"#636efa\",\"dash\":\"solid\"},\"marker\":{\"symbol\":\"circle\"},\"mode\":\"lines\",\"name\":\"T\",\"orientation\":\"v\",\"showlegend\":true,\"x\":[2.62680080776167e-261,7.889546245956312e-24,1.5350371309975835e-12,1.5541530823700737e-8,1.7496109365811449e-6,0.000030893810943833,0.00021279426032038958,0.0008510618079512315,0.0024172230124974072,0.00545797786335345,0.010488248943464704,0.017916841181545146,0.02801430900664564,0.04091302303564988,0.056625519171575434,0.07507012745429123,0.09609706942478241,0.1195115728883794,0.14509271530385645,0.17260790632688813,0.20182348740753214,0.23251212710373234,0.2644577007449998,0.29745826687424937,0.33132764772884676,0.3658960154839138,0.4010097925379986,0.4365310967387609,0.4723369009622005,0.5083180289648401,0.5443780734941513,0.5804322958984356,0.6164065468524718,0.6522362336039755,0.6878653489937789,0.7232455703594047,0.7583354314969556,0.7930995675274262,0.8275080303415826,0.8615356709503976,0.8951615843017932,0.9283686117613896,0.9611428963661135,0.9934734860522904,1.0253519802680342,1.0567722156566801,1.0877299868111063,1.1182227984257047,1.1482496454985183,1.1778108185509735,1.206907731130667,1.2355427671405268,1.26371914579371,1.2914408022276043,1.318712282022614,1.34553864806313,1.3719253983504363,1.3978783935317356,1.423403793047505,1.4485079989224927,1.4731976063352508,1.4974793601985814,1.5213601170698139,1.544846811786704,1.5679464282928741,1.590665974177206,1.6130124585051435,1.6349928725673777,1.6566141732134947,1.6778832684754548,1.698807005218876,1.719392158589393,1.7396454230473943,1.7595734048074718,1.7791826155194042,1.7984794670456499,1.8174702672064242,1.8361612163777865,1.854558404840833,1.872667810791438,1.8904952989299875,1.9080466195595047,1.9253274081285017,1.9423431851619581,1.9590993565301242,1.9756012140104342,1.9918539361028196,2.0078625890631407,2.0236321281234217,2.0391673988710988,2.0544731387626336,2.069553978749662,2.084414444998325,2.0990589606846775,2.113491847851058,2.1277173293100566,2.1417395305843345,2.155562481871922,2.169190120027912,2.182626290554564,2.19587474959286,2.208939165909413,2.2218231228734537,2.234530120419322,2.2470635769904943,2.259426831461793,2.2716231450368576,2.2836557031184634,2.2955276171496215,2.3072419264237753,2.3188015998626894,2.3302095377609366,2.3414685734961025,2.352581475204051,2.3635509474187986,2.3743796326766757,2.3850701130846534,2.3956249118527793,2.406046494790828,2.416337271769355,2.4264995981454067,2.436535776153245,2.4464480562604805,2.4562386384900776,2.465909673708742,2.4754632648822117,2.484901468298049,2.4942262947565172,2.503439710730168,2.5125436394927703,2.5215399622182333,2.5304305190501792,2.5392171101428245,2.547901496673839,2.556485401829844,2.5649705117652153,2.573358476534847,2.5816509110015433,2.5898493957186597,2.597955477788668,2.6059706716982514,2.613896460130557,2.6217342947552296,2.629485596996812,2.637151758782103,2.644734143267075,2.6522340855438697,2.659652893328479,2.6669918476296086,2.6742522033992793,2.6814351901656694,2.6885420126487056,2.695573851358893,2.702531863179857,2.7094171819350747,2.716230918939236,2.7229741635346842,2.7296479836133596,2.736253426124673,2.742791517569703,2.749263264482122,2.755669653896228,2.762011653802459,2.768290213590748,2.774506264482076,2.780660719948555,2.7867544761223875,2.7927884121940028,2.798763390799705,2.804680258399119,2.810539845642735,2.816342967729842,2.8220904247571124,2.827783002058122,2.833421470534056,2.8390065869758607,2.844539094378072,2.850019722244581,2.8554491868865464,2.8608281917126845,2.8661574275121597,2.871437572730277,2.8766692937371814,2.8818532450897694,2.8869900697869952,2.892080399518762,2.8971248549085797,2.90212404575016,2.9070785712381215,2.9119890201929723,2.9168559712805173,2.921679993225862,2.9264616450221506,2.9312014761341865,2.935900026697078,2.9405578277100504,2.945175401225541,2.949753260533736,2.9542919103426315,2.958791846953787,2.963253558433851,2.9676775247819975,2.9720642180933603,2.976414102718613,2.98072763541974,2.985005265522161,2.989247435063262,2.993454578937453,2.9976271250378326,3.0017654943945575,3.005870101309998,3.0099413534907655,3.013979652176701,3.0179853922668918,3.021958962442805,3.0259007452886073,3.0298111174087468,3.0336904495428674,3.037539106678121,3.041357448158953,3.045145827794414,3.0489045939630746,3.052634089715592,3.056334652875,3.060006616134768,3.0636503071546954,3.067266048654693,3.0708541585065006,3.074414949823398,3.077948731047961,3.081455806037898,3.0849364741500387,3.088391030322494,3.091819765155051,3.095222964987843,3.0986009119783295,3.1019538841766363,3.105282155599291,3.1085859963013953,3.1118656724472693,3.11512144637961,3.1183535766871935,3.121562318271159,3.1247479224099126,3.127910636822674,3.131050705731711,3.1341683699232825,3.1372638668073245,3.140337430475913,3.1433892917605237,3.146419678288129,3.1494288145361407,3.1524169218862523,3.1553842186771788,3.1583309202563394,3.1612572390304976,3.164163384515388,3.1670495633843454,3.169915979515974,3.172762834040861,3.1755903253873665,3.1783986493265144,3.1811879990159895,3.183958565043284,3.1867105354679834,3.189444095863243,3.192159429356448,3.1948567166690856,3.1975361361558523,3.200197863842996,3.202842073465936,3.205468936506147,3.2080786222273487,3.2106712977110003,3.2132471278911257,3.2158062755884713,3.218348901544029,3.2208751644519196,3.2233852209916605,3.2258792258598348,3.228357331801161,3.230819689638994,3.2332664483052476,3.2356977548697783,3.2381137545692145,3.2405145908352617,3.2429004053224877,3.245271337935598,3.2476275268562156,3.249969108569173,3.252296217888326,3.254608987981904,3.256907550397402,3.2591920350860213,3.2614625704266786,3.2637192832495807,3.265962298859381,3.268191741057924,3.2704077321665883,3.2726103930482298,3.2747998431287435,3.2769762004182454,3.2791395815318767,3.2812901017102543,3.283427874839559,3.285553013471272,3.287665628841576,3.289765830890415,3.29185372828023,3.293929428414367,3.2959930374551756,3.298044660341794,3.300084400807631,3.302112361397553,3.3041286434847765,3.306133347287476,3.3081265718851127,3.3101084152344873,3.312078974185523,3.314038344496788,3.3159866208507487,3.317923896868786,3.3198502651259436,3.321765817165447,3.3236706435129735,3.32556483369069,3.327448476231063,3.329321658690437,3.3311844676623954,3.3330369887908997,3.3348793067832223,3.3367115054226577,3.3385336675810393,3.34034587523105,3.342148209458333,3.3439407504734104,3.3457235776234118,3.347496769403612,3.34926040346879,3.351014556644401,3.352759304937581,3.3544947235479654,3.35622088687835,3.35793786854517,3.3596457413888303,3.3613445774838597,3.3630344481489183,3.364715423956641,3.366387574743331,3.368050969618506,3.3697056769742915,3.371351764494673,3.3729892991646064,3.374618347278986,3.3762389744514745,3.377851245623206,3.3794552250713448,3.381050976417525,3.3826385626361555,3.3842180460625997,3.38578948840124,3.387352950733406,3.388908493525201,3.3904561766351984,3.3919960593220266,3.393528200251848,3.395052657505714,3.396569488586823,3.398078750427664,3.399580499397057,3.40107479130709,3.4025616814199537,3.404041224454678,3.4055134745937625,3.4069784854897263,3.4084363102715427,3.4098870015509943,3.4113306114289346,3.4127671915014526,3.414196792865953,3.4156194661271533,3.4170352614029835,3.418444228330415,3.4198464160711954,3.421241873317505,3.4226306482975377,3.4240127887809955,3.42538834208451,3.4267573550769863,3.42811987418487,3.4294759453973436,3.4308256142714466,3.4321689259371255,3.433505925102215,3.434836656057347,3.436161162680792,3.437479488443238,3.4387916764124924,3.440097769258134,3.4413978092560877,3.442691838293145,3.443979897871417,3.4452620291127305,3.4465382727629605,3.4478086691963115,3.4490732584195256,3.450332080076052,3.4515851734501455,3.452832577470917,3.45407433071633,3.455310471417137,3.4565410374607706,3.4577660663951764,3.4589855954326025,3.4601996614533292,3.4614083010093557,3.4626115503280346,3.4638094453156616,3.465002021561016,3.4661893143388514,3.4673713586133466,3.4685481890415075,3.4697198399765248,3.470886345471089,3.4720477392806597,3.4732040548666956,3.4743553253998436,3.4755015837630796,3.476642862554814,3.47777919409196,3.4789106104129557,3.480037143280753,3.481158824185763,3.4822756843487683,3.4833877547237964,3.4844950660009557,3.485597648609238,3.4866955327192812,3.4877887482461016,3.488877324851789,3.4899612919481684,3.491040678699429,3.4921155140247193,3.4931858266007096,3.4942516448641223,3.4953129970142327,3.496369911015339,3.4974224145991917,3.498470535267413,3.499514300293863,3.500553736726997,3.5015888713921757,3.502619730893967,3.503646341618396,3.5046687297351915,3.5056869211999864,3.5067009417565007,3.5077108169386966,3.508716572072903,3.5097182322799227,3.510715822477105,3.5117093673803996,3.512698891506383,3.513684419174259,3.514665974507841,3.515643581437505,3.51661726370212,3.5175870448509574,3.5185529482455764,3.5195149970616884,3.520473214290996,3.5214276227430146,3.522378245046868,3.5233251036530664,3.5242682208352623,3.525207618691984,3.5261433191483524,3.5270753439577756,3.5280037147036207,3.5289284528008715,3.529849579497766,3.5307671158774108,3.5316810828593797,3.5325915012012947,3.5334983915003875,3.534401774195043,3.5353016695663237,3.5361980977394794,3.5370910786854384,3.5379806322222804,3.538866778016694,3.539749535585418,3.540628924296663,3.5415049633715237,3.542377671885367,3.5432470687692095,3.544113172811078,3.5449760026573576,3.5458355768141154,3.546691913648423],\"xaxis\":\"x\",\"y\":[1.0,11.01803607214429,21.03607214428858,31.054108216432866,41.07214428857716,51.09018036072145,61.10821643286573,71.12625250501003,81.14428857715431,91.1623246492986,101.1803607214429,111.19839679358718,121.21643286573146,131.23446893787576,141.25250501002006,151.27054108216433,161.28857715430863,171.30661322645292,181.3246492985972,191.3426853707415,201.3607214428858,211.37875751503006,221.39679358717436,231.41482965931866,241.43286573146293,251.45090180360722,261.4689378757515,271.4869739478958,281.5050100200401,291.52304609218436,301.54108216432866,311.55911823647295,321.57715430861725,331.59519038076155,341.61322645290585,351.63126252505015,361.6492985971944,371.6673346693387,381.685370741483,391.7034068136273,401.7214428857716,411.7394789579159,421.7575150300601,431.7755511022044,441.7935871743487,451.811623246493,461.8296593186373,471.8476953907816,481.86573146292585,491.88376753507015,501.90180360721445,511.91983967935874,521.937875751503,531.9559118236473,541.9739478957916,551.9919839679359,562.0100200400802,572.0280561122245,582.0460921843687,592.0641282565131,602.0821643286573,612.1002004008017,622.1182364729459,632.1362725450903,642.1543086172345,652.1723446893787,662.1903807615231,672.2084168336673,682.2264529058117,692.2444889779559,702.2625250501003,712.2805611222445,722.2985971943888,732.3166332665331,742.3346693386774,752.3527054108217,762.370741482966,772.3887775551102,782.4068136272546,792.4248496993988,802.4428857715432,812.4609218436874,822.4789579158318,832.496993987976,842.5150300601202,852.5330661322646,862.5511022044088,872.5691382765532,882.5871743486974,892.6052104208418,902.623246492986,912.6412825651303,922.6593186372746,932.6773547094189,942.6953907815632,952.7134268537075,962.7314629258517,972.749498997996,982.7675350701403,992.7855711422847,1002.8036072144289,1012.8216432865732,1022.8396793587175,1032.8577154308618,1042.875751503006,1052.8937875751503,1062.9118236472946,1072.929859719439,1082.9478957915833,1092.9659318637275,1102.9839679358718,1113.002004008016,1123.0200400801605,1133.0380761523047,1143.056112224449,1153.0741482965932,1163.0921843687374,1173.110220440882,1183.1282565130261,1193.1462925851704,1203.1643286573146,1213.182364729459,1223.2004008016033,1233.2184368737476,1243.2364729458918,1253.254509018036,1263.2725450901805,1273.2905811623248,1283.308617234469,1293.3266533066133,1303.3446893787575,1313.362725450902,1323.3807615230462,1333.3987975951904,1343.4168336673347,1353.434869739479,1363.4529058116234,1373.4709418837676,1383.4889779559119,1393.5070140280561,1403.5250501002006,1413.5430861723448,1423.561122244489,1433.5791583166333,1443.5971943887776,1453.615230460922,1463.6332665330663,1473.6513026052105,1483.6693386773547,1493.687374749499,1503.7054108216435,1513.7234468937877,1523.741482965932,1533.7595190380762,1543.7775551102204,1553.795591182365,1563.8136272545091,1573.8316633266534,1583.8496993987976,1593.867735470942,1603.8857715430863,1613.9038076152306,1623.9218436873748,1633.939879759519,1643.9579158316635,1653.9759519038078,1663.993987975952,1674.0120240480962,1684.0300601202405,1694.048096192385,1704.0661322645292,1714.0841683366734,1724.1022044088177,1734.120240480962,1744.1382765531064,1754.1563126252506,1764.1743486973949,1774.192384769539,1784.2104208416836,1794.2284569138278,1804.246492985972,1814.2645290581163,1824.2825651302605,1834.300601202405,1844.3186372745492,1854.3366733466935,1864.3547094188377,1874.372745490982,1884.3907815631264,1894.4088176352707,1904.426853707415,1914.4448897795592,1924.4629258517034,1934.4809619238479,1944.498997995992,1954.5170340681364,1964.5350701402806,1974.553106212425,1984.5711422845693,1994.5891783567135,2004.6072144288578,2014.625250501002,2024.6432865731465,2034.6613226452907,2044.679358717435,2054.6973947895794,2064.7154308617237,2074.733466933868,2084.751503006012,2094.7695390781564,2104.7875751503007,2114.805611222445,2124.823647294589,2134.8416833667334,2144.859719438878,2154.8777555110223,2164.8957915831666,2174.913827655311,2184.931863727455,2194.9498997995993,2204.9679358717435,2214.9859719438878,2225.004008016032,2235.0220440881767,2245.040080160321,2255.058116232465,2265.0761523046094,2275.0941883767537,2285.112224448898,2295.130260521042,2305.1482965931864,2315.1663326653306,2325.184368737475,2335.2024048096196,2345.220440881764,2355.238476953908,2365.2565130260523,2375.2745490981965,2385.2925851703408,2395.310621242485,2405.3286573146293,2415.3466933867735,2425.364729458918,2435.3827655310624,2445.4008016032067,2455.418837675351,2465.436873747495,2475.4549098196394,2485.4729458917836,2495.490981963928,2505.509018036072,2515.5270541082164,2525.545090180361,2535.5631262525053,2545.5811623246495,2555.599198396794,2565.617234468938,2575.6352705410823,2585.6533066132265,2595.6713426853707,2605.689378757515,2615.7074148296597,2625.725450901804,2635.743486973948,2645.7615230460924,2655.7795591182366,2665.797595190381,2675.815631262525,2685.8336673346694,2695.8517034068136,2705.869739478958,2715.8877755511025,2725.905811623247,2735.923847695391,2745.9418837675353,2755.9599198396795,2765.9779559118238,2775.995991983968,2786.0140280561122,2796.0320641282565,2806.050100200401,2816.0681362725454,2826.0861723446897,2836.104208416834,2846.122244488978,2856.1402805611224,2866.1583166332666,2876.176352705411,2886.194388777555,2896.2124248496993,2906.230460921844,2916.2484969939883,2926.2665330661325,2936.2845691382768,2946.302605210421,2956.3206412825652,2966.3386773547095,2976.3567134268537,2986.374749498998,2996.3927855711427,3006.410821643287,3016.428857715431,3026.4468937875754,3036.4649298597196,3046.482965931864,3056.501002004008,3066.5190380761524,3076.5370741482966,3086.555110220441,3096.5731462925855,3106.59118236473,3116.609218436874,3126.6272545090183,3136.6452905811625,3146.6633266533067,3156.681362725451,3166.699398797595,3176.7174348697395,3186.735470941884,3196.7535070140284,3206.7715430861726,3216.789579158317,3226.807615230461,3236.8256513026054,3246.8436873747496,3256.861723446894,3266.879759519038,3276.8977955911823,3286.915831663327,3296.9338677354713,3306.9519038076155,3316.9699398797597,3326.987975951904,3337.0060120240482,3347.0240480961925,3357.0420841683367,3367.060120240481,3377.0781563126257,3387.09619238477,3397.114228456914,3407.1322645290584,3417.1503006012026,3427.168336673347,3437.186372745491,3447.2044088176353,3457.2224448897796,3467.240480961924,3477.2585170340685,3487.2765531062128,3497.294589178357,3507.3126252505012,3517.3306613226455,3527.3486973947897,3537.366733466934,3547.384769539078,3557.4028056112224,3567.420841683367,3577.4388777555114,3587.4569138276556,3597.4749498998,3607.492985971944,3617.5110220440883,3627.5290581162326,3637.547094188377,3647.565130260521,3657.5831663326653,3667.60120240481,3677.6192384769543,3687.6372745490985,3697.6553106212427,3707.673346693387,3717.691382765531,3727.7094188376755,3737.7274549098197,3747.745490981964,3757.7635270541086,3767.781563126253,3777.799599198397,3787.8176352705414,3797.8356713426856,3807.85370741483,3817.871743486974,3827.8897795591183,3837.9078156312626,3847.925851703407,3857.9438877755515,3867.9619238476957,3877.97995991984,3887.997995991984,3898.0160320641285,3908.0340681362727,3918.052104208417,3928.070140280561,3938.0881763527054,3948.10621242485,3958.1242484969944,3968.1422845691386,3978.160320641283,3988.178356713427,3998.1963927855713,4008.2144288577156,4018.23246492986,4028.250501002004,4038.2685370741488,4048.286573146293,4058.3046092184372,4068.3226452905815,4078.3406813627257,4088.35871743487,4098.376753507015,4108.394789579159,4118.412825651303,4128.430861723447,4138.448897795592,4148.466933867736,4158.48496993988,4168.503006012024,4178.521042084169,4188.539078156313,4198.557114228457,4208.575150300601,4218.593186372746,4228.61122244489,4238.629258517034,4248.647294589178,4258.6653306613225,4268.683366733467,4278.701402805612,4288.719438877756,4298.7374749499,4308.755511022045,4318.773547094189,4328.791583166333,4338.809619238477,4348.827655310622,4358.845691382766,4368.86372745491,4378.881763527054,4388.899799599199,4398.917835671343,4408.935871743487,4418.953907815631,4428.9719438877755,4438.98997995992,4449.008016032064,4459.026052104208,4469.044088176353,4479.062124248498,4489.080160320642,4499.098196392786,4509.11623246493,4519.134268537075,4529.152304609219,4539.170340681363,4549.188376753507,4559.206412825652,4569.224448897796,4579.24248496994,4589.260521042084,4599.2785571142285,4609.296593186373,4619.314629258517,4629.332665330661,4639.3507014028055,4649.36873747495,4659.386773547095,4669.404809619239,4679.422845691383,4689.440881763528,4699.458917835672,4709.476953907816,4719.49498997996,4729.513026052105,4739.531062124249,4749.549098196393,4759.567134268537,4769.5851703406815,4779.603206412826,4789.62124248497,4799.639278557114,4809.6573146292585,4819.675350701403,4829.693386773547,4839.711422845691,4849.729458917836,4859.747494989981,4869.765531062125,4879.783567134269,4889.801603206413,4899.819639278558,4909.837675350702,4919.855711422846,4929.87374749499,4939.891783567135,4949.909819639279,4959.927855711423,4969.945891783567,4979.9639278557115,4989.981963927856,5000.0],\"yaxis\":\"y\",\"type\":\"scatter\"}],                        {\"template\":{\"data\":{\"bar\":[{\"error_x\":{\"color\":\"#2a3f5f\"},\"error_y\":{\"color\":\"#2a3f5f\"},\"marker\":{\"line\":{\"color\":\"#E5ECF6\",\"width\":0.5},\"pattern\":{\"fillmode\":\"overlay\",\"size\":10,\"solidity\":0.2}},\"type\":\"bar\"}],\"barpolar\":[{\"marker\":{\"line\":{\"color\":\"#E5ECF6\",\"width\":0.5},\"pattern\":{\"fillmode\":\"overlay\",\"size\":10,\"solidity\":0.2}},\"type\":\"barpolar\"}],\"carpet\":[{\"aaxis\":{\"endlinecolor\":\"#2a3f5f\",\"gridcolor\":\"white\",\"linecolor\":\"white\",\"minorgridcolor\":\"white\",\"startlinecolor\":\"#2a3f5f\"},\"baxis\":{\"endlinecolor\":\"#2a3f5f\",\"gridcolor\":\"white\",\"linecolor\":\"white\",\"minorgridcolor\":\"white\",\"startlinecolor\":\"#2a3f5f\"},\"type\":\"carpet\"}],\"choropleth\":[{\"colorbar\":{\"outlinewidth\":0,\"ticks\":\"\"},\"type\":\"choropleth\"}],\"contour\":[{\"colorbar\":{\"outlinewidth\":0,\"ticks\":\"\"},\"colorscale\":[[0.0,\"#0d0887\"],[0.1111111111111111,\"#46039f\"],[0.2222222222222222,\"#7201a8\"],[0.3333333333333333,\"#9c179e\"],[0.4444444444444444,\"#bd3786\"],[0.5555555555555556,\"#d8576b\"],[0.6666666666666666,\"#ed7953\"],[0.7777777777777778,\"#fb9f3a\"],[0.8888888888888888,\"#fdca26\"],[1.0,\"#f0f921\"]],\"type\":\"contour\"}],\"contourcarpet\":[{\"colorbar\":{\"outlinewidth\":0,\"ticks\":\"\"},\"type\":\"contourcarpet\"}],\"heatmap\":[{\"colorbar\":{\"outlinewidth\":0,\"ticks\":\"\"},\"colorscale\":[[0.0,\"#0d0887\"],[0.1111111111111111,\"#46039f\"],[0.2222222222222222,\"#7201a8\"],[0.3333333333333333,\"#9c179e\"],[0.4444444444444444,\"#bd3786\"],[0.5555555555555556,\"#d8576b\"],[0.6666666666666666,\"#ed7953\"],[0.7777777777777778,\"#fb9f3a\"],[0.8888888888888888,\"#fdca26\"],[1.0,\"#f0f921\"]],\"type\":\"heatmap\"}],\"heatmapgl\":[{\"colorbar\":{\"outlinewidth\":0,\"ticks\":\"\"},\"colorscale\":[[0.0,\"#0d0887\"],[0.1111111111111111,\"#46039f\"],[0.2222222222222222,\"#7201a8\"],[0.3333333333333333,\"#9c179e\"],[0.4444444444444444,\"#bd3786\"],[0.5555555555555556,\"#d8576b\"],[0.6666666666666666,\"#ed7953\"],[0.7777777777777778,\"#fb9f3a\"],[0.8888888888888888,\"#fdca26\"],[1.0,\"#f0f921\"]],\"type\":\"heatmapgl\"}],\"histogram\":[{\"marker\":{\"pattern\":{\"fillmode\":\"overlay\",\"size\":10,\"solidity\":0.2}},\"type\":\"histogram\"}],\"histogram2d\":[{\"colorbar\":{\"outlinewidth\":0,\"ticks\":\"\"},\"colorscale\":[[0.0,\"#0d0887\"],[0.1111111111111111,\"#46039f\"],[0.2222222222222222,\"#7201a8\"],[0.3333333333333333,\"#9c179e\"],[0.4444444444444444,\"#bd3786\"],[0.5555555555555556,\"#d8576b\"],[0.6666666666666666,\"#ed7953\"],[0.7777777777777778,\"#fb9f3a\"],[0.8888888888888888,\"#fdca26\"],[1.0,\"#f0f921\"]],\"type\":\"histogram2d\"}],\"histogram2dcontour\":[{\"colorbar\":{\"outlinewidth\":0,\"ticks\":\"\"},\"colorscale\":[[0.0,\"#0d0887\"],[0.1111111111111111,\"#46039f\"],[0.2222222222222222,\"#7201a8\"],[0.3333333333333333,\"#9c179e\"],[0.4444444444444444,\"#bd3786\"],[0.5555555555555556,\"#d8576b\"],[0.6666666666666666,\"#ed7953\"],[0.7777777777777778,\"#fb9f3a\"],[0.8888888888888888,\"#fdca26\"],[1.0,\"#f0f921\"]],\"type\":\"histogram2dcontour\"}],\"mesh3d\":[{\"colorbar\":{\"outlinewidth\":0,\"ticks\":\"\"},\"type\":\"mesh3d\"}],\"parcoords\":[{\"line\":{\"colorbar\":{\"outlinewidth\":0,\"ticks\":\"\"}},\"type\":\"parcoords\"}],\"pie\":[{\"automargin\":true,\"type\":\"pie\"}],\"scatter\":[{\"marker\":{\"colorbar\":{\"outlinewidth\":0,\"ticks\":\"\"}},\"type\":\"scatter\"}],\"scatter3d\":[{\"line\":{\"colorbar\":{\"outlinewidth\":0,\"ticks\":\"\"}},\"marker\":{\"colorbar\":{\"outlinewidth\":0,\"ticks\":\"\"}},\"type\":\"scatter3d\"}],\"scattercarpet\":[{\"marker\":{\"colorbar\":{\"outlinewidth\":0,\"ticks\":\"\"}},\"type\":\"scattercarpet\"}],\"scattergeo\":[{\"marker\":{\"colorbar\":{\"outlinewidth\":0,\"ticks\":\"\"}},\"type\":\"scattergeo\"}],\"scattergl\":[{\"marker\":{\"colorbar\":{\"outlinewidth\":0,\"ticks\":\"\"}},\"type\":\"scattergl\"}],\"scattermapbox\":[{\"marker\":{\"colorbar\":{\"outlinewidth\":0,\"ticks\":\"\"}},\"type\":\"scattermapbox\"}],\"scatterpolar\":[{\"marker\":{\"colorbar\":{\"outlinewidth\":0,\"ticks\":\"\"}},\"type\":\"scatterpolar\"}],\"scatterpolargl\":[{\"marker\":{\"colorbar\":{\"outlinewidth\":0,\"ticks\":\"\"}},\"type\":\"scatterpolargl\"}],\"scatterternary\":[{\"marker\":{\"colorbar\":{\"outlinewidth\":0,\"ticks\":\"\"}},\"type\":\"scatterternary\"}],\"surface\":[{\"colorbar\":{\"outlinewidth\":0,\"ticks\":\"\"},\"colorscale\":[[0.0,\"#0d0887\"],[0.1111111111111111,\"#46039f\"],[0.2222222222222222,\"#7201a8\"],[0.3333333333333333,\"#9c179e\"],[0.4444444444444444,\"#bd3786\"],[0.5555555555555556,\"#d8576b\"],[0.6666666666666666,\"#ed7953\"],[0.7777777777777778,\"#fb9f3a\"],[0.8888888888888888,\"#fdca26\"],[1.0,\"#f0f921\"]],\"type\":\"surface\"}],\"table\":[{\"cells\":{\"fill\":{\"color\":\"#EBF0F8\"},\"line\":{\"color\":\"white\"}},\"header\":{\"fill\":{\"color\":\"#C8D4E3\"},\"line\":{\"color\":\"white\"}},\"type\":\"table\"}]},\"layout\":{\"annotationdefaults\":{\"arrowcolor\":\"#2a3f5f\",\"arrowhead\":0,\"arrowwidth\":1},\"autotypenumbers\":\"strict\",\"coloraxis\":{\"colorbar\":{\"outlinewidth\":0,\"ticks\":\"\"}},\"colorscale\":{\"diverging\":[[0,\"#8e0152\"],[0.1,\"#c51b7d\"],[0.2,\"#de77ae\"],[0.3,\"#f1b6da\"],[0.4,\"#fde0ef\"],[0.5,\"#f7f7f7\"],[0.6,\"#e6f5d0\"],[0.7,\"#b8e186\"],[0.8,\"#7fbc41\"],[0.9,\"#4d9221\"],[1,\"#276419\"]],\"sequential\":[[0.0,\"#0d0887\"],[0.1111111111111111,\"#46039f\"],[0.2222222222222222,\"#7201a8\"],[0.3333333333333333,\"#9c179e\"],[0.4444444444444444,\"#bd3786\"],[0.5555555555555556,\"#d8576b\"],[0.6666666666666666,\"#ed7953\"],[0.7777777777777778,\"#fb9f3a\"],[0.8888888888888888,\"#fdca26\"],[1.0,\"#f0f921\"]],\"sequentialminus\":[[0.0,\"#0d0887\"],[0.1111111111111111,\"#46039f\"],[0.2222222222222222,\"#7201a8\"],[0.3333333333333333,\"#9c179e\"],[0.4444444444444444,\"#bd3786\"],[0.5555555555555556,\"#d8576b\"],[0.6666666666666666,\"#ed7953\"],[0.7777777777777778,\"#fb9f3a\"],[0.8888888888888888,\"#fdca26\"],[1.0,\"#f0f921\"]]},\"colorway\":[\"#636efa\",\"#EF553B\",\"#00cc96\",\"#ab63fa\",\"#FFA15A\",\"#19d3f3\",\"#FF6692\",\"#B6E880\",\"#FF97FF\",\"#FECB52\"],\"font\":{\"color\":\"#2a3f5f\"},\"geo\":{\"bgcolor\":\"white\",\"lakecolor\":\"white\",\"landcolor\":\"#E5ECF6\",\"showlakes\":true,\"showland\":true,\"subunitcolor\":\"white\"},\"hoverlabel\":{\"align\":\"left\"},\"hovermode\":\"closest\",\"mapbox\":{\"style\":\"light\"},\"paper_bgcolor\":\"white\",\"plot_bgcolor\":\"#E5ECF6\",\"polar\":{\"angularaxis\":{\"gridcolor\":\"white\",\"linecolor\":\"white\",\"ticks\":\"\"},\"bgcolor\":\"#E5ECF6\",\"radialaxis\":{\"gridcolor\":\"white\",\"linecolor\":\"white\",\"ticks\":\"\"}},\"scene\":{\"xaxis\":{\"backgroundcolor\":\"#E5ECF6\",\"gridcolor\":\"white\",\"gridwidth\":2,\"linecolor\":\"white\",\"showbackground\":true,\"ticks\":\"\",\"zerolinecolor\":\"white\"},\"yaxis\":{\"backgroundcolor\":\"#E5ECF6\",\"gridcolor\":\"white\",\"gridwidth\":2,\"linecolor\":\"white\",\"showbackground\":true,\"ticks\":\"\",\"zerolinecolor\":\"white\"},\"zaxis\":{\"backgroundcolor\":\"#E5ECF6\",\"gridcolor\":\"white\",\"gridwidth\":2,\"linecolor\":\"white\",\"showbackground\":true,\"ticks\":\"\",\"zerolinecolor\":\"white\"}},\"shapedefaults\":{\"line\":{\"color\":\"#2a3f5f\"}},\"ternary\":{\"aaxis\":{\"gridcolor\":\"white\",\"linecolor\":\"white\",\"ticks\":\"\"},\"baxis\":{\"gridcolor\":\"white\",\"linecolor\":\"white\",\"ticks\":\"\"},\"bgcolor\":\"#E5ECF6\",\"caxis\":{\"gridcolor\":\"white\",\"linecolor\":\"white\",\"ticks\":\"\"}},\"title\":{\"x\":0.05},\"xaxis\":{\"automargin\":true,\"gridcolor\":\"white\",\"linecolor\":\"white\",\"ticks\":\"\",\"title\":{\"standoff\":15},\"zerolinecolor\":\"white\",\"zerolinewidth\":2},\"yaxis\":{\"automargin\":true,\"gridcolor\":\"white\",\"linecolor\":\"white\",\"ticks\":\"\",\"title\":{\"standoff\":15},\"zerolinecolor\":\"white\",\"zerolinewidth\":2}}},\"xaxis\":{\"anchor\":\"y\",\"domain\":[0.0,1.0],\"title\":{\"text\":\"K\"}},\"yaxis\":{\"anchor\":\"x\",\"domain\":[0.0,1.0],\"title\":{\"text\":\"Temperature (K)\"}},\"legend\":{\"title\":{\"text\":\"variable\"},\"tracegroupgap\":0},\"margin\":{\"t\":60}},                        {\"responsive\": true}                    ).then(function(){\n",
       "                            \n",
       "var gd = document.getElementById('1b291341-9dad-4f51-89de-2779b8f930a3');\n",
       "var x = new MutationObserver(function (mutations, observer) {{\n",
       "        var display = window.getComputedStyle(gd).display;\n",
       "        if (!display || display === 'none') {{\n",
       "            console.log([gd, 'removed!']);\n",
       "            Plotly.purge(gd);\n",
       "            observer.disconnect();\n",
       "        }}\n",
       "}});\n",
       "\n",
       "// Listen for the removal of the full notebook cells\n",
       "var notebookContainer = gd.closest('#notebook-container');\n",
       "if (notebookContainer) {{\n",
       "    x.observe(notebookContainer, {childList: true});\n",
       "}}\n",
       "\n",
       "// Listen for the clearing of the current output cell\n",
       "var outputEl = gd.closest('.output');\n",
       "if (outputEl) {{\n",
       "    x.observe(outputEl, {childList: true});\n",
       "}}\n",
       "\n",
       "                        })                };                });            </script>        </div>"
      ]
     },
     "metadata": {},
     "output_type": "display_data"
    }
   ],
   "source": [
    "px.line(df, x='K',\n",
    "        # Try switching the y axis list to plot the right columns\n",
    "        y=['T'],\n",
    "        # Plotly labels are changed in a dictionary\n",
    "        labels={'value': \"Temperature (K)\", # value is the default name given to the y-axis when multiple things are plotted\n",
    "                'T': \"Equilibium constant (K) \"\n",
    "               }\n",
    "       )"
   ]
  },
  {
   "cell_type": "markdown",
   "id": "d19ba233",
   "metadata": {},
   "source": [
    "As the temperature of the systems increased, so did the equailibtrium constant. There will be more product formation (higher population in open energy levels than collapsed. K = [open]/[collapsed]. The graph is an exponetial function, nonlinear, slope increasing with temperature.   "
   ]
  },
  {
   "cell_type": "code",
   "execution_count": 28,
   "id": "7b783c73",
   "metadata": {},
   "outputs": [
    {
     "data": {
      "text/html": [
       "<div>\n",
       "<style scoped>\n",
       "    .dataframe tbody tr th:only-of-type {\n",
       "        vertical-align: middle;\n",
       "    }\n",
       "\n",
       "    .dataframe tbody tr th {\n",
       "        vertical-align: top;\n",
       "    }\n",
       "\n",
       "    .dataframe thead th {\n",
       "        text-align: right;\n",
       "    }\n",
       "</style>\n",
       "<table border=\"1\" class=\"dataframe\">\n",
       "  <thead>\n",
       "    <tr style=\"text-align: right;\">\n",
       "      <th></th>\n",
       "      <th>E</th>\n",
       "      <th>T</th>\n",
       "      <th>R</th>\n",
       "      <th>wC</th>\n",
       "      <th>wO</th>\n",
       "      <th>q</th>\n",
       "      <th>pC</th>\n",
       "      <th>pO</th>\n",
       "      <th>K</th>\n",
       "      <th>avgE</th>\n",
       "      <th>temp</th>\n",
       "    </tr>\n",
       "  </thead>\n",
       "  <tbody>\n",
       "    <tr>\n",
       "      <th>0</th>\n",
       "      <td>5</td>\n",
       "      <td>1.000000</td>\n",
       "      <td>0.008314</td>\n",
       "      <td>1</td>\n",
       "      <td>2.626801e-261</td>\n",
       "      <td>1.000000</td>\n",
       "      <td>1.000000</td>\n",
       "      <td>2.626801e-261</td>\n",
       "      <td>2.626801e-261</td>\n",
       "      <td>1.313400e-260</td>\n",
       "      <td>1.000000</td>\n",
       "    </tr>\n",
       "    <tr>\n",
       "      <th>1</th>\n",
       "      <td>5</td>\n",
       "      <td>6.008016</td>\n",
       "      <td>0.008314</td>\n",
       "      <td>1</td>\n",
       "      <td>1.348033e-43</td>\n",
       "      <td>1.000000</td>\n",
       "      <td>1.000000</td>\n",
       "      <td>1.348033e-43</td>\n",
       "      <td>1.348033e-43</td>\n",
       "      <td>6.740164e-43</td>\n",
       "      <td>6.008016</td>\n",
       "    </tr>\n",
       "    <tr>\n",
       "      <th>2</th>\n",
       "      <td>5</td>\n",
       "      <td>11.016032</td>\n",
       "      <td>0.008314</td>\n",
       "      <td>1</td>\n",
       "      <td>7.811594e-24</td>\n",
       "      <td>1.000000</td>\n",
       "      <td>1.000000</td>\n",
       "      <td>7.811594e-24</td>\n",
       "      <td>7.811594e-24</td>\n",
       "      <td>3.905797e-23</td>\n",
       "      <td>11.016032</td>\n",
       "    </tr>\n",
       "    <tr>\n",
       "      <th>3</th>\n",
       "      <td>5</td>\n",
       "      <td>16.024048</td>\n",
       "      <td>0.008314</td>\n",
       "      <td>1</td>\n",
       "      <td>2.007445e-16</td>\n",
       "      <td>1.000000</td>\n",
       "      <td>1.000000</td>\n",
       "      <td>2.007445e-16</td>\n",
       "      <td>2.007445e-16</td>\n",
       "      <td>1.003722e-15</td>\n",
       "      <td>16.024048</td>\n",
       "    </tr>\n",
       "    <tr>\n",
       "      <th>4</th>\n",
       "      <td>5</td>\n",
       "      <td>21.032064</td>\n",
       "      <td>0.008314</td>\n",
       "      <td>1</td>\n",
       "      <td>1.526697e-12</td>\n",
       "      <td>1.000000</td>\n",
       "      <td>1.000000</td>\n",
       "      <td>1.526697e-12</td>\n",
       "      <td>1.526697e-12</td>\n",
       "      <td>7.633484e-12</td>\n",
       "      <td>21.032064</td>\n",
       "    </tr>\n",
       "    <tr>\n",
       "      <th>...</th>\n",
       "      <td>...</td>\n",
       "      <td>...</td>\n",
       "      <td>...</td>\n",
       "      <td>...</td>\n",
       "      <td>...</td>\n",
       "      <td>...</td>\n",
       "      <td>...</td>\n",
       "      <td>...</td>\n",
       "      <td>...</td>\n",
       "      <td>...</td>\n",
       "      <td>...</td>\n",
       "    </tr>\n",
       "    <tr>\n",
       "      <th>495</th>\n",
       "      <td>5</td>\n",
       "      <td>2479.967936</td>\n",
       "      <td>0.008314</td>\n",
       "      <td>1</td>\n",
       "      <td>3.138651e+00</td>\n",
       "      <td>4.138651</td>\n",
       "      <td>0.241625</td>\n",
       "      <td>7.583754e-01</td>\n",
       "      <td>3.138651e+00</td>\n",
       "      <td>3.791877e+00</td>\n",
       "      <td>2479.967936</td>\n",
       "    </tr>\n",
       "    <tr>\n",
       "      <th>496</th>\n",
       "      <td>5</td>\n",
       "      <td>2484.975952</td>\n",
       "      <td>0.008314</td>\n",
       "      <td>1</td>\n",
       "      <td>3.140185e+00</td>\n",
       "      <td>4.140185</td>\n",
       "      <td>0.241535</td>\n",
       "      <td>7.584649e-01</td>\n",
       "      <td>3.140185e+00</td>\n",
       "      <td>3.792325e+00</td>\n",
       "      <td>2484.975952</td>\n",
       "    </tr>\n",
       "    <tr>\n",
       "      <th>497</th>\n",
       "      <td>5</td>\n",
       "      <td>2489.983968</td>\n",
       "      <td>0.008314</td>\n",
       "      <td>1</td>\n",
       "      <td>3.141714e+00</td>\n",
       "      <td>4.141714</td>\n",
       "      <td>0.241446</td>\n",
       "      <td>7.585541e-01</td>\n",
       "      <td>3.141714e+00</td>\n",
       "      <td>3.792770e+00</td>\n",
       "      <td>2489.983968</td>\n",
       "    </tr>\n",
       "    <tr>\n",
       "      <th>498</th>\n",
       "      <td>5</td>\n",
       "      <td>2494.991984</td>\n",
       "      <td>0.008314</td>\n",
       "      <td>1</td>\n",
       "      <td>3.143238e+00</td>\n",
       "      <td>4.143238</td>\n",
       "      <td>0.241357</td>\n",
       "      <td>7.586429e-01</td>\n",
       "      <td>3.143238e+00</td>\n",
       "      <td>3.793214e+00</td>\n",
       "      <td>2494.991984</td>\n",
       "    </tr>\n",
       "    <tr>\n",
       "      <th>499</th>\n",
       "      <td>5</td>\n",
       "      <td>2500.000000</td>\n",
       "      <td>0.008314</td>\n",
       "      <td>1</td>\n",
       "      <td>3.144756e+00</td>\n",
       "      <td>4.144756</td>\n",
       "      <td>0.241269</td>\n",
       "      <td>7.587313e-01</td>\n",
       "      <td>3.144756e+00</td>\n",
       "      <td>3.793656e+00</td>\n",
       "      <td>2500.000000</td>\n",
       "    </tr>\n",
       "  </tbody>\n",
       "</table>\n",
       "<p>500 rows × 11 columns</p>\n",
       "</div>"
      ],
      "text/plain": [
       "     E            T         R  wC             wO         q        pC  \\\n",
       "0    5     1.000000  0.008314   1  2.626801e-261  1.000000  1.000000   \n",
       "1    5     6.008016  0.008314   1   1.348033e-43  1.000000  1.000000   \n",
       "2    5    11.016032  0.008314   1   7.811594e-24  1.000000  1.000000   \n",
       "3    5    16.024048  0.008314   1   2.007445e-16  1.000000  1.000000   \n",
       "4    5    21.032064  0.008314   1   1.526697e-12  1.000000  1.000000   \n",
       "..  ..          ...       ...  ..            ...       ...       ...   \n",
       "495  5  2479.967936  0.008314   1   3.138651e+00  4.138651  0.241625   \n",
       "496  5  2484.975952  0.008314   1   3.140185e+00  4.140185  0.241535   \n",
       "497  5  2489.983968  0.008314   1   3.141714e+00  4.141714  0.241446   \n",
       "498  5  2494.991984  0.008314   1   3.143238e+00  4.143238  0.241357   \n",
       "499  5  2500.000000  0.008314   1   3.144756e+00  4.144756  0.241269   \n",
       "\n",
       "                pO              K           avgE         temp  \n",
       "0    2.626801e-261  2.626801e-261  1.313400e-260     1.000000  \n",
       "1     1.348033e-43   1.348033e-43   6.740164e-43     6.008016  \n",
       "2     7.811594e-24   7.811594e-24   3.905797e-23    11.016032  \n",
       "3     2.007445e-16   2.007445e-16   1.003722e-15    16.024048  \n",
       "4     1.526697e-12   1.526697e-12   7.633484e-12    21.032064  \n",
       "..             ...            ...            ...          ...  \n",
       "495   7.583754e-01   3.138651e+00   3.791877e+00  2479.967936  \n",
       "496   7.584649e-01   3.140185e+00   3.792325e+00  2484.975952  \n",
       "497   7.585541e-01   3.141714e+00   3.792770e+00  2489.983968  \n",
       "498   7.586429e-01   3.143238e+00   3.793214e+00  2494.991984  \n",
       "499   7.587313e-01   3.144756e+00   3.793656e+00  2500.000000  \n",
       "\n",
       "[500 rows x 11 columns]"
      ]
     },
     "execution_count": 28,
     "metadata": {},
     "output_type": "execute_result"
    }
   ],
   "source": [
    "temps = np.linspace(1, 2500, num=500)\n",
    "\n",
    "outs = polymer4 (5, temps)\n",
    "\n",
    "df = pd.DataFrame(outs)\n",
    "\n",
    "df['temp'] = df ['T']\n",
    "df"
   ]
  },
  {
   "cell_type": "code",
   "execution_count": 29,
   "id": "f497b147",
   "metadata": {},
   "outputs": [
    {
     "ename": "ValueError",
     "evalue": "All arguments should have the same length. The length of argument `y` is 3, whereas the length of  previously-processed arguments ['T'] is 500",
     "output_type": "error",
     "traceback": [
      "\u001b[0;31m---------------------------------------------------------------------------\u001b[0m",
      "\u001b[0;31mValueError\u001b[0m                                Traceback (most recent call last)",
      "Input \u001b[0;32mIn [29]\u001b[0m, in \u001b[0;36m<module>\u001b[0;34m\u001b[0m\n\u001b[1;32m      1\u001b[0m \u001b[38;5;66;03m# If you give plotly a dataframe,\u001b[39;00m\n\u001b[1;32m      2\u001b[0m \u001b[38;5;66;03m# just use the names of the columns to tell plotly what should be on each axis\u001b[39;00m\n\u001b[1;32m      3\u001b[0m \u001b[38;5;66;03m# If you give a list, it will plot multiple things\u001b[39;00m\n\u001b[0;32m----> 4\u001b[0m \u001b[43mpx\u001b[49m\u001b[38;5;241;43m.\u001b[39;49m\u001b[43mline\u001b[49m\u001b[43m(\u001b[49m\u001b[43mdf\u001b[49m\u001b[43m,\u001b[49m\u001b[43m \u001b[49m\u001b[43mx\u001b[49m\u001b[38;5;241;43m=\u001b[39;49m\u001b[38;5;124;43m'\u001b[39;49m\u001b[38;5;124;43mT\u001b[39;49m\u001b[38;5;124;43m'\u001b[39;49m\u001b[43m,\u001b[49m\n\u001b[1;32m      5\u001b[0m \u001b[43m        \u001b[49m\u001b[38;5;66;43;03m# Try switching the y axis list to plot the right columns\u001b[39;49;00m\n\u001b[1;32m      6\u001b[0m \u001b[43m        \u001b[49m\u001b[43my\u001b[49m\u001b[38;5;241;43m=\u001b[39;49m\u001b[43m[\u001b[49m\u001b[38;5;124;43m'\u001b[39;49m\u001b[38;5;124;43mq\u001b[39;49m\u001b[38;5;124;43m'\u001b[39;49m\u001b[43m,\u001b[49m\u001b[38;5;124;43m'\u001b[39;49m\u001b[38;5;124;43mwf\u001b[39;49m\u001b[38;5;124;43m'\u001b[39;49m\u001b[43m,\u001b[49m\u001b[43m \u001b[49m\u001b[38;5;124;43m'\u001b[39;49m\u001b[38;5;124;43mws\u001b[39;49m\u001b[38;5;124;43m'\u001b[39;49m\u001b[43m]\u001b[49m\u001b[43m,\u001b[49m\n\u001b[1;32m      7\u001b[0m \u001b[43m        \u001b[49m\u001b[38;5;66;43;03m# Plotly labels are changed in a dictionary\u001b[39;49;00m\n\u001b[1;32m      8\u001b[0m \u001b[43m        \u001b[49m\u001b[43mlabels\u001b[49m\u001b[38;5;241;43m=\u001b[39;49m\u001b[43m{\u001b[49m\u001b[38;5;124;43m'\u001b[39;49m\u001b[38;5;124;43mvalue\u001b[39;49m\u001b[38;5;124;43m'\u001b[39;49m\u001b[43m:\u001b[49m\u001b[43m \u001b[49m\u001b[38;5;124;43m\"\u001b[39;49m\u001b[38;5;124;43mY axis label\u001b[39;49m\u001b[38;5;124;43m\"\u001b[39;49m\u001b[43m,\u001b[49m\u001b[43m \u001b[49m\u001b[38;5;66;43;03m# value is the default name given to the y-axis when multiple things are plotted\u001b[39;49;00m\n\u001b[1;32m      9\u001b[0m \u001b[43m                \u001b[49m\u001b[38;5;124;43m'\u001b[39;49m\u001b[38;5;124;43mT\u001b[39;49m\u001b[38;5;124;43m'\u001b[39;49m\u001b[43m:\u001b[49m\u001b[43m \u001b[49m\u001b[38;5;124;43m\"\u001b[39;49m\u001b[38;5;124;43mTemperature (K)\u001b[39;49m\u001b[38;5;124;43m\"\u001b[39;49m\n\u001b[1;32m     10\u001b[0m \u001b[43m               \u001b[49m\u001b[43m}\u001b[49m\n\u001b[1;32m     11\u001b[0m \u001b[43m       \u001b[49m\u001b[43m)\u001b[49m\n",
      "File \u001b[0;32m~/opt/miniconda3/lib/python3.9/site-packages/plotly/express/_chart_types.py:262\u001b[0m, in \u001b[0;36mline\u001b[0;34m(data_frame, x, y, line_group, color, line_dash, symbol, hover_name, hover_data, custom_data, text, facet_row, facet_col, facet_col_wrap, facet_row_spacing, facet_col_spacing, error_x, error_x_minus, error_y, error_y_minus, animation_frame, animation_group, category_orders, labels, orientation, color_discrete_sequence, color_discrete_map, line_dash_sequence, line_dash_map, symbol_sequence, symbol_map, markers, log_x, log_y, range_x, range_y, line_shape, render_mode, title, template, width, height)\u001b[0m\n\u001b[1;32m    214\u001b[0m \u001b[38;5;28;01mdef\u001b[39;00m \u001b[38;5;21mline\u001b[39m(\n\u001b[1;32m    215\u001b[0m     data_frame\u001b[38;5;241m=\u001b[39m\u001b[38;5;28;01mNone\u001b[39;00m,\n\u001b[1;32m    216\u001b[0m     x\u001b[38;5;241m=\u001b[39m\u001b[38;5;28;01mNone\u001b[39;00m,\n\u001b[0;32m   (...)\u001b[0m\n\u001b[1;32m    256\u001b[0m     height\u001b[38;5;241m=\u001b[39m\u001b[38;5;28;01mNone\u001b[39;00m,\n\u001b[1;32m    257\u001b[0m ):\n\u001b[1;32m    258\u001b[0m     \u001b[38;5;124;03m\"\"\"\u001b[39;00m\n\u001b[1;32m    259\u001b[0m \u001b[38;5;124;03m    In a 2D line plot, each row of `data_frame` is represented as vertex of\u001b[39;00m\n\u001b[1;32m    260\u001b[0m \u001b[38;5;124;03m    a polyline mark in 2D space.\u001b[39;00m\n\u001b[1;32m    261\u001b[0m \u001b[38;5;124;03m    \"\"\"\u001b[39;00m\n\u001b[0;32m--> 262\u001b[0m     \u001b[38;5;28;01mreturn\u001b[39;00m \u001b[43mmake_figure\u001b[49m\u001b[43m(\u001b[49m\u001b[43margs\u001b[49m\u001b[38;5;241;43m=\u001b[39;49m\u001b[38;5;28;43mlocals\u001b[39;49m\u001b[43m(\u001b[49m\u001b[43m)\u001b[49m\u001b[43m,\u001b[49m\u001b[43m \u001b[49m\u001b[43mconstructor\u001b[49m\u001b[38;5;241;43m=\u001b[39;49m\u001b[43mgo\u001b[49m\u001b[38;5;241;43m.\u001b[39;49m\u001b[43mScatter\u001b[49m\u001b[43m)\u001b[49m\n",
      "File \u001b[0;32m~/opt/miniconda3/lib/python3.9/site-packages/plotly/express/_core.py:1945\u001b[0m, in \u001b[0;36mmake_figure\u001b[0;34m(args, constructor, trace_patch, layout_patch)\u001b[0m\n\u001b[1;32m   1942\u001b[0m layout_patch \u001b[38;5;241m=\u001b[39m layout_patch \u001b[38;5;129;01mor\u001b[39;00m {}\n\u001b[1;32m   1943\u001b[0m apply_default_cascade(args)\n\u001b[0;32m-> 1945\u001b[0m args \u001b[38;5;241m=\u001b[39m \u001b[43mbuild_dataframe\u001b[49m\u001b[43m(\u001b[49m\u001b[43margs\u001b[49m\u001b[43m,\u001b[49m\u001b[43m \u001b[49m\u001b[43mconstructor\u001b[49m\u001b[43m)\u001b[49m\n\u001b[1;32m   1946\u001b[0m \u001b[38;5;28;01mif\u001b[39;00m constructor \u001b[38;5;129;01min\u001b[39;00m [go\u001b[38;5;241m.\u001b[39mTreemap, go\u001b[38;5;241m.\u001b[39mSunburst, go\u001b[38;5;241m.\u001b[39mIcicle] \u001b[38;5;129;01mand\u001b[39;00m args[\u001b[38;5;124m\"\u001b[39m\u001b[38;5;124mpath\u001b[39m\u001b[38;5;124m\"\u001b[39m] \u001b[38;5;129;01mis\u001b[39;00m \u001b[38;5;129;01mnot\u001b[39;00m \u001b[38;5;28;01mNone\u001b[39;00m:\n\u001b[1;32m   1947\u001b[0m     args \u001b[38;5;241m=\u001b[39m process_dataframe_hierarchy(args)\n",
      "File \u001b[0;32m~/opt/miniconda3/lib/python3.9/site-packages/plotly/express/_core.py:1405\u001b[0m, in \u001b[0;36mbuild_dataframe\u001b[0;34m(args, constructor)\u001b[0m\n\u001b[1;32m   1402\u001b[0m     args[\u001b[38;5;124m\"\u001b[39m\u001b[38;5;124mcolor\u001b[39m\u001b[38;5;124m\"\u001b[39m] \u001b[38;5;241m=\u001b[39m \u001b[38;5;28;01mNone\u001b[39;00m\n\u001b[1;32m   1403\u001b[0m \u001b[38;5;66;03m# now that things have been prepped, we do the systematic rewriting of `args`\u001b[39;00m\n\u001b[0;32m-> 1405\u001b[0m df_output, wide_id_vars \u001b[38;5;241m=\u001b[39m \u001b[43mprocess_args_into_dataframe\u001b[49m\u001b[43m(\u001b[49m\n\u001b[1;32m   1406\u001b[0m \u001b[43m    \u001b[49m\u001b[43margs\u001b[49m\u001b[43m,\u001b[49m\u001b[43m \u001b[49m\u001b[43mwide_mode\u001b[49m\u001b[43m,\u001b[49m\u001b[43m \u001b[49m\u001b[43mvar_name\u001b[49m\u001b[43m,\u001b[49m\u001b[43m \u001b[49m\u001b[43mvalue_name\u001b[49m\n\u001b[1;32m   1407\u001b[0m \u001b[43m\u001b[49m\u001b[43m)\u001b[49m\n\u001b[1;32m   1409\u001b[0m \u001b[38;5;66;03m# now that `df_output` exists and `args` contains only references, we complete\u001b[39;00m\n\u001b[1;32m   1410\u001b[0m \u001b[38;5;66;03m# the special-case and wide-mode handling by further rewriting args and/or mutating\u001b[39;00m\n\u001b[1;32m   1411\u001b[0m \u001b[38;5;66;03m# df_output\u001b[39;00m\n\u001b[1;32m   1413\u001b[0m count_name \u001b[38;5;241m=\u001b[39m _escape_col_name(df_output, \u001b[38;5;124m\"\u001b[39m\u001b[38;5;124mcount\u001b[39m\u001b[38;5;124m\"\u001b[39m, [var_name, value_name])\n",
      "File \u001b[0;32m~/opt/miniconda3/lib/python3.9/site-packages/plotly/express/_core.py:1245\u001b[0m, in \u001b[0;36mprocess_args_into_dataframe\u001b[0;34m(args, wide_mode, var_name, value_name)\u001b[0m\n\u001b[1;32m   1242\u001b[0m         col_name \u001b[38;5;241m=\u001b[39m _check_name_not_reserved(field, reserved_names)\n\u001b[1;32m   1244\u001b[0m     \u001b[38;5;28;01mif\u001b[39;00m length \u001b[38;5;129;01mand\u001b[39;00m \u001b[38;5;28mlen\u001b[39m(argument) \u001b[38;5;241m!=\u001b[39m length:\n\u001b[0;32m-> 1245\u001b[0m         \u001b[38;5;28;01mraise\u001b[39;00m \u001b[38;5;167;01mValueError\u001b[39;00m(\n\u001b[1;32m   1246\u001b[0m             \u001b[38;5;124m\"\u001b[39m\u001b[38;5;124mAll arguments should have the same length. \u001b[39m\u001b[38;5;124m\"\u001b[39m\n\u001b[1;32m   1247\u001b[0m             \u001b[38;5;124m\"\u001b[39m\u001b[38;5;124mThe length of argument `\u001b[39m\u001b[38;5;132;01m%s\u001b[39;00m\u001b[38;5;124m` is \u001b[39m\u001b[38;5;132;01m%d\u001b[39;00m\u001b[38;5;124m, whereas the \u001b[39m\u001b[38;5;124m\"\u001b[39m\n\u001b[1;32m   1248\u001b[0m             \u001b[38;5;124m\"\u001b[39m\u001b[38;5;124mlength of  previously-processed arguments \u001b[39m\u001b[38;5;132;01m%s\u001b[39;00m\u001b[38;5;124m is \u001b[39m\u001b[38;5;132;01m%d\u001b[39;00m\u001b[38;5;124m\"\u001b[39m\n\u001b[1;32m   1249\u001b[0m             \u001b[38;5;241m%\u001b[39m (field, \u001b[38;5;28mlen\u001b[39m(argument), \u001b[38;5;28mstr\u001b[39m(\u001b[38;5;28mlist\u001b[39m(df_output\u001b[38;5;241m.\u001b[39mcolumns)), length)\n\u001b[1;32m   1250\u001b[0m         )\n\u001b[1;32m   1251\u001b[0m     df_output[\u001b[38;5;28mstr\u001b[39m(col_name)] \u001b[38;5;241m=\u001b[39m to_unindexed_series(argument)\n\u001b[1;32m   1253\u001b[0m \u001b[38;5;66;03m# Finally, update argument with column name now that column exists\u001b[39;00m\n",
      "\u001b[0;31mValueError\u001b[0m: All arguments should have the same length. The length of argument `y` is 3, whereas the length of  previously-processed arguments ['T'] is 500"
     ]
    }
   ],
   "source": [
    "# If you give plotly a dataframe,\n",
    "# just use the names of the columns to tell plotly what should be on each axis\n",
    "# If you give a list, it will plot multiple things\n",
    "px.line(df, x='T',\n",
    "        # Try switching the y axis list to plot the right columns\n",
    "        y=['q','wf', 'ws'],\n",
    "        # Plotly labels are changed in a dictionary\n",
    "        labels={'value': \"Y axis label\", # value is the default name given to the y-axis when multiple things are plotted\n",
    "                'T': \"Temperature (K)\"\n",
    "               }\n",
    "       )"
   ]
  },
  {
   "cell_type": "code",
   "execution_count": 30,
   "id": "3d7c6afd",
   "metadata": {},
   "outputs": [
    {
     "ename": "SyntaxError",
     "evalue": "invalid syntax (999282148.py, line 1)",
     "output_type": "error",
     "traceback": [
      "\u001b[0;36m  Input \u001b[0;32mIn [30]\u001b[0;36m\u001b[0m\n\u001b[0;31m    The graph is similar to the 5000 K graph, except the equilibrium constant range is smaller, just barely passing 3. THe temperature is half, therefore we would see a less particles in the open energy level compared to the 5000 K graph. The lower temp, has more particles in the system in the ground state/colllapsed state.\u001b[0m\n\u001b[0m        ^\u001b[0m\n\u001b[0;31mSyntaxError\u001b[0m\u001b[0;31m:\u001b[0m invalid syntax\n"
     ]
    }
   ],
   "source": [
    "The graph is similar to the 5000 K graph, except the equilibrium constant range is smaller, just barely passing 3. THe temperature is half, therefore we would see a less particles in the open energy level compared to the 5000 K graph. The lower temp, has more particles in the system in the ground state/colllapsed state. "
   ]
  },
  {
   "cell_type": "code",
   "execution_count": 14,
   "id": "a87ce050",
   "metadata": {},
   "outputs": [],
   "source": [
    "def polymer4(E, T, R=R_kJ):\n",
    "   \n",
    "    ws=5*np.exp(-E/(R*T))\n",
    "    wf = 2\n",
    "\n",
    "    q = ws + wf\n",
    "    k= ws/wf\n",
    "\n",
    "    return Munch(locals()) # locals is a dictionary containing all variables defined in the function"
   ]
  },
  {
   "cell_type": "code",
   "execution_count": 15,
   "id": "ce2e031f",
   "metadata": {},
   "outputs": [
    {
     "data": {
      "text/html": [
       "<div>\n",
       "<style scoped>\n",
       "    .dataframe tbody tr th:only-of-type {\n",
       "        vertical-align: middle;\n",
       "    }\n",
       "\n",
       "    .dataframe tbody tr th {\n",
       "        vertical-align: top;\n",
       "    }\n",
       "\n",
       "    .dataframe thead th {\n",
       "        text-align: right;\n",
       "    }\n",
       "</style>\n",
       "<table border=\"1\" class=\"dataframe\">\n",
       "  <thead>\n",
       "    <tr style=\"text-align: right;\">\n",
       "      <th></th>\n",
       "      <th>E</th>\n",
       "      <th>T</th>\n",
       "      <th>R</th>\n",
       "      <th>ws</th>\n",
       "      <th>wf</th>\n",
       "      <th>q</th>\n",
       "      <th>k</th>\n",
       "      <th>temps</th>\n",
       "    </tr>\n",
       "  </thead>\n",
       "  <tbody>\n",
       "    <tr>\n",
       "      <th>0</th>\n",
       "      <td>4.810000e-21</td>\n",
       "      <td>270.000000</td>\n",
       "      <td>0.008314</td>\n",
       "      <td>5.0</td>\n",
       "      <td>2</td>\n",
       "      <td>7.0</td>\n",
       "      <td>2.5</td>\n",
       "      <td>270.000000</td>\n",
       "    </tr>\n",
       "    <tr>\n",
       "      <th>1</th>\n",
       "      <td>4.810000e-21</td>\n",
       "      <td>270.271003</td>\n",
       "      <td>0.008314</td>\n",
       "      <td>5.0</td>\n",
       "      <td>2</td>\n",
       "      <td>7.0</td>\n",
       "      <td>2.5</td>\n",
       "      <td>270.271003</td>\n",
       "    </tr>\n",
       "    <tr>\n",
       "      <th>2</th>\n",
       "      <td>4.810000e-21</td>\n",
       "      <td>270.542005</td>\n",
       "      <td>0.008314</td>\n",
       "      <td>5.0</td>\n",
       "      <td>2</td>\n",
       "      <td>7.0</td>\n",
       "      <td>2.5</td>\n",
       "      <td>270.542005</td>\n",
       "    </tr>\n",
       "    <tr>\n",
       "      <th>3</th>\n",
       "      <td>4.810000e-21</td>\n",
       "      <td>270.813008</td>\n",
       "      <td>0.008314</td>\n",
       "      <td>5.0</td>\n",
       "      <td>2</td>\n",
       "      <td>7.0</td>\n",
       "      <td>2.5</td>\n",
       "      <td>270.813008</td>\n",
       "    </tr>\n",
       "    <tr>\n",
       "      <th>4</th>\n",
       "      <td>4.810000e-21</td>\n",
       "      <td>271.084011</td>\n",
       "      <td>0.008314</td>\n",
       "      <td>5.0</td>\n",
       "      <td>2</td>\n",
       "      <td>7.0</td>\n",
       "      <td>2.5</td>\n",
       "      <td>271.084011</td>\n",
       "    </tr>\n",
       "    <tr>\n",
       "      <th>...</th>\n",
       "      <td>...</td>\n",
       "      <td>...</td>\n",
       "      <td>...</td>\n",
       "      <td>...</td>\n",
       "      <td>...</td>\n",
       "      <td>...</td>\n",
       "      <td>...</td>\n",
       "      <td>...</td>\n",
       "    </tr>\n",
       "    <tr>\n",
       "      <th>365</th>\n",
       "      <td>4.810000e-21</td>\n",
       "      <td>368.915989</td>\n",
       "      <td>0.008314</td>\n",
       "      <td>5.0</td>\n",
       "      <td>2</td>\n",
       "      <td>7.0</td>\n",
       "      <td>2.5</td>\n",
       "      <td>368.915989</td>\n",
       "    </tr>\n",
       "    <tr>\n",
       "      <th>366</th>\n",
       "      <td>4.810000e-21</td>\n",
       "      <td>369.186992</td>\n",
       "      <td>0.008314</td>\n",
       "      <td>5.0</td>\n",
       "      <td>2</td>\n",
       "      <td>7.0</td>\n",
       "      <td>2.5</td>\n",
       "      <td>369.186992</td>\n",
       "    </tr>\n",
       "    <tr>\n",
       "      <th>367</th>\n",
       "      <td>4.810000e-21</td>\n",
       "      <td>369.457995</td>\n",
       "      <td>0.008314</td>\n",
       "      <td>5.0</td>\n",
       "      <td>2</td>\n",
       "      <td>7.0</td>\n",
       "      <td>2.5</td>\n",
       "      <td>369.457995</td>\n",
       "    </tr>\n",
       "    <tr>\n",
       "      <th>368</th>\n",
       "      <td>4.810000e-21</td>\n",
       "      <td>369.728997</td>\n",
       "      <td>0.008314</td>\n",
       "      <td>5.0</td>\n",
       "      <td>2</td>\n",
       "      <td>7.0</td>\n",
       "      <td>2.5</td>\n",
       "      <td>369.728997</td>\n",
       "    </tr>\n",
       "    <tr>\n",
       "      <th>369</th>\n",
       "      <td>4.810000e-21</td>\n",
       "      <td>370.000000</td>\n",
       "      <td>0.008314</td>\n",
       "      <td>5.0</td>\n",
       "      <td>2</td>\n",
       "      <td>7.0</td>\n",
       "      <td>2.5</td>\n",
       "      <td>370.000000</td>\n",
       "    </tr>\n",
       "  </tbody>\n",
       "</table>\n",
       "<p>370 rows × 8 columns</p>\n",
       "</div>"
      ],
      "text/plain": [
       "                E           T         R   ws  wf    q    k       temps\n",
       "0    4.810000e-21  270.000000  0.008314  5.0   2  7.0  2.5  270.000000\n",
       "1    4.810000e-21  270.271003  0.008314  5.0   2  7.0  2.5  270.271003\n",
       "2    4.810000e-21  270.542005  0.008314  5.0   2  7.0  2.5  270.542005\n",
       "3    4.810000e-21  270.813008  0.008314  5.0   2  7.0  2.5  270.813008\n",
       "4    4.810000e-21  271.084011  0.008314  5.0   2  7.0  2.5  271.084011\n",
       "..            ...         ...       ...  ...  ..  ...  ...         ...\n",
       "365  4.810000e-21  368.915989  0.008314  5.0   2  7.0  2.5  368.915989\n",
       "366  4.810000e-21  369.186992  0.008314  5.0   2  7.0  2.5  369.186992\n",
       "367  4.810000e-21  369.457995  0.008314  5.0   2  7.0  2.5  369.457995\n",
       "368  4.810000e-21  369.728997  0.008314  5.0   2  7.0  2.5  369.728997\n",
       "369  4.810000e-21  370.000000  0.008314  5.0   2  7.0  2.5  370.000000\n",
       "\n",
       "[370 rows x 8 columns]"
      ]
     },
     "execution_count": 15,
     "metadata": {},
     "output_type": "execute_result"
    }
   ],
   "source": [
    "temps = np.linspace(270, 370, num =370)\n",
    "outputs = polymer4 (4.81e-21, temps)\n",
    "df = pd.DataFrame(outputs)\n",
    "df['temps']= df['T']\n",
    "df"
   ]
  },
  {
   "cell_type": "code",
   "execution_count": null,
   "id": "af400662",
   "metadata": {},
   "outputs": [],
   "source": []
  },
  {
   "cell_type": "code",
   "execution_count": null,
   "id": "fc0bdf41",
   "metadata": {},
   "outputs": [],
   "source": []
  },
  {
   "cell_type": "code",
   "execution_count": null,
   "id": "cc0a536b",
   "metadata": {},
   "outputs": [],
   "source": []
  }
 ],
 "metadata": {
  "kernelspec": {
   "display_name": "Python 3 (ipykernel)",
   "language": "python",
   "name": "python3"
  },
  "language_info": {
   "codemirror_mode": {
    "name": "ipython",
    "version": 3
   },
   "file_extension": ".py",
   "mimetype": "text/x-python",
   "name": "python",
   "nbconvert_exporter": "python",
   "pygments_lexer": "ipython3",
   "version": "3.9.9"
  }
 },
 "nbformat": 4,
 "nbformat_minor": 5
}
