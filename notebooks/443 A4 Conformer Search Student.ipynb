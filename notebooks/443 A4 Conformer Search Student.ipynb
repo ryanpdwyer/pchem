{
 "cells": [
  {
   "cell_type": "code",
   "execution_count": 13,
   "id": "a68c0438",
   "metadata": {},
   "outputs": [],
   "source": [
    "import datamol as dm\n",
    "import pandas as pd\n",
    "from rdkit import Chem\n",
    "import plotly.express as px\n",
    "\n",
    "def get_mol(conformers):\n",
    "    return conformers.GetConformer(0).GetOwningMol()\n",
    "\n",
    "def conformer_energies(conformers):\n",
    "    all_props = [conf.GetPropsAsDict() for conf in conformers.GetConformers()]\n",
    "    return pd.DataFrame(all_props)\n",
    "\n",
    "def write_conformers(filename, conformers):\n",
    "    \"\"\"Writes all conformers to an sdf file with name filename.\"\"\"\n",
    "    c0 = conformers.GetConformer(0)\n",
    "    m0 = c0.GetOwningMol()\n",
    "    all_props = [conf.GetPropsAsDict() for conf in conformers.GetConformers()]\n",
    "    energy_keys = [x for x in all_props[0].keys() if 'delta' not in x]\n",
    "    energy_key = energy_keys[0]\n",
    "    with Chem.SDWriter(filename+\".sdf\") as w:\n",
    "        for i in range(m0.GetNumConformers()):\n",
    "            m0.SetProp('ID', f'conf_{i}')\n",
    "            m0.SetProp('E_kcal', f\"{all_props[i][energy_key]:.3f}\")\n",
    "            w.write(m0, confId=i)\n",
    "    \n",
    "    print(f\"Wrote {m0.GetNumConformers()} conformers to {filename}.sdf\")\n",
    "    return m0\n"
   ]
  },
  {
   "cell_type": "code",
   "execution_count": 14,
   "id": "aa3a248d",
   "metadata": {},
   "outputs": [
    {
     "data": {
      "image/png": "[encoded data removed]",
      "text/plain": [
       "<rdkit.Chem.rdchem.Mol at 0x1092ef460>"
      ]
     },
     "execution_count": 14,
     "metadata": {},
     "output_type": "execute_result"
    }
   ],
   "source": [
    "mol = dm.to_mol('BrCCBr', add_hs=True)\n",
    "mol"
   ]
  },
  {
   "cell_type": "code",
   "execution_count": 15,
   "id": "a0644813",
   "metadata": {},
   "outputs": [],
   "source": [
    "mol_conformers = dm.conformers.generate(mol, forcefield=\"MMFF94s\",\n",
    "                                        minimize_energy=True,\n",
    "                                        align_conformers=True,\n",
    "                                        add_hs=False,\n",
    "                                        energy_iterations=500\n",
    "                                       ) "
   ]
  },
  {
   "cell_type": "code",
   "execution_count": 16,
   "id": "8c7e3c87",
   "metadata": {},
   "outputs": [
    {
     "name": "stdout",
     "output_type": "stream",
     "text": [
      "Wrote 50 conformers to BrCCBr.sdf\n"
     ]
    },
    {
     "data": {
      "image/png": "[encoded data removed]",
      "text/html": [
       "<table><tr><td colspan=2 style=\"text-align:center\"><image src=\"data:image/png;base64,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\"></td></tr>\n",
       "<tr><th style=\"text-align:right\">ID</th><td style=\"text-align:left\">conf_49</td></tr>\n",
       "<tr><th style=\"text-align:right\">E_kcal</th><td style=\"text-align:left\">4.267</td></tr></table>"
      ],
      "text/plain": [
       "<rdkit.Chem.rdchem.Mol at 0x179d80040>"
      ]
     },
     "execution_count": 16,
     "metadata": {},
     "output_type": "execute_result"
    }
   ],
   "source": [
    "write_conformers('BrCCBr', mol_conformers)"
   ]
  },
  {
   "cell_type": "code",
   "execution_count": 17,
   "id": "6dea84df",
   "metadata": {},
   "outputs": [
    {
     "data": {
      "text/html": [
       "<div>\n",
       "<style scoped>\n",
       "    .dataframe tbody tr th:only-of-type {\n",
       "        vertical-align: middle;\n",
       "    }\n",
       "\n",
       "    .dataframe tbody tr th {\n",
       "        vertical-align: top;\n",
       "    }\n",
       "\n",
       "    .dataframe thead th {\n",
       "        text-align: right;\n",
       "    }\n",
       "</style>\n",
       "<table border=\"1\" class=\"dataframe\">\n",
       "  <thead>\n",
       "    <tr style=\"text-align: right;\">\n",
       "      <th></th>\n",
       "      <th>rdkit_MMFF94s_energy</th>\n",
       "      <th>rdkit_MMFF94s_delta_energy</th>\n",
       "    </tr>\n",
       "  </thead>\n",
       "  <tbody>\n",
       "    <tr>\n",
       "      <th>0</th>\n",
       "      <td>3.495023</td>\n",
       "      <td>0.000000e+00</td>\n",
       "    </tr>\n",
       "    <tr>\n",
       "      <th>5</th>\n",
       "      <td>3.495023</td>\n",
       "      <td>1.967368e-10</td>\n",
       "    </tr>\n",
       "    <tr>\n",
       "      <th>10</th>\n",
       "      <td>3.495023</td>\n",
       "      <td>1.145828e-09</td>\n",
       "    </tr>\n",
       "    <tr>\n",
       "      <th>15</th>\n",
       "      <td>3.495023</td>\n",
       "      <td>2.198020e-08</td>\n",
       "    </tr>\n",
       "    <tr>\n",
       "      <th>20</th>\n",
       "      <td>4.266749</td>\n",
       "      <td>7.717257e-01</td>\n",
       "    </tr>\n",
       "    <tr>\n",
       "      <th>25</th>\n",
       "      <td>4.266749</td>\n",
       "      <td>7.717257e-01</td>\n",
       "    </tr>\n",
       "    <tr>\n",
       "      <th>30</th>\n",
       "      <td>4.266749</td>\n",
       "      <td>7.717257e-01</td>\n",
       "    </tr>\n",
       "    <tr>\n",
       "      <th>35</th>\n",
       "      <td>4.266749</td>\n",
       "      <td>7.717257e-01</td>\n",
       "    </tr>\n",
       "    <tr>\n",
       "      <th>40</th>\n",
       "      <td>4.266749</td>\n",
       "      <td>7.717257e-01</td>\n",
       "    </tr>\n",
       "    <tr>\n",
       "      <th>45</th>\n",
       "      <td>4.266749</td>\n",
       "      <td>7.717257e-01</td>\n",
       "    </tr>\n",
       "  </tbody>\n",
       "</table>\n",
       "</div>"
      ],
      "text/plain": [
       "    rdkit_MMFF94s_energy  rdkit_MMFF94s_delta_energy\n",
       "0               3.495023                0.000000e+00\n",
       "5               3.495023                1.967368e-10\n",
       "10              3.495023                1.145828e-09\n",
       "15              3.495023                2.198020e-08\n",
       "20              4.266749                7.717257e-01\n",
       "25              4.266749                7.717257e-01\n",
       "30              4.266749                7.717257e-01\n",
       "35              4.266749                7.717257e-01\n",
       "40              4.266749                7.717257e-01\n",
       "45              4.266749                7.717257e-01"
      ]
     },
     "execution_count": 17,
     "metadata": {},
     "output_type": "execute_result"
    }
   ],
   "source": [
    "df = conformer_energies(mol_conformers)\n",
    "df[::5] # Just print every 5th row"
   ]
  },
  {
   "cell_type": "code",
   "execution_count": 20,
   "id": "e9840aa4",
   "metadata": {},
   "outputs": [
    {
     "data": {
      "application/vnd.jupyter.widget-view+json": {
       "model_id": "d33abb6e84cd4e098fc22d89170b85bb",
       "version_major": 2,
       "version_minor": 0
      },
      "text/plain": [
       "NGLWidget()"
      ]
     },
     "metadata": {},
     "output_type": "display_data"
    }
   ],
   "source": [
    "dm.viz.conformers(mol_conformers, remove_hs=False, conf_id=0)"
   ]
  },
  {
   "cell_type": "code",
   "execution_count": 22,
   "id": "34daaeea",
   "metadata": {},
   "outputs": [
    {
     "data": {
      "application/vnd.jupyter.widget-view+json": {
       "model_id": "8e5adb3bdff44a469861bc5860d38a12",
       "version_major": 2,
       "version_minor": 0
      },
      "text/plain": [
       "NGLWidget()"
      ]
     },
     "metadata": {},
     "output_type": "display_data"
    }
   ],
   "source": [
    "dm.viz.conformers(mol_conformers, remove_hs=False, conf_id=45)"
   ]
  },
  {
   "cell_type": "markdown",
   "id": "c9909281",
   "metadata": {},
   "source": [
    "We can see that the anti arranagement of the Br (conf_id=0) has a higher energy (by about 0.75 kcal/mol), according to the molecular mechanics theory MMFF94s (a Merck model)."
   ]
  },
  {
   "cell_type": "markdown",
   "id": "a2d9a0fa",
   "metadata": {},
   "source": [
    "# Problem\n",
    "\n",
    "Compute conformers for the molecule"
   ]
  },
  {
   "cell_type": "code",
   "execution_count": null,
   "id": "c89526ad",
   "metadata": {},
   "outputs": [],
   "source": []
  }
 ],
 "metadata": {
  "kernelspec": {
   "display_name": "Python 3 (ipykernel)",
   "language": "python",
   "name": "python3"
  },
  "language_info": {
   "codemirror_mode": {
    "name": "ipython",
    "version": 3
   },
   "file_extension": ".py",
   "mimetype": "text/x-python",
   "name": "python",
   "nbconvert_exporter": "python",
   "pygments_lexer": "ipython3",
   "version": "3.9.15"
  }
 },
 "nbformat": 4,
 "nbformat_minor": 5
}
