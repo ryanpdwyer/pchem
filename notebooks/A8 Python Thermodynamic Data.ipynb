{
 "cells": [
  {
   "cell_type": "markdown",
   "id": "bca4e755",
   "metadata": {},
   "source": [
    "# A8 Python Thermodynamic Data"
   ]
  },
  {
   "cell_type": "code",
   "execution_count": 17,
   "id": "0be37749",
   "metadata": {},
   "outputs": [
    {
     "name": "stdout",
     "output_type": "stream",
     "text": [
      "Requirement already satisfied: CoolProp in /Users/dwyerry/miniconda3/lib/python3.9/site-packages (6.4.1)\n",
      "Requirement already satisfied: pchem in /Users/dwyerry/programming/pchem (0.1)\n",
      "Requirement already satisfied: sympy in /Users/dwyerry/miniconda3/lib/python3.9/site-packages (from pchem) (1.8)\n",
      "Requirement already satisfied: mpmath>=0.19 in /Users/dwyerry/miniconda3/lib/python3.9/site-packages (from sympy->pchem) (1.2.1)\n"
     ]
    }
   ],
   "source": [
    "!pip install CoolProp\n",
    "!pip install pchem"
   ]
  },
  {
   "cell_type": "markdown",
   "id": "856b364b",
   "metadata": {},
   "source": [
    "<table border=\"1\" class=\"docutils align-default\">\n",
    "<colgroup>\n",
    "<col width=\"49%\">\n",
    "<col width=\"4%\">\n",
    "<col width=\"6%\">\n",
    "<col width=\"4%\">\n",
    "<col width=\"37%\">\n",
    "</colgroup>\n",
    "<thead valign=\"bottom\">\n",
    "<tr class=\"row-odd\"><th class=\"head\">Parameter</th>\n",
    "<th class=\"head\">Units</th>\n",
    "<th class=\"head\">Input/Output</th>\n",
    "<th class=\"head\">Trivial</th>\n",
    "<th class=\"head\">Description</th>\n",
    "</tr>\n",
    "</thead>\n",
    "<tbody valign=\"top\">\n",
    "<tr class=\"row-even\"><td><code class=\"docutils literal notranslate\"><span class=\"pre\">DELTA</span></code>, <code class=\"docutils literal notranslate\"><span class=\"pre\">Delta</span></code></td>\n",
    "<td>&nbsp;</td>\n",
    "<td>IO</td>\n",
    "<td>False</td>\n",
    "<td>Reduced density (rho/rhoc)</td>\n",
    "</tr>\n",
    "<tr class=\"row-odd\"><td><code class=\"docutils literal notranslate\"><span class=\"pre\">DMOLAR</span></code>, <code class=\"docutils literal notranslate\"><span class=\"pre\">Dmolar</span></code></td>\n",
    "<td>mol/m^3</td>\n",
    "<td>IO</td>\n",
    "<td>False</td>\n",
    "<td>Molar density</td>\n",
    "</tr>\n",
    "<tr class=\"row-even\"><td><code class=\"docutils literal notranslate\"><span class=\"pre\">D</span></code>, <code class=\"docutils literal notranslate\"><span class=\"pre\">DMASS</span></code>, <code class=\"docutils literal notranslate\"><span class=\"pre\">Dmass</span></code></td>\n",
    "<td>kg/m^3</td>\n",
    "<td>IO</td>\n",
    "<td>False</td>\n",
    "<td>Mass density</td>\n",
    "</tr>\n",
    "<tr class=\"row-odd\"><td><code class=\"docutils literal notranslate\"><span class=\"pre\">HMOLAR</span></code>, <code class=\"docutils literal notranslate\"><span class=\"pre\">Hmolar</span></code></td>\n",
    "<td>J/mol</td>\n",
    "<td>IO</td>\n",
    "<td>False</td>\n",
    "<td>Molar specific enthalpy</td>\n",
    "</tr>\n",
    "<tr class=\"row-even\"><td><code class=\"docutils literal notranslate\"><span class=\"pre\">H</span></code>, <code class=\"docutils literal notranslate\"><span class=\"pre\">HMASS</span></code>, <code class=\"docutils literal notranslate\"><span class=\"pre\">Hmass</span></code></td>\n",
    "<td>J/kg</td>\n",
    "<td>IO</td>\n",
    "<td>False</td>\n",
    "<td>Mass specific enthalpy</td>gas \n",
    "</tr>\n",
    "<tr class=\"row-odd\"><td><code class=\"docutils literal notranslate\"><span class=\"pre\">P</span></code></td>\n",
    "<td>Pa</td>\n",
    "<td>IO</td>\n",
    "<td>False</td>\n",
    "<td>Pressure</td>\n",
    "</tr>\n",
    "<tr class=\"row-even\"><td><code class=\"docutils literal notranslate\"><span class=\"pre\">Q</span></code></td>\n",
    "<td>mol/mol</td>\n",
    "<td>IO</td>\n",
    "<td>False</td>\n",
    "<td>Mass vapor quality</td>\n",
    "</tr>\n",
    "<tr class=\"row-odd\"><td><code class=\"docutils literal notranslate\"><span class=\"pre\">SMOLAR</span></code>, <code class=\"docutils literal notranslate\"><span class=\"pre\">Smolar</span></code></td>\n",
    "<td>J/mol/K</td>\n",
    "<td>IO</td>\n",
    "<td>False</td>\n",
    "<td>Molar specific entropy</td>\n",
    "</tr>\n",
    "<tr class=\"row-even\"><td><code class=\"docutils literal notranslate\"><span class=\"pre\">S</span></code>, <code class=\"docutils literal notranslate\"><span class=\"pre\">SMASS</span></code>, <code class=\"docutils literal notranslate\"><span class=\"pre\">Smass</span></code></td>\n",
    "<td>J/kg/K</td>\n",
    "<td>IO</td>\n",
    "<td>False</td>\n",
    "<td>Mass specific entropy</td>\n",
    "</tr>\n",
    "<tr class=\"row-odd\"><td><code class=\"docutils literal notranslate\"><span class=\"pre\">TAU</span></code>, <code class=\"docutils literal notranslate\"><span class=\"pre\">Tau</span></code></td>\n",
    "<td>&nbsp;</td>\n",
    "<td>IO</td>\n",
    "<td>False</td>\n",
    "<td>Reciprocal reduced temperature (Tc/T)</td>\n",
    "</tr>\n",
    "<tr class=\"row-even\"><td><code class=\"docutils literal notranslate\"><span class=\"pre\">T</span></code></td>\n",
    "<td>K</td>\n",
    "<td>IO</td>\n",
    "<td>False</td>\n",
    "<td>Temperature</td>\n",
    "</tr>\n",
    "<tr class=\"row-odd\"><td><code class=\"docutils literal notranslate\"><span class=\"pre\">UMOLAR</span></code>, <code class=\"docutils literal notranslate\"><span class=\"pre\">Umolar</span></code></td>\n",
    "<td>J/mol</td>\n",
    "<td>IO</td>\n",
    "<td>False</td>\n",
    "<td>Molar specific internal energy</td>\n",
    "</tr>\n",
    "<tr class=\"row-even\"><td><code class=\"docutils literal notranslate\"><span class=\"pre\">U</span></code>, <code class=\"docutils literal notranslate\"><span class=\"pre\">UMASS</span></code>, <code class=\"docutils literal notranslate\"><span class=\"pre\">Umass</span></code></td>\n",
    "<td>J/kg</td>\n",
    "<td>IO</td>\n",
    "<td>False</td>\n",
    "<td>Mass specific internal energy</td>\n",
    "</tr>\n",
    "<tr class=\"row-odd\"><td><code class=\"docutils literal notranslate\"><span class=\"pre\">ACENTRIC</span></code>, <code class=\"docutils literal notranslate\"><span class=\"pre\">acentric</span></code></td>\n",
    "<td>&nbsp;</td>\n",
    "<td>O</td>\n",
    "<td>True</td>\n",
    "<td>Acentric factor</td>\n",
    "</tr>\n",
    "<tr class=\"row-even\"><td><code class=\"docutils literal notranslate\"><span class=\"pre\">ALPHA0</span></code>, <code class=\"docutils literal notranslate\"><span class=\"pre\">alpha0</span></code></td>\n",
    "<td>&nbsp;</td>\n",
    "<td>O</td>\n",
    "<td>False</td>\n",
    "<td>Ideal Helmholtz energy</td>\n",
    "</tr>\n",
    "<tr class=\"row-odd\"><td><code class=\"docutils literal notranslate\"><span class=\"pre\">ALPHAR</span></code>, <code class=\"docutils literal notranslate\"><span class=\"pre\">alphar</span></code></td>\n",
    "<td>&nbsp;</td>\n",
    "<td>O</td>\n",
    "<td>False</td>\n",
    "<td>Residual Helmholtz energy</td>\n",
    "</tr>\n",
    "<tr class=\"row-even\"><td><code class=\"docutils literal notranslate\"><span class=\"pre\">A</span></code>, <code class=\"docutils literal notranslate\"><span class=\"pre\">SPEED_OF_SOUND</span></code>, <code class=\"docutils literal notranslate\"><span class=\"pre\">speed_of_sound</span></code></td>\n",
    "<td>m/s</td>\n",
    "<td>O</td>\n",
    "<td>False</td>\n",
    "<td>Speed of sound</td>\n",
    "</tr>\n",
    "<tr class=\"row-odd\"><td><code class=\"docutils literal notranslate\"><span class=\"pre\">BVIRIAL</span></code>, <code class=\"docutils literal notranslate\"><span class=\"pre\">Bvirial</span></code></td>\n",
    "<td>&nbsp;</td>\n",
    "<td>O</td>\n",
    "<td>False</td>\n",
    "<td>Second virial coefficient</td>\n",
    "</tr>\n",
    "<tr class=\"row-even\"><td><code class=\"docutils literal notranslate\"><span class=\"pre\">CONDUCTIVITY</span></code>, <code class=\"docutils literal notranslate\"><span class=\"pre\">L</span></code>, <code class=\"docutils literal notranslate\"><span class=\"pre\">conductivity</span></code></td>\n",
    "<td>W/m/K</td>\n",
    "<td>O</td>\n",
    "<td>False</td>\n",
    "<td>Thermal conductivity</td>\n",
    "</tr>\n",
    "<tr class=\"row-odd\"><td><code class=\"docutils literal notranslate\"><span class=\"pre\">CP0MASS</span></code>, <code class=\"docutils literal notranslate\"><span class=\"pre\">Cp0mass</span></code></td>\n",
    "<td>J/kg/K</td>\n",
    "<td>O</td>\n",
    "<td>False</td>\n",
    "<td>Ideal gas mass specific constant pressure specific heat</td>\n",
    "</tr>\n",
    "<tr class=\"row-even\"><td><code class=\"docutils literal notranslate\"><span class=\"pre\">CP0MOLAR</span></code>, <code class=\"docutils literal notranslate\"><span class=\"pre\">Cp0molar</span></code></td>\n",
    "<td>J/mol/K</td>\n",
    "<td>O</td>\n",
    "<td>False</td>\n",
    "<td>Ideal gas molar specific constant pressure specific heat</td>\n",
    "</tr>\n",
    "<tr class=\"row-odd\"><td><code class=\"docutils literal notranslate\"><span class=\"pre\">CPMOLAR</span></code>, <code class=\"docutils literal notranslate\"><span class=\"pre\">Cpmolar</span></code></td>\n",
    "<td>J/mol/K</td>\n",
    "<td>O</td>\n",
    "<td>False</td>\n",
    "<td>Molar specific constant pressure specific heat</td>\n",
    "</tr>\n",
    "<tr class=\"row-even\"><td><code class=\"docutils literal notranslate\"><span class=\"pre\">CVIRIAL</span></code>, <code class=\"docutils literal notranslate\"><span class=\"pre\">Cvirial</span></code></td>\n",
    "<td>&nbsp;</td>\n",
    "<td>O</td>\n",
    "<td>False</td>\n",
    "<td>Third virial coefficient</td>\n",
    "</tr>\n",
    "<tr class=\"row-odd\"><td><code class=\"docutils literal notranslate\"><span class=\"pre\">CVMASS</span></code>, <code class=\"docutils literal notranslate\"><span class=\"pre\">Cvmass</span></code>, <code class=\"docutils literal notranslate\"><span class=\"pre\">O</span></code></td>\n",
    "<td>J/kg/K</td>\n",
    "<td>O</td>\n",
    "<td>False</td>\n",
    "<td>Mass specific constant volume specific heat</td>\n",
    "</tr>\n",
    "<tr class=\"row-even\"><td><code class=\"docutils literal notranslate\"><span class=\"pre\">CVMOLAR</span></code>, <code class=\"docutils literal notranslate\"><span class=\"pre\">Cvmolar</span></code></td>\n",
    "<td>J/mol/K</td>\n",
    "<td>O</td>\n",
    "<td>False</td>\n",
    "<td>Molar specific constant volume specific heat</td>\n",
    "</tr>\n",
    "<tr class=\"row-odd\"><td><code class=\"docutils literal notranslate\"><span class=\"pre\">C</span></code>, <code class=\"docutils literal notranslate\"><span class=\"pre\">CPMASS</span></code>, <code class=\"docutils literal notranslate\"><span class=\"pre\">Cpmass</span></code></td>\n",
    "<td>J/kg/K</td>\n",
    "<td>O</td>\n",
    "<td>False</td>\n",
    "<td>Mass specific constant pressure specific heat</td>\n",
    "</tr>\n",
    "<tr class=\"row-even\"><td><code class=\"docutils literal notranslate\"><span class=\"pre\">DIPOLE_MOMENT</span></code>, <code class=\"docutils literal notranslate\"><span class=\"pre\">dipole_moment</span></code></td>\n",
    "<td>C m</td>\n",
    "<td>O</td>\n",
    "<td>True</td>\n",
    "<td>Dipole moment</td>\n",
    "</tr>\n",
    "<tr class=\"row-odd\"><td><code class=\"docutils literal notranslate\"><span class=\"pre\">FH</span></code></td>\n",
    "<td>&nbsp;</td>\n",
    "<td>O</td>\n",
    "<td>True</td>\n",
    "<td>Flammability hazard</td>\n",
    "</tr>\n",
    "<tr class=\"row-even\"><td><code class=\"docutils literal notranslate\"><span class=\"pre\">FRACTION_MAX</span></code>, <code class=\"docutils literal notranslate\"><span class=\"pre\">fraction_max</span></code></td>\n",
    "<td>&nbsp;</td>\n",
    "<td>O</td>\n",
    "<td>True</td>\n",
    "<td>Fraction (mole, mass, volume) maximum value for incompressible solutions</td>\n",
    "</tr>\n",
    "<tr class=\"row-odd\"><td><code class=\"docutils literal notranslate\"><span class=\"pre\">FRACTION_MIN</span></code>, <code class=\"docutils literal notranslate\"><span class=\"pre\">fraction_min</span></code></td>\n",
    "<td>&nbsp;</td>\n",
    "<td>O</td>\n",
    "<td>True</td>\n",
    "<td>Fraction (mole, mass, volume) minimum value for incompressible solutions</td>\n",
    "</tr>\n",
    "<tr class=\"row-even\"><td><code class=\"docutils literal notranslate\"><span class=\"pre\">FUNDAMENTAL_DERIVATIVE_OF_GAS_DYNAMICS</span></code>, <code class=\"docutils literal notranslate\"><span class=\"pre\">fundamental_derivative_of_gas_dynamics</span></code></td>\n",
    "<td>&nbsp;</td>\n",
    "<td>O</td>\n",
    "<td>False</td>\n",
    "<td>Fundamental derivative of gas dynamics</td>\n",
    "</tr>\n",
    "<tr class=\"row-even\"><td><code class=\"docutils literal notranslate\"><span class=\"pre\">GMOLAR_RESIDUAL</span></code>, <code class=\"docutils literal notranslate\"><span class=\"pre\">Gmolar_residual</span></code></td>\n",
    "<td>J/mol/K</td>\n",
    "<td>O</td>\n",
    "<td>False</td>\n",
    "<td>Residual molar Gibbs energy</td>\n",
    "</tr>\n",
    "<tr class=\"row-odd\"><td><code class=\"docutils literal notranslate\"><span class=\"pre\">GMOLAR</span></code>, <code class=\"docutils literal notranslate\"><span class=\"pre\">Gmolar</span></code></td>\n",
    "<td>J/mol</td>\n",
    "<td>O</td>\n",
    "<td>False</td>\n",
    "<td>Molar specific Gibbs energy</td>\n",
    "</tr>\n",
    "<tr class=\"row-even\"><td><code class=\"docutils literal notranslate\"><span class=\"pre\">GWP100</span></code></td>\n",
    "<td>&nbsp;</td>\n",
    "<td>O</td>\n",
    "<td>True</td>\n",
    "<td>100-year global warming potential</td>\n",
    "</tr>\n",
    "<tr class=\"row-odd\"><td><code class=\"docutils literal notranslate\"><span class=\"pre\">GWP20</span></code></td>\n",
    "<td>&nbsp;</td>\n",
    "<td>O</td>\n",
    "<td>True</td>\n",
    "<td>20-year global warming potential</td>\n",
    "</tr>\n",
    "<tr class=\"row-even\"><td><code class=\"docutils literal notranslate\"><span class=\"pre\">GWP500</span></code></td>\n",
    "<td>&nbsp;</td>\n",
    "<td>O</td>\n",
    "<td>True</td>\n",
    "<td>500-year global warming potential</td>\n",
    "</tr>\n",
    "<tr class=\"row-odd\"><td><code class=\"docutils literal notranslate\"><span class=\"pre\">G</span></code>, <code class=\"docutils literal notranslate\"><span class=\"pre\">GMASS</span></code>, <code class=\"docutils literal notranslate\"><span class=\"pre\">Gmass</span></code></td>\n",
    "<td>J/kg</td>\n",
    "<td>O</td>\n",
    "<td>False</td>\n",
    "<td>Mass specific Gibbs energy</td>\n",
    "</tr>\n",
    "<tr class=\"row-even\"><td><code class=\"docutils literal notranslate\"><span class=\"pre\">HELMHOLTZMASS</span></code>, <code class=\"docutils literal notranslate\"><span class=\"pre\">Helmholtzmass</span></code></td>\n",
    "<td>J/kg</td>\n",
    "<td>O</td>\n",
    "<td>False</td>\n",
    "<td>Mass specific Helmholtz energy</td>\n",
    "</tr>\n",
    "<tr class=\"row-odd\"><td><code class=\"docutils literal notranslate\"><span class=\"pre\">HELMHOLTZMOLAR</span></code>, <code class=\"docutils literal notranslate\"><span class=\"pre\">Helmholtzmolar</span></code></td>\n",
    "<td>J/mol</td>\n",
    "<td>O</td>\n",
    "<td>False</td>\n",
    "<td>Molar specific Helmholtz energy</td>\n",
    "</tr>\n",
    "<tr class=\"row-even\"><td><code class=\"docutils literal notranslate\"><span class=\"pre\">HH</span></code></td>\n",
    "<td>&nbsp;</td>\n",
    "<td>O</td>\n",
    "<td>True</td>\n",
    "<td>Health hazard</td>\n",
    "</tr>\n",
    "<tr class=\"row-odd\"><td><code class=\"docutils literal notranslate\"><span class=\"pre\">HMOLAR_RESIDUAL</span></code>, <code class=\"docutils literal notranslate\"><span class=\"pre\">Hmolar_residual</span></code></td>\n",
    "<td>J/mol/K</td>\n",
    "<td>O</td>\n",
    "<td>False</td>\n",
    "<td>Residual molar enthalpy</td>\n",
    "</tr>\n",
    "<tr class=\"row-even\"><td><code class=\"docutils literal notranslate\"><span class=\"pre\">ISENTROPIC_EXPANSION_COEFFICIENT</span></code>, <code class=\"docutils literal notranslate\"><span class=\"pre\">isentropic_expansion_coefficient</span></code></td>\n",
    "<td>&nbsp;</td>\n",
    "<td>O</td>\n",
    "<td>False</td>\n",
    "<td>Isentropic expansion coefficient</td>\n",
    "</tr>\n",
    "<tr class=\"row-odd\"><td><code class=\"docutils literal notranslate\"><span class=\"pre\">ISOBARIC_EXPANSION_COEFFICIENT</span></code>, <code class=\"docutils literal notranslate\"><span class=\"pre\">isobaric_expansion_coefficient</span></code></td>\n",
    "<td>1/K</td>\n",
    "<td>O</td>\n",
    "<td>False</td>\n",
    "<td>Isobaric expansion coefficient</td>\n",
    "</tr>\n",
    "<tr class=\"row-even\"><td><code class=\"docutils literal notranslate\"><span class=\"pre\">ISOTHERMAL_COMPRESSIBILITY</span></code>, <code class=\"docutils literal notranslate\"><span class=\"pre\">isothermal_compressibility</span></code></td>\n",
    "<td>1/Pa</td>\n",
    "<td>O</td>\n",
    "<td>False</td>\n",
    "<td>Isothermal compressibility</td>\n",
    "</tr>\n",
    "<tr class=\"row-odd\"><td><code class=\"docutils literal notranslate\"><span class=\"pre\">I</span></code>, <code class=\"docutils literal notranslate\"><span class=\"pre\">SURFACE_TENSION</span></code>, <code class=\"docutils literal notranslate\"><span class=\"pre\">surface_tension</span></code></td>\n",
    "<td>N/m</td>\n",
    "<td>O</td>\n",
    "<td>False</td>\n",
    "<td>Surface tension</td>\n",
    "</tr>\n",
    "<tr class=\"row-even\"><td><code class=\"docutils literal notranslate\"><span class=\"pre\">M</span></code>, <code class=\"docutils literal notranslate\"><span class=\"pre\">MOLARMASS</span></code>, <code class=\"docutils literal notranslate\"><span class=\"pre\">MOLAR_MASS</span></code>, <code class=\"docutils literal notranslate\"><span class=\"pre\">MOLEMASS</span></code>, <code class=\"docutils literal notranslate\"><span class=\"pre\">molar_mass</span></code>, <code class=\"docutils literal notranslate\"><span class=\"pre\">molarmass</span></code>, <code class=\"docutils literal notranslate\"><span class=\"pre\">molemass</span></code></td>\n",
    "<td>kg/mol</td>\n",
    "<td>O</td>\n",
    "<td>True</td>\n",
    "<td>Molar mass</td>\n",
    "</tr>\n",
    "<tr class=\"row-odd\"><td><code class=\"docutils literal notranslate\"><span class=\"pre\">ODP</span></code></td>\n",
    "<td>&nbsp;</td>\n",
    "<td>O</td>\n",
    "<td>True</td>\n",
    "<td>Ozone depletion potential</td>\n",
    "</tr>\n",
    "<tr class=\"row-even\"><td><code class=\"docutils literal notranslate\"><span class=\"pre\">PCRIT</span></code>, <code class=\"docutils literal notranslate\"><span class=\"pre\">P_CRITICAL</span></code>, <code class=\"docutils literal notranslate\"><span class=\"pre\">Pcrit</span></code>, <code class=\"docutils literal notranslate\"><span class=\"pre\">p_critical</span></code>, <code class=\"docutils literal notranslate\"><span class=\"pre\">pcrit</span></code></td>\n",
    "<td>Pa</td>\n",
    "<td>O</td>\n",
    "<td>True</td>\n",
    "<td>Pressure at the critical point</td>\n",
    "</tr>\n",
    "<tr class=\"row-odd\"><td><code class=\"docutils literal notranslate\"><span class=\"pre\">PHASE</span></code>, <code class=\"docutils literal notranslate\"><span class=\"pre\">Phase</span></code></td>\n",
    "<td>&nbsp;</td>\n",
    "<td>O</td>\n",
    "<td>False</td>\n",
    "<td>Phase index as a float</td>\n",
    "</tr>\n",
    "<tr class=\"row-even\"><td><code class=\"docutils literal notranslate\"><span class=\"pre\">PH</span></code></td>\n",
    "<td>&nbsp;</td>\n",
    "<td>O</td>\n",
    "<td>True</td>\n",
    "<td>Physical hazard</td>\n",
    "</tr>\n",
    "<tr class=\"row-odd\"><td><code class=\"docutils literal notranslate\"><span class=\"pre\">PIP</span></code></td>\n",
    "<td>&nbsp;</td>\n",
    "<td>O</td>\n",
    "<td>False</td>\n",
    "<td>Phase identification parameter</td>\n",
    "</tr>\n",
    "<tr class=\"row-even\"><td><code class=\"docutils literal notranslate\"><span class=\"pre\">PMAX</span></code>, <code class=\"docutils literal notranslate\"><span class=\"pre\">P_MAX</span></code>, <code class=\"docutils literal notranslate\"><span class=\"pre\">P_max</span></code>, <code class=\"docutils literal notranslate\"><span class=\"pre\">pmax</span></code></td>\n",
    "<td>Pa</td>\n",
    "<td>O</td>\n",
    "<td>True</td>\n",
    "<td>Maximum pressure limit</td>\n",
    "</tr>\n",
    "<tr class=\"row-odd\"><td><code class=\"docutils literal notranslate\"><span class=\"pre\">PMIN</span></code>, <code class=\"docutils literal notranslate\"><span class=\"pre\">P_MIN</span></code>, <code class=\"docutils literal notranslate\"><span class=\"pre\">P_min</span></code>, <code class=\"docutils literal notranslate\"><span class=\"pre\">pmin</span></code></td>\n",
    "<td>Pa</td>\n",
    "<td>O</td>\n",
    "<td>True</td>\n",
    "<td>Minimum pressure limit</td>\n",
    "</tr>\n",
    "<tr class=\"row-even\"><td><code class=\"docutils literal notranslate\"><span class=\"pre\">PRANDTL</span></code>, <code class=\"docutils literal notranslate\"><span class=\"pre\">Prandtl</span></code></td>\n",
    "<td>&nbsp;</td>\n",
    "<td>O</td>\n",
    "<td>False</td>\n",
    "<td>Prandtl number</td>\n",
    "</tr>\n",
    "<tr class=\"row-odd\"><td><code class=\"docutils literal notranslate\"><span class=\"pre\">PTRIPLE</span></code>, <code class=\"docutils literal notranslate\"><span class=\"pre\">P_TRIPLE</span></code>, <code class=\"docutils literal notranslate\"><span class=\"pre\">p_triple</span></code>, <code class=\"docutils literal notranslate\"><span class=\"pre\">ptriple</span></code></td>\n",
    "<td>Pa</td>\n",
    "<td>O</td>\n",
    "<td>True</td>\n",
    "<td>Pressure at the triple point (pure only)</td>\n",
    "</tr>\n",
    "<tr class=\"row-even\"><td><code class=\"docutils literal notranslate\"><span class=\"pre\">P_REDUCING</span></code>, <code class=\"docutils literal notranslate\"><span class=\"pre\">p_reducing</span></code></td>\n",
    "<td>Pa</td>\n",
    "<td>O</td>\n",
    "<td>True</td>\n",
    "<td>Pressure at the reducing point</td>\n",
    "</tr>\n",
    "<tr class=\"row-odd\"><td><code class=\"docutils literal notranslate\"><span class=\"pre\">RHOCRIT</span></code>, <code class=\"docutils literal notranslate\"><span class=\"pre\">RHOMASS_CRITICAL</span></code>, <code class=\"docutils literal notranslate\"><span class=\"pre\">rhocrit</span></code>, <code class=\"docutils literal notranslate\"><span class=\"pre\">rhomass_critical</span></code></td>\n",
    "<td>kg/m^3</td>\n",
    "<td>O</td>\n",
    "<td>True</td>\n",
    "<td>Mass density at critical point</td>\n",
    "</tr>\n",
    "<tr class=\"row-even\"><td><code class=\"docutils literal notranslate\"><span class=\"pre\">RHOMASS_REDUCING</span></code>, <code class=\"docutils literal notranslate\"><span class=\"pre\">rhomass_reducing</span></code></td>\n",
    "<td>kg/m^3</td>\n",
    "<td>O</td>\n",
    "<td>True</td>\n",
    "<td>Mass density at reducing point</td>\n",
    "</tr>\n",
    "<tr class=\"row-odd\"><td><code class=\"docutils literal notranslate\"><span class=\"pre\">RHOMOLAR_CRITICAL</span></code>, <code class=\"docutils literal notranslate\"><span class=\"pre\">rhomolar_critical</span></code></td>\n",
    "<td>mol/m^3</td>\n",
    "<td>O</td>\n",
    "<td>True</td>\n",
    "<td>Molar density at critical point</td>\n",
    "</tr>\n",
    "<tr class=\"row-even\"><td><code class=\"docutils literal notranslate\"><span class=\"pre\">RHOMOLAR_REDUCING</span></code>, <code class=\"docutils literal notranslate\"><span class=\"pre\">rhomolar_reducing</span></code></td>\n",
    "<td>mol/m^3</td>\n",
    "<td>O</td>\n",
    "<td>True</td>\n",
    "<td>Molar density at reducing point</td>\n",
    "</tr>\n",
    "<tr class=\"row-odd\"><td><code class=\"docutils literal notranslate\"><span class=\"pre\">SMOLAR_RESIDUAL</span></code>, <code class=\"docutils literal notranslate\"><span class=\"pre\">Smolar_residual</span></code></td>\n",
    "<td>J/mol/K</td>\n",
    "<td>O</td>\n",
    "<td>False</td>\n",
    "<td>Residual molar entropy (sr/R = s(T,rho) - s^0(T,rho))</td>\n",
    "</tr>\n",
    "<tr class=\"row-even\"><td><code class=\"docutils literal notranslate\"><span class=\"pre\">TCRIT</span></code>, <code class=\"docutils literal notranslate\"><span class=\"pre\">T_CRITICAL</span></code>, <code class=\"docutils literal notranslate\"><span class=\"pre\">T_critical</span></code>, <code class=\"docutils literal notranslate\"><span class=\"pre\">Tcrit</span></code></td>\n",
    "<td>K</td>\n",
    "<td>O</td>\n",
    "<td>True</td>\n",
    "<td>Temperature at the critical point</td>\n",
    "</tr>\n",
    "<tr class=\"row-odd\"><td><code class=\"docutils literal notranslate\"><span class=\"pre\">TMAX</span></code>, <code class=\"docutils literal notranslate\"><span class=\"pre\">T_MAX</span></code>, <code class=\"docutils literal notranslate\"><span class=\"pre\">T_max</span></code>, <code class=\"docutils literal notranslate\"><span class=\"pre\">Tmax</span></code></td>\n",
    "<td>K</td>\n",
    "<td>O</td>\n",
    "<td>True</td>\n",
    "<td>Maximum temperature limit</td>\n",
    "</tr>\n",
    "<tr class=\"row-even\"><td><code class=\"docutils literal notranslate\"><span class=\"pre\">TMIN</span></code>, <code class=\"docutils literal notranslate\"><span class=\"pre\">T_MIN</span></code>, <code class=\"docutils literal notranslate\"><span class=\"pre\">T_min</span></code>, <code class=\"docutils literal notranslate\"><span class=\"pre\">Tmin</span></code></td>\n",
    "<td>K</td>\n",
    "<td>O</td>\n",
    "<td>True</td>\n",
    "<td>Minimum temperature limit</td>\n",
    "</tr>\n",
    "<tr class=\"row-odd\"><td><code class=\"docutils literal notranslate\"><span class=\"pre\">TTRIPLE</span></code>, <code class=\"docutils literal notranslate\"><span class=\"pre\">T_TRIPLE</span></code>, <code class=\"docutils literal notranslate\"><span class=\"pre\">T_triple</span></code>, <code class=\"docutils literal notranslate\"><span class=\"pre\">Ttriple</span></code></td>\n",
    "<td>K</td>\n",
    "<td>O</td>\n",
    "<td>True</td>\n",
    "<td>Temperature at the triple point</td>\n",
    "</tr>\n",
    "<tr class=\"row-even\"><td><code class=\"docutils literal notranslate\"><span class=\"pre\">T_FREEZE</span></code>, <code class=\"docutils literal notranslate\"><span class=\"pre\">T_freeze</span></code></td>\n",
    "<td>K</td>\n",
    "<td>O</td>\n",
    "<td>True</td>\n",
    "<td>Freezing temperature for incompressible solutions</td>\n",
    "</tr>\n",
    "<tr class=\"row-odd\"><td><code class=\"docutils literal notranslate\"><span class=\"pre\">T_REDUCING</span></code>, <code class=\"docutils literal notranslate\"><span class=\"pre\">T_reducing</span></code></td>\n",
    "<td>K</td>\n",
    "<td>O</td>\n",
    "<td>True</td>\n",
    "<td>Temperature at the reducing point</td>\n",
    "</tr>\n",
    "<tr class=\"row-even\"><td><code class=\"docutils literal notranslate\"><span class=\"pre\">V</span></code>, <code class=\"docutils literal notranslate\"><span class=\"pre\">VISCOSITY</span></code>, <code class=\"docutils literal notranslate\"><span class=\"pre\">viscosity</span></code></td>\n",
    "<td>Pa s</td>\n",
    "<td>O</td>\n",
    "<td>False</td>\n",
    "<td>Viscosity</td>\n",
    "</tr>\n",
    "<tr class=\"row-odd\"><td><code class=\"docutils literal notranslate\"><span class=\"pre\">Z</span></code></td>\n",
    "<td>&nbsp;</td>\n",
    "<td>O</td>\n",
    "<td>False</td>\n",
    "<td>Compressibility factor</td>\n",
    "</tr>\n",
    "</tbody>\n",
    "</table>"
   ]
  },
  {
   "cell_type": "code",
   "execution_count": 18,
   "id": "90ad04f7",
   "metadata": {},
   "outputs": [],
   "source": [
    "import pyromat as pm\n",
    "import numpy as np\n",
    "import plotly.express as px\n",
    "import sympy as sm\n",
    "import matplotlib.pyplot as plt\n",
    "sm.init_printing()\n",
    "import pchem as pc\n",
    "import CoolProp.CoolProp as CP\n",
    "import functools\n",
    "import operator\n",
    "import pandas as pd\n",
    "from scipy import integrate\n",
    "from scipy import interpolate\n",
    "\n"
   ]
  },
  {
   "cell_type": "markdown",
   "id": "387146dc",
   "metadata": {},
   "source": [
    "http://www.coolprop.org/coolprop/HighLevelAPI.html#table-of-string-inputs-to-propssi-function"
   ]
  },
  {
   "cell_type": "code",
   "execution_count": 4,
   "id": "75773e4f",
   "metadata": {},
   "outputs": [],
   "source": [
    "data = pc.getprop_df('O2', \"Z\", P=np.geomspace(0.01, 10, 20), T=np.geomspace(100, 500, 20))"
   ]
  },
  {
   "cell_type": "code",
   "execution_count": null,
   "id": "ae339d7a",
   "metadata": {},
   "outputs": [],
   "source": [
    "pc.getprop_df"
   ]
  },
  {
   "cell_type": "code",
   "execution_count": 15,
   "id": "f8e10ba8",
   "metadata": {},
   "outputs": [],
   "source": [
    "??pc.getprop"
   ]
  },
  {
   "cell_type": "code",
   "execution_count": 6,
   "id": "3b22ef06",
   "metadata": {},
   "outputs": [
    {
     "data": {
      "image/png": "[encoded data removed]",
      "text/latex": [
       "$\\displaystyle 24.9271997955443$"
      ],
      "text/plain": [
       "24.927199795544293"
      ]
     },
     "execution_count": 6,
     "metadata": {},
     "output_type": "execute_result"
    }
   ],
   "source": [
    "pc.getprop('O2', 'Vmolar', T=200, P=0.6657633)"
   ]
  },
  {
   "cell_type": "code",
   "execution_count": 16,
   "id": "5220baf4",
   "metadata": {},
   "outputs": [
    {
     "ename": "ValueError",
     "evalue": "Output parameter parsing failed; error: Output string is invalid [Vmolar] : PropsSI(\"Vmolar\",\"T\",293,\"Q\",0.5,\"CO2\")",
     "output_type": "error",
     "traceback": [
      "\u001b[0;31m---------------------------------------------------------------------------\u001b[0m",
      "\u001b[0;31mValueError\u001b[0m                                Traceback (most recent call last)",
      "\u001b[0;32m/var/folders/zn/x8ct2v5d1z714b45ycxv1hhc0000gn/T/ipykernel_67220/532067772.py\u001b[0m in \u001b[0;36m<module>\u001b[0;34m\u001b[0m\n\u001b[0;32m----> 1\u001b[0;31m \u001b[0mCP\u001b[0m\u001b[0;34m.\u001b[0m\u001b[0mPropsSI\u001b[0m\u001b[0;34m(\u001b[0m\u001b[0;34m'Vmolar'\u001b[0m\u001b[0;34m,\u001b[0m \u001b[0;34m'T'\u001b[0m\u001b[0;34m,\u001b[0m \u001b[0;36m293\u001b[0m\u001b[0;34m,\u001b[0m \u001b[0;34m'Q'\u001b[0m\u001b[0;34m,\u001b[0m \u001b[0;36m0.5\u001b[0m\u001b[0;34m,\u001b[0m \u001b[0;34m'CO2'\u001b[0m\u001b[0;34m)\u001b[0m\u001b[0;34m\u001b[0m\u001b[0;34m\u001b[0m\u001b[0m\n\u001b[0m",
      "\u001b[0;32mCoolProp/CoolProp.pyx\u001b[0m in \u001b[0;36mCoolProp.CoolProp.PropsSI\u001b[0;34m()\u001b[0m\n",
      "\u001b[0;32mCoolProp/CoolProp.pyx\u001b[0m in \u001b[0;36mCoolProp.CoolProp.PropsSI\u001b[0;34m()\u001b[0m\n",
      "\u001b[0;32mCoolProp/CoolProp.pyx\u001b[0m in \u001b[0;36mCoolProp.CoolProp.__Props_err2\u001b[0;34m()\u001b[0m\n",
      "\u001b[0;31mValueError\u001b[0m: Output parameter parsing failed; error: Output string is invalid [Vmolar] : PropsSI(\"Vmolar\",\"T\",293,\"Q\",0.5,\"CO2\")"
     ]
    }
   ],
   "source": [
    "CP.PropsSI('Vmolar', 'T', 293, 'Q', 0.5, 'CO2')"
   ]
  },
  {
   "cell_type": "code",
   "execution_count": 8,
   "id": "0b47795a",
   "metadata": {},
   "outputs": [
    {
     "data": {
      "image/png": "[encoded data removed]",
      "text/latex": [
       "$\\displaystyle 1.08403827618967$"
      ],
      "text/plain": [
       "1.0840382761896712"
      ]
     },
     "execution_count": 8,
     "metadata": {},
     "output_type": "execute_result"
    }
   ],
   "source": [
    "pc.getprop('CO2', 'Vmolar', P=20, T=294)"
   ]
  },
  {
   "cell_type": "code",
   "execution_count": 9,
   "id": "65886b65",
   "metadata": {},
   "outputs": [
    {
     "data": {
      "image/png": "[encoded data removed]",
      "text/latex": [
       "$\\displaystyle 5.45879668974804$"
      ],
      "text/plain": [
       "5.458796689748045"
      ]
     },
     "execution_count": 9,
     "metadata": {},
     "output_type": "execute_result"
    }
   ],
   "source": [
    "pc.getPressure('CO2', T=294, Vbar=0.05)"
   ]
  },
  {
   "cell_type": "code",
   "execution_count": 11,
   "id": "56c6b9c4",
   "metadata": {},
   "outputs": [
    {
     "data": {
      "image/png": "[encoded data removed]",
      "text/latex": [
       "$\\displaystyle -1.0$"
      ],
      "text/plain": [
       "-1.0"
      ]
     },
     "execution_count": 11,
     "metadata": {},
     "output_type": "execute_result"
    }
   ],
   "source": [
    "pc.getprop('CO2', \"Q\", T=294, P=5.45879)"
   ]
  },
  {
   "cell_type": "code",
   "execution_count": null,
   "id": "f7a2f05a",
   "metadata": {},
   "outputs": [],
   "source": [
    "S273 = getprop('O2', 'Smolar', T=273, P=1)\n",
    "S353 = getprop('O2', 'Smolar', T=353, P=1)"
   ]
  },
  {
   "cell_type": "code",
   "execution_count": null,
   "id": "74cb8df2",
   "metadata": {},
   "outputs": [],
   "source": [
    "dS_real = S353-S273"
   ]
  },
  {
   "cell_type": "code",
   "execution_count": null,
   "id": "f837317f",
   "metadata": {},
   "outputs": [],
   "source": [
    "dS_id = 3.5*8.3145*np.log(353/273)"
   ]
  },
  {
   "cell_type": "code",
   "execution_count": null,
   "id": "b4ce692c",
   "metadata": {},
   "outputs": [],
   "source": [
    "dS_real/dS_id"
   ]
  },
  {
   "cell_type": "code",
   "execution_count": null,
   "id": "9933423d",
   "metadata": {},
   "outputs": [],
   "source": [
    "getPressure('O2', T=200, Vbar=24.92758)"
   ]
  },
  {
   "cell_type": "code",
   "execution_count": null,
   "id": "1a3fa50d",
   "metadata": {},
   "outputs": [],
   "source": [
    "df = getprops_df('O2', ['Smolar', 'Cpmolar'], P=1, T=np.linspace(273, 353))"
   ]
  },
  {
   "cell_type": "code",
   "execution_count": null,
   "id": "179eef94",
   "metadata": {},
   "outputs": [],
   "source": [
    "px.scatter(df, x='T', y='Cpmolar')"
   ]
  },
  {
   "cell_type": "code",
   "execution_count": null,
   "id": "476156cf",
   "metadata": {},
   "outputs": [],
   "source": [
    "temps = np.arange(300.0, 350)\n",
    "\n",
    "cV = getprop('O2', 'CVMOLAR', T=temps, P=1) / 8.3145\n",
    "cP = getprop('O2', 'CPMOLAR', T=temps, P=1) / 8.3145"
   ]
  },
  {
   "cell_type": "code",
   "execution_count": null,
   "id": "88e34185",
   "metadata": {},
   "outputs": [],
   "source": []
  },
  {
   "cell_type": "code",
   "execution_count": null,
   "id": "98703605",
   "metadata": {},
   "outputs": [],
   "source": [
    "cP0 = getprop('O2', 'CP0MOLAR', T=temps, P=1) / 8.3145"
   ]
  },
  {
   "cell_type": "code",
   "execution_count": null,
   "id": "9cc64103",
   "metadata": {},
   "outputs": [],
   "source": [
    "plt.plot(temps, cP)\n",
    "plt.plot(temps, np.full_like(temps, 3.5))"
   ]
  },
  {
   "cell_type": "code",
   "execution_count": null,
   "id": "0c8790a0",
   "metadata": {},
   "outputs": [],
   "source": [
    "integrate.quad(lambda T: getprop('O2', 'CPMOLAR', T=T, P=1), 300, 350)"
   ]
  },
  {
   "cell_type": "code",
   "execution_count": null,
   "id": "4d477190",
   "metadata": {},
   "outputs": [],
   "source": [
    "dS_exact = integrate.quad(lambda T: getprop('O2', 'CPMOLAR', T=T, P=1)/T, 300, 350)[0]"
   ]
  }
 ],
 "metadata": {
  "kernelspec": {
   "display_name": "Python 3 (ipykernel)",
   "language": "python",
   "name": "python3"
  },
  "language_info": {
   "codemirror_mode": {
    "name": "ipython",
    "version": 3
   },
   "file_extension": ".py",
   "mimetype": "text/x-python",
   "name": "python",
   "nbconvert_exporter": "python",
   "pygments_lexer": "ipython3",
   "version": "3.9.7"
  }
 },
 "nbformat": 4,
 "nbformat_minor": 5
}
