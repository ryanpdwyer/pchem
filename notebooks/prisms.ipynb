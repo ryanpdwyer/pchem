{
 "cells": [
  {
   "cell_type": "code",
   "execution_count": 2,
   "id": "844cad50",
   "metadata": {},
   "outputs": [],
   "source": [
    "import matplotlib.pyplot as plt\n",
    "\n",
    "import numpy as np\n",
    "from scipy import integrate"
   ]
  },
  {
   "cell_type": "markdown",
   "id": "68fb2609",
   "metadata": {},
   "source": [
    "## Kinetics simulations\n",
    "\n",
    "E + S ⇌ ES ⇌ E + P\n",
    "\n",
    "Rate constants are $k_\\text{f}, k_\\text{r}, k_\\text{cat}$"
   ]
  },
  {
   "cell_type": "code",
   "execution_count": null,
   "id": "e66f14d8",
   "metadata": {},
   "outputs": [],
   "source": [
    "class NanoPrism:\n",
    "    def __init__(self, Gface=5000, Gface_dagger=2500, k0=1e-3, K298=1e5, T=298):\n",
    "        self.Gface = Gface\n",
    "        self.Gface_dagger = Gface_dagger\n",
    "        self.k0 = k0\n",
    "        # k0 = Ag+ -> Ag rate...\n",
    "        self.K298 = K298\n",
    "        self.T=T"
   ]
  },
  {
   "cell_type": "markdown",
   "id": "bc3f65a8",
   "metadata": {},
   "source": [
    "M = mol/L = mol/dm³\n",
    "mM = mmol/dm³\n",
    "M = mmol/cm³\n",
    "M = µmol/mm³\n",
    "M = fmol/µm³"
   ]
  },
  {
   "cell_type": "code",
   "execution_count": 281,
   "id": "38a1f4ed",
   "metadata": {},
   "outputs": [],
   "source": [
    "Au_mol_per_cm_cubed = (19.3/196.96657)\n",
    "Au_fmol_um3 = Au_mol_per_cm_cubed * 1e-15/1e-12"
   ]
  },
  {
   "cell_type": "code",
   "execution_count": 282,
   "id": "624d74a8",
   "metadata": {},
   "outputs": [
    {
     "data": {
      "text/plain": [
       "9.798617095276626e-05"
      ]
     },
     "execution_count": 282,
     "metadata": {},
     "output_type": "execute_result"
    }
   ],
   "source": [
    "Au_fmol_um3"
   ]
  },
  {
   "cell_type": "code",
   "execution_count": 283,
   "id": "eb36a117",
   "metadata": {},
   "outputs": [],
   "source": [
    "class NanoSphere:\n",
    "    def __init__(self, k0, V=1, rho=Au_fmol_um3):\n",
    "        \"\"\"Volume = 1 um³\"\"\"\n",
    "        self.k0 = k0\n",
    "        self.V = V\n",
    "        self.rho= rho\n",
    "    \n",
    "    def __call__(self, y, t):\n",
    "        \"\"\"State vector is radius, [AuCl₄]. \n",
    "        dn/rho = dV = 4*pi*r²*dr\n",
    "        dn/(rho * 4*pi*r²) = dr\n",
    "        \"\"\"\n",
    "        A = y[1]**2 * 4 * np.pi # um²\n",
    "        rate = self.k0*A*y[0] # rate in fmol/s, y[0] in fmol/um³, A in um², k in 1/um-s\n",
    "        \n",
    "        return np.array([-rate/self.V,\n",
    "                         rate/(self.rho * A)\n",
    "        ])"
   ]
  },
  {
   "cell_type": "code",
   "execution_count": 315,
   "id": "7a70e077",
   "metadata": {},
   "outputs": [],
   "source": [
    "au = NanoSphere(2e-5, V=0.0001)\n",
    "y0 = np.array([1e-3,0.002])\n",
    "t = np.linspace(0, 600, 2001)\n",
    "out = integrate.odeint(au, y0, t)"
   ]
  },
  {
   "cell_type": "code",
   "execution_count": 316,
   "id": "1af36447",
   "metadata": {},
   "outputs": [
    {
     "data": {
      "text/plain": [
       "[<matplotlib.lines.Line2D at 0x11ab8ebb0>]"
      ]
     },
     "execution_count": 316,
     "metadata": {},
     "output_type": "execute_result"
    },
    {
     "data": {
      "image/png": "[encoded data removed]",
      "text/plain": [
       "<Figure size 432x288 with 1 Axes>"
      ]
     },
     "metadata": {
      "needs_background": "light"
     },
     "output_type": "display_data"
    }
   ],
   "source": [
    "plt.plot(t, out[:, 0])"
   ]
  },
  {
   "cell_type": "code",
   "execution_count": 317,
   "id": "0a9542bd",
   "metadata": {},
   "outputs": [
    {
     "data": {
      "text/plain": [
       "[<matplotlib.lines.Line2D at 0x11abfe670>]"
      ]
     },
     "execution_count": 317,
     "metadata": {},
     "output_type": "execute_result"
    },
    {
     "data": {
      "image/png": "[encoded data removed]",
      "text/plain": [
       "<Figure size 432x288 with 1 Axes>"
      ]
     },
     "metadata": {
      "needs_background": "light"
     },
     "output_type": "display_data"
    }
   ],
   "source": [
    "plt.plot(t, out[:, 1])"
   ]
  },
  {
   "cell_type": "code",
   "execution_count": 293,
   "id": "68f788fd",
   "metadata": {},
   "outputs": [
    {
     "data": {
      "text/plain": [
       "10.20552176165803"
      ]
     },
     "execution_count": 293,
     "metadata": {},
     "output_type": "execute_result"
    }
   ],
   "source": [
    "1e-3/Au_fmo_um3"
   ]
  },
  {
   "cell_type": "code",
   "execution_count": 69,
   "id": "d6e8fe80",
   "metadata": {},
   "outputs": [],
   "source": [
    "import matplotlib.pyplot as plt\n",
    "import numpy as np"
   ]
  },
  {
   "cell_type": "code",
   "execution_count": 113,
   "id": "8e6cead6",
   "metadata": {},
   "outputs": [
    {
     "ename": "ValueError",
     "evalue": "x and y arrays must consist of at least 3 unique points",
     "output_type": "error",
     "traceback": [
      "\u001b[0;31m---------------------------------------------------------------------------\u001b[0m",
      "\u001b[0;31mValueError\u001b[0m                                Traceback (most recent call last)",
      "\u001b[0;32m/var/folders/zn/x8ct2v5d1z714b45ycxv1hhc0000gn/T/ipykernel_42471/1707022952.py\u001b[0m in \u001b[0;36m<module>\u001b[0;34m\u001b[0m\n\u001b[1;32m      7\u001b[0m \u001b[0;34m\u001b[0m\u001b[0m\n\u001b[1;32m      8\u001b[0m \u001b[0;31m# bottom pts...\u001b[0m\u001b[0;34m\u001b[0m\u001b[0;34m\u001b[0m\u001b[0m\n\u001b[0;32m----> 9\u001b[0;31m \u001b[0max\u001b[0m\u001b[0;34m.\u001b[0m\u001b[0mplot_trisurf\u001b[0m\u001b[0;34m(\u001b[0m\u001b[0mtop_bottom\u001b[0m\u001b[0;34m[\u001b[0m\u001b[0;36m0\u001b[0m\u001b[0;34m]\u001b[0m\u001b[0;34m,\u001b[0m \u001b[0mtop_bottom\u001b[0m\u001b[0;34m[\u001b[0m\u001b[0;36m1\u001b[0m\u001b[0;34m]\u001b[0m\u001b[0;34m,\u001b[0m \u001b[0mtop_bottom\u001b[0m\u001b[0;34m[\u001b[0m\u001b[0;36m2\u001b[0m\u001b[0;34m]\u001b[0m\u001b[0;34m,\u001b[0m \u001b[0mlinewidth\u001b[0m\u001b[0;34m=\u001b[0m\u001b[0;36m0.2\u001b[0m\u001b[0;34m,\u001b[0m \u001b[0mantialiased\u001b[0m\u001b[0;34m=\u001b[0m\u001b[0;32mTrue\u001b[0m\u001b[0;34m)\u001b[0m\u001b[0;34m\u001b[0m\u001b[0;34m\u001b[0m\u001b[0m\n\u001b[0m\u001b[1;32m     10\u001b[0m \u001b[0max\u001b[0m\u001b[0;34m.\u001b[0m\u001b[0mset_axis_off\u001b[0m\u001b[0;34m(\u001b[0m\u001b[0;34m)\u001b[0m\u001b[0;34m\u001b[0m\u001b[0;34m\u001b[0m\u001b[0m\n\u001b[1;32m     11\u001b[0m \u001b[0max\u001b[0m\u001b[0;34m\u001b[0m\u001b[0;34m\u001b[0m\u001b[0m\n",
      "\u001b[0;32m~/miniconda3/lib/python3.9/site-packages/mpl_toolkits/mplot3d/axes3d.py\u001b[0m in \u001b[0;36mplot_trisurf\u001b[0;34m(self, color, norm, vmin, vmax, lightsource, *args, **kwargs)\u001b[0m\n\u001b[1;32m   2038\u001b[0m \u001b[0;34m\u001b[0m\u001b[0m\n\u001b[1;32m   2039\u001b[0m         \u001b[0mtri\u001b[0m\u001b[0;34m,\u001b[0m \u001b[0margs\u001b[0m\u001b[0;34m,\u001b[0m \u001b[0mkwargs\u001b[0m \u001b[0;34m=\u001b[0m\u001b[0;31m \u001b[0m\u001b[0;31m\\\u001b[0m\u001b[0;34m\u001b[0m\u001b[0;34m\u001b[0m\u001b[0m\n\u001b[0;32m-> 2040\u001b[0;31m             \u001b[0mTriangulation\u001b[0m\u001b[0;34m.\u001b[0m\u001b[0mget_from_args_and_kwargs\u001b[0m\u001b[0;34m(\u001b[0m\u001b[0;34m*\u001b[0m\u001b[0margs\u001b[0m\u001b[0;34m,\u001b[0m \u001b[0;34m**\u001b[0m\u001b[0mkwargs\u001b[0m\u001b[0;34m)\u001b[0m\u001b[0;34m\u001b[0m\u001b[0;34m\u001b[0m\u001b[0m\n\u001b[0m\u001b[1;32m   2041\u001b[0m         \u001b[0;32mtry\u001b[0m\u001b[0;34m:\u001b[0m\u001b[0;34m\u001b[0m\u001b[0;34m\u001b[0m\u001b[0m\n\u001b[1;32m   2042\u001b[0m             \u001b[0mz\u001b[0m \u001b[0;34m=\u001b[0m \u001b[0mkwargs\u001b[0m\u001b[0;34m.\u001b[0m\u001b[0mpop\u001b[0m\u001b[0;34m(\u001b[0m\u001b[0;34m'Z'\u001b[0m\u001b[0;34m)\u001b[0m\u001b[0;34m\u001b[0m\u001b[0;34m\u001b[0m\u001b[0m\n",
      "\u001b[0;32m~/miniconda3/lib/python3.9/site-packages/matplotlib/tri/triangulation.py\u001b[0m in \u001b[0;36mget_from_args_and_kwargs\u001b[0;34m(*args, **kwargs)\u001b[0m\n\u001b[1;32m    162\u001b[0m             \u001b[0mmask\u001b[0m \u001b[0;34m=\u001b[0m \u001b[0mkwargs\u001b[0m\u001b[0;34m.\u001b[0m\u001b[0mpop\u001b[0m\u001b[0;34m(\u001b[0m\u001b[0;34m'mask'\u001b[0m\u001b[0;34m,\u001b[0m \u001b[0;32mNone\u001b[0m\u001b[0;34m)\u001b[0m\u001b[0;34m\u001b[0m\u001b[0;34m\u001b[0m\u001b[0m\n\u001b[1;32m    163\u001b[0m \u001b[0;34m\u001b[0m\u001b[0m\n\u001b[0;32m--> 164\u001b[0;31m             \u001b[0mtriangulation\u001b[0m \u001b[0;34m=\u001b[0m \u001b[0mTriangulation\u001b[0m\u001b[0;34m(\u001b[0m\u001b[0mx\u001b[0m\u001b[0;34m,\u001b[0m \u001b[0my\u001b[0m\u001b[0;34m,\u001b[0m \u001b[0mtriangles\u001b[0m\u001b[0;34m,\u001b[0m \u001b[0mmask\u001b[0m\u001b[0;34m)\u001b[0m\u001b[0;34m\u001b[0m\u001b[0;34m\u001b[0m\u001b[0m\n\u001b[0m\u001b[1;32m    165\u001b[0m         \u001b[0;32mreturn\u001b[0m \u001b[0mtriangulation\u001b[0m\u001b[0;34m,\u001b[0m \u001b[0margs\u001b[0m\u001b[0;34m,\u001b[0m \u001b[0mkwargs\u001b[0m\u001b[0;34m\u001b[0m\u001b[0;34m\u001b[0m\u001b[0m\n\u001b[1;32m    166\u001b[0m \u001b[0;34m\u001b[0m\u001b[0m\n",
      "\u001b[0;32m~/miniconda3/lib/python3.9/site-packages/matplotlib/tri/triangulation.py\u001b[0m in \u001b[0;36m__init__\u001b[0;34m(self, x, y, triangles, mask)\u001b[0m\n\u001b[1;32m     52\u001b[0m             \u001b[0;31m# No triangulation specified, so use matplotlib._qhull to obtain\u001b[0m\u001b[0;34m\u001b[0m\u001b[0;34m\u001b[0m\u001b[0m\n\u001b[1;32m     53\u001b[0m             \u001b[0;31m# Delaunay triangulation.\u001b[0m\u001b[0;34m\u001b[0m\u001b[0;34m\u001b[0m\u001b[0m\n\u001b[0;32m---> 54\u001b[0;31m             \u001b[0mself\u001b[0m\u001b[0;34m.\u001b[0m\u001b[0mtriangles\u001b[0m\u001b[0;34m,\u001b[0m \u001b[0mself\u001b[0m\u001b[0;34m.\u001b[0m\u001b[0m_neighbors\u001b[0m \u001b[0;34m=\u001b[0m \u001b[0m_qhull\u001b[0m\u001b[0;34m.\u001b[0m\u001b[0mdelaunay\u001b[0m\u001b[0;34m(\u001b[0m\u001b[0mx\u001b[0m\u001b[0;34m,\u001b[0m \u001b[0my\u001b[0m\u001b[0;34m)\u001b[0m\u001b[0;34m\u001b[0m\u001b[0;34m\u001b[0m\u001b[0m\n\u001b[0m\u001b[1;32m     55\u001b[0m             \u001b[0mself\u001b[0m\u001b[0;34m.\u001b[0m\u001b[0mis_delaunay\u001b[0m \u001b[0;34m=\u001b[0m \u001b[0;32mTrue\u001b[0m\u001b[0;34m\u001b[0m\u001b[0;34m\u001b[0m\u001b[0m\n\u001b[1;32m     56\u001b[0m         \u001b[0;32melse\u001b[0m\u001b[0;34m:\u001b[0m\u001b[0;34m\u001b[0m\u001b[0;34m\u001b[0m\u001b[0m\n",
      "\u001b[0;31mValueError\u001b[0m: x and y arrays must consist of at least 3 unique points"
     ]
    },
    {
     "data": {
      "image/png": "[encoded data removed]",
      "text/plain": [
       "<Figure size 432x288 with 1 Axes>"
      ]
     },
     "metadata": {
      "needs_background": "light"
     },
     "output_type": "display_data"
    }
   ],
   "source": [
    "bottom = np.c_[[0, 0, 1], [0, 1, 1], [0, 0, 0]]\n",
    "top = np.c_[[0, 0, 1], [0, 1, 1], [1, 1, 1]]\n",
    "\n",
    "\n",
    "ax = plt.figure().add_subplot(projection='3d')\n",
    "\n",
    "# bottom pts...\n",
    "ax.plot_trisurf(top_bottom[0], top_bottom[1], top_bottom[2], linewidth=0.2, antialiased=True)\n",
    "ax.set_axis_off()\n",
    "ax"
   ]
  },
  {
   "cell_type": "code",
   "execution_count": 106,
   "id": "126b0711",
   "metadata": {},
   "outputs": [],
   "source": [
    "from scipy.spatial import Delaunay"
   ]
  },
  {
   "cell_type": "code",
   "execution_count": null,
   "id": "f1412c6a",
   "metadata": {},
   "outputs": [],
   "source": []
  },
  {
   "cell_type": "code",
   "execution_count": 115,
   "id": "ef47b91b",
   "metadata": {},
   "outputs": [],
   "source": [
    "top_bottom = np.r_[bottom, top]\n",
    "tris = Delaunay(top_bottom)"
   ]
  },
  {
   "cell_type": "code",
   "execution_count": 139,
   "id": "9b703d40",
   "metadata": {},
   "outputs": [],
   "source": [
    "from scipy.spatial import ConvexHull\n",
    "from munch import Munch"
   ]
  },
  {
   "cell_type": "code",
   "execution_count": null,
   "id": "27c73ccb",
   "metadata": {},
   "outputs": [],
   "source": []
  },
  {
   "cell_type": "code",
   "execution_count": 230,
   "id": "db442407",
   "metadata": {},
   "outputs": [],
   "source": [
    "def prism(s, h, offset=0):\n",
    "    pts = np.array([\n",
    "        [0, 0, 0],\n",
    "        [s/2, s*np.sqrt(3)/2, 0],\n",
    "        [-s/2, s*np.sqrt(3)/2, 0],\n",
    "        [0, 0, h],\n",
    "        [-s/2, s*np.sqrt(3)/2, h],\n",
    "        [s/2, s*np.sqrt(3)/2, h],\n",
    "        ])\n",
    "    x, y, z = pts.T\n",
    "    z = z + offset\n",
    "    ch = ConvexHull(pts)\n",
    "    return Munch(x=x, y=y, z=z, triangles=ch.simplices)\n",
    "    "
   ]
  },
  {
   "cell_type": "code",
   "execution_count": 258,
   "id": "f9fbd1d6",
   "metadata": {},
   "outputs": [],
   "source": [
    "out = prism(1, 1, 0)"
   ]
  },
  {
   "cell_type": "code",
   "execution_count": 263,
   "id": "38ca5ce3",
   "metadata": {},
   "outputs": [
    {
     "data": {
      "text/plain": [
       "(-0.1, 3.9)"
      ]
     },
     "execution_count": 263,
     "metadata": {},
     "output_type": "execute_result"
    },
    {
     "data": {
      "image/png": "[encoded data removed]",
      "text/plain": [
       "<Figure size 432x288 with 1 Axes>"
      ]
     },
     "metadata": {
      "needs_background": "light"
     },
     "output_type": "display_data"
    }
   ],
   "source": [
    "ax = plt.figure().add_subplot(projection='3d')\n",
    "ax.plot_trisurf(out.x, out.y, out.z, triangles=out.triangles, linewidth=0.2, antialiased=True)\n",
    "ax.set_xlim3d(xmin=-3, xmax=3)\n",
    "ax.set_ylim3d(ymin=-0.5, ymax=5.5)\n",
    "ax.set_zlim3d(zmin=-0.1, zmax=3.9)"
   ]
  },
  {
   "cell_type": "code",
   "execution_count": 195,
   "id": "557ecc3b",
   "metadata": {},
   "outputs": [
    {
     "ename": "TypeError",
     "evalue": "__init__() takes at least 2 positional arguments (1 given)",
     "output_type": "error",
     "traceback": [
      "\u001b[0;31m---------------------------------------------------------------------------\u001b[0m",
      "\u001b[0;31mTypeError\u001b[0m                                 Traceback (most recent call last)",
      "\u001b[0;32m/var/folders/zn/x8ct2v5d1z714b45ycxv1hhc0000gn/T/ipykernel_42471/1323952594.py\u001b[0m in \u001b[0;36m<module>\u001b[0;34m\u001b[0m\n\u001b[0;32m----> 1\u001b[0;31m \u001b[0mDelaunay\u001b[0m\u001b[0;34m(\u001b[0m\u001b[0;34m)\u001b[0m\u001b[0;34m\u001b[0m\u001b[0;34m\u001b[0m\u001b[0m\n\u001b[0m",
      "\u001b[0;32mqhull.pyx\u001b[0m in \u001b[0;36mscipy.spatial.qhull.Delaunay.__init__\u001b[0;34m()\u001b[0m\n",
      "\u001b[0;31mTypeError\u001b[0m: __init__() takes at least 2 positional arguments (1 given)"
     ]
    }
   ],
   "source": [
    "Delaunay()"
   ]
  },
  {
   "cell_type": "code",
   "execution_count": 68,
   "id": "183f6c01",
   "metadata": {},
   "outputs": [],
   "source": [
    "class Enzyme:\n",
    "    def __init__(self, kf, kr, kcat):\n",
    "        self.kf = kf\n",
    "        self.kr = kr\n",
    "        self.kcat = kcat\n",
    "    \n",
    "    def dydt(self, y, t):\n",
    "        \"\"\"State vector is S, E, ES, P\"\"\"\n",
    "        kf, kr, kcat = self.kf, self.kr, self.kcat\n",
    "        r1fwd = kf*y[0]*y[1]\n",
    "        r1rev = kr * y[2]\n",
    "        r2fwd = kcat * y[2]\n",
    "        return np.array([\n",
    "            -r1fwd + r1rev,\n",
    "            -r1fwd + r1rev + r2fwd,\n",
    "            r1fwd - r1rev - r2fwd,\n",
    "            r2fwd\n",
    "        ])\n",
    "    \n",
    "    def rate(self, y):\n",
    "        return self.kcat * y.T[2]"
   ]
  },
  {
   "cell_type": "code",
   "execution_count": 64,
   "id": "29157f2b",
   "metadata": {},
   "outputs": [],
   "source": [
    "e = Enzyme(1, 1, 1)\n",
    "y0 = np.array([1, 0.1, 0, 0])\n",
    "t= np.linspace(0, 1000, 1001)\n",
    "out = integrate.odeint(e.dydt, y0, t)"
   ]
  },
  {
   "cell_type": "code",
   "execution_count": 65,
   "id": "afcd3261",
   "metadata": {},
   "outputs": [
    {
     "data": {
      "text/plain": [
       "(1001,)"
      ]
     },
     "execution_count": 65,
     "metadata": {},
     "output_type": "execute_result"
    }
   ],
   "source": [
    "out.shape\n",
    "t.shape"
   ]
  },
  {
   "cell_type": "code",
   "execution_count": 66,
   "id": "60a1ccb4",
   "metadata": {},
   "outputs": [
    {
     "data": {
      "text/plain": [
       "array([ 0.00000000e+00,  3.07301763e-02,  3.15460460e-02, ...,\n",
       "       -6.45994816e-12, -6.40791137e-12, -6.35546167e-12])"
      ]
     },
     "execution_count": 66,
     "metadata": {},
     "output_type": "execute_result"
    }
   ],
   "source": [
    " e.rate(out)"
   ]
  },
  {
   "cell_type": "code",
   "execution_count": 67,
   "id": "30180677",
   "metadata": {},
   "outputs": [
    {
     "data": {
      "text/plain": [
       "[<matplotlib.lines.Line2D at 0x114bddee0>]"
      ]
     },
     "execution_count": 67,
     "metadata": {},
     "output_type": "execute_result"
    },
    {
     "data": {
      "image/png": "[encoded data removed]",
      "text/plain": [
       "<Figure size 432x288 with 1 Axes>"
      ]
     },
     "metadata": {
      "needs_background": "light"
     },
     "output_type": "display_data"
    }
   ],
   "source": [
    "plt.plot(out[:, 0], e.rate(out), '.')"
   ]
  },
  {
   "cell_type": "code",
   "execution_count": null,
   "id": "21550d6c",
   "metadata": {},
   "outputs": [],
   "source": []
  }
 ],
 "metadata": {
  "kernelspec": {
   "display_name": "Python 3 (ipykernel)",
   "language": "python",
   "name": "python3"
  },
  "language_info": {
   "codemirror_mode": {
    "name": "ipython",
    "version": 3
   },
   "file_extension": ".py",
   "mimetype": "text/x-python",
   "name": "python",
   "nbconvert_exporter": "python",
   "pygments_lexer": "ipython3",
   "version": "3.9.7"
  }
 },
 "nbformat": 4,
 "nbformat_minor": 5
}
