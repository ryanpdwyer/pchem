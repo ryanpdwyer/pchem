{
 "cells": [
  {
   "cell_type": "code",
   "execution_count": 90,
   "id": "033bd1c6",
   "metadata": {},
   "outputs": [],
   "source": [
    "import matplotlib.pyplot as plt\n",
    "\n",
    "import numpy as np\n",
    "from scipy import integrate\n",
    "from scipy.spatial import Delaunay\n",
    "from scipy.spatial import ConvexHull\n",
    "from munch import Munch"
   ]
  },
  {
   "cell_type": "markdown",
   "id": "80db5e13",
   "metadata": {},
   "source": [
    "## Kinetics simulations\n",
    "\n",
    "E + S ⇌ ES ⇌ E + P\n",
    "\n",
    "Rate constants are $k_\\text{f}, k_\\text{r}, k_\\text{cat}$"
   ]
  },
  {
   "cell_type": "code",
   "execution_count": 91,
   "id": "22353bb5",
   "metadata": {},
   "outputs": [],
   "source": [
    "Au_mol_per_cm_cubed = (19.3/196.96657)\n",
    "Au_fmol_um3 = Au_mol_per_cm_cubed * 1e-15/1e-12\n",
    "Ag_mol_per_cm_cubed = (10.49/107.8682)\n",
    "Ag_fmol_um3 = Ag_mol_per_cm_cubed * 1e-15/1e-12"
   ]
  },
  {
   "cell_type": "markdown",
   "id": "b3a5cfc7",
   "metadata": {},
   "source": [
    "$$\n",
    "\\begin{align}\n",
    "\\frac{dT}{dt}& = \\frac{k_\\text{side} [\\text{Ag}^+] A_\\text{side}}{\\rho A_\\text{side} \\sqrt{3}}   \\\\\n",
    "\\frac{dS}{dt}& = \\frac{k_\\text{top} [\\text{Ag}^+] A_\\text{top}}{\\rho A_\\text{top}}\n",
    "\\end{align}\n",
    "$$\n",
    "\n",
    "$$A_\\text{top} = \\frac{\\sqrt{3}}{2}T^2$$"
   ]
  },
  {
   "cell_type": "code",
   "execution_count": 92,
   "id": "eb975623",
   "metadata": {},
   "outputs": [],
   "source": [
    "class NanoPrism:\n",
    "    def __init__(self, Gface=5000, Gface_dagger=2500, k0=1e-3, K298=1e5, T=298, V=1, rho=Ag_fmol_um3):\n",
    "        self.Gface = Gface\n",
    "        self.Gface_dagger = Gface_dagger\n",
    "        self.k0 = k0\n",
    "        # k0 = Ag+ -> Ag rate...\n",
    "        self.K298 = K298\n",
    "        self.T=T\n",
    "        self.k_top = self.k0\n",
    "        self.k_face = self.k0*np.exp(-self.Gface_dagger/(8.3145*self.T)) # difference in free energy...\n",
    "        self.rho = rho\n",
    "        self.V=V\n",
    "    \n",
    "    def __call__(self, y, t):\n",
    "        \"\"\"State vector is [Ag⁺], top edge length, side edge length.\"\"\"\n",
    "        A_top = np.sqrt(3)/2*y[1]**2\n",
    "        A_face = y[1]*y[2]*3 # Triangular prism\n",
    "        rate_top = self.k_top * y[0] * A_top\n",
    "        rate_face = self.k_face * y[0]* A_face\n",
    "        rate_Ag = -(rate_top+rate_face)/self.V\n",
    "        rate_side_edge = rate_top/(self.rho*A_top)\n",
    "        rate_top_edge = rate_face/(self.rho*A_face*np.sqrt(3))\n",
    "        return np.array([\n",
    "            rate_Ag,\n",
    "            rate_top_edge,\n",
    "            rate_side_edge\n",
    "        ])\n",
    "    \n",
    "\n",
    "class NanoSphere:\n",
    "    def __init__(self, k0, V=1, rho=Au_fmol_um3):\n",
    "        \"\"\"Volume = 1 um³\"\"\"\n",
    "        self.k0 = k0\n",
    "        self.V = V\n",
    "        self.rho= rho\n",
    "    \n",
    "    def __call__(self, y, t):\n",
    "        \"\"\"State vector is [AuCl₄], radius\n",
    "        dn/rho = dV = 4*pi*r²*dr\n",
    "        dn/(rho * 4*pi*r²) = dr\n",
    "        \"\"\"\n",
    "        A = y[1]**2 * 4 * np.pi # um²\n",
    "        rate = self.k0*A*y[0] # rate in fmol/s, y[0] in fmol/um³, A in um², k in 1/um-s\n",
    "        \n",
    "        return np.array([-rate/self.V,\n",
    "                         rate/(self.rho * A)\n",
    "        ])\n",
    "    \n",
    "    def rate(self, y):\n",
    "        A = y[1]**2 * 4 * np.pi # um²\n",
    "        return self.k0*A*y[0] # rate in fmol/s, y[0] in fmol/um³, A in um², k in 1/um-s\n",
    "\n",
    "\n",
    "def prism(s, h, x_offset=0, y_offset=0, z_offset=0):\n",
    "    pts = np.array([\n",
    "        [0, 0, 0],\n",
    "        [s/2, s*np.sqrt(3)/2, 0],\n",
    "        [-s/2, s*np.sqrt(3)/2, 0],\n",
    "        [0, 0, h],\n",
    "        [-s/2, s*np.sqrt(3)/2, h],\n",
    "        [s/2, s*np.sqrt(3)/2, h],\n",
    "        ])\n",
    "    x, y, z = pts.T\n",
    "    x = x + x_offset\n",
    "    y = y + y_offset\n",
    "    z = z + z_offset\n",
    "    ch = ConvexHull(pts)\n",
    "    return Munch(x=x, y=y, z=z, triangles=ch.simplices, s=s, h=h, max_dim = max(s, h), offset=np.array([x_offset, y_offset, z_offset]))"
   ]
  },
  {
   "cell_type": "markdown",
   "id": "b4d1992e",
   "metadata": {},
   "source": [
    "M = mol/L = mol/dm³\n",
    "mM = mmol/dm³\n",
    "M = mmol/cm³\n",
    "M = µmol/mm³\n",
    "M = fmol/µm³"
   ]
  },
  {
   "cell_type": "code",
   "execution_count": 93,
   "id": "f5534612",
   "metadata": {},
   "outputs": [],
   "source": [
    "au = NanoSphere(2e-5, V=0.0001)\n",
    "y0 = np.array([1e-3,0.002])\n",
    "t = np.linspace(0, 600, 2001)\n",
    "out = integrate.odeint(au, y0, t)"
   ]
  },
  {
   "cell_type": "code",
   "execution_count": 94,
   "id": "db2f8e19",
   "metadata": {},
   "outputs": [
    {
     "data": {
      "text/plain": [
       "[<matplotlib.lines.Line2D at 0x165138b20>]"
      ]
     },
     "execution_count": 94,
     "metadata": {},
     "output_type": "execute_result"
    },
    {
     "data": {
      "image/png": "[encoded data removed]",
      "text/plain": [
       "<Figure size 432x288 with 1 Axes>"
      ]
     },
     "metadata": {
      "needs_background": "light"
     },
     "output_type": "display_data"
    }
   ],
   "source": [
    "plt.plot(t, out[:, 0])"
   ]
  },
  {
   "cell_type": "code",
   "execution_count": 95,
   "id": "e4a0f262",
   "metadata": {},
   "outputs": [
    {
     "data": {
      "text/plain": [
       "[<matplotlib.lines.Line2D at 0x1650cef10>]"
      ]
     },
     "execution_count": 95,
     "metadata": {},
     "output_type": "execute_result"
    },
    {
     "data": {
      "image/png": "[encoded data removed]",
      "text/plain": [
       "<Figure size 432x288 with 1 Axes>"
      ]
     },
     "metadata": {
      "needs_background": "light"
     },
     "output_type": "display_data"
    }
   ],
   "source": [
    "plt.plot(t, out[:, 1])"
   ]
  },
  {
   "cell_type": "code",
   "execution_count": 96,
   "id": "999362bf",
   "metadata": {},
   "outputs": [
    {
     "data": {
      "text/plain": [
       "[<matplotlib.lines.Line2D at 0x164f3d9d0>]"
      ]
     },
     "execution_count": 96,
     "metadata": {},
     "output_type": "execute_result"
    },
    {
     "data": {
      "image/png": "[encoded data removed]",
      "text/plain": [
       "<Figure size 432x288 with 1 Axes>"
      ]
     },
     "metadata": {
      "needs_background": "light"
     },
     "output_type": "display_data"
    }
   ],
   "source": [
    "au_rate = au.rate(out.T)\n",
    "plt.plot(t, au_rate/au_rate.max())\n",
    "plt.plot(t, out[:, 0]/out[0, 0])"
   ]
  },
  {
   "cell_type": "code",
   "execution_count": 147,
   "id": "dc5a16e5",
   "metadata": {},
   "outputs": [],
   "source": []
  },
  {
   "cell_type": "code",
   "execution_count": 146,
   "id": "189b8d98",
   "metadata": {},
   "outputs": [
    {
     "data": {
      "text/plain": [
       "(-2.0, 38.0)"
      ]
     },
     "execution_count": 146,
     "metadata": {},
     "output_type": "execute_result"
    },
    {
     "data": {
      "image/png": "[encoded data removed]",
      "text/plain": [
       "<Figure size 432x288 with 1 Axes>"
      ]
     },
     "metadata": {
      "needs_background": "light"
     },
     "output_type": "display_data"
    }
   ],
   "source": [
    "out = prism(5*10, 5, 0)\n",
    "ax = plt.figure().add_subplot(projection='3d')\n",
    "ax.plot_trisurf(out.x, out.y, out.z, triangles=out.triangles, linewidth=0.2, antialiased=True)\n",
    "\n",
    "\n",
    "out2 = prism(5*7, 5, y_offset=3, z_offset=18)\n",
    "out3 = prism(5*4, 5, y_offset=6, z_offset=33)\n",
    "\n",
    "ax.plot_trisurf(out2.x, out2.y, out2.z, triangles=out2.triangles, linewidth=1, antialiased=True, )\n",
    "ax.plot_trisurf(out3.x, out3.y, out3.z, triangles=out3.triangles, linewidth=1, antialiased=True, )\n",
    "ax.set_xlim3d(xmin=-30, xmax=30)\n",
    "ax.set_ylim3d(ymin=-5, ymax=56)\n",
    "ax.set_zlim3d(zmin=-2, zmax=38)"
   ]
  },
  {
   "cell_type": "code",
   "execution_count": 156,
   "id": "654516a3",
   "metadata": {},
   "outputs": [
    {
     "data": {
      "application/vnd.plotly.v1+json": {
       "config": {
        "plotlyServerURL": "https://plot.ly"
       },
       "data": [
        {
         "facecolor": [
          "rgb(31, 119, 180)",
          "rgb(255, 127, 14)",
          "rgb(180, 124, 69)",
          "rgb(106, 122, 125)",
          "rgb(180, 124, 69)",
          "rgb(106, 122, 125)",
          "rgb(180, 124, 69)",
          "rgb(106, 122, 125)"
         ],
         "i": [
          0,
          5,
          4,
          4,
          5,
          5,
          5,
          5
         ],
         "j": [
          1,
          4,
          3,
          0,
          3,
          0,
          4,
          1
         ],
         "k": [
          2,
          3,
          0,
          2,
          0,
          1,
          2,
          2
         ],
         "name": "",
         "type": "mesh3d",
         "x": [
          0,
          25,
          -25,
          0,
          -25,
          25
         ],
         "y": [
          0,
          43.30127018922193,
          43.30127018922193,
          0,
          43.30127018922193,
          43.30127018922193
         ],
         "z": [
          0,
          0,
          0,
          5,
          5,
          5
         ]
        },
        {
         "line": {
          "color": "rgb(50, 50, 50)",
          "width": 1.5
         },
         "mode": "lines",
         "showlegend": false,
         "type": "scatter3d",
         "x": [
          0,
          25,
          -25,
          0,
          null,
          25,
          -25,
          0,
          25,
          null,
          -25,
          0,
          0,
          -25,
          null,
          -25,
          0,
          -25,
          -25,
          null,
          25,
          0,
          0,
          25,
          null,
          25,
          0,
          25,
          25,
          null,
          25,
          -25,
          -25,
          25,
          null,
          25,
          25,
          -25,
          25,
          null
         ],
         "y": [
          0,
          43.30127018922193,
          43.30127018922193,
          0,
          null,
          43.30127018922193,
          43.30127018922193,
          0,
          43.30127018922193,
          null,
          43.30127018922193,
          0,
          0,
          43.30127018922193,
          null,
          43.30127018922193,
          0,
          43.30127018922193,
          43.30127018922193,
          null,
          43.30127018922193,
          0,
          0,
          43.30127018922193,
          null,
          43.30127018922193,
          0,
          43.30127018922193,
          43.30127018922193,
          null,
          43.30127018922193,
          43.30127018922193,
          43.30127018922193,
          43.30127018922193,
          null,
          43.30127018922193,
          43.30127018922193,
          43.30127018922193,
          43.30127018922193,
          null
         ],
         "z": [
          0,
          0,
          0,
          0,
          null,
          5,
          5,
          5,
          5,
          null,
          5,
          5,
          0,
          5,
          null,
          5,
          0,
          0,
          5,
          null,
          5,
          5,
          0,
          5,
          null,
          5,
          0,
          0,
          5,
          null,
          5,
          5,
          0,
          5,
          null,
          5,
          0,
          0,
          5,
          null
         ]
        },
        {
         "hoverinfo": "none",
         "marker": {
          "color": [
           0,
           5
          ],
          "colorscale": [
           [
            0,
            "rgb(31, 119, 180)"
           ],
           [
            1,
            "rgb(255, 127, 14)"
           ]
          ],
          "showscale": true,
          "size": 0.1
         },
         "mode": "markers",
         "showlegend": false,
         "type": "scatter3d",
         "x": [
          0
         ],
         "y": [
          0
         ],
         "z": [
          0
         ]
        }
       ],
       "layout": {
        "height": 800,
        "scene": {
         "aspectratio": {
          "x": 1,
          "y": 1,
          "z": 0.5
         },
         "xaxis": {
          "backgroundcolor": "rgb(230, 230, 230)",
          "gridcolor": "rgb(255, 255, 255)",
          "showbackground": true,
          "zerolinecolor": "rgb(255, 255, 255)"
         },
         "yaxis": {
          "backgroundcolor": "rgb(230, 230, 230)",
          "gridcolor": "rgb(255, 255, 255)",
          "showbackground": true,
          "zerolinecolor": "rgb(255, 255, 255)"
         },
         "zaxis": {
          "backgroundcolor": "rgb(230, 230, 230)",
          "gridcolor": "rgb(255, 255, 255)",
          "showbackground": true,
          "zerolinecolor": "rgb(255, 255, 255)"
         }
        },
        "template": {
         "data": {
          "bar": [
           {
            "error_x": {
             "color": "#2a3f5f"
            },
            "error_y": {
             "color": "#2a3f5f"
            },
            "marker": {
             "line": {
              "color": "#E5ECF6",
              "width": 0.5
             },
             "pattern": {
              "fillmode": "overlay",
              "size": 10,
              "solidity": 0.2
             }
            },
            "type": "bar"
           }
          ],
          "barpolar": [
           {
            "marker": {
             "line": {
              "color": "#E5ECF6",
              "width": 0.5
             },
             "pattern": {
              "fillmode": "overlay",
              "size": 10,
              "solidity": 0.2
             }
            },
            "type": "barpolar"
           }
          ],
          "carpet": [
           {
            "aaxis": {
             "endlinecolor": "#2a3f5f",
             "gridcolor": "white",
             "linecolor": "white",
             "minorgridcolor": "white",
             "startlinecolor": "#2a3f5f"
            },
            "baxis": {
             "endlinecolor": "#2a3f5f",
             "gridcolor": "white",
             "linecolor": "white",
             "minorgridcolor": "white",
             "startlinecolor": "#2a3f5f"
            },
            "type": "carpet"
           }
          ],
          "choropleth": [
           {
            "colorbar": {
             "outlinewidth": 0,
             "ticks": ""
            },
            "type": "choropleth"
           }
          ],
          "contour": [
           {
            "colorbar": {
             "outlinewidth": 0,
             "ticks": ""
            },
            "colorscale": [
             [
              0,
              "#0d0887"
             ],
             [
              0.1111111111111111,
              "#46039f"
             ],
             [
              0.2222222222222222,
              "#7201a8"
             ],
             [
              0.3333333333333333,
              "#9c179e"
             ],
             [
              0.4444444444444444,
              "#bd3786"
             ],
             [
              0.5555555555555556,
              "#d8576b"
             ],
             [
              0.6666666666666666,
              "#ed7953"
             ],
             [
              0.7777777777777778,
              "#fb9f3a"
             ],
             [
              0.8888888888888888,
              "#fdca26"
             ],
             [
              1,
              "#f0f921"
             ]
            ],
            "type": "contour"
           }
          ],
          "contourcarpet": [
           {
            "colorbar": {
             "outlinewidth": 0,
             "ticks": ""
            },
            "type": "contourcarpet"
           }
          ],
          "heatmap": [
           {
            "colorbar": {
             "outlinewidth": 0,
             "ticks": ""
            },
            "colorscale": [
             [
              0,
              "#0d0887"
             ],
             [
              0.1111111111111111,
              "#46039f"
             ],
             [
              0.2222222222222222,
              "#7201a8"
             ],
             [
              0.3333333333333333,
              "#9c179e"
             ],
             [
              0.4444444444444444,
              "#bd3786"
             ],
             [
              0.5555555555555556,
              "#d8576b"
             ],
             [
              0.6666666666666666,
              "#ed7953"
             ],
             [
              0.7777777777777778,
              "#fb9f3a"
             ],
             [
              0.8888888888888888,
              "#fdca26"
             ],
             [
              1,
              "#f0f921"
             ]
            ],
            "type": "heatmap"
           }
          ],
          "heatmapgl": [
           {
            "colorbar": {
             "outlinewidth": 0,
             "ticks": ""
            },
            "colorscale": [
             [
              0,
              "#0d0887"
             ],
             [
              0.1111111111111111,
              "#46039f"
             ],
             [
              0.2222222222222222,
              "#7201a8"
             ],
             [
              0.3333333333333333,
              "#9c179e"
             ],
             [
              0.4444444444444444,
              "#bd3786"
             ],
             [
              0.5555555555555556,
              "#d8576b"
             ],
             [
              0.6666666666666666,
              "#ed7953"
             ],
             [
              0.7777777777777778,
              "#fb9f3a"
             ],
             [
              0.8888888888888888,
              "#fdca26"
             ],
             [
              1,
              "#f0f921"
             ]
            ],
            "type": "heatmapgl"
           }
          ],
          "histogram": [
           {
            "marker": {
             "pattern": {
              "fillmode": "overlay",
              "size": 10,
              "solidity": 0.2
             }
            },
            "type": "histogram"
           }
          ],
          "histogram2d": [
           {
            "colorbar": {
             "outlinewidth": 0,
             "ticks": ""
            },
            "colorscale": [
             [
              0,
              "#0d0887"
             ],
             [
              0.1111111111111111,
              "#46039f"
             ],
             [
              0.2222222222222222,
              "#7201a8"
             ],
             [
              0.3333333333333333,
              "#9c179e"
             ],
             [
              0.4444444444444444,
              "#bd3786"
             ],
             [
              0.5555555555555556,
              "#d8576b"
             ],
             [
              0.6666666666666666,
              "#ed7953"
             ],
             [
              0.7777777777777778,
              "#fb9f3a"
             ],
             [
              0.8888888888888888,
              "#fdca26"
             ],
             [
              1,
              "#f0f921"
             ]
            ],
            "type": "histogram2d"
           }
          ],
          "histogram2dcontour": [
           {
            "colorbar": {
             "outlinewidth": 0,
             "ticks": ""
            },
            "colorscale": [
             [
              0,
              "#0d0887"
             ],
             [
              0.1111111111111111,
              "#46039f"
             ],
             [
              0.2222222222222222,
              "#7201a8"
             ],
             [
              0.3333333333333333,
              "#9c179e"
             ],
             [
              0.4444444444444444,
              "#bd3786"
             ],
             [
              0.5555555555555556,
              "#d8576b"
             ],
             [
              0.6666666666666666,
              "#ed7953"
             ],
             [
              0.7777777777777778,
              "#fb9f3a"
             ],
             [
              0.8888888888888888,
              "#fdca26"
             ],
             [
              1,
              "#f0f921"
             ]
            ],
            "type": "histogram2dcontour"
           }
          ],
          "mesh3d": [
           {
            "colorbar": {
             "outlinewidth": 0,
             "ticks": ""
            },
            "type": "mesh3d"
           }
          ],
          "parcoords": [
           {
            "line": {
             "colorbar": {
              "outlinewidth": 0,
              "ticks": ""
             }
            },
            "type": "parcoords"
           }
          ],
          "pie": [
           {
            "automargin": true,
            "type": "pie"
           }
          ],
          "scatter": [
           {
            "marker": {
             "colorbar": {
              "outlinewidth": 0,
              "ticks": ""
             }
            },
            "type": "scatter"
           }
          ],
          "scatter3d": [
           {
            "line": {
             "colorbar": {
              "outlinewidth": 0,
              "ticks": ""
             }
            },
            "marker": {
             "colorbar": {
              "outlinewidth": 0,
              "ticks": ""
             }
            },
            "type": "scatter3d"
           }
          ],
          "scattercarpet": [
           {
            "marker": {
             "colorbar": {
              "outlinewidth": 0,
              "ticks": ""
             }
            },
            "type": "scattercarpet"
           }
          ],
          "scattergeo": [
           {
            "marker": {
             "colorbar": {
              "outlinewidth": 0,
              "ticks": ""
             }
            },
            "type": "scattergeo"
           }
          ],
          "scattergl": [
           {
            "marker": {
             "colorbar": {
              "outlinewidth": 0,
              "ticks": ""
             }
            },
            "type": "scattergl"
           }
          ],
          "scattermapbox": [
           {
            "marker": {
             "colorbar": {
              "outlinewidth": 0,
              "ticks": ""
             }
            },
            "type": "scattermapbox"
           }
          ],
          "scatterpolar": [
           {
            "marker": {
             "colorbar": {
              "outlinewidth": 0,
              "ticks": ""
             }
            },
            "type": "scatterpolar"
           }
          ],
          "scatterpolargl": [
           {
            "marker": {
             "colorbar": {
              "outlinewidth": 0,
              "ticks": ""
             }
            },
            "type": "scatterpolargl"
           }
          ],
          "scatterternary": [
           {
            "marker": {
             "colorbar": {
              "outlinewidth": 0,
              "ticks": ""
             }
            },
            "type": "scatterternary"
           }
          ],
          "surface": [
           {
            "colorbar": {
             "outlinewidth": 0,
             "ticks": ""
            },
            "colorscale": [
             [
              0,
              "#0d0887"
             ],
             [
              0.1111111111111111,
              "#46039f"
             ],
             [
              0.2222222222222222,
              "#7201a8"
             ],
             [
              0.3333333333333333,
              "#9c179e"
             ],
             [
              0.4444444444444444,
              "#bd3786"
             ],
             [
              0.5555555555555556,
              "#d8576b"
             ],
             [
              0.6666666666666666,
              "#ed7953"
             ],
             [
              0.7777777777777778,
              "#fb9f3a"
             ],
             [
              0.8888888888888888,
              "#fdca26"
             ],
             [
              1,
              "#f0f921"
             ]
            ],
            "type": "surface"
           }
          ],
          "table": [
           {
            "cells": {
             "fill": {
              "color": "#EBF0F8"
             },
             "line": {
              "color": "white"
             }
            },
            "header": {
             "fill": {
              "color": "#C8D4E3"
             },
             "line": {
              "color": "white"
             }
            },
            "type": "table"
           }
          ]
         },
         "layout": {
          "annotationdefaults": {
           "arrowcolor": "#2a3f5f",
           "arrowhead": 0,
           "arrowwidth": 1
          },
          "autotypenumbers": "strict",
          "coloraxis": {
           "colorbar": {
            "outlinewidth": 0,
            "ticks": ""
           }
          },
          "colorscale": {
           "diverging": [
            [
             0,
             "#8e0152"
            ],
            [
             0.1,
             "#c51b7d"
            ],
            [
             0.2,
             "#de77ae"
            ],
            [
             0.3,
             "#f1b6da"
            ],
            [
             0.4,
             "#fde0ef"
            ],
            [
             0.5,
             "#f7f7f7"
            ],
            [
             0.6,
             "#e6f5d0"
            ],
            [
             0.7,
             "#b8e186"
            ],
            [
             0.8,
             "#7fbc41"
            ],
            [
             0.9,
             "#4d9221"
            ],
            [
             1,
             "#276419"
            ]
           ],
           "sequential": [
            [
             0,
             "#0d0887"
            ],
            [
             0.1111111111111111,
             "#46039f"
            ],
            [
             0.2222222222222222,
             "#7201a8"
            ],
            [
             0.3333333333333333,
             "#9c179e"
            ],
            [
             0.4444444444444444,
             "#bd3786"
            ],
            [
             0.5555555555555556,
             "#d8576b"
            ],
            [
             0.6666666666666666,
             "#ed7953"
            ],
            [
             0.7777777777777778,
             "#fb9f3a"
            ],
            [
             0.8888888888888888,
             "#fdca26"
            ],
            [
             1,
             "#f0f921"
            ]
           ],
           "sequentialminus": [
            [
             0,
             "#0d0887"
            ],
            [
             0.1111111111111111,
             "#46039f"
            ],
            [
             0.2222222222222222,
             "#7201a8"
            ],
            [
             0.3333333333333333,
             "#9c179e"
            ],
            [
             0.4444444444444444,
             "#bd3786"
            ],
            [
             0.5555555555555556,
             "#d8576b"
            ],
            [
             0.6666666666666666,
             "#ed7953"
            ],
            [
             0.7777777777777778,
             "#fb9f3a"
            ],
            [
             0.8888888888888888,
             "#fdca26"
            ],
            [
             1,
             "#f0f921"
            ]
           ]
          },
          "colorway": [
           "#636efa",
           "#EF553B",
           "#00cc96",
           "#ab63fa",
           "#FFA15A",
           "#19d3f3",
           "#FF6692",
           "#B6E880",
           "#FF97FF",
           "#FECB52"
          ],
          "font": {
           "color": "#2a3f5f"
          },
          "geo": {
           "bgcolor": "white",
           "lakecolor": "white",
           "landcolor": "#E5ECF6",
           "showlakes": true,
           "showland": true,
           "subunitcolor": "white"
          },
          "hoverlabel": {
           "align": "left"
          },
          "hovermode": "closest",
          "mapbox": {
           "style": "light"
          },
          "paper_bgcolor": "white",
          "plot_bgcolor": "#E5ECF6",
          "polar": {
           "angularaxis": {
            "gridcolor": "white",
            "linecolor": "white",
            "ticks": ""
           },
           "bgcolor": "#E5ECF6",
           "radialaxis": {
            "gridcolor": "white",
            "linecolor": "white",
            "ticks": ""
           }
          },
          "scene": {
           "xaxis": {
            "backgroundcolor": "#E5ECF6",
            "gridcolor": "white",
            "gridwidth": 2,
            "linecolor": "white",
            "showbackground": true,
            "ticks": "",
            "zerolinecolor": "white"
           },
           "yaxis": {
            "backgroundcolor": "#E5ECF6",
            "gridcolor": "white",
            "gridwidth": 2,
            "linecolor": "white",
            "showbackground": true,
            "ticks": "",
            "zerolinecolor": "white"
           },
           "zaxis": {
            "backgroundcolor": "#E5ECF6",
            "gridcolor": "white",
            "gridwidth": 2,
            "linecolor": "white",
            "showbackground": true,
            "ticks": "",
            "zerolinecolor": "white"
           }
          },
          "shapedefaults": {
           "line": {
            "color": "#2a3f5f"
           }
          },
          "ternary": {
           "aaxis": {
            "gridcolor": "white",
            "linecolor": "white",
            "ticks": ""
           },
           "baxis": {
            "gridcolor": "white",
            "linecolor": "white",
            "ticks": ""
           },
           "bgcolor": "#E5ECF6",
           "caxis": {
            "gridcolor": "white",
            "linecolor": "white",
            "ticks": ""
           }
          },
          "title": {
           "x": 0.05
          },
          "xaxis": {
           "automargin": true,
           "gridcolor": "white",
           "linecolor": "white",
           "ticks": "",
           "title": {
            "standoff": 15
           },
           "zerolinecolor": "white",
           "zerolinewidth": 2
          },
          "yaxis": {
           "automargin": true,
           "gridcolor": "white",
           "linecolor": "white",
           "ticks": "",
           "title": {
            "standoff": 15
           },
           "zerolinecolor": "white",
           "zerolinewidth": 2
          }
         }
        },
        "title": {
         "text": "Torus"
        },
        "width": 800
       }
      },
      "text/html": [
       "<div>                            <div id=\"3737bb18-c121-4736-ba0a-b93d1be795a7\" class=\"plotly-graph-div\" style=\"height:800px; width:800px;\"></div>            <script type=\"text/javascript\">                require([\"plotly\"], function(Plotly) {                    window.PLOTLYENV=window.PLOTLYENV || {};                                    if (document.getElementById(\"3737bb18-c121-4736-ba0a-b93d1be795a7\")) {                    Plotly.newPlot(                        \"3737bb18-c121-4736-ba0a-b93d1be795a7\",                        [{\"facecolor\":[\"rgb(31, 119, 180)\",\"rgb(255, 127, 14)\",\"rgb(180, 124, 69)\",\"rgb(106, 122, 125)\",\"rgb(180, 124, 69)\",\"rgb(106, 122, 125)\",\"rgb(180, 124, 69)\",\"rgb(106, 122, 125)\"],\"i\":[0,5,4,4,5,5,5,5],\"j\":[1,4,3,0,3,0,4,1],\"k\":[2,3,0,2,0,1,2,2],\"name\":\"\",\"x\":[0.0,25.0,-25.0,0.0,-25.0,25.0],\"y\":[0.0,43.30127018922193,43.30127018922193,0.0,43.30127018922193,43.30127018922193],\"z\":[0.0,0.0,0.0,5.0,5.0,5.0],\"type\":\"mesh3d\"},{\"line\":{\"color\":\"rgb(50, 50, 50)\",\"width\":1.5},\"mode\":\"lines\",\"showlegend\":false,\"x\":[0.0,25.0,-25.0,0.0,null,25.0,-25.0,0.0,25.0,null,-25.0,0.0,0.0,-25.0,null,-25.0,0.0,-25.0,-25.0,null,25.0,0.0,0.0,25.0,null,25.0,0.0,25.0,25.0,null,25.0,-25.0,-25.0,25.0,null,25.0,25.0,-25.0,25.0,null],\"y\":[0.0,43.30127018922193,43.30127018922193,0.0,null,43.30127018922193,43.30127018922193,0.0,43.30127018922193,null,43.30127018922193,0.0,0.0,43.30127018922193,null,43.30127018922193,0.0,43.30127018922193,43.30127018922193,null,43.30127018922193,0.0,0.0,43.30127018922193,null,43.30127018922193,0.0,43.30127018922193,43.30127018922193,null,43.30127018922193,43.30127018922193,43.30127018922193,43.30127018922193,null,43.30127018922193,43.30127018922193,43.30127018922193,43.30127018922193,null],\"z\":[0.0,0.0,0.0,0.0,null,5.0,5.0,5.0,5.0,null,5.0,5.0,0.0,5.0,null,5.0,0.0,0.0,5.0,null,5.0,5.0,0.0,5.0,null,5.0,0.0,0.0,5.0,null,5.0,5.0,0.0,5.0,null,5.0,0.0,0.0,5.0,null],\"type\":\"scatter3d\"},{\"hoverinfo\":\"none\",\"marker\":{\"color\":[0.0,5.0],\"colorscale\":[[0.0,\"rgb(31, 119, 180)\"],[1.0,\"rgb(255, 127, 14)\"]],\"showscale\":true,\"size\":0.1},\"mode\":\"markers\",\"showlegend\":false,\"x\":[0.0],\"y\":[0.0],\"z\":[0.0],\"type\":\"scatter3d\"}],                        {\"height\":800,\"scene\":{\"aspectratio\":{\"x\":1,\"y\":1,\"z\":0.5},\"xaxis\":{\"backgroundcolor\":\"rgb(230, 230, 230)\",\"gridcolor\":\"rgb(255, 255, 255)\",\"showbackground\":true,\"zerolinecolor\":\"rgb(255, 255, 255)\"},\"yaxis\":{\"backgroundcolor\":\"rgb(230, 230, 230)\",\"gridcolor\":\"rgb(255, 255, 255)\",\"showbackground\":true,\"zerolinecolor\":\"rgb(255, 255, 255)\"},\"zaxis\":{\"backgroundcolor\":\"rgb(230, 230, 230)\",\"gridcolor\":\"rgb(255, 255, 255)\",\"showbackground\":true,\"zerolinecolor\":\"rgb(255, 255, 255)\"}},\"title\":{\"text\":\"Torus\"},\"width\":800,\"template\":{\"data\":{\"bar\":[{\"error_x\":{\"color\":\"#2a3f5f\"},\"error_y\":{\"color\":\"#2a3f5f\"},\"marker\":{\"line\":{\"color\":\"#E5ECF6\",\"width\":0.5},\"pattern\":{\"fillmode\":\"overlay\",\"size\":10,\"solidity\":0.2}},\"type\":\"bar\"}],\"barpolar\":[{\"marker\":{\"line\":{\"color\":\"#E5ECF6\",\"width\":0.5},\"pattern\":{\"fillmode\":\"overlay\",\"size\":10,\"solidity\":0.2}},\"type\":\"barpolar\"}],\"carpet\":[{\"aaxis\":{\"endlinecolor\":\"#2a3f5f\",\"gridcolor\":\"white\",\"linecolor\":\"white\",\"minorgridcolor\":\"white\",\"startlinecolor\":\"#2a3f5f\"},\"baxis\":{\"endlinecolor\":\"#2a3f5f\",\"gridcolor\":\"white\",\"linecolor\":\"white\",\"minorgridcolor\":\"white\",\"startlinecolor\":\"#2a3f5f\"},\"type\":\"carpet\"}],\"choropleth\":[{\"colorbar\":{\"outlinewidth\":0,\"ticks\":\"\"},\"type\":\"choropleth\"}],\"contour\":[{\"colorbar\":{\"outlinewidth\":0,\"ticks\":\"\"},\"colorscale\":[[0.0,\"#0d0887\"],[0.1111111111111111,\"#46039f\"],[0.2222222222222222,\"#7201a8\"],[0.3333333333333333,\"#9c179e\"],[0.4444444444444444,\"#bd3786\"],[0.5555555555555556,\"#d8576b\"],[0.6666666666666666,\"#ed7953\"],[0.7777777777777778,\"#fb9f3a\"],[0.8888888888888888,\"#fdca26\"],[1.0,\"#f0f921\"]],\"type\":\"contour\"}],\"contourcarpet\":[{\"colorbar\":{\"outlinewidth\":0,\"ticks\":\"\"},\"type\":\"contourcarpet\"}],\"heatmap\":[{\"colorbar\":{\"outlinewidth\":0,\"ticks\":\"\"},\"colorscale\":[[0.0,\"#0d0887\"],[0.1111111111111111,\"#46039f\"],[0.2222222222222222,\"#7201a8\"],[0.3333333333333333,\"#9c179e\"],[0.4444444444444444,\"#bd3786\"],[0.5555555555555556,\"#d8576b\"],[0.6666666666666666,\"#ed7953\"],[0.7777777777777778,\"#fb9f3a\"],[0.8888888888888888,\"#fdca26\"],[1.0,\"#f0f921\"]],\"type\":\"heatmap\"}],\"heatmapgl\":[{\"colorbar\":{\"outlinewidth\":0,\"ticks\":\"\"},\"colorscale\":[[0.0,\"#0d0887\"],[0.1111111111111111,\"#46039f\"],[0.2222222222222222,\"#7201a8\"],[0.3333333333333333,\"#9c179e\"],[0.4444444444444444,\"#bd3786\"],[0.5555555555555556,\"#d8576b\"],[0.6666666666666666,\"#ed7953\"],[0.7777777777777778,\"#fb9f3a\"],[0.8888888888888888,\"#fdca26\"],[1.0,\"#f0f921\"]],\"type\":\"heatmapgl\"}],\"histogram\":[{\"marker\":{\"pattern\":{\"fillmode\":\"overlay\",\"size\":10,\"solidity\":0.2}},\"type\":\"histogram\"}],\"histogram2d\":[{\"colorbar\":{\"outlinewidth\":0,\"ticks\":\"\"},\"colorscale\":[[0.0,\"#0d0887\"],[0.1111111111111111,\"#46039f\"],[0.2222222222222222,\"#7201a8\"],[0.3333333333333333,\"#9c179e\"],[0.4444444444444444,\"#bd3786\"],[0.5555555555555556,\"#d8576b\"],[0.6666666666666666,\"#ed7953\"],[0.7777777777777778,\"#fb9f3a\"],[0.8888888888888888,\"#fdca26\"],[1.0,\"#f0f921\"]],\"type\":\"histogram2d\"}],\"histogram2dcontour\":[{\"colorbar\":{\"outlinewidth\":0,\"ticks\":\"\"},\"colorscale\":[[0.0,\"#0d0887\"],[0.1111111111111111,\"#46039f\"],[0.2222222222222222,\"#7201a8\"],[0.3333333333333333,\"#9c179e\"],[0.4444444444444444,\"#bd3786\"],[0.5555555555555556,\"#d8576b\"],[0.6666666666666666,\"#ed7953\"],[0.7777777777777778,\"#fb9f3a\"],[0.8888888888888888,\"#fdca26\"],[1.0,\"#f0f921\"]],\"type\":\"histogram2dcontour\"}],\"mesh3d\":[{\"colorbar\":{\"outlinewidth\":0,\"ticks\":\"\"},\"type\":\"mesh3d\"}],\"parcoords\":[{\"line\":{\"colorbar\":{\"outlinewidth\":0,\"ticks\":\"\"}},\"type\":\"parcoords\"}],\"pie\":[{\"automargin\":true,\"type\":\"pie\"}],\"scatter\":[{\"marker\":{\"colorbar\":{\"outlinewidth\":0,\"ticks\":\"\"}},\"type\":\"scatter\"}],\"scatter3d\":[{\"line\":{\"colorbar\":{\"outlinewidth\":0,\"ticks\":\"\"}},\"marker\":{\"colorbar\":{\"outlinewidth\":0,\"ticks\":\"\"}},\"type\":\"scatter3d\"}],\"scattercarpet\":[{\"marker\":{\"colorbar\":{\"outlinewidth\":0,\"ticks\":\"\"}},\"type\":\"scattercarpet\"}],\"scattergeo\":[{\"marker\":{\"colorbar\":{\"outlinewidth\":0,\"ticks\":\"\"}},\"type\":\"scattergeo\"}],\"scattergl\":[{\"marker\":{\"colorbar\":{\"outlinewidth\":0,\"ticks\":\"\"}},\"type\":\"scattergl\"}],\"scattermapbox\":[{\"marker\":{\"colorbar\":{\"outlinewidth\":0,\"ticks\":\"\"}},\"type\":\"scattermapbox\"}],\"scatterpolar\":[{\"marker\":{\"colorbar\":{\"outlinewidth\":0,\"ticks\":\"\"}},\"type\":\"scatterpolar\"}],\"scatterpolargl\":[{\"marker\":{\"colorbar\":{\"outlinewidth\":0,\"ticks\":\"\"}},\"type\":\"scatterpolargl\"}],\"scatterternary\":[{\"marker\":{\"colorbar\":{\"outlinewidth\":0,\"ticks\":\"\"}},\"type\":\"scatterternary\"}],\"surface\":[{\"colorbar\":{\"outlinewidth\":0,\"ticks\":\"\"},\"colorscale\":[[0.0,\"#0d0887\"],[0.1111111111111111,\"#46039f\"],[0.2222222222222222,\"#7201a8\"],[0.3333333333333333,\"#9c179e\"],[0.4444444444444444,\"#bd3786\"],[0.5555555555555556,\"#d8576b\"],[0.6666666666666666,\"#ed7953\"],[0.7777777777777778,\"#fb9f3a\"],[0.8888888888888888,\"#fdca26\"],[1.0,\"#f0f921\"]],\"type\":\"surface\"}],\"table\":[{\"cells\":{\"fill\":{\"color\":\"#EBF0F8\"},\"line\":{\"color\":\"white\"}},\"header\":{\"fill\":{\"color\":\"#C8D4E3\"},\"line\":{\"color\":\"white\"}},\"type\":\"table\"}]},\"layout\":{\"annotationdefaults\":{\"arrowcolor\":\"#2a3f5f\",\"arrowhead\":0,\"arrowwidth\":1},\"autotypenumbers\":\"strict\",\"coloraxis\":{\"colorbar\":{\"outlinewidth\":0,\"ticks\":\"\"}},\"colorscale\":{\"diverging\":[[0,\"#8e0152\"],[0.1,\"#c51b7d\"],[0.2,\"#de77ae\"],[0.3,\"#f1b6da\"],[0.4,\"#fde0ef\"],[0.5,\"#f7f7f7\"],[0.6,\"#e6f5d0\"],[0.7,\"#b8e186\"],[0.8,\"#7fbc41\"],[0.9,\"#4d9221\"],[1,\"#276419\"]],\"sequential\":[[0.0,\"#0d0887\"],[0.1111111111111111,\"#46039f\"],[0.2222222222222222,\"#7201a8\"],[0.3333333333333333,\"#9c179e\"],[0.4444444444444444,\"#bd3786\"],[0.5555555555555556,\"#d8576b\"],[0.6666666666666666,\"#ed7953\"],[0.7777777777777778,\"#fb9f3a\"],[0.8888888888888888,\"#fdca26\"],[1.0,\"#f0f921\"]],\"sequentialminus\":[[0.0,\"#0d0887\"],[0.1111111111111111,\"#46039f\"],[0.2222222222222222,\"#7201a8\"],[0.3333333333333333,\"#9c179e\"],[0.4444444444444444,\"#bd3786\"],[0.5555555555555556,\"#d8576b\"],[0.6666666666666666,\"#ed7953\"],[0.7777777777777778,\"#fb9f3a\"],[0.8888888888888888,\"#fdca26\"],[1.0,\"#f0f921\"]]},\"colorway\":[\"#636efa\",\"#EF553B\",\"#00cc96\",\"#ab63fa\",\"#FFA15A\",\"#19d3f3\",\"#FF6692\",\"#B6E880\",\"#FF97FF\",\"#FECB52\"],\"font\":{\"color\":\"#2a3f5f\"},\"geo\":{\"bgcolor\":\"white\",\"lakecolor\":\"white\",\"landcolor\":\"#E5ECF6\",\"showlakes\":true,\"showland\":true,\"subunitcolor\":\"white\"},\"hoverlabel\":{\"align\":\"left\"},\"hovermode\":\"closest\",\"mapbox\":{\"style\":\"light\"},\"paper_bgcolor\":\"white\",\"plot_bgcolor\":\"#E5ECF6\",\"polar\":{\"angularaxis\":{\"gridcolor\":\"white\",\"linecolor\":\"white\",\"ticks\":\"\"},\"bgcolor\":\"#E5ECF6\",\"radialaxis\":{\"gridcolor\":\"white\",\"linecolor\":\"white\",\"ticks\":\"\"}},\"scene\":{\"xaxis\":{\"backgroundcolor\":\"#E5ECF6\",\"gridcolor\":\"white\",\"gridwidth\":2,\"linecolor\":\"white\",\"showbackground\":true,\"ticks\":\"\",\"zerolinecolor\":\"white\"},\"yaxis\":{\"backgroundcolor\":\"#E5ECF6\",\"gridcolor\":\"white\",\"gridwidth\":2,\"linecolor\":\"white\",\"showbackground\":true,\"ticks\":\"\",\"zerolinecolor\":\"white\"},\"zaxis\":{\"backgroundcolor\":\"#E5ECF6\",\"gridcolor\":\"white\",\"gridwidth\":2,\"linecolor\":\"white\",\"showbackground\":true,\"ticks\":\"\",\"zerolinecolor\":\"white\"}},\"shapedefaults\":{\"line\":{\"color\":\"#2a3f5f\"}},\"ternary\":{\"aaxis\":{\"gridcolor\":\"white\",\"linecolor\":\"white\",\"ticks\":\"\"},\"baxis\":{\"gridcolor\":\"white\",\"linecolor\":\"white\",\"ticks\":\"\"},\"bgcolor\":\"#E5ECF6\",\"caxis\":{\"gridcolor\":\"white\",\"linecolor\":\"white\",\"ticks\":\"\"}},\"title\":{\"x\":0.05},\"xaxis\":{\"automargin\":true,\"gridcolor\":\"white\",\"linecolor\":\"white\",\"ticks\":\"\",\"title\":{\"standoff\":15},\"zerolinecolor\":\"white\",\"zerolinewidth\":2},\"yaxis\":{\"automargin\":true,\"gridcolor\":\"white\",\"linecolor\":\"white\",\"ticks\":\"\",\"title\":{\"standoff\":15},\"zerolinecolor\":\"white\",\"zerolinewidth\":2}}}},                        {\"responsive\": true}                    ).then(function(){\n",
       "                            \n",
       "var gd = document.getElementById('3737bb18-c121-4736-ba0a-b93d1be795a7');\n",
       "var x = new MutationObserver(function (mutations, observer) {{\n",
       "        var display = window.getComputedStyle(gd).display;\n",
       "        if (!display || display === 'none') {{\n",
       "            console.log([gd, 'removed!']);\n",
       "            Plotly.purge(gd);\n",
       "            observer.disconnect();\n",
       "        }}\n",
       "}});\n",
       "\n",
       "// Listen for the removal of the full notebook cells\n",
       "var notebookContainer = gd.closest('#notebook-container');\n",
       "if (notebookContainer) {{\n",
       "    x.observe(notebookContainer, {childList: true});\n",
       "}}\n",
       "\n",
       "// Listen for the clearing of the current output cell\n",
       "var outputEl = gd.closest('.output');\n",
       "if (outputEl) {{\n",
       "    x.observe(outputEl, {childList: true});\n",
       "}}\n",
       "\n",
       "                        })                };                });            </script>        </div>"
      ]
     },
     "metadata": {},
     "output_type": "display_data"
    }
   ],
   "source": [
    "import plotly.figure_factory as ff\n",
    "\n",
    "fig = ff.create_trisurf(x=out.x, y=out.y, z=out.z,\n",
    "                         simplices=out.triangles,\n",
    "                         title=\"Torus\", aspectratio=dict(x=1, y=1, z=0.5), \n",
    "                       )\n",
    "\n",
    "\n",
    "fig.show()"
   ]
  },
  {
   "cell_type": "code",
   "execution_count": 167,
   "id": "ec681491",
   "metadata": {},
   "outputs": [
    {
     "ename": "TypeError",
     "evalue": "create_trisurf() got an unexpected keyword argument 'fig'",
     "output_type": "error",
     "traceback": [
      "\u001b[0;31m---------------------------------------------------------------------------\u001b[0m",
      "\u001b[0;31mTypeError\u001b[0m                                 Traceback (most recent call last)",
      "Input \u001b[0;32mIn [167]\u001b[0m, in \u001b[0;36m<module>\u001b[0;34m\u001b[0m\n\u001b[1;32m     12\u001b[0m     ff\u001b[38;5;241m.\u001b[39mcreate_trisurf(x\u001b[38;5;241m=\u001b[39mout\u001b[38;5;241m.\u001b[39mx, y\u001b[38;5;241m=\u001b[39mout\u001b[38;5;241m.\u001b[39my, z\u001b[38;5;241m=\u001b[39mout\u001b[38;5;241m.\u001b[39mz,\n\u001b[1;32m     13\u001b[0m                         simplices\u001b[38;5;241m=\u001b[39mout\u001b[38;5;241m.\u001b[39mtriangles,\n\u001b[1;32m     14\u001b[0m                         colormap\u001b[38;5;241m=\u001b[39m[\u001b[38;5;124m'\u001b[39m\u001b[38;5;124mrgb(0,176,246)\u001b[39m\u001b[38;5;124m'\u001b[39m, \u001b[38;5;124m'\u001b[39m\u001b[38;5;124mrgb(0,176,246)\u001b[39m\u001b[38;5;124m'\u001b[39m], fig\u001b[38;5;241m=\u001b[39mfig)\n\u001b[1;32m     15\u001b[0m     \u001b[38;5;28;01mreturn\u001b[39;00m fig\n\u001b[0;32m---> 17\u001b[0m \u001b[43madd_trisurf\u001b[49m\u001b[43m(\u001b[49m\u001b[43mfig\u001b[49m\u001b[43m,\u001b[49m\u001b[43m \u001b[49m\u001b[43mout2\u001b[49m\u001b[43m)\u001b[49m\n\u001b[1;32m     18\u001b[0m add_trisurf(fig, out3)\n\u001b[1;32m     22\u001b[0m fig\u001b[38;5;241m.\u001b[39mupdate_layout(scene_zaxis_range\u001b[38;5;241m=\u001b[39m[\u001b[38;5;241m-\u001b[39m\u001b[38;5;241m2\u001b[39m, \u001b[38;5;241m35\u001b[39m])\n",
      "Input \u001b[0;32mIn [167]\u001b[0m, in \u001b[0;36madd_trisurf\u001b[0;34m(fig, out)\u001b[0m\n\u001b[1;32m     11\u001b[0m \u001b[38;5;28;01mdef\u001b[39;00m \u001b[38;5;21madd_trisurf\u001b[39m(fig, out):\n\u001b[0;32m---> 12\u001b[0m     \u001b[43mff\u001b[49m\u001b[38;5;241;43m.\u001b[39;49m\u001b[43mcreate_trisurf\u001b[49m\u001b[43m(\u001b[49m\u001b[43mx\u001b[49m\u001b[38;5;241;43m=\u001b[39;49m\u001b[43mout\u001b[49m\u001b[38;5;241;43m.\u001b[39;49m\u001b[43mx\u001b[49m\u001b[43m,\u001b[49m\u001b[43m \u001b[49m\u001b[43my\u001b[49m\u001b[38;5;241;43m=\u001b[39;49m\u001b[43mout\u001b[49m\u001b[38;5;241;43m.\u001b[39;49m\u001b[43my\u001b[49m\u001b[43m,\u001b[49m\u001b[43m \u001b[49m\u001b[43mz\u001b[49m\u001b[38;5;241;43m=\u001b[39;49m\u001b[43mout\u001b[49m\u001b[38;5;241;43m.\u001b[39;49m\u001b[43mz\u001b[49m\u001b[43m,\u001b[49m\n\u001b[1;32m     13\u001b[0m \u001b[43m                        \u001b[49m\u001b[43msimplices\u001b[49m\u001b[38;5;241;43m=\u001b[39;49m\u001b[43mout\u001b[49m\u001b[38;5;241;43m.\u001b[39;49m\u001b[43mtriangles\u001b[49m\u001b[43m,\u001b[49m\n\u001b[1;32m     14\u001b[0m \u001b[43m                        \u001b[49m\u001b[43mcolormap\u001b[49m\u001b[38;5;241;43m=\u001b[39;49m\u001b[43m[\u001b[49m\u001b[38;5;124;43m'\u001b[39;49m\u001b[38;5;124;43mrgb(0,176,246)\u001b[39;49m\u001b[38;5;124;43m'\u001b[39;49m\u001b[43m,\u001b[49m\u001b[43m \u001b[49m\u001b[38;5;124;43m'\u001b[39;49m\u001b[38;5;124;43mrgb(0,176,246)\u001b[39;49m\u001b[38;5;124;43m'\u001b[39;49m\u001b[43m]\u001b[49m\u001b[43m,\u001b[49m\u001b[43m \u001b[49m\u001b[43mfig\u001b[49m\u001b[38;5;241;43m=\u001b[39;49m\u001b[43mfig\u001b[49m\u001b[43m)\u001b[49m\n\u001b[1;32m     15\u001b[0m     \u001b[38;5;28;01mreturn\u001b[39;00m fig\n",
      "\u001b[0;31mTypeError\u001b[0m: create_trisurf() got an unexpected keyword argument 'fig'"
     ]
    }
   ],
   "source": [
    "import pandas as pd\n",
    "import plotly.express as px\n",
    "\n",
    "fig = ff.create_trisurf(x=out.x, y=out.y, z=out.z,\n",
    "                        simplices=out.triangles,\n",
    "                        colormap=['rgb(0,176,246)', 'rgb(0,176,246)'], \n",
    "                        title=\"Mt Bruno Elevation\", aspectratio=dict(x=1, y=1, z=0.5), \n",
    "                        showbackground=True, backgroundcolor=\"rgb(230, 230,230)\", \n",
    "                        gridcolor=\"rgb(255, 255, 255)\", \n",
    "                        zerolinecolor=\"rgb(255, 255, 255)\")\n",
    "def add_trisurf(fig, out):\n",
    "    ff.create_trisurf(x=out.x, y=out.y, z=out.z,\n",
    "                        simplices=out.triangles,\n",
    "                        colormap=['rgb(0,176,246)', 'rgb(0,176,246)'], fig=fig)\n",
    "    return fig\n",
    "\n",
    "add_trisurf(fig, out2)\n",
    "add_trisurf(fig, out3)\n",
    "\n",
    "\n",
    "\n",
    "fig.update_layout(scene_zaxis_range=[-2, 35])\n",
    "fig.show()"
   ]
  },
  {
   "cell_type": "code",
   "execution_count": null,
   "id": "3b06d4ba",
   "metadata": {},
   "outputs": [],
   "source": [
    "go."
   ]
  },
  {
   "cell_type": "code",
   "execution_count": null,
   "id": "59abde20",
   "metadata": {},
   "outputs": [],
   "source": [
    "df"
   ]
  },
  {
   "cell_type": "code",
   "execution_count": 109,
   "id": "6173b649",
   "metadata": {},
   "outputs": [
    {
     "data": {
      "text/plain": [
       "(-2.0, 38.0)"
      ]
     },
     "execution_count": 109,
     "metadata": {},
     "output_type": "execute_result"
    },
    {
     "data": {
      "image/png": "[encoded data removed]",
      "text/plain": [
       "<Figure size 432x288 with 1 Axes>"
      ]
     },
     "metadata": {
      "needs_background": "light"
     },
     "output_type": "display_data"
    }
   ],
   "source": [
    "\n",
    "ax.set_xlim3d(xmin=-30, xmax=30)\n",
    "ax.set_ylim3d(ymin=-5, ymax=60)\n",
    "ax.set_zlim3d(zmin=-2, zmax=38)"
   ]
  },
  {
   "cell_type": "markdown",
   "id": "9ded83db",
   "metadata": {},
   "source": [
    "## Nice nanoprism"
   ]
  },
  {
   "cell_type": "code",
   "execution_count": 81,
   "id": "f02efc7a",
   "metadata": {},
   "outputs": [],
   "source": [
    "np1 = NanoPrism(2e-5, V=0.0001)\n",
    "y0_np1 = np.array([1e-3,0.001, 0.001]) # Starts at 1 nm on each axis\n",
    "t1 = np.linspace(0, 600, 2001)\n",
    "out = integrate.odeint(np1, y0_np1, t1)\n",
    "sf = out[-1][1]\n",
    "ef = out[-1][2]\n",
    "Vf1 = (sf**2*np.sqrt(3)/4)*ef"
   ]
  },
  {
   "cell_type": "code",
   "execution_count": 82,
   "id": "20b125be",
   "metadata": {},
   "outputs": [
    {
     "data": {
      "text/plain": [
       "(0.0, 40.0)"
      ]
     },
     "execution_count": 82,
     "metadata": {},
     "output_type": "execute_result"
    },
    {
     "data": {
      "image/png": "[encoded data removed]",
      "text/plain": [
       "<Figure size 432x288 with 1 Axes>"
      ]
     },
     "metadata": {
      "needs_background": "light"
     },
     "output_type": "display_data"
    }
   ],
   "source": [
    "plt.plot(t1, out[:, 1])\n",
    "plt.plot(t1, out[:, 2])\n",
    "plt.xlim(0, 40)"
   ]
  },
  {
   "cell_type": "code",
   "execution_count": 83,
   "id": "4d7b8150",
   "metadata": {},
   "outputs": [
    {
     "data": {
      "text/plain": [
       "2.742834104953298"
      ]
     },
     "execution_count": 83,
     "metadata": {},
     "output_type": "execute_result"
    }
   ],
   "source": [
    "np.exp(2500/(8.3145*298))"
   ]
  },
  {
   "cell_type": "code",
   "execution_count": 84,
   "id": "1c303601",
   "metadata": {},
   "outputs": [
    {
     "data": {
      "text/plain": [
       "array([1.        , 2.47665556, 3.11903063, ..., 4.67231386, 4.67231386,\n",
       "       4.67231386])"
      ]
     },
     "execution_count": 84,
     "metadata": {},
     "output_type": "execute_result"
    }
   ],
   "source": [
    "out[:, 2]/out[:, 1]"
   ]
  },
  {
   "cell_type": "code",
   "execution_count": 59,
   "id": "f77c671f",
   "metadata": {},
   "outputs": [
    {
     "data": {
      "text/plain": [
       "(0.0, 40.0)"
      ]
     },
     "execution_count": 59,
     "metadata": {},
     "output_type": "execute_result"
    },
    {
     "data": {
      "image/png": "[encoded data removed]",
      "text/plain": [
       "<Figure size 432x288 with 1 Axes>"
      ]
     },
     "metadata": {
      "needs_background": "light"
     },
     "output_type": "display_data"
    }
   ],
   "source": [
    "plt.plot(t1, out[:, 2]/out[:, 1])\n",
    "plt.xlim(0, 40)"
   ]
  },
  {
   "cell_type": "code",
   "execution_count": null,
   "id": "d087a9d7",
   "metadata": {},
   "outputs": [],
   "source": [
    "np.exp(-)"
   ]
  },
  {
   "cell_type": "code",
   "execution_count": 37,
   "id": "09011595",
   "metadata": {},
   "outputs": [],
   "source": [
    "def plot_prism(ax, prism):\n",
    "    ax.plot_trisurf(prism.x, prism.y, prism.z, triangles=prism.triangles, linewidth=0.2, antialiased=True)"
   ]
  },
  {
   "cell_type": "code",
   "execution_count": 46,
   "id": "12db1bc9",
   "metadata": {},
   "outputs": [
    {
     "data": {
      "text/plain": [
       "array([0.02010903, 0.09178181])"
      ]
     },
     "execution_count": 46,
     "metadata": {},
     "output_type": "execute_result"
    }
   ],
   "source": [
    "out[30, 1:]"
   ]
  },
  {
   "cell_type": "code",
   "execution_count": 47,
   "id": "31a8aa10",
   "metadata": {},
   "outputs": [],
   "source": [
    "p0 = prism(*y0_np1[1:], x_offset=0.05, y_offset=0.05)\n",
    "pfinal = prism(*out[-1, 1:])\n",
    "p1 = prism(*out[30, 1:], x_offset=0.05, y_offset=0.05)\n"
   ]
  },
  {
   "cell_type": "code",
   "execution_count": 50,
   "id": "58f199cb",
   "metadata": {},
   "outputs": [
    {
     "data": {
      "text/plain": [
       "(0.0, 0.2)"
      ]
     },
     "execution_count": 50,
     "metadata": {},
     "output_type": "execute_result"
    },
    {
     "data": {
      "image/png": "[encoded data removed]",
      "text/plain": [
       "<Figure size 432x288 with 1 Axes>"
      ]
     },
     "metadata": {
      "needs_background": "light"
     },
     "output_type": "display_data"
    }
   ],
   "source": [
    "ax = plt.figure().add_subplot(projection='3d')\n",
    "plot_prism(ax, p0)\n",
    "plot_prism(ax, pfinal)\n",
    "plot_prism(ax, p1)\n",
    "ax.set_xlim3d(xmin=-0.1, xmax=0.1)\n",
    "ax.set_ylim3d(ymin=-0.1, ymax=0.1)\n",
    "ax.set_zlim3d(zmin=0, zmax=0.20)"
   ]
  },
  {
   "cell_type": "code",
   "execution_count": 73,
   "id": "dee2e1c9",
   "metadata": {},
   "outputs": [],
   "source": []
  },
  {
   "cell_type": "code",
   "execution_count": 86,
   "id": "bde8c433",
   "metadata": {},
   "outputs": [],
   "source": [
    "np2 = NanoPrism(2e-5, V=0.0001)\n",
    "y0_np2 = np.array([2e-3,0.001, 0.001]) # Starts at 1 nm on each axis\n",
    "t2 = np.linspace(0, 600, 2001)\n",
    "out2 = integrate.odeint(np2, y0_np2, t2)\n",
    "sf = out2[-1][1]\n",
    "ef = out2[-1][2]\n",
    "Vf2 = (sf**2*np.sqrt(3)/4)*ef"
   ]
  },
  {
   "cell_type": "code",
   "execution_count": 89,
   "id": "601e61af",
   "metadata": {},
   "outputs": [
    {
     "data": {
      "text/plain": [
       "1.9980046801764229"
      ]
     },
     "execution_count": 89,
     "metadata": {},
     "output_type": "execute_result"
    }
   ],
   "source": [
    "Vf2/Vf1"
   ]
  },
  {
   "cell_type": "code",
   "execution_count": 69,
   "id": "e6e71c9b",
   "metadata": {},
   "outputs": [
    {
     "data": {
      "text/plain": [
       "0.2132924452977128"
      ]
     },
     "execution_count": 69,
     "metadata": {},
     "output_type": "execute_result"
    }
   ],
   "source": [
    "out2[-1, 1]/out2[-1, 2]"
   ]
  },
  {
   "cell_type": "code",
   "execution_count": null,
   "id": "835ea5d4",
   "metadata": {},
   "outputs": [],
   "source": [
    "class Enzyme:\n",
    "    def __init__(self, kf, kr, kcat):\n",
    "        self.kf = kf\n",
    "        self.kr = kr\n",
    "        self.kcat = kcat\n",
    "    \n",
    "    def dydt(self, y, t):\n",
    "        \"\"\"State vector is S, E, ES, P\"\"\"\n",
    "        kf, kr, kcat = self.kf, self.kr, self.kcat\n",
    "        r1fwd = kf*y[0]*y[1]\n",
    "        r1rev = kr * y[2]\n",
    "        r2fwd = kcat * y[2]\n",
    "        return np.array([\n",
    "            -r1fwd + r1rev,\n",
    "            -r1fwd + r1rev + r2fwd,\n",
    "            r1fwd - r1rev - r2fwd,\n",
    "            r2fwd\n",
    "        ])\n",
    "    \n",
    "    def rate(self, y):\n",
    "        return self.kcat * y.T[2]"
   ]
  },
  {
   "cell_type": "code",
   "execution_count": null,
   "id": "0b7ab016",
   "metadata": {},
   "outputs": [],
   "source": [
    "e = Enzyme(1, 1, 1)\n",
    "y0 = np.array([1, 0.1, 0, 0])\n",
    "t= np.linspace(0, 1000, 1001)\n",
    "out = integrate.odeint(e.dydt, y0, t)"
   ]
  },
  {
   "cell_type": "code",
   "execution_count": null,
   "id": "1e09dbf9",
   "metadata": {},
   "outputs": [],
   "source": [
    "out.shape\n",
    "t.shape"
   ]
  },
  {
   "cell_type": "code",
   "execution_count": null,
   "id": "707b6b6f",
   "metadata": {},
   "outputs": [],
   "source": [
    " e.rate(out)"
   ]
  },
  {
   "cell_type": "code",
   "execution_count": null,
   "id": "7133e286",
   "metadata": {},
   "outputs": [],
   "source": [
    "plt.plot(out[:, 0], e.rate(out), '.')"
   ]
  },
  {
   "cell_type": "code",
   "execution_count": null,
   "id": "f58d7a68",
   "metadata": {},
   "outputs": [],
   "source": []
  }
 ],
 "metadata": {
  "kernelspec": {
   "display_name": "Python 3.9.9 ('base')",
   "language": "python",
   "name": "python3"
  },
  "language_info": {
   "codemirror_mode": {
    "name": "ipython",
    "version": 3
   },
   "file_extension": ".py",
   "mimetype": "text/x-python",
   "name": "python",
   "nbconvert_exporter": "python",
   "pygments_lexer": "ipython3",
   "version": "3.9.15 | packaged by conda-forge | (main, Nov 22 2022, 08:55:37) \n[Clang 14.0.6 ]"
  },
  "vscode": {
   "interpreter": {
    "hash": "b1a73cd855c3b69392c98aa7cc7fa6045a53ef78e9adb375437a5fe993f23522"
   }
  }
 },
 "nbformat": 4,
 "nbformat_minor": 5
}
