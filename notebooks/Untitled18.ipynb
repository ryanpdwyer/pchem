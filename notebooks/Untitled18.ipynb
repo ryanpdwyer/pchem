{
 "cells": [
  {
   "cell_type": "markdown",
   "id": "d6d7ed6f",
   "metadata": {},
   "source": [
    "$$\n",
    "dP = \\frac{\\Delta_rH P}{nRT^2} dT\n",
    "$$\n",
    "\n",
    "$$\n",
    "\\frac{dP}{P} = \\frac{\\Delta_r H }{RT^2} dT\n",
    "$$\n",
    "\n",
    "$$\n",
    "\\ln(\\frac{P}{P_0}) = -\\frac{\\Delta_r H }{R}(\\frac{1}{T} - \\frac{1}{T_0})\n",
    "$$"
   ]
  },
  {
   "cell_type": "code",
   "execution_count": null,
   "id": "777263d4",
   "metadata": {},
   "outputs": [],
   "source": [
    "from sympy."
   ]
  }
 ],
 "metadata": {
  "kernelspec": {
   "display_name": "Python 3 (ipykernel)",
   "language": "python",
   "name": "python3"
  },
  "language_info": {
   "codemirror_mode": {
    "name": "ipython",
    "version": 3
   },
   "file_extension": ".py",
   "mimetype": "text/x-python",
   "name": "python",
   "nbconvert_exporter": "python",
   "pygments_lexer": "ipython3",
   "version": "3.9.9"
  }
 },
 "nbformat": 4,
 "nbformat_minor": 5
}
