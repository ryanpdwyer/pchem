{
 "cells": [
  {
   "cell_type": "markdown",
   "metadata": {},
   "source": [
    "# Sympy Solver\n",
    "\n",
    "## CHE 341\n",
    "\n",
    "This notebook introduces SymPy, the Python package for symbolic mathematics. First, let's import everything and set up a nice solve function:"
   ]
  },
  {
   "cell_type": "code",
   "execution_count": 1,
   "metadata": {},
   "outputs": [],
   "source": [
    "import sympy as sm\n",
    "sm.init_printing()\n",
    "import numpy as np\n",
    "from copy import copy\n",
    "import matplotlib.pyplot as plt\n",
    "from sympy.abc import *\n",
    "\n",
    "def solve(equation, variable, subs=None, unwrap=True):\n",
    "    \"\"\"Solve equation for the given variable; if given, a dictionary of subs\n",
    "    (substitutions) can be given. This is useful if you want to solve numerically\n",
    "    rather than symbolically. \n",
    "    \n",
    "    Parameters:\n",
    "    equation : the sympy equation to solve\n",
    "    variable : the sympy variable to solve for\n",
    "    subs : the dictionary of substitutions\n",
    "    unwrap : if there is only one solution, return it directly rather than returning a list.\n",
    "    \n",
    "    Returns:\n",
    "    The solution (if one solution and unwrap=True), or a list of all possible solutions.\n",
    "    \n",
    "    Examples: Jupyter notebooks will give prettier printing of the output\n",
    "    >>> solve(a*x**2 + b*x + c, x)\n",
    "        [(-b + sqrt(-4*a*c + b**2))/(2*a), -(b + sqrt(-4*a*c + b**2))/(2*a)]\n",
    "        \n",
    "    \"\"\"\n",
    "    if subs is not None:\n",
    "        subs = copy(subs)\n",
    "        subs.pop(variable.name, None)\n",
    "        out = sm.solve(equation.subs(subs), variable)\n",
    "    else:\n",
    "        out = sm.solve(equation, variable)\n",
    "    if unwrap and len(out) == 1:\n",
    "        out = out[0]\n",
    "    return out"
   ]
  },
  {
   "cell_type": "markdown",
   "metadata": {},
   "source": [
    "All capital and lowercase single letter variables (`a, b, c, A, B, C`) and Greek letters (`alpha, beta, gamma`) are defined as Sympy variables by default because of the line `from sympy.abc import *`.\n",
    "\n",
    "For example, below we solve the quadratic equation for $x$:"
   ]
  },
  {
   "cell_type": "code",
   "execution_count": 2,
   "metadata": {},
   "outputs": [
    {
     "data": {
      "image/png": "[encoded data removed]",
      "text/latex": [
       "$\\displaystyle \\left[ \\frac{- b + \\sqrt{- 4 a c + b^{2}}}{2 a}, \\  - \\frac{b + \\sqrt{- 4 a c + b^{2}}}{2 a}\\right]$"
      ],
      "text/plain": [
       "⎡        _____________   ⎛       _____________⎞ ⎤\n",
       "⎢       ╱           2    ⎜      ╱           2 ⎟ ⎥\n",
       "⎢-b + ╲╱  -4⋅a⋅c + b    -⎝b + ╲╱  -4⋅a⋅c + b  ⎠ ⎥\n",
       "⎢─────────────────────, ────────────────────────⎥\n",
       "⎣         2⋅a                     2⋅a           ⎦"
      ]
     },
     "execution_count": 2,
     "metadata": {},
     "output_type": "execute_result"
    }
   ],
   "source": [
    "solns = solve(a*x**2 + b*x+c, x)\n",
    "solns"
   ]
  },
  {
   "cell_type": "markdown",
   "metadata": {},
   "source": [
    "Here's another example, solving the Boltzmann equation for $T$. In order to use the normal variables, we define $n_i$, $n_j$, and $k_B$ first:"
   ]
  },
  {
   "cell_type": "code",
   "execution_count": 3,
   "metadata": {},
   "outputs": [
    {
     "data": {
      "image/png": "[encoded data removed]",
      "text/latex": [
       "$\\displaystyle \\frac{\\epsilon}{k_{B} \\log{\\left(\\frac{n_{i}}{n_{j}} \\right)}}$"
      ],
      "text/plain": [
       "     ε      \n",
       "────────────\n",
       "       ⎛ nᵢ⎞\n",
       "k_B⋅log⎜───⎟\n",
       "       ⎝n_j⎠"
      ]
     },
     "execution_count": 3,
     "metadata": {},
     "output_type": "execute_result"
    }
   ],
   "source": [
    "n_i, n_j, k_B = sm.symbols(\"n_i n_j k_B\", positive=True) # Define the 3 symbols with subscripts in the Boltzmann equation\n",
    "\n",
    "boltzmann_eqn = n_j/n_i-sm.exp(-epsilon/(k_B*T)) # We use sympy's exponential function, sm.exp\n",
    "solve(boltzmann_eqn, T)"
   ]
  },
  {
   "cell_type": "markdown",
   "metadata": {},
   "source": [
    "One final example - let's do an integral? "
   ]
  },
  {
   "cell_type": "code",
   "execution_count": 4,
   "metadata": {},
   "outputs": [
    {
     "data": {
      "image/png": "[encoded data removed]",
      "text/latex": [
       "$\\displaystyle \\left[1, e^{- \\frac{\\epsilon}{T k_{B}}}, e^{- \\frac{2 \\epsilon}{T k_{B}}}, e^{- \\frac{3 \\epsilon}{T k_{B}}}, \\ldots\\right]$"
      ],
      "text/plain": [
       "⎡     -ε     -2⋅ε    -3⋅ε    ⎤\n",
       "⎢    ─────   ─────   ─────   ⎥\n",
       "⎢    T⋅k_B   T⋅k_B   T⋅k_B   ⎥\n",
       "⎣1, ℯ     , ℯ     , ℯ     , …⎦"
      ]
     },
     "execution_count": 4,
     "metadata": {},
     "output_type": "execute_result"
    }
   ],
   "source": [
    "sm.sequence(sm.exp(-epsilon*i/(k_B*T)), (i, 0, 5))"
   ]
  },
  {
   "cell_type": "code",
   "execution_count": 5,
   "metadata": {},
   "outputs": [],
   "source": [
    "epsilon, T = sm.symbols('epsilon T', positive=True)"
   ]
  },
  {
   "cell_type": "code",
   "execution_count": null,
   "metadata": {},
   "outputs": [],
   "source": []
  },
  {
   "cell_type": "code",
   "execution_count": 6,
   "metadata": {},
   "outputs": [
    {
     "data": {
      "image/png": "[encoded data removed]",
      "text/latex": [
       "$\\displaystyle \\begin{cases} \\frac{1}{1 - x} & \\text{for}\\: \\left|{x}\\right| < 1 \\\\\\sum_{i=0}^{\\infty} x^{i} & \\text{otherwise} \\end{cases}$"
      ],
      "text/plain": [
       "⎧   1                 \n",
       "⎪ ─────    for │x│ < 1\n",
       "⎪ 1 - x               \n",
       "⎪                     \n",
       "⎪  ∞                  \n",
       "⎪ ___                 \n",
       "⎨ ╲                   \n",
       "⎪  ╲    i             \n",
       "⎪  ╱   x    otherwise \n",
       "⎪ ╱                   \n",
       "⎪ ‾‾‾                 \n",
       "⎪i = 0                \n",
       "⎩                     "
      ]
     },
     "execution_count": 6,
     "metadata": {},
     "output_type": "execute_result"
    }
   ],
   "source": [
    "sm.Sum(x**i, (i, 0, sm.oo)).doit()"
   ]
  },
  {
   "cell_type": "code",
   "execution_count": 7,
   "metadata": {},
   "outputs": [
    {
     "data": {
      "image/png": "[encoded data removed]",
      "text/latex": [
       "$\\displaystyle 0.08206 T$"
      ],
      "text/plain": [
       "0.08206⋅T"
      ]
     },
     "execution_count": 7,
     "metadata": {},
     "output_type": "execute_result"
    }
   ],
   "source": [
    "subs=dict(\n",
    "P = 1.0,\n",
    "R = 0.08206,\n",
    "T = 298,\n",
    "n = 1,\n",
    "V=22.4)\n",
    "equation = P*V-n*R*T\n",
    "solve(equation, V, subs)"
   ]
  },
  {
   "cell_type": "code",
   "execution_count": 8,
   "metadata": {},
   "outputs": [
    {
     "data": {
      "image/png": "[encoded data removed]",
      "text/latex": [
       "$\\displaystyle \\frac{n_{i}}{n_{j}} - e^{- \\frac{\\epsilon}{T k_{B}}}$"
      ],
      "text/plain": [
       "        -ε  \n",
       "       ─────\n",
       " nᵢ    T⋅k_B\n",
       "─── - ℯ     \n",
       "n_j         "
      ]
     },
     "execution_count": 8,
     "metadata": {},
     "output_type": "execute_result"
    }
   ],
   "source": [
    "n_i, n_j, k_B = sm.symbols(\"n_i n_j k_B\")\n",
    "\n",
    "# The sympy solver!\n",
    "subs=dict(\n",
    "n_i=0.5,\n",
    "n_j=1,\n",
    "epsilon=1e-21,\n",
    "k_B=1.381e-23,\n",
    "T=298)\n",
    "boltzmann = n_i/n_j-sm.exp(-epsilon/(k_B*T))\n",
    "boltzmann\n"
   ]
  },
  {
   "cell_type": "code",
   "execution_count": 9,
   "metadata": {},
   "outputs": [
    {
     "data": {
      "image/png": "[encoded data removed]",
      "text/latex": [
       "$\\displaystyle e^{- \\frac{7.24112961622013 \\cdot 10^{22} \\epsilon}{T}}$"
      ],
      "text/plain": [
       " -7.24112961622013e+22⋅ε \n",
       " ────────────────────────\n",
       "            T            \n",
       "ℯ                        "
      ]
     },
     "execution_count": 9,
     "metadata": {},
     "output_type": "execute_result"
    }
   ],
   "source": [
    "solve(boltzmann, n_i, subs)"
   ]
  },
  {
   "cell_type": "code",
   "execution_count": 10,
   "metadata": {},
   "outputs": [
    {
     "ename": "SyntaxError",
     "evalue": "invalid syntax (3253579453.py, line 2)",
     "output_type": "error",
     "traceback": [
      "\u001b[0;36m  File \u001b[0;32m\"/var/folders/zn/x8ct2v5d1z714b45ycxv1hhc0000gn/T/ipykernel_37075/3253579453.py\"\u001b[0;36m, line \u001b[0;32m2\u001b[0m\n\u001b[0;31m    solve(boltzmann, T)`\u001b[0m\n\u001b[0m                       ^\u001b[0m\n\u001b[0;31mSyntaxError\u001b[0m\u001b[0;31m:\u001b[0m invalid syntax\n"
     ]
    }
   ],
   "source": [
    "# Let's \n",
    "solve(boltzmann, T)`"
   ]
  },
  {
   "cell_type": "code",
   "execution_count": null,
   "metadata": {},
   "outputs": [],
   "source": [
    "solve(boltzmann, epsilon)"
   ]
  },
  {
   "cell_type": "code",
   "execution_count": null,
   "metadata": {},
   "outputs": [],
   "source": [
    "rotational_energy_eqn = i*(i+1) * h**2/(8 * pi**2) * (1/(mu*R**2)) - epsilon\n",
    "rotational_energy_eqn"
   ]
  },
  {
   "cell_type": "code",
   "execution_count": null,
   "metadata": {},
   "outputs": [],
   "source": [
    "solve(rotational_energy_eqn, R)[1]"
   ]
  },
  {
   "cell_type": "code",
   "execution_count": null,
   "metadata": {},
   "outputs": [],
   "source": [
    "!pip install pint"
   ]
  },
  {
   "cell_type": "code",
   "execution_count": null,
   "metadata": {},
   "outputs": [],
   "source": [
    "import pint\n",
    "u = pint.UnitRegistry()"
   ]
  },
  {
   "cell_type": "code",
   "execution_count": null,
   "metadata": {},
   "outputs": [],
   "source": [
    "(u.h * 1.0).to('J s')"
   ]
  },
  {
   "cell_type": "code",
   "execution_count": null,
   "metadata": {},
   "outputs": [],
   "source": [
    "def reduced_mass(m1, m2):\n",
    "    return m1 * m2 / (m1 + m2)"
   ]
  },
  {
   "cell_type": "code",
   "execution_count": null,
   "metadata": {},
   "outputs": [],
   "source": [
    "mu_CO = reduced_mass(12, 16)*u.amu"
   ]
  },
  {
   "cell_type": "code",
   "execution_count": null,
   "metadata": {},
   "outputs": [],
   "source": [
    "mu_CO"
   ]
  },
  {
   "cell_type": "code",
   "execution_count": null,
   "metadata": {},
   "outputs": [],
   "source": [
    "def boltzmann_ni(nj, energy, T):\n",
    "    return nj*np.exp(-energy/ (T*1.381e-23))"
   ]
  },
  {
   "cell_type": "code",
   "execution_count": null,
   "metadata": {},
   "outputs": [],
   "source": [
    "temps = np.linspace(100, 300, 5)\n",
    "temps"
   ]
  },
  {
   "cell_type": "code",
   "execution_count": null,
   "metadata": {},
   "outputs": [],
   "source": [
    "boltzmann_ni(1, 1e-21, temps)"
   ]
  },
  {
   "cell_type": "markdown",
   "metadata": {},
   "source": [
    "What if I need to do this for many values of temperature? Make a new function!"
   ]
  },
  {
   "cell_type": "code",
   "execution_count": null,
   "metadata": {},
   "outputs": [],
   "source": [
    "def boltzmann_n_i_temp(T, subs):\n",
    "    subs = copy(subs)\n",
    "    # The sympy solver!\n",
    "    subs['T'] = T\n",
    "    boltzmann = n_i/n_j-sm.exp(-epsilon/(k_B*T))\n",
    "    return solve(boltzmann, n_i, subs)"
   ]
  },
  {
   "cell_type": "code",
   "execution_count": null,
   "metadata": {},
   "outputs": [],
   "source": [
    "temps = np.linspace(10, 300,30)\n",
    "pops = [boltzmann_n_i_temp(t, subs) for t in temps]"
   ]
  },
  {
   "cell_type": "code",
   "execution_count": null,
   "metadata": {},
   "outputs": [],
   "source": [
    "plt.plot(temps, pops, 'o')"
   ]
  },
  {
   "cell_type": "code",
   "execution_count": null,
   "metadata": {},
   "outputs": [],
   "source": [
    "# subs is a dictionary of substitutions - variables and their values...\n",
    "subs=dict(\n",
    "P = , # atm\n",
    "R = 0.08206, # L atm/mol-K\n",
    "T = 293, # K\n",
    "n = 9.32, # mol\n",
    "V= # L\n",
    ")\n",
    "gas_law = P*V-n*R*T\n",
    "solve(gas_law, V, subs) #"
   ]
  },
  {
   "cell_type": "markdown",
   "metadata": {},
   "source": [
    "n_i_func(1, 1e-21, 1.381e-23, 343)"
   ]
  }
 ],
 "metadata": {
  "kernelspec": {
   "display_name": "Python 3 (ipykernel)",
   "language": "python",
   "name": "python3"
  },
  "language_info": {
   "codemirror_mode": {
    "name": "ipython",
    "version": 3
   },
   "file_extension": ".py",
   "mimetype": "text/x-python",
   "name": "python",
   "nbconvert_exporter": "python",
   "pygments_lexer": "ipython3",
   "version": "3.9.7"
  }
 },
 "nbformat": 4,
 "nbformat_minor": 4
}
