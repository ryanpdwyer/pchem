{
 "cells": [
  {
   "cell_type": "code",
   "execution_count": 17,
   "id": "b5533ec4",
   "metadata": {},
   "outputs": [],
   "source": [
    "import pandas as pd\n",
    "import numpy as np\n",
    "\n",
    "T_str = \"\"\"15.29 17.68 20.08 22.67 27.01 31.61 35.94 40.68 45.98 51.11 55.18 58.59 61.90 65.79 70.16 70.52 74.66 79.35 84.00 88.52 93.63 97.97\n",
    "102.24\n",
    "106.65\n",
    "111.17\n",
    "115.78\n",
    "119.44\n",
    "119.74\n",
    "124.85\n",
    "129.77\n",
    "134.95\n",
    "138.91\n",
    "143.55\n",
    "148.50 153.54 158.60 163.66 167.26 172.78 178.45 183.79 189.05 194.06 199.45 204.92 209.38 210.52 214.35 216.53 220.40 225.75 231.37 236.95 242.44 247.80 253.32 257.99 263.44 268.80 273.03 278.57 284.01 289.65 295.40\n",
    "295.94\n",
    "301.60\n",
    "\"\"\"\n",
    "\n",
    "cP_molar_str = \"\"\"0.024 .037 .055 .081 .145 .243 .360 .522 .736 .968 1.157 1.316 1.472 1.654 1.861 1.878 2.075 2.280 2.484 2.672 2.884 3.062 3.193 3.331 3.475 3.621 3.744 3.748 3.868 3.995 4.112 4.202 4.302\n",
    "4.391 4.492 4.579 4.683 4.754 4.809 4.899 4.968 5.033 5.099 5.161 5.212 5.243 5.285 5.283 5.326 5.335 5.376 5.421 5.480 5.514 5.534 5.572 5.604 5.641 5.653 5.691 5.724 5.743 5.806 5.813 5.801 5.853 \n",
    "\"\"\""
   ]
  },
  {
   "cell_type": "code",
   "execution_count": 24,
   "id": "27d9a489",
   "metadata": {},
   "outputs": [],
   "source": [
    "T = np.array([float(x) for x in T_str.split()])\n",
    "cP_molar = np.array([float(x) for x in cP_molar_str.split()])\n",
    "cp_grams = cP_molar / 26.97*4.184"
   ]
  },
  {
   "cell_type": "code",
   "execution_count": 25,
   "id": "24451265",
   "metadata": {},
   "outputs": [
    {
     "data": {
      "text/plain": [
       "66"
      ]
     },
     "execution_count": 25,
     "metadata": {},
     "output_type": "execute_result"
    }
   ],
   "source": [
    "len(T)"
   ]
  },
  {
   "cell_type": "code",
   "execution_count": 26,
   "id": "38414bb4",
   "metadata": {},
   "outputs": [
    {
     "data": {
      "text/plain": [
       "66"
      ]
     },
     "execution_count": 26,
     "metadata": {},
     "output_type": "execute_result"
    }
   ],
   "source": [
    "len(cp_grams)"
   ]
  },
  {
   "cell_type": "code",
   "execution_count": 27,
   "id": "4349884c",
   "metadata": {},
   "outputs": [],
   "source": [
    "df = pd.DataFrame(dict(T=T, cP=cp_grams))\n",
    "df.to_csv('~/Dropbox/__mu/pchem1-2020/Al-cP-vs-T-22.csv')"
   ]
  },
  {
   "cell_type": "code",
   "execution_count": 29,
   "id": "a3ba9217",
   "metadata": {},
   "outputs": [
    {
     "data": {
      "text/html": [
       "<div>\n",
       "<style scoped>\n",
       "    .dataframe tbody tr th:only-of-type {\n",
       "        vertical-align: middle;\n",
       "    }\n",
       "\n",
       "    .dataframe tbody tr th {\n",
       "        vertical-align: top;\n",
       "    }\n",
       "\n",
       "    .dataframe thead th {\n",
       "        text-align: right;\n",
       "    }\n",
       "</style>\n",
       "<table border=\"1\" class=\"dataframe\">\n",
       "  <thead>\n",
       "    <tr style=\"text-align: right;\">\n",
       "      <th></th>\n",
       "      <th>T</th>\n",
       "      <th>cP</th>\n",
       "    </tr>\n",
       "  </thead>\n",
       "  <tbody>\n",
       "    <tr>\n",
       "      <th>0</th>\n",
       "      <td>15.29</td>\n",
       "      <td>0.003723</td>\n",
       "    </tr>\n",
       "    <tr>\n",
       "      <th>1</th>\n",
       "      <td>17.68</td>\n",
       "      <td>0.005740</td>\n",
       "    </tr>\n",
       "    <tr>\n",
       "      <th>2</th>\n",
       "      <td>20.08</td>\n",
       "      <td>0.008532</td>\n",
       "    </tr>\n",
       "    <tr>\n",
       "      <th>3</th>\n",
       "      <td>22.67</td>\n",
       "      <td>0.012566</td>\n",
       "    </tr>\n",
       "    <tr>\n",
       "      <th>4</th>\n",
       "      <td>27.01</td>\n",
       "      <td>0.022495</td>\n",
       "    </tr>\n",
       "    <tr>\n",
       "      <th>...</th>\n",
       "      <td>...</td>\n",
       "      <td>...</td>\n",
       "    </tr>\n",
       "    <tr>\n",
       "      <th>61</th>\n",
       "      <td>284.01</td>\n",
       "      <td>0.890942</td>\n",
       "    </tr>\n",
       "    <tr>\n",
       "      <th>62</th>\n",
       "      <td>289.65</td>\n",
       "      <td>0.900716</td>\n",
       "    </tr>\n",
       "    <tr>\n",
       "      <th>63</th>\n",
       "      <td>295.40</td>\n",
       "      <td>0.901802</td>\n",
       "    </tr>\n",
       "    <tr>\n",
       "      <th>64</th>\n",
       "      <td>295.94</td>\n",
       "      <td>0.899940</td>\n",
       "    </tr>\n",
       "    <tr>\n",
       "      <th>65</th>\n",
       "      <td>301.60</td>\n",
       "      <td>0.908007</td>\n",
       "    </tr>\n",
       "  </tbody>\n",
       "</table>\n",
       "<p>66 rows × 2 columns</p>\n",
       "</div>"
      ],
      "text/plain": [
       "         T        cP\n",
       "0    15.29  0.003723\n",
       "1    17.68  0.005740\n",
       "2    20.08  0.008532\n",
       "3    22.67  0.012566\n",
       "4    27.01  0.022495\n",
       "..     ...       ...\n",
       "61  284.01  0.890942\n",
       "62  289.65  0.900716\n",
       "63  295.40  0.901802\n",
       "64  295.94  0.899940\n",
       "65  301.60  0.908007\n",
       "\n",
       "[66 rows x 2 columns]"
      ]
     },
     "execution_count": 29,
     "metadata": {},
     "output_type": "execute_result"
    }
   ],
   "source": [
    "df"
   ]
  },
  {
   "cell_type": "code",
   "execution_count": null,
   "id": "bb36a72f",
   "metadata": {},
   "outputs": [],
   "source": []
  }
 ],
 "metadata": {
  "kernelspec": {
   "display_name": "Python 3 (ipykernel)",
   "language": "python",
   "name": "python3"
  },
  "language_info": {
   "codemirror_mode": {
    "name": "ipython",
    "version": 3
   },
   "file_extension": ".py",
   "mimetype": "text/x-python",
   "name": "python",
   "nbconvert_exporter": "python",
   "pygments_lexer": "ipython3",
   "version": "3.9.9"
  }
 },
 "nbformat": 4,
 "nbformat_minor": 5
}
