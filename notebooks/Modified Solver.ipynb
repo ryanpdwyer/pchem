{
 "cells": [
  {
   "cell_type": "markdown",
   "id": "fb4297c7",
   "metadata": {},
   "source": [
    "# Modifications to the standard Gordon equilibrium solver\n",
    "\n",
    "The Gordon equilibrium solver works well for reactions in solution or gases. Our 2 key modifications are to \n",
    "\n",
    "1) Modify the chemical potential equation to be zero if we run out of a solid/liquid substance (n_i = 0) and the chemical potential difference is positive ($\\mu_i - \\sum A \\vec{\\lambda} > 0$) - we have used the substance up, and there is no way to satisfy the chemical potential equation. Note that if the chemical potential difference is negative, we should instead create more of the substance.\n",
    "\n",
    "2) Not sure if this is different than their approach, but use the exact chemical potential of each element at each iteration.\n",
    "\n",
    "Then hopefully the same iterative procedure should work well?"
   ]
  },
  {
   "cell_type": "code",
   "execution_count": 1,
   "id": "ba0da33a",
   "metadata": {},
   "outputs": [],
   "source": [
    "%load_ext autoreload\n",
    "%autoreload 2\n",
    "import pchem.calorimetry as cal\n",
    "import numpy as np\n",
    "import sympy as sm"
   ]
  },
  {
   "cell_type": "markdown",
   "id": "1648a98a",
   "metadata": {},
   "source": [
    "# Test case showing good performance for normal chemical equilibrium"
   ]
  },
  {
   "cell_type": "code",
   "execution_count": 2,
   "id": "8d272095",
   "metadata": {},
   "outputs": [],
   "source": [
    "S  = cal.Substance2(\"S(l)\", state=\"l\", H0=0, S0=0, cP=50.0, molarMass=100.0, density=1.0, atoms=dict(S=1))\n",
    "P  = cal.Substance2(\"P(aq)\", state=\"aq\", H0=0, S0=0, cP=0, molarMass=100.0, density=1.0, atoms=dict(P=1))\n",
    "D  = cal.Substance2(\"D(aq)\", state=\"aq\", H0=0, S0=0, cP=0, molarMass=100.0, density=1.0, atoms=dict(D=1))\n",
    "PD = cal.Substance2(\"PD(aq)\", state=\"aq\", H0=0, S0=50.0, cP=0, molarMass=100.0, density=1.0, atoms=dict(D=1, P=1))\n",
    "\n",
    "chemicals = {0: S, 1: P, 2: D, 3: PD}\n",
    "\n",
    "s0 = cal.State3(T=298.15, chemicals=chemicals, rxns=[], V=1.0)\n",
    "\n",
    "s0.set_state({0:50.0, 1: 1.0, 2: 1.0, 3: 0.0})"
   ]
  },
  {
   "cell_type": "code",
   "execution_count": 3,
   "id": "80b59e5d",
   "metadata": {},
   "outputs": [],
   "source": [
    "K = np.exp(50.0/8.3145)"
   ]
  },
  {
   "cell_type": "code",
   "execution_count": 4,
   "id": "2fc0a861",
   "metadata": {},
   "outputs": [],
   "source": [
    "x = sm.symbols('x')\n",
    "\n",
    "x_solved = float(sm.solve(K - x/ (1-x)**2, x)[0])"
   ]
  },
  {
   "cell_type": "code",
   "execution_count": 5,
   "id": "f4c57797",
   "metadata": {},
   "outputs": [],
   "source": [
    "out, iterations = s0._solve_iterative()"
   ]
  },
  {
   "cell_type": "code",
   "execution_count": 6,
   "id": "a8f04acd",
   "metadata": {},
   "outputs": [
    {
     "data": {
      "text/plain": [
       "True"
      ]
     },
     "execution_count": 6,
     "metadata": {},
     "output_type": "execute_result"
    }
   ],
   "source": [
    "np.allclose( np.array([1-x_solved, 1-x_solved, x_solved]), out[:3])"
   ]
  },
  {
   "cell_type": "markdown",
   "id": "24e35e6e",
   "metadata": {},
   "source": [
    "## Normal chemical equilibrium: temperature change"
   ]
  },
  {
   "cell_type": "code",
   "execution_count": 7,
   "id": "bcf30ad0",
   "metadata": {},
   "outputs": [
    {
     "name": "stdout",
     "output_type": "stream",
     "text": [
      "T=298.15\n"
     ]
    }
   ],
   "source": [
    "out, iterations = s0._solve_iterative_dH(dH=0.0)\n",
    "n_moles = out[:4]\n",
    "lambdas = out[4:7]\n",
    "T = out[-1]\n",
    "print(f\"{T=}\")"
   ]
  },
  {
   "cell_type": "code",
   "execution_count": null,
   "id": "5907dd4f",
   "metadata": {},
   "outputs": [],
   "source": []
  },
  {
   "cell_type": "code",
   "execution_count": 8,
   "id": "c9dd41c7",
   "metadata": {},
   "outputs": [
    {
     "name": "stdout",
     "output_type": "stream",
     "text": [
      "T=298.19\n"
     ]
    },
    {
     "data": {
      "text/plain": [
       "True"
      ]
     },
     "execution_count": 8,
     "metadata": {},
     "output_type": "execute_result"
    }
   ],
   "source": [
    "out, iterations = s0._solve_iterative_dH(dH=100.0)\n",
    "n_moles = out[:4]\n",
    "lambdas = out[4:7]\n",
    "T = out[-1]\n",
    "print(f\"{T=}\")\n",
    "\n",
    "cP = 2500.0\n",
    "dT = 100/2500.0\n",
    "\n",
    "np.allclose(T, s0.T + dT) # Good!"
   ]
  },
  {
   "cell_type": "markdown",
   "id": "6cc68303",
   "metadata": {},
   "source": [
    "## Exothermic reaction\n",
    "\n",
    "Here the temperature changes will be coupled to the chemical reaction."
   ]
  },
  {
   "cell_type": "code",
   "execution_count": 9,
   "id": "d9904c56",
   "metadata": {},
   "outputs": [],
   "source": [
    "S  = cal.Substance2(\"S(l)\", state=\"l\", H0=0, S0=0, cP=50.0, molarMass=100.0, density=1.0, atoms=dict(S=1))\n",
    "P  = cal.Substance2(\"P(aq)\", state=\"aq\", H0=0, S0=0, cP=0, molarMass=100.0, density=1.0, atoms=dict(P=1))\n",
    "D  = cal.Substance2(\"D(aq)\", state=\"aq\", H0=0, S0=0, cP=0, molarMass=100.0, density=1.0, atoms=dict(D=1))\n",
    "PD = cal.Substance2(\"PD(aq)\", state=\"aq\", H0=-50*298.15, S0=0.0, cP=0, molarMass=100.0, density=1.0, atoms=dict(D=1, P=1))\n",
    "\n",
    "chemicals = {0: S, 1: P, 2: D, 3: PD}\n",
    "\n",
    "s0 = cal.State3(T=298.15, chemicals=chemicals, rxns=[], V=1.0)\n",
    "\n",
    "s0.set_state({0:50.0, 1: 1.0, 2: 1.0, 3: 0.0})"
   ]
  },
  {
   "cell_type": "code",
   "execution_count": 10,
   "id": "5d1203d3",
   "metadata": {},
   "outputs": [
    {
     "name": "stdout",
     "output_type": "stream",
     "text": [
      "T=303.8253308017202\n",
      "n_moles=array([4.82423609e-02, 4.82423609e-02, 9.51757639e-01, 5.00000000e+01])\n"
     ]
    }
   ],
   "source": [
    "out, iterations = s0._solve_iterative_dH(dH=0.0)\n",
    "n_moles = out[:4]\n",
    "lambdas = out[4:7]\n",
    "T = out[-1]\n",
    "print(f\"{T=}\")\n",
    "print(f\"{n_moles=}\")"
   ]
  },
  {
   "cell_type": "code",
   "execution_count": 11,
   "id": "302662cb",
   "metadata": {},
   "outputs": [
    {
     "name": "stdout",
     "output_type": "stream",
     "text": [
      "T=303.8091455150239\n",
      "n_moles=array([ 0.05095665,  0.05095665,  0.94904335, 50.        ])\n"
     ]
    }
   ],
   "source": [
    "s0.x = n_moles\n",
    "s0.T = T\n",
    "out, iterations = s0._solve_iterative_dH(dH=0.0)\n",
    "n_moles = out[:4]\n",
    "lambdas = out[4:7]\n",
    "T = out[-1]\n",
    "print(f\"{T=}\")\n",
    "print(f\"{n_moles=}\")"
   ]
  },
  {
   "cell_type": "code",
   "execution_count": 12,
   "id": "754292e2",
   "metadata": {},
   "outputs": [
    {
     "name": "stdout",
     "output_type": "stream",
     "text": [
      "T=303.80919202671987\n",
      "n_moles=array([ 0.05094885,  0.05094885,  0.94905115, 50.        ])\n"
     ]
    }
   ],
   "source": [
    "s0.x = n_moles\n",
    "s0.T = T\n",
    "out, iterations = s0._solve_iterative_dH(dH=0.0)\n",
    "n_moles = out[:4]\n",
    "lambdas = out[4:7]\n",
    "T = out[-1]\n",
    "print(f\"{T=}\")\n",
    "print(f\"{n_moles=}\")"
   ]
  },
  {
   "cell_type": "code",
   "execution_count": 13,
   "id": "acd7044e",
   "metadata": {},
   "outputs": [
    {
     "name": "stdout",
     "output_type": "stream",
     "text": [
      "T=303.8091918930699\n",
      "n_moles=array([ 0.05094887,  0.05094887,  0.94905113, 50.        ])\n"
     ]
    }
   ],
   "source": [
    "s0.x = n_moles\n",
    "s0.T = T\n",
    "out, iterations = s0._solve_iterative_dH(dH=0.0)\n",
    "n_moles = out[:4]\n",
    "lambdas = out[4:7]\n",
    "T = out[-1]\n",
    "print(f\"{T=}\")\n",
    "print(f\"{n_moles=}\")"
   ]
  },
  {
   "cell_type": "code",
   "execution_count": 14,
   "id": "462be739",
   "metadata": {},
   "outputs": [
    {
     "data": {
      "text/plain": [
       "[4.3867801258201666e-07, 1.2569474350243581e-09]"
      ]
     },
     "execution_count": 14,
     "metadata": {},
     "output_type": "execute_result"
    }
   ],
   "source": [
    "iterations"
   ]
  },
  {
   "cell_type": "markdown",
   "id": "e3c37042",
   "metadata": {},
   "source": [
    "## Phase transition"
   ]
  },
  {
   "cell_type": "code",
   "execution_count": 25,
   "id": "39f8fb0e",
   "metadata": {},
   "outputs": [],
   "source": [
    "S  = cal.Substance2(\"S(l)\", state=\"l\", H0=0, S0=0, cP=50.0, molarMass=100.0, density=1.0, atoms=dict(S=1))\n",
    "Ssolid = cal.Substance2(\"S(s)\", state=\"s\", H0=-10000, S0=-20.0, cP=40.0, molarMass=100.0, density=1.05, atoms=dict(S=1))\n",
    "chemicals = {0: Ssolid, 1: S}\n",
    "\n",
    "s0 = cal.State3(T=298.15, chemicals=chemicals, rxns=[], V=1.0)\n",
    "\n",
    "s0.set_state({0:10.0, 1: 0.0})"
   ]
  },
  {
   "cell_type": "code",
   "execution_count": 113,
   "id": "ff4c7a8b",
   "metadata": {},
   "outputs": [],
   "source": [
    "x0_pt = np.r_[s0.x, s0.mu()[0]/(s0.T*8.3145), s0.T]\n",
    "\n",
    "A, y = s0._fHi(x0_pt, 400.0)"
   ]
  },
  {
   "cell_type": "code",
   "execution_count": 114,
   "id": "9d62d34f",
   "metadata": {},
   "outputs": [],
   "source": [
    "from scipy import optimize"
   ]
  },
  {
   "cell_type": "code",
   "execution_count": 115,
   "id": "0f41f542",
   "metadata": {},
   "outputs": [],
   "source": [
    "def f(x, x0, s, eps =1e-10):\n",
    "    r = A @ x - y\n",
    "    x_total = (x + x0)\n",
    "    for i in range(s.N_aq, s.N_chem):\n",
    "        if (r[i] >=0) and (x_total[i] <= eps):\n",
    "            r[i] = r[i]*x_total[i]**0.2 # You do need to have this cost present for \n",
    "            \n",
    "    for i in range(s.N_chem, s.N_chem+s.N_atoms):\n",
    "        r[i] = r[i] * 100 # High cost for moles errors...\n",
    "    return r"
   ]
  },
  {
   "cell_type": "code",
   "execution_count": 116,
   "id": "81954768",
   "metadata": {},
   "outputs": [],
   "source": [
    "lb = np.array([0, -10, -np.inf, -np.inf])"
   ]
  },
  {
   "cell_type": "code",
   "execution_count": 117,
   "id": "86e53a81",
   "metadata": {},
   "outputs": [
    {
     "data": {
      "text/plain": [
       "('S(l)', 'S(s)')"
      ]
     },
     "execution_count": 117,
     "metadata": {},
     "output_type": "execute_result"
    }
   ],
   "source": [
    "s0.chem_labels"
   ]
  },
  {
   "cell_type": "code",
   "execution_count": 119,
   "id": "c7a06621",
   "metadata": {},
   "outputs": [
    {
     "data": {
      "text/plain": [
       "array([ 0.        ,  0.        ,  0.        , -0.16135746])"
      ]
     },
     "execution_count": 119,
     "metadata": {},
     "output_type": "execute_result"
    }
   ],
   "source": [
    "guess = np.array([0.0, 0.0, s0.mu()[0]/(8.3145*s0.T), 0])\n",
    "\n",
    "f(guess, x0_pt, s0)"
   ]
  },
  {
   "cell_type": "code",
   "execution_count": 121,
   "id": "2e6cfcd8",
   "metadata": {},
   "outputs": [],
   "source": [
    "out = optimize.least_squares(f, x0=np.array([0,0,s0.mu()[0]/(8.3145*s0.T),0.0]),\n",
    "                       bounds=(lb, np.inf),\n",
    "#                        jac=lambda x, y, z: A,\n",
    "                       args=(x0_pt, s0))"
   ]
  },
  {
   "cell_type": "code",
   "execution_count": 125,
   "id": "660d5372",
   "metadata": {},
   "outputs": [],
   "source": [
    "Tf = np.exp(out.x[-1]) * x0_pt[-1]"
   ]
  },
  {
   "cell_type": "code",
   "execution_count": 126,
   "id": "e91f55e2",
   "metadata": {},
   "outputs": [
    {
     "data": {
      "text/plain": [
       "299.15167888523723"
      ]
     },
     "execution_count": 126,
     "metadata": {},
     "output_type": "execute_result"
    }
   ],
   "source": [
    "Tf"
   ]
  },
  {
   "cell_type": "code",
   "execution_count": 329,
   "id": "221449ed",
   "metadata": {},
   "outputs": [],
   "source": [
    "lb = np.array([0, -10, -np.inf, -np.inf])"
   ]
  },
  {
   "cell_type": "code",
   "execution_count": 330,
   "id": "b507cdc8",
   "metadata": {},
   "outputs": [],
   "source": [
    "dy = A @ np.array([0,0,x0_pt[2],0])"
   ]
  },
  {
   "cell_type": "code",
   "execution_count": 331,
   "id": "6ffee003",
   "metadata": {},
   "outputs": [],
   "source": [
    "m=np.array([True, True, False, True])"
   ]
  },
  {
   "cell_type": "code",
   "execution_count": 332,
   "id": "84dbd690",
   "metadata": {},
   "outputs": [],
   "source": [
    "y3 = (y+dy)"
   ]
  },
  {
   "cell_type": "code",
   "execution_count": 333,
   "id": "8b0f2805",
   "metadata": {},
   "outputs": [],
   "source": [
    "A3 = A[:, m]"
   ]
  },
  {
   "cell_type": "code",
   "execution_count": 334,
   "id": "d89e7417",
   "metadata": {},
   "outputs": [
    {
     "data": {
      "text/plain": [
       "array([-1.62850013,  0.        ,  0.        ,  0.16135746])"
      ]
     },
     "execution_count": 334,
     "metadata": {},
     "output_type": "execute_result"
    }
   ],
   "source": [
    "y3"
   ]
  },
  {
   "cell_type": "code",
   "execution_count": 335,
   "id": "d44181cf",
   "metadata": {},
   "outputs": [],
   "source": [
    "lb = np.array([0, -10, -np.inf])\n",
    "y_out = optimize.lsq_linear(A3, y3, bounds=(lb, np.inf))"
   ]
  },
  {
   "cell_type": "code",
   "execution_count": 336,
   "id": "75709221",
   "metadata": {},
   "outputs": [],
   "source": [
    "x_new = np.r_[x0_pt[:2] + y_out.x[:2], 0.0, x0_pt[-1]*np.exp(y_out.x[-1])]"
   ]
  },
  {
   "cell_type": "code",
   "execution_count": 337,
   "id": "cda465c6",
   "metadata": {},
   "outputs": [],
   "source": [
    "mu2 = s0.mu(x=x_new[:2], T=x_new[-1])/(8.3145*x_new[-1])"
   ]
  },
  {
   "cell_type": "code",
   "execution_count": 338,
   "id": "2d5400c5",
   "metadata": {},
   "outputs": [
    {
     "data": {
      "text/plain": [
       "array([-1.62198613])"
      ]
     },
     "execution_count": 338,
     "metadata": {},
     "output_type": "execute_result"
    }
   ],
   "source": [
    "mu2"
   ]
  },
  {
   "cell_type": "code",
   "execution_count": 344,
   "id": "85beb1e6",
   "metadata": {},
   "outputs": [],
   "source": [
    "A, y = s0._fHi(x_new, 2000.0)\n",
    "dy = A @ np.array([0,0,mu2[0],0])\n",
    "y3 = y - dy\n",
    "A3 = A[:, m]"
   ]
  },
  {
   "cell_type": "code",
   "execution_count": 345,
   "id": "807369fe",
   "metadata": {},
   "outputs": [
    {
     "data": {
      "text/plain": [
       "array([[ 0.        ,  0.        , -1.        , -0.        ],\n",
       "       [ 0.        ,  0.        , -1.        ,  4.03393642],\n",
       "       [ 1.        ,  1.        ,  0.        ,  0.        ],\n",
       "       [ 0.        , -4.03393642,  0.        , 48.15683445]])"
      ]
     },
     "execution_count": 345,
     "metadata": {},
     "output_type": "execute_result"
    }
   ],
   "source": [
    "A"
   ]
  },
  {
   "cell_type": "code",
   "execution_count": 352,
   "id": "535f6954",
   "metadata": {},
   "outputs": [],
   "source": [
    "U, s, Vh = linalg.svd(A)"
   ]
  },
  {
   "cell_type": "markdown",
   "id": "f9119829",
   "metadata": {},
   "source": [
    "$$A = U \\sigma V^T$$\n",
    "\n",
    "$$U^T U \\sigma V^T x = y$$\n",
    "\n",
    "$$ x = V \\sigma^{-1} U^T y$$"
   ]
  },
  {
   "cell_type": "code",
   "execution_count": 364,
   "id": "a0082ce6",
   "metadata": {},
   "outputs": [
    {
     "data": {
      "text/plain": [
       "array([-4.65934073e+00,  4.65934073e+00, -1.35185608e-16,  4.03700000e-01])"
      ]
     },
     "execution_count": 364,
     "metadata": {},
     "output_type": "execute_result"
    }
   ],
   "source": [
    "Vh.T @ np.diag(s**-1) @ U.T @ y"
   ]
  },
  {
   "cell_type": "code",
   "execution_count": 365,
   "id": "ded4ebe5",
   "metadata": {},
   "outputs": [
    {
     "data": {
      "text/plain": [
       "array([-4.65934073,  4.65934073, -0.        ,  0.4037    ])"
      ]
     },
     "execution_count": 365,
     "metadata": {},
     "output_type": "execute_result"
    }
   ],
   "source": [
    "optimize.nonlin.l"
   ]
  },
  {
   "cell_type": "code",
   "execution_count": 340,
   "id": "9f33dc2d",
   "metadata": {},
   "outputs": [],
   "source": [
    "lb = np.r_[-x_new[:2], -np.inf]\n",
    "y_out2 = optimize.lsq_linear(A3, y3, bounds=(lb, np.inf))"
   ]
  },
  {
   "cell_type": "code",
   "execution_count": 341,
   "id": "8641395c",
   "metadata": {},
   "outputs": [],
   "source": [
    "x_new2 = np.r_[x_new[:2] + y_out2.x[:2], 0.0, x_new[-1]*np.exp(y_out2.x[-1])]"
   ]
  },
  {
   "cell_type": "code",
   "execution_count": 343,
   "id": "33451298",
   "metadata": {},
   "outputs": [
    {
     "data": {
      "text/plain": [
       "array([1.80722637e-01, 9.81927736e+00, 0.00000000e+00, 2.98631842e+02])"
      ]
     },
     "execution_count": 343,
     "metadata": {},
     "output_type": "execute_result"
    }
   ],
   "source": [
    "# optimize.least_squares()"
   ]
  },
  {
   "cell_type": "code",
   "execution_count": 237,
   "id": "0d331ba8",
   "metadata": {},
   "outputs": [],
   "source": [
    "Aw = w @ A\n",
    "yw = w @ y"
   ]
  },
  {
   "cell_type": "code",
   "execution_count": 238,
   "id": "0ff7640a",
   "metadata": {},
   "outputs": [],
   "source": [
    "lsq_lin = optimize.lsq_linear(Aw, yw, bounds=(lb, np.inf))"
   ]
  },
  {
   "cell_type": "code",
   "execution_count": 231,
   "id": "b8fe11bf",
   "metadata": {},
   "outputs": [
    {
     "data": {
      "text/plain": [
       "array([ 0.        ,  0.        , -1.62850013,  0.        ])"
      ]
     },
     "execution_count": 231,
     "metadata": {},
     "output_type": "execute_result"
    }
   ],
   "source": [
    "A"
   ]
  },
  {
   "cell_type": "code",
   "execution_count": 233,
   "id": "98da4717",
   "metadata": {},
   "outputs": [
    {
     "data": {
      "text/plain": [
       "array([ 0.        ,  0.        , -1.62850013,  0.        ])"
      ]
     },
     "execution_count": 233,
     "metadata": {},
     "output_type": "execute_result"
    }
   ],
   "source": [
    "v"
   ]
  },
  {
   "cell_type": "code",
   "execution_count": 240,
   "id": "76701e73",
   "metadata": {},
   "outputs": [],
   "source": [
    "x1 = np.r_[x0_pt[:2] + lsq_lin.x[:2], lsq_lin.x[2], x0_pt[-1]*np.exp(lsq_lin.x[-1])]"
   ]
  },
  {
   "cell_type": "code",
   "execution_count": 241,
   "id": "308711e6",
   "metadata": {},
   "outputs": [
    {
     "data": {
      "text/plain": [
       "array([ 2.46833384e-01,  9.75316662e+00, -1.71199084e+00,  2.92042586e+02])"
      ]
     },
     "execution_count": 241,
     "metadata": {},
     "output_type": "execute_result"
    }
   ],
   "source": [
    "x1"
   ]
  },
  {
   "cell_type": "code",
   "execution_count": 228,
   "id": "70729520",
   "metadata": {},
   "outputs": [
    {
     "data": {
      "text/plain": [
       "array([ 1.71199084e+00, -2.22044605e-16,  0.00000000e+00,  1.11022302e-16])"
      ]
     },
     "execution_count": 228,
     "metadata": {},
     "output_type": "execute_result"
    }
   ],
   "source": [
    "A @ lsq_lin.x - y"
   ]
  },
  {
   "cell_type": "code",
   "execution_count": 108,
   "id": "54abf42f",
   "metadata": {},
   "outputs": [],
   "source": [
    "from scipy import linalg, optimize"
   ]
  },
  {
   "cell_type": "code",
   "execution_count": 109,
   "id": "fff3077b",
   "metadata": {},
   "outputs": [
    {
     "ename": "TypeError",
     "evalue": "lstsq() missing 2 required positional arguments: 'a' and 'b'",
     "output_type": "error",
     "traceback": [
      "\u001b[0;31m---------------------------------------------------------------------------\u001b[0m",
      "\u001b[0;31mTypeError\u001b[0m                                 Traceback (most recent call last)",
      "Input \u001b[0;32mIn [109]\u001b[0m, in \u001b[0;36m<module>\u001b[0;34m\u001b[0m\n\u001b[0;32m----> 1\u001b[0m \u001b[43mlinalg\u001b[49m\u001b[38;5;241;43m.\u001b[39;49m\u001b[43mlstsq\u001b[49m\u001b[43m(\u001b[49m\u001b[43m)\u001b[49m\n",
      "\u001b[0;31mTypeError\u001b[0m: lstsq() missing 2 required positional arguments: 'a' and 'b'"
     ]
    }
   ],
   "source": [
    "optimize.lsq_linear()"
   ]
  },
  {
   "cell_type": "code",
   "execution_count": null,
   "id": "9f145132",
   "metadata": {},
   "outputs": [],
   "source": []
  }
 ],
 "metadata": {
  "kernelspec": {
   "display_name": "Python 3 (ipykernel)",
   "language": "python",
   "name": "python3"
  },
  "language_info": {
   "codemirror_mode": {
    "name": "ipython",
    "version": 3
   },
   "file_extension": ".py",
   "mimetype": "text/x-python",
   "name": "python",
   "nbconvert_exporter": "python",
   "pygments_lexer": "ipython3",
   "version": "3.9.7"
  }
 },
 "nbformat": 4,
 "nbformat_minor": 5
}
